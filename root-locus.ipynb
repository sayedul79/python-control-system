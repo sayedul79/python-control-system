{
 "cells": [
  {
   "cell_type": "markdown",
   "id": "f61330b6",
   "metadata": {},
   "source": [
    "<img src=\"https://upload.wikimedia.org/wikipedia/commons/5/5c/Effect_of_Pole_Location_in_a_Root_Locus_Plot.PNG\" height=200 width=600>"
   ]
  },
  {
   "cell_type": "markdown",
   "id": "7d351f51",
   "metadata": {},
   "source": [
    "### References\n",
    "1. [Control Systems Engineering, 8th Edition](https://www.wiley.com/en-us/Control+Systems+Engineering%2C+8th+Edition-p-9781119474227)\n",
    "2. [Wikipedia](https://en.wikipedia.org/wiki/Root_locus)\n",
    "3. [Wikibook](https://en.wikibooks.org/wiki/Control_Systems/Root_Locus)"
   ]
  },
  {
   "cell_type": "markdown",
   "id": "04467c8f",
   "metadata": {},
   "source": [
    "### Defination\n",
    "The root locus of a feedback system is the graphical representation in the complex s-plane of the possible locations of its closed-loop poles for varying values of a certain system parameter."
   ]
  },
  {
   "cell_type": "markdown",
   "id": "0b2a8d7d",
   "metadata": {},
   "source": [
    "### Import library"
   ]
  },
  {
   "cell_type": "code",
   "execution_count": 1,
   "id": "5cff4457",
   "metadata": {},
   "outputs": [],
   "source": [
    "import numpy as np\n",
    "import control as co\n",
    "import matplotlib.pyplot as plt"
   ]
  },
  {
   "cell_type": "code",
   "execution_count": 2,
   "id": "207f5ffe",
   "metadata": {},
   "outputs": [
    {
     "ename": "ModuleNotFoundError",
     "evalue": "No module named 'ipywidgets'",
     "output_type": "error",
     "traceback": [
      "\u001b[1;31m---------------------------------------------------------------------------\u001b[0m",
      "\u001b[1;31mModuleNotFoundError\u001b[0m                       Traceback (most recent call last)",
      "Cell \u001b[1;32mIn[2], line 1\u001b[0m\n\u001b[1;32m----> 1\u001b[0m \u001b[38;5;28;01mimport\u001b[39;00m \u001b[38;5;21;01mipywidgets\u001b[39;00m\n\u001b[0;32m      2\u001b[0m \u001b[38;5;28;01mfrom\u001b[39;00m \u001b[38;5;21;01mipywidgets\u001b[39;00m \u001b[38;5;28;01mimport\u001b[39;00m FloatSlider, VBox, HBox, interactive_output\n\u001b[0;32m      3\u001b[0m \u001b[38;5;28;01mfrom\u001b[39;00m \u001b[38;5;21;01mIPython\u001b[39;00m\u001b[38;5;21;01m.\u001b[39;00m\u001b[38;5;21;01mdisplay\u001b[39;00m \u001b[38;5;28;01mimport\u001b[39;00m display, IFrame\n",
      "\u001b[1;31mModuleNotFoundError\u001b[0m: No module named 'ipywidgets'"
     ]
    }
   ],
   "source": [
    "import ipywidgets\n",
    "from ipywidgets import FloatSlider, VBox, HBox, interactive_output\n",
    "from IPython.display import display, IFrame"
   ]
  },
  {
   "cell_type": "code",
   "execution_count": null,
   "id": "a1432ccd",
   "metadata": {},
   "outputs": [],
   "source": [
    "co.__version__"
   ]
  },
  {
   "cell_type": "code",
   "execution_count": null,
   "id": "6205d12d",
   "metadata": {},
   "outputs": [],
   "source": [
    "def pole_interact(K=0):\n",
    "    poles=np.roots([1, 10, K])\n",
    "    plt.figure(1,figsize=(8,5))\n",
    "    plt.plot(poles.real,poles.imag, marker=\"x\", color=\"red\",\n",
    "             linestyle='none',\n",
    "             markersize=20, label=fr\"$K={K}$\")\n",
    "    plt.axvline(x=0, color=\"b\")\n",
    "    plt.axhline(y=0, color=\"b\")\n",
    "    plt.grid()\n",
    "    plt.legend()"
   ]
  },
  {
   "cell_type": "code",
   "execution_count": null,
   "id": "850170bc",
   "metadata": {},
   "outputs": [],
   "source": [
    "%matplotlib inline\n",
    "K=FloatSlider(value=0, min=0, max=50, step=5, description=\"K\")\n",
    "plot_inter=interactive_output(pole_interact, {\"K\": K})\n",
    "layout=VBox([K, plot_inter])\n",
    "display(layout)"
   ]
  },
  {
   "cell_type": "markdown",
   "id": "f208565a",
   "metadata": {},
   "source": [
    "* Settling time $T_s=\\dfrac{4}{\\zeta \\omega_n}$\n",
    "<br>\n",
    "* Percent overshoot %OS = $exp\\left(-\\dfrac{\\zeta \\pi}{\\sqrt{1-\\zeta^2}}\\right)\\cdot100\\%$\n",
    "* Peak time $T_p = \\dfrac{\\pi}{\\omega_n \\sqrt{1-\\zeta^2}}$"
   ]
  },
  {
   "cell_type": "markdown",
   "id": "05c11321",
   "metadata": {},
   "source": [
    "### Some observation from `pole_interact`plot\n",
    "1. Directing our attention to the underdamped portion of the root locus, we see that regardless of the value of gain, the real parts of the complex poles are always the same. Since the settling time is inversely proportional to the real part of the complex poles for this second-order system, the conclusion is that regardless of the value of gain, the settling time for the system remains the same under all conditions of underdamped responses.\n",
    "\n",
    "2. As we increase the gain, the damping ratio diminishes, and the percent overshoot increases.\n",
    "\n",
    "3. The damped frequency of oscillation, which is equal to the imaginary part of the pole, also increases with an increase in gain, resulting in a reduction of the peak time.\n",
    "\n",
    "4. Finally, since the root locus never crosses over into the right half-plane, the system is always stable"
   ]
  },
  {
   "cell_type": "markdown",
   "id": "6ae1457f",
   "metadata": {},
   "source": [
    "Closed loop transfer function $$\\dfrac{C(s)}{R(s)}=\\dfrac{K}{s^2+10s+K}$$"
   ]
  },
  {
   "cell_type": "code",
   "execution_count": null,
   "id": "45eec558",
   "metadata": {},
   "outputs": [],
   "source": [
    "%matplotlib notebook\n",
    "s=co.tf('s')\n",
    "G = 1/(s**2+10*s+1)\n",
    "plt.figure(1)\n",
    "co.root_locus(G, kvec=np.linspace(0,50,1000), \n",
    "             plot=True);"
   ]
  },
  {
   "cell_type": "markdown",
   "id": "9b7b161a",
   "metadata": {},
   "source": [
    "### Properties of the Root Locus\n",
    "As we change gain, we notice that the system poles and zeros actually move around in the S-plane. This fact can make life particularly difficult, when we need to solve higher-order equations repeatedly, for each new gain value. The solution to this problem is a technique known as Root-Locus graphs. Root-Locus allows you to graph the locations of the poles and zeros for every value of gain, by following several simple rules.\n",
    "<img src=\"https://github.com/sayedul79/python-control-system/blob/main/image/closed-loop-system.PNG?raw=true\">\n",
    "Closed loop Transfer function$$T(s)=\\dfrac{KG(s)}{1+KG(s)H(s)}$$\n",
    "Thus, the closed-loop poles of the closed-loop transfer function are the roots of the characteristic equation \n",
    "$$\n",
    "\\begin{eqnarray}\n",
    "1+KG(s)H(s) &=& 0\\\\\n",
    "G(s)H(s) &=& \\dfrac{-1}{K}\\\\\n",
    "G(s)H(s) &=& \\dfrac{1}{K}\\angle \\pi\\\\\n",
    "G(s)H(s) &=& \\dfrac{1}{K}\\angle (2n+1)\\pi\\\\\n",
    "\\end{eqnarray}\n",
    "$$\n",
    "So angle condition is :$$\\angle G(s)H(s)=\\angle (2n+1)\\pi$$\n",
    "And magnitude condition is : $$\\left|G(s)H(s)\\right|=\\dfrac{1}{K}$$"
   ]
  },
  {
   "cell_type": "markdown",
   "id": "590c6f01",
   "metadata": {},
   "source": [
    "### [Root Locus Rules](https://en.wikibooks.org/wiki/Control_Systems/Root_Locus#Root_Locus_Rules)\n",
    "Here is the complete set of rules for drawing the root-locus graph. We will use P and Z to denote the number of poles and the number of zeros of the open-loop transfer function, respectively. We will use $P_i$ and $Z_i$ to denote the location of the ith pole and the ith zero, respectively. Likewise, we will use $\\Psi_i$ and $\\rho_i$ to denote the angle from a given point to the ith pole and zero, respectively. All angles are given in radians (π denotes π radians).\n",
    "\n",
    "\n",
    "There are 11 rules that, if followed correctly, will allow you to create a correct root-locus graph.\n",
    "\n",
    "\n",
    "\n",
    "1. There is one branch of the root-locus for every root of b(s).\n",
    "\n",
    "\n",
    "2. The roots of b(s) are the poles of the open-loop transfer function. Mark the roots of b(s) on the graph with an X.\n",
    "\n",
    "\n",
    "3. The roots of a(s) are the zeros of the open-loop transfer function. Mark the roots of a(s) on the graph with an O. There should be a number of O's less than or equal to the number of X's. There is a number of zeros p - z located at infinity. These zeros at infinity are called \"implicit zeros\". All branches of the root-locus will move from a pole to a zero (some branches, therefore, may travel towards infinity).\n",
    "\n",
    "\n",
    "4. A point on the real axis is a part of the root-locus if it is to the left of an odd number of poles and zeros.\n",
    "\n",
    "\n",
    "5. The gain at any point on the root locus can be determined by the inverse of the absolute value of the magnitude equation.\n",
    "<img src=\"https://wikimedia.org/api/rest_v1/media/math/render/svg/e41bc8bb43c60c3f0e336a0599a72ff341c6b13e\">\n",
    "\n",
    "\n",
    "6. The root-locus diagram is symmetric about the real-axis. All complex roots are conjugates.\n",
    "\n",
    "\n",
    "7. Two roots that meet on the real-axis will break away from the axis at certain break-away points. If we set s → σ (no imaginary part), we can use the following equation:\n",
    "<img src=\"https://wikimedia.org/api/rest_v1/media/math/render/svg/bc7d13d548918516e36fb9bc1d6428509cb62e66\">\n",
    "And differentiate to find the local maximum:\n",
    "<img src=\"https://wikimedia.org/api/rest_v1/media/math/render/svg/46ba2f47811f92835585b371908962a4c27590b8\">\n",
    "\n",
    "\n",
    "8. The breakaway lines of the root locus are separated by angles of $\\displaystyle \\dfrac {\\pi }{\\alpha }$, where $\\alpha$ is the number of poles intersecting at the breakaway point.\n",
    "\n",
    "\n",
    "9. he breakaway root-loci follow asymptotes that intersect the real axis at angles φω given by:\n",
    "<img src=\"https://wikimedia.org/api/rest_v1/media/math/render/svg/427004d1f07fd972fd366cb82b8ce9fb504c02ef\">\n",
    "\n",
    "\n",
    "The origin of these asymptotes, OA, is given as the sum of the pole locations, minus the sum of the zero locations, divided by the difference between the number of poles and zeros:\n",
    "$$OA=\\dfrac{Re\\left(\\sum_{P}P_i-\\sum_{Z}Z_i\\right)}{P-Z}$$\n",
    "\n",
    "\n",
    "10. The branches of the root locus cross the imaginary axis at points where the angle equation value is π (i.e., $180^\\circ$).\n",
    "\n",
    "\n",
    "11. The angles that the root locus branch makes with a complex-conjugate pole or zero is determined by analyzing the angle equation at a point infinitessimally close to the pole or zero. The angle of departure, $\\phi_d$ is given by the following equation:\n",
    "$$\\sum_{P}\\Psi_i+\\sum_{Z}\\rho_i+\\phi_d=\\pi$$\n",
    "The angle of arrival, $\\phi_a$, is given by:\n",
    "$$\\sum_{P}\\Psi_i+\\sum_{Z}\\rho_i+\\phi_a=\\pi$$"
   ]
  },
  {
   "cell_type": "markdown",
   "id": "e8212dde",
   "metadata": {},
   "source": [
    "### Number of Asymptotes\n",
    "If the number of explicit zeros of the system is denoted by Z (uppercase z), and the number of poles of the system is given by P, then the number of asymptotes $(N_a)$ is given by:\n",
    "\n",
    "\n",
    "Let $P$ be the number of poles and $Z$ be the number of zeros:\n",
    "$$N_a=P-Z$$\n",
    "The angles of the asymptotes are given by:\n",
    "$$\\phi_n=(2n+1)\\dfrac{\\pi}{P-Z}$$\n",
    "for values of $ n=[0,1,...N_{a}-1]$\n",
    "<br>\n",
    "**The angles for the asymptotes are measured from the positive real-axis**"
   ]
  },
  {
   "cell_type": "markdown",
   "id": "1986e938",
   "metadata": {},
   "source": [
    "### Asymptote Intersection Point\n",
    "The asymptotes intersect the real axis at the point:\n",
    "\n",
    "\n",
    "origin of the asymptotes\n",
    "$$\\sigma_0=\\dfrac{\\sum_{P}-\\sum_{Z}}{P-Z}$$\n",
    "Where $ \\sum _{P}$ is the sum of all the locations of the poles, and $\\sum _{Z}$ is the sum of all the locations of the explicit zeros."
   ]
  },
  {
   "cell_type": "markdown",
   "id": "35626ab8",
   "metadata": {},
   "source": [
    "### Breakaway Points\n",
    "The breakaway points are located at the roots of the following equation:\n",
    "$$\\dfrac{dG(s)H(s)}{ds}=0$$\n",
    "\n",
    "Once you solve for $s$, the real roots give you the breakaway/reentry points. Complex roots correspond to a lack of breakaway/reentry."
   ]
  },
  {
   "cell_type": "markdown",
   "id": "d57b3ba9",
   "metadata": {},
   "source": [
    "### Root Locus and Stability\n",
    "The root locus procedure should produce a graph of where the poles of the system are for all values of gain K. When any or all of the roots of Denominator are in the unstable region, the system is unstable. When any of the roots are in the marginally stable region, the system is marginally stable (oscillatory). When all of the roots of Denominator are in the stable region, then the system is stable.\n",
    "\n",
    "\n",
    "It is important to note that a system that is stable for gain K1 may become unstable for a different gain K2. Some systems may have poles that cross over from stable to unstable multiple times, giving multiple gain values for which the system is unstable.\n"
   ]
  },
  {
   "cell_type": "markdown",
   "id": "ad7f82f2",
   "metadata": {},
   "source": [
    "### Sketching root locus\n",
    "Using a few basic rules, the root locus method can plot the overall shape of the path (locus) traversed by the roots as the value of $K$ varies. The plot of the root locus then gives an idea of the stability and dynamics of this feedback system for different values of $K$. The rules are the following:\n",
    "\n",
    "* Mark open-loop poles and zeros\n",
    "* Mark real axis portion to the left of an odd number of poles and zeros\n",
    "* Find [asymptotes](https://en.wikipedia.org/wiki/Asymptote#Asymptotes_of_functions)\n",
    "\n",
    "\n",
    "Let $P$ be the number of poles and $Z$ be the number of zeros:\n",
    "<img src=\"https://wikimedia.org/api/rest_v1/media/math/render/svg/e2bee544ae3137d84dbfda1372e26f256cd472aa\">\n",
    "\n",
    "\n",
    "The asymptotes intersect the real axis at $\\alpha$  (which is called the centroid) and depart at angle $\\phi$ given by:\n",
    "<img src=\"https://wikimedia.org/api/rest_v1/media/math/render/svg/ce6ceda6ea981d0858ad4a7d3485fc26ee1ef0a8\">\n",
    "<img src=\"https://wikimedia.org/api/rest_v1/media/math/render/svg/0cd606d8751202953f1807d73a308a7107c259b5\">\n",
    "\n",
    "\n",
    "where $\\displaystyle \\sum_{P}$ is the sum of all the locations of the poles, $\\displaystyle \\sum_{Z}$ is the sum of all the locations of the explicit zeros and $Re()$ denotes that we are only interested in the real part.\n",
    "\n",
    "* Phase condition on test point to find angle of departure\n",
    "* Compute breakaway/break-in points\n",
    "\n",
    "The breakaway points are located at the roots of the following equation:\n",
    "$$\\dfrac{dG(s)H(s)}{ds}=0$$\n",
    "\n",
    "Once you solve for $s$, the real roots give you the breakaway/reentry points. Complex roots correspond to a lack of breakaway/reentry."
   ]
  },
  {
   "cell_type": "markdown",
   "id": "b501c57c",
   "metadata": {},
   "source": [
    "### Plotting root locus\n",
    "Given the general closed-loop denominator rational polynomial\n",
    "<img src=\"https://wikimedia.org/api/rest_v1/media/math/render/svg/a67df6358ee86dbf220b311c0f570265b12fd781\">\n",
    "the characteristic equation can be simplified to\n",
    "<img src=\"https://wikimedia.org/api/rest_v1/media/math/render/svg/adf02809d2faf80139bde137f5dbd084126327b0\">\n",
    "\n",
    "\n",
    "The solutions of $s$ to this equation are the root loci of the closed-loop transfer function"
   ]
  },
  {
   "cell_type": "markdown",
   "id": "12b74abd",
   "metadata": {},
   "source": [
    "### Example\n",
    "Given\n",
    "<img src=\"https://wikimedia.org/api/rest_v1/media/math/render/svg/47e116fc2c8f8996d83fbfd9295c9adbc9ccee5b\">\n",
    "we will have the characteristic equation\n",
    "<img src=\"https://wikimedia.org/api/rest_v1/media/math/render/svg/21bf174543572ca40402331708931c8e052f8873\">\n",
    "The following Python code will plot the root locus of the closed-loop transfer function as $K$ varies using the described manual method as well as the [`control.root_locus()`](https://python-control.readthedocs.io/en/0.8.3/generated/control.root_locus.html) built-in function:"
   ]
  },
  {
   "cell_type": "code",
   "execution_count": null,
   "id": "516ba9ad",
   "metadata": {},
   "outputs": [],
   "source": [
    "s=co.tf(\"s\")\n",
    "OLTF=(s+3)/(s**3+3*s**2+5*s+1)\n",
    "plt.figure(2, figsize=(8,5))\n",
    "co.root_locus(OLTF, plot=True);"
   ]
  },
  {
   "cell_type": "markdown",
   "id": "13cffa86",
   "metadata": {},
   "source": [
    "$$T(s)=\\dfrac{1}{(s+1)(s+2)(s+3)}$$ is this system stabel?"
   ]
  },
  {
   "cell_type": "code",
   "execution_count": null,
   "id": "b8bde910",
   "metadata": {},
   "outputs": [],
   "source": [
    "s=co.tf('s')\n",
    "T=1/((s+1)*(s+2)*(s+3))\n",
    "plt.figure(3, figsize=(8,5))\n",
    "co.root_locus(T);"
   ]
  },
  {
   "cell_type": "markdown",
   "id": "00aedce6",
   "metadata": {},
   "source": [
    "### Example: Complex-Conjugate Zeros\n",
    "$$T(s)=\\dfrac{s^2+4.5s+5.625}{s(s+1)(s+2)}$$"
   ]
  },
  {
   "cell_type": "code",
   "execution_count": null,
   "id": "e200e1ba",
   "metadata": {},
   "outputs": [],
   "source": [
    "T=(s**2+4.5*s+5.625)/((s*(s+1)*(s+2)))\n",
    "plt.figure(4, figsize=(8,5))\n",
    "co.root_locus(T);"
   ]
  },
  {
   "cell_type": "code",
   "execution_count": null,
   "id": "412b2c23",
   "metadata": {},
   "outputs": [],
   "source": []
  }
 ],
 "metadata": {
  "kernelspec": {
   "display_name": "Python 3 (ipykernel)",
   "language": "python",
   "name": "python3"
  },
  "language_info": {
   "codemirror_mode": {
    "name": "ipython",
    "version": 3
   },
   "file_extension": ".py",
   "mimetype": "text/x-python",
   "name": "python",
   "nbconvert_exporter": "python",
   "pygments_lexer": "ipython3",
   "version": "3.11.2"
  }
 },
 "nbformat": 4,
 "nbformat_minor": 5
}
