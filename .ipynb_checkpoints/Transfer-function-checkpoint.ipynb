{
 "cells": [
  {
   "cell_type": "markdown",
   "id": "3d616765",
   "metadata": {
    "slideshow": {
     "slide_type": "slide"
    }
   },
   "source": [
    "### Transfer Function"
   ]
  },
  {
   "cell_type": "markdown",
   "id": "aa30cfee",
   "metadata": {
    "slideshow": {
     "slide_type": "skip"
    }
   },
   "source": [
    "If $c(t)$ is the output response of an LTI system to an input signal\n",
    "$r(t)$, and if $R(s)$ and $C(s)$ are the Laplace transforms of $r(t)$ and\n",
    "$c(t)$, respectively, then the system is said to be characterized by\n",
    "an s-domain transfer function $G(s)$ defined as the ratio of $C(s)$\n",
    "to $R(s)$, provided that all initial conditions of $c(t)$ are zero at\n",
    "$t = 0^-$. That is, $$G(s)=\\dfrac{C(s)}{R(s)}$$\n",
    "<img src=\"https://github.com/sayedul79/python-control-system/blob/main/image/transfer-function-block-1.png?raw=true\">\n",
    "Let us begin by writing a general nth-order, linear, time-invariant differential equation,\n",
    "\n",
    "\n",
    "$$\n",
    "a_n\\dfrac{d^nc(t)}{dt^n}+a_{n-1}\\dfrac{d^{n-1}c(t)}{dt^{n-1}}+....+a_0c(t)=b_m\\dfrac{d^mr(t)}{dt^m}+b_{m-1}\\dfrac{d^{m-1}r(t)}{dt^{m-1}}+....+b_0r(t)\n",
    "$$\n",
    "where $c(t)$ is the output, $r(t)$ is the input\n",
    "\n",
    "Taking the Laplace transform of both sides,\n",
    "$$\n",
    "a_ns^nC(s) + a_{n−1}s^{n−1}C(s) + ⋯ + a_0C(s) + \\text{initial condition terms involving } c (t)= b_ms^mR(s) + b_{m−1}s^{m−1}R(s) + ⋯ + b_0R(s) + \\text{initial condition terms involving } r(t)$$\n",
    "\n",
    "This is a purely algebraic expression. If we assume that all initial conditions are zero, the above equation reduces to\n",
    "$$\n",
    "(a_ns^n + a_{n−1}s^{n−1} + ⋯ + a_0)C(s) = (b_ms^m + b_{m−1}s^{m−1} + ⋯ + b_0) R(s)$$\n",
    "\n",
    "Now form the ratio of the output transform, C(s), divided by the input transform, R(s):\n",
    "$$\n",
    "\\dfrac{C(s)}{R(s)}=G(s)=\\dfrac{b_ms^m + b_{m−1}s^{m−1} + ⋯ + b_0}{a_ns^n + a_{n−1}s^{n−1} + ⋯ + a_0}\n",
    "$$\n",
    "\n",
    "We call this ratio, G(s), the transfer function and evaluate it with zero\n",
    "initial conditions.\n",
    "The transfer function can be represented as a block diagram\n",
    "\n",
    "\n",
    "<img src=\"https://github.com/sayedul79/python-control-system/blob/main/image/transfer-function-block-2.png?raw=true\">\n",
    "\n",
    "\n",
    "Notice that the denominator of the transfer function is identical to the characteristic polynomial of the differential equation. Also, we can find the output, C(s) by using$$C(s) = R(s)G(s)$$\n"
   ]
  },
  {
   "cell_type": "markdown",
   "id": "50a0add9",
   "metadata": {
    "slideshow": {
     "slide_type": "skip"
    }
   },
   "source": [
    "### Example\n",
    "Find the transfer function, G(s) = C(s)/R(s), corresponding to the differential equation \n",
    "$$\n",
    "\\dfrac{d^3c}{dt^3}+3\\dfrac{d^2c}{dt^2}+7\\dfrac{dc}{dt}+5c=\\dfrac{d^2r}{dt^2}+4\\dfrac{dr}{dt}+3r\n",
    "$$\n",
    "By doing Laplace transform\n",
    "\\begin{align*}\n",
    "(s^3+3s^2+7s+5)C(s)=(s^2+4s+3)R(s)\n",
    "\\end{align*}\n",
    "So\n",
    "$$\n",
    "\\dfrac{C(s)}{R(s)}=\\dfrac{s^2+4s+3}{s^3+3s^2+7s+5}\n",
    "$$"
   ]
  },
  {
   "cell_type": "code",
   "execution_count": 4,
   "id": "5bdaaa63",
   "metadata": {
    "slideshow": {
     "slide_type": "skip"
    }
   },
   "outputs": [],
   "source": [
    "import control as co"
   ]
  },
  {
   "cell_type": "code",
   "execution_count": 2,
   "id": "b66c0f34",
   "metadata": {},
   "outputs": [
    {
     "data": {
      "text/latex": [
       "$$\\frac{s}{s + 1}$$"
      ],
      "text/plain": [
       "TransferFunction(array([1, 0]), array([1, 1]))"
      ]
     },
     "execution_count": 2,
     "metadata": {},
     "output_type": "execute_result"
    }
   ],
   "source": [
    "s=co.TransferFunction.s\n",
    "G=s/(s+1)\n",
    "G"
   ]
  },
  {
   "cell_type": "code",
   "execution_count": 3,
   "id": "acb1327e",
   "metadata": {},
   "outputs": [
    {
     "data": {
      "text/latex": [
       "$$\\frac{s + 2}{4 s^2 + 5 s + 6}$$"
      ],
      "text/plain": [
       "TransferFunction(array([1, 2]), array([4, 5, 6]))"
      ]
     },
     "execution_count": 3,
     "metadata": {},
     "output_type": "execute_result"
    }
   ],
   "source": [
    "co.TransferFunction([1,2], [4,5,6])"
   ]
  },
  {
   "cell_type": "code",
   "execution_count": null,
   "id": "75adc8a9",
   "metadata": {},
   "outputs": [],
   "source": []
  }
 ],
 "metadata": {
  "kernelspec": {
   "display_name": "Python 3",
   "language": "python",
   "name": "python3"
  },
  "language_info": {
   "codemirror_mode": {
    "name": "ipython",
    "version": 3
   },
   "file_extension": ".py",
   "mimetype": "text/x-python",
   "name": "python",
   "nbconvert_exporter": "python",
   "pygments_lexer": "ipython3",
   "version": "3.8.5"
  }
 },
 "nbformat": 4,
 "nbformat_minor": 5
}
