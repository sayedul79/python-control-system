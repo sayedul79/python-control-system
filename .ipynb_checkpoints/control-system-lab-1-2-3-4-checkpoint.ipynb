{
 "cells": [
  {
   "cell_type": "markdown",
   "metadata": {},
   "source": [
    "### Import library"
   ]
  },
  {
   "cell_type": "code",
   "execution_count": 2,
   "metadata": {},
   "outputs": [],
   "source": [
    "import numpy as np\n",
    "import pandas as pd\n",
    "import matplotlib.pyplot as plt"
   ]
  },
  {
   "cell_type": "markdown",
   "metadata": {},
   "source": [
    "## Lab-2"
   ]
  },
  {
   "cell_type": "code",
   "execution_count": null,
   "metadata": {},
   "outputs": [],
   "source": [
    "exp_21=pd.read_csv(\"D:\\Extra Knowledge\\HP-NPC\\dataset/EEE364_exp2_f001_A100%_offset0%.csv\")\n",
    "exp_21.head()"
   ]
  },
  {
   "cell_type": "code",
   "execution_count": null,
   "metadata": {},
   "outputs": [],
   "source": [
    "exp_21.shape"
   ]
  },
  {
   "cell_type": "code",
   "execution_count": null,
   "metadata": {},
   "outputs": [],
   "source": [
    "exp_21.dtypes"
   ]
  },
  {
   "cell_type": "code",
   "execution_count": null,
   "metadata": {},
   "outputs": [],
   "source": [
    "exp_21.info()"
   ]
  },
  {
   "cell_type": "code",
   "execution_count": null,
   "metadata": {},
   "outputs": [],
   "source": [
    "exp_21.TimeStamp.max()"
   ]
  },
  {
   "cell_type": "code",
   "execution_count": null,
   "metadata": {},
   "outputs": [],
   "source": [
    "exp_21[exp_21.TimeStamp>=120].head()"
   ]
  },
  {
   "cell_type": "code",
   "execution_count": null,
   "metadata": {},
   "outputs": [],
   "source": [
    "fil=exp_21[(exp_21.TimeStamp>=25) & (exp_21.TimeStamp<=125)]\n",
    "fil.shape"
   ]
  },
  {
   "cell_type": "code",
   "execution_count": null,
   "metadata": {},
   "outputs": [],
   "source": [
    "fil.shape"
   ]
  },
  {
   "cell_type": "code",
   "execution_count": null,
   "metadata": {},
   "outputs": [],
   "source": [
    "fil2=fil[~(np.around(fil.Reference, 2)==0)]\n",
    "fil2.shape"
   ]
  },
  {
   "cell_type": "code",
   "execution_count": null,
   "metadata": {},
   "outputs": [],
   "source": [
    "fil2.to_csv(\"experimental.csv\", index=False)"
   ]
  },
  {
   "cell_type": "code",
   "execution_count": null,
   "metadata": {},
   "outputs": [],
   "source": [
    "fil2[\"Speed\"]=fil2.Speed*np.pi\n",
    "fil2[\"Voltage\"]=fil2.Voltage*0.48"
   ]
  },
  {
   "cell_type": "code",
   "execution_count": null,
   "metadata": {},
   "outputs": [],
   "source": [
    "fil2[fil2.Speed==fil2.Speed.min()]"
   ]
  },
  {
   "cell_type": "code",
   "execution_count": null,
   "metadata": {},
   "outputs": [],
   "source": [
    "fil2[fil2.Speed==fil2.Speed.max()]"
   ]
  },
  {
   "cell_type": "code",
   "execution_count": null,
   "metadata": {},
   "outputs": [],
   "source": [
    "fig, ax=plt.subplots()\n",
    "ax.scatter(fil2.TimeStamp, fil2.Reference)"
   ]
  },
  {
   "cell_type": "code",
   "execution_count": null,
   "metadata": {},
   "outputs": [],
   "source": [
    "from manim import *"
   ]
  },
  {
   "cell_type": "code",
   "execution_count": null,
   "metadata": {},
   "outputs": [],
   "source": [
    "fil2.Voltage.min()"
   ]
  },
  {
   "cell_type": "code",
   "execution_count": null,
   "metadata": {},
   "outputs": [],
   "source": [
    "fil2.Voltage.max()"
   ]
  },
  {
   "cell_type": "code",
   "execution_count": null,
   "metadata": {},
   "outputs": [],
   "source": [
    "%%manim -qm -v WARNING StaticCharactaristics\n",
    "config.background_color = \"Black\"\n",
    "config.media_width=\"100%\"\n",
    "class StaticCharactaristics(Scene):\n",
    "    def construct(self):\n",
    "        self.xmin=fil2.Voltage.min()\n",
    "        self.xmax=fil2.Voltage.max()\n",
    "        self.axes=NumberPlane(x_range=[-92, 92, 30],\n",
    "                              y_range=[-110, 110, 50],\n",
    "                             x_length=config.frame_width-1, \n",
    "                             y_length=config.frame_height-1)\\\n",
    "        .add_coordinates()\n",
    "        #self.axes.set_color(BLUE)\n",
    "        self.axes.x_axis.add_tip(tip_length=0.25)\n",
    "        self.axes.y_axis.add_tip(tip_length=0.25)\n",
    "        sc=self.get_scatter()\n",
    "        self.add(self.axes, sc)\n",
    "    def get_scatter(self):\n",
    "        ax=self.axes\n",
    "        time=fil2.Voltage\n",
    "        speed=fil2.Speed\n",
    "        dots=VGroup(*[Dot(ax.c2p(t, s), radius=0.02) for t, s in zip(time, speed)])\\\n",
    "        .set_color(YELLOW)\n",
    "        #print(dots[0].get_value())\n",
    "        return dots\n",
    "#         dots=VGroup()\n",
    "#         for t, s in zip(time[0:5], speed[0:5]):\n",
    "#             dot=Dot([t,s,0])\n"
   ]
  },
  {
   "cell_type": "markdown",
   "metadata": {},
   "source": [
    "## Lab-3"
   ]
  },
  {
   "cell_type": "code",
   "execution_count": 33,
   "metadata": {},
   "outputs": [
    {
     "data": {
      "text/html": [
       "<div>\n",
       "<style scoped>\n",
       "    .dataframe tbody tr th:only-of-type {\n",
       "        vertical-align: middle;\n",
       "    }\n",
       "\n",
       "    .dataframe tbody tr th {\n",
       "        vertical-align: top;\n",
       "    }\n",
       "\n",
       "    .dataframe thead th {\n",
       "        text-align: right;\n",
       "    }\n",
       "</style>\n",
       "<table border=\"1\" class=\"dataframe\">\n",
       "  <thead>\n",
       "    <tr style=\"text-align: right;\">\n",
       "      <th></th>\n",
       "      <th>TimeStamp</th>\n",
       "      <th>Reference</th>\n",
       "      <th>Speed</th>\n",
       "      <th>Current</th>\n",
       "      <th>Voltage</th>\n",
       "      <th>Error</th>\n",
       "      <th>Kp x Error</th>\n",
       "      <th>Error Sum / Ti</th>\n",
       "      <th>Td x Delta Err.</th>\n",
       "      <th>PID Output</th>\n",
       "    </tr>\n",
       "  </thead>\n",
       "  <tbody>\n",
       "    <tr>\n",
       "      <th>0</th>\n",
       "      <td>391.05</td>\n",
       "      <td>0.001526</td>\n",
       "      <td>0.0</td>\n",
       "      <td>-0.201511</td>\n",
       "      <td>0.0</td>\n",
       "      <td>-0.816358</td>\n",
       "      <td>-1.634241</td>\n",
       "      <td>0.001526</td>\n",
       "      <td>0.001526</td>\n",
       "      <td>-1.634241</td>\n",
       "    </tr>\n",
       "    <tr>\n",
       "      <th>1</th>\n",
       "      <td>391.06</td>\n",
       "      <td>0.001526</td>\n",
       "      <td>0.0</td>\n",
       "      <td>-0.221662</td>\n",
       "      <td>0.0</td>\n",
       "      <td>-0.816358</td>\n",
       "      <td>-1.634241</td>\n",
       "      <td>0.001526</td>\n",
       "      <td>0.001526</td>\n",
       "      <td>-1.634241</td>\n",
       "    </tr>\n",
       "    <tr>\n",
       "      <th>2</th>\n",
       "      <td>391.07</td>\n",
       "      <td>0.001526</td>\n",
       "      <td>0.0</td>\n",
       "      <td>-0.184239</td>\n",
       "      <td>0.0</td>\n",
       "      <td>-0.816358</td>\n",
       "      <td>-1.634241</td>\n",
       "      <td>0.001526</td>\n",
       "      <td>0.001526</td>\n",
       "      <td>-1.634241</td>\n",
       "    </tr>\n",
       "    <tr>\n",
       "      <th>3</th>\n",
       "      <td>391.08</td>\n",
       "      <td>0.001526</td>\n",
       "      <td>0.0</td>\n",
       "      <td>-0.221662</td>\n",
       "      <td>0.0</td>\n",
       "      <td>-0.816358</td>\n",
       "      <td>-1.634241</td>\n",
       "      <td>0.001526</td>\n",
       "      <td>0.001526</td>\n",
       "      <td>-1.634241</td>\n",
       "    </tr>\n",
       "    <tr>\n",
       "      <th>4</th>\n",
       "      <td>391.09</td>\n",
       "      <td>0.001526</td>\n",
       "      <td>0.0</td>\n",
       "      <td>-0.195754</td>\n",
       "      <td>0.0</td>\n",
       "      <td>-0.816358</td>\n",
       "      <td>-1.634241</td>\n",
       "      <td>0.001526</td>\n",
       "      <td>0.001526</td>\n",
       "      <td>-1.634241</td>\n",
       "    </tr>\n",
       "  </tbody>\n",
       "</table>\n",
       "</div>"
      ],
      "text/plain": [
       "   TimeStamp  Reference  Speed   Current  Voltage     Error  Kp x Error  \\\n",
       "0     391.05   0.001526    0.0 -0.201511      0.0 -0.816358   -1.634241   \n",
       "1     391.06   0.001526    0.0 -0.221662      0.0 -0.816358   -1.634241   \n",
       "2     391.07   0.001526    0.0 -0.184239      0.0 -0.816358   -1.634241   \n",
       "3     391.08   0.001526    0.0 -0.221662      0.0 -0.816358   -1.634241   \n",
       "4     391.09   0.001526    0.0 -0.195754      0.0 -0.816358   -1.634241   \n",
       "\n",
       "   Error Sum / Ti  Td x Delta Err.  PID Output  \n",
       "0        0.001526         0.001526   -1.634241  \n",
       "1        0.001526         0.001526   -1.634241  \n",
       "2        0.001526         0.001526   -1.634241  \n",
       "3        0.001526         0.001526   -1.634241  \n",
       "4        0.001526         0.001526   -1.634241  "
      ]
     },
     "execution_count": 33,
     "metadata": {},
     "output_type": "execute_result"
    }
   ],
   "source": [
    "tc_raw=pd.read_csv(\"D:\\Extra Knowledge\\HP-NPC\\dataset/EEE364_exp3_f25%_A40%_offset40%.csv\")\n",
    "tc_raw.head()"
   ]
  },
  {
   "cell_type": "code",
   "execution_count": 34,
   "metadata": {},
   "outputs": [
    {
     "data": {
      "text/html": [
       "<div>\n",
       "<style scoped>\n",
       "    .dataframe tbody tr th:only-of-type {\n",
       "        vertical-align: middle;\n",
       "    }\n",
       "\n",
       "    .dataframe tbody tr th {\n",
       "        vertical-align: top;\n",
       "    }\n",
       "\n",
       "    .dataframe thead th {\n",
       "        text-align: right;\n",
       "    }\n",
       "</style>\n",
       "<table border=\"1\" class=\"dataframe\">\n",
       "  <thead>\n",
       "    <tr style=\"text-align: right;\">\n",
       "      <th></th>\n",
       "      <th>TimeStamp</th>\n",
       "      <th>Reference</th>\n",
       "      <th>Speed</th>\n",
       "      <th>Current</th>\n",
       "      <th>Voltage</th>\n",
       "      <th>Error</th>\n",
       "      <th>Kp x Error</th>\n",
       "      <th>Error Sum / Ti</th>\n",
       "      <th>Td x Delta Err.</th>\n",
       "      <th>PID Output</th>\n",
       "    </tr>\n",
       "  </thead>\n",
       "  <tbody>\n",
       "    <tr>\n",
       "      <th>2815</th>\n",
       "      <td>26.13</td>\n",
       "      <td>0.001526</td>\n",
       "      <td>0.0</td>\n",
       "      <td>-0.189996</td>\n",
       "      <td>0.0</td>\n",
       "      <td>-0.816358</td>\n",
       "      <td>-1.634241</td>\n",
       "      <td>0.001526</td>\n",
       "      <td>0.001526</td>\n",
       "      <td>-1.634241</td>\n",
       "    </tr>\n",
       "    <tr>\n",
       "      <th>2816</th>\n",
       "      <td>26.14</td>\n",
       "      <td>0.001526</td>\n",
       "      <td>0.0</td>\n",
       "      <td>-0.207269</td>\n",
       "      <td>0.0</td>\n",
       "      <td>-0.816358</td>\n",
       "      <td>-1.634241</td>\n",
       "      <td>0.001526</td>\n",
       "      <td>0.001526</td>\n",
       "      <td>-1.634241</td>\n",
       "    </tr>\n",
       "    <tr>\n",
       "      <th>2817</th>\n",
       "      <td>26.15</td>\n",
       "      <td>0.001526</td>\n",
       "      <td>0.0</td>\n",
       "      <td>-0.189996</td>\n",
       "      <td>0.0</td>\n",
       "      <td>-0.816358</td>\n",
       "      <td>-1.634241</td>\n",
       "      <td>0.001526</td>\n",
       "      <td>0.001526</td>\n",
       "      <td>-1.634241</td>\n",
       "    </tr>\n",
       "    <tr>\n",
       "      <th>2818</th>\n",
       "      <td>26.16</td>\n",
       "      <td>0.001526</td>\n",
       "      <td>0.0</td>\n",
       "      <td>-0.189996</td>\n",
       "      <td>0.0</td>\n",
       "      <td>-0.816358</td>\n",
       "      <td>-1.634241</td>\n",
       "      <td>0.001526</td>\n",
       "      <td>0.001526</td>\n",
       "      <td>-1.634241</td>\n",
       "    </tr>\n",
       "    <tr>\n",
       "      <th>2819</th>\n",
       "      <td>26.17</td>\n",
       "      <td>0.001526</td>\n",
       "      <td>0.0</td>\n",
       "      <td>-0.189996</td>\n",
       "      <td>0.0</td>\n",
       "      <td>-0.816358</td>\n",
       "      <td>-1.634241</td>\n",
       "      <td>0.001526</td>\n",
       "      <td>0.001526</td>\n",
       "      <td>-1.634241</td>\n",
       "    </tr>\n",
       "  </tbody>\n",
       "</table>\n",
       "</div>"
      ],
      "text/plain": [
       "      TimeStamp  Reference  Speed   Current  Voltage     Error  Kp x Error  \\\n",
       "2815      26.13   0.001526    0.0 -0.189996      0.0 -0.816358   -1.634241   \n",
       "2816      26.14   0.001526    0.0 -0.207269      0.0 -0.816358   -1.634241   \n",
       "2817      26.15   0.001526    0.0 -0.189996      0.0 -0.816358   -1.634241   \n",
       "2818      26.16   0.001526    0.0 -0.189996      0.0 -0.816358   -1.634241   \n",
       "2819      26.17   0.001526    0.0 -0.189996      0.0 -0.816358   -1.634241   \n",
       "\n",
       "      Error Sum / Ti  Td x Delta Err.  PID Output  \n",
       "2815        0.001526         0.001526   -1.634241  \n",
       "2816        0.001526         0.001526   -1.634241  \n",
       "2817        0.001526         0.001526   -1.634241  \n",
       "2818        0.001526         0.001526   -1.634241  \n",
       "2819        0.001526         0.001526   -1.634241  "
      ]
     },
     "execution_count": 34,
     "metadata": {},
     "output_type": "execute_result"
    }
   ],
   "source": [
    "tc_raw.tail()"
   ]
  },
  {
   "cell_type": "code",
   "execution_count": 35,
   "metadata": {},
   "outputs": [
    {
     "data": {
      "text/plain": [
       "(2820, 10)"
      ]
     },
     "execution_count": 35,
     "metadata": {},
     "output_type": "execute_result"
    }
   ],
   "source": [
    "tc_raw.shape"
   ]
  },
  {
   "cell_type": "code",
   "execution_count": 36,
   "metadata": {},
   "outputs": [
    {
     "data": {
      "text/html": [
       "<div>\n",
       "<style scoped>\n",
       "    .dataframe tbody tr th:only-of-type {\n",
       "        vertical-align: middle;\n",
       "    }\n",
       "\n",
       "    .dataframe tbody tr th {\n",
       "        vertical-align: top;\n",
       "    }\n",
       "\n",
       "    .dataframe thead th {\n",
       "        text-align: right;\n",
       "    }\n",
       "</style>\n",
       "<table border=\"1\" class=\"dataframe\">\n",
       "  <thead>\n",
       "    <tr style=\"text-align: right;\">\n",
       "      <th></th>\n",
       "      <th>TimeStamp</th>\n",
       "      <th>Reference</th>\n",
       "      <th>Speed</th>\n",
       "      <th>Current</th>\n",
       "      <th>Voltage</th>\n",
       "      <th>Error</th>\n",
       "      <th>Kp x Error</th>\n",
       "      <th>Error Sum / Ti</th>\n",
       "      <th>Td x Delta Err.</th>\n",
       "      <th>PID Output</th>\n",
       "    </tr>\n",
       "  </thead>\n",
       "  <tbody>\n",
       "    <tr>\n",
       "      <th>203</th>\n",
       "      <td>0.01</td>\n",
       "      <td>0.001526</td>\n",
       "      <td>0.000</td>\n",
       "      <td>-0.195754</td>\n",
       "      <td>0.000000</td>\n",
       "      <td>-0.816358</td>\n",
       "      <td>-1.634241</td>\n",
       "      <td>0.001526</td>\n",
       "      <td>0.001526</td>\n",
       "      <td>-1.634241</td>\n",
       "    </tr>\n",
       "    <tr>\n",
       "      <th>204</th>\n",
       "      <td>0.02</td>\n",
       "      <td>3.334096</td>\n",
       "      <td>0.000</td>\n",
       "      <td>-0.201511</td>\n",
       "      <td>3.030788</td>\n",
       "      <td>-0.816358</td>\n",
       "      <td>-1.634241</td>\n",
       "      <td>0.001526</td>\n",
       "      <td>0.001526</td>\n",
       "      <td>-1.634241</td>\n",
       "    </tr>\n",
       "    <tr>\n",
       "      <th>205</th>\n",
       "      <td>0.03</td>\n",
       "      <td>6.666667</td>\n",
       "      <td>0.125</td>\n",
       "      <td>0.546959</td>\n",
       "      <td>6.105554</td>\n",
       "      <td>-0.816358</td>\n",
       "      <td>-1.634241</td>\n",
       "      <td>0.001526</td>\n",
       "      <td>0.001526</td>\n",
       "      <td>-1.634241</td>\n",
       "    </tr>\n",
       "    <tr>\n",
       "      <th>206</th>\n",
       "      <td>0.04</td>\n",
       "      <td>9.999237</td>\n",
       "      <td>0.125</td>\n",
       "      <td>1.160130</td>\n",
       "      <td>9.142049</td>\n",
       "      <td>-0.816358</td>\n",
       "      <td>-1.634241</td>\n",
       "      <td>0.001526</td>\n",
       "      <td>0.001526</td>\n",
       "      <td>-1.634241</td>\n",
       "    </tr>\n",
       "    <tr>\n",
       "      <th>207</th>\n",
       "      <td>0.05</td>\n",
       "      <td>13.331807</td>\n",
       "      <td>0.250</td>\n",
       "      <td>1.730119</td>\n",
       "      <td>12.176708</td>\n",
       "      <td>-0.816358</td>\n",
       "      <td>-1.634241</td>\n",
       "      <td>0.001526</td>\n",
       "      <td>0.001526</td>\n",
       "      <td>-1.634241</td>\n",
       "    </tr>\n",
       "  </tbody>\n",
       "</table>\n",
       "</div>"
      ],
      "text/plain": [
       "     TimeStamp  Reference  Speed   Current    Voltage     Error  Kp x Error  \\\n",
       "203       0.01   0.001526  0.000 -0.195754   0.000000 -0.816358   -1.634241   \n",
       "204       0.02   3.334096  0.000 -0.201511   3.030788 -0.816358   -1.634241   \n",
       "205       0.03   6.666667  0.125  0.546959   6.105554 -0.816358   -1.634241   \n",
       "206       0.04   9.999237  0.125  1.160130   9.142049 -0.816358   -1.634241   \n",
       "207       0.05  13.331807  0.250  1.730119  12.176708 -0.816358   -1.634241   \n",
       "\n",
       "     Error Sum / Ti  Td x Delta Err.  PID Output  \n",
       "203        0.001526         0.001526   -1.634241  \n",
       "204        0.001526         0.001526   -1.634241  \n",
       "205        0.001526         0.001526   -1.634241  \n",
       "206        0.001526         0.001526   -1.634241  \n",
       "207        0.001526         0.001526   -1.634241  "
      ]
     },
     "execution_count": 36,
     "metadata": {},
     "output_type": "execute_result"
    }
   ],
   "source": [
    "tc_raw[tc_raw.TimeStamp<1].head()"
   ]
  },
  {
   "cell_type": "code",
   "execution_count": 37,
   "metadata": {},
   "outputs": [
    {
     "data": {
      "text/html": [
       "<div>\n",
       "<style scoped>\n",
       "    .dataframe tbody tr th:only-of-type {\n",
       "        vertical-align: middle;\n",
       "    }\n",
       "\n",
       "    .dataframe tbody tr th {\n",
       "        vertical-align: top;\n",
       "    }\n",
       "\n",
       "    .dataframe thead th {\n",
       "        text-align: right;\n",
       "    }\n",
       "</style>\n",
       "<table border=\"1\" class=\"dataframe\">\n",
       "  <thead>\n",
       "    <tr style=\"text-align: right;\">\n",
       "      <th></th>\n",
       "      <th>TimeStamp</th>\n",
       "      <th>Reference</th>\n",
       "      <th>Speed</th>\n",
       "      <th>Current</th>\n",
       "      <th>Voltage</th>\n",
       "      <th>Error</th>\n",
       "      <th>Kp x Error</th>\n",
       "      <th>Error Sum / Ti</th>\n",
       "      <th>Td x Delta Err.</th>\n",
       "      <th>PID Output</th>\n",
       "    </tr>\n",
       "  </thead>\n",
       "  <tbody>\n",
       "    <tr>\n",
       "      <th>1002</th>\n",
       "      <td>8.0</td>\n",
       "      <td>0.001526</td>\n",
       "      <td>0.0</td>\n",
       "      <td>-0.189996</td>\n",
       "      <td>0.0</td>\n",
       "      <td>-0.816358</td>\n",
       "      <td>-1.634241</td>\n",
       "      <td>0.001526</td>\n",
       "      <td>0.001526</td>\n",
       "      <td>-1.634241</td>\n",
       "    </tr>\n",
       "  </tbody>\n",
       "</table>\n",
       "</div>"
      ],
      "text/plain": [
       "      TimeStamp  Reference  Speed   Current  Voltage     Error  Kp x Error  \\\n",
       "1002        8.0   0.001526    0.0 -0.189996      0.0 -0.816358   -1.634241   \n",
       "\n",
       "      Error Sum / Ti  Td x Delta Err.  PID Output  \n",
       "1002        0.001526         0.001526   -1.634241  "
      ]
     },
     "execution_count": 37,
     "metadata": {},
     "output_type": "execute_result"
    }
   ],
   "source": [
    "tc_raw[tc_raw.TimeStamp==8.0]"
   ]
  },
  {
   "cell_type": "code",
   "execution_count": 38,
   "metadata": {},
   "outputs": [
    {
     "data": {
      "text/html": [
       "<div>\n",
       "<style scoped>\n",
       "    .dataframe tbody tr th:only-of-type {\n",
       "        vertical-align: middle;\n",
       "    }\n",
       "\n",
       "    .dataframe tbody tr th {\n",
       "        vertical-align: top;\n",
       "    }\n",
       "\n",
       "    .dataframe thead th {\n",
       "        text-align: right;\n",
       "    }\n",
       "</style>\n",
       "<table border=\"1\" class=\"dataframe\">\n",
       "  <thead>\n",
       "    <tr style=\"text-align: right;\">\n",
       "      <th></th>\n",
       "      <th>TimeStamp</th>\n",
       "      <th>Reference</th>\n",
       "      <th>Speed</th>\n",
       "      <th>Current</th>\n",
       "      <th>Voltage</th>\n",
       "      <th>Error</th>\n",
       "      <th>Kp x Error</th>\n",
       "      <th>Error Sum / Ti</th>\n",
       "      <th>Td x Delta Err.</th>\n",
       "      <th>PID Output</th>\n",
       "    </tr>\n",
       "  </thead>\n",
       "  <tbody>\n",
       "    <tr>\n",
       "      <th>203</th>\n",
       "      <td>0.01</td>\n",
       "      <td>0.001526</td>\n",
       "      <td>0.000</td>\n",
       "      <td>-0.195754</td>\n",
       "      <td>0.000000</td>\n",
       "      <td>-0.816358</td>\n",
       "      <td>-1.634241</td>\n",
       "      <td>0.001526</td>\n",
       "      <td>0.001526</td>\n",
       "      <td>-1.634241</td>\n",
       "    </tr>\n",
       "    <tr>\n",
       "      <th>204</th>\n",
       "      <td>0.02</td>\n",
       "      <td>3.334096</td>\n",
       "      <td>0.000</td>\n",
       "      <td>-0.201511</td>\n",
       "      <td>3.030788</td>\n",
       "      <td>-0.816358</td>\n",
       "      <td>-1.634241</td>\n",
       "      <td>0.001526</td>\n",
       "      <td>0.001526</td>\n",
       "      <td>-1.634241</td>\n",
       "    </tr>\n",
       "    <tr>\n",
       "      <th>205</th>\n",
       "      <td>0.03</td>\n",
       "      <td>6.666667</td>\n",
       "      <td>0.125</td>\n",
       "      <td>0.546959</td>\n",
       "      <td>6.105554</td>\n",
       "      <td>-0.816358</td>\n",
       "      <td>-1.634241</td>\n",
       "      <td>0.001526</td>\n",
       "      <td>0.001526</td>\n",
       "      <td>-1.634241</td>\n",
       "    </tr>\n",
       "    <tr>\n",
       "      <th>206</th>\n",
       "      <td>0.04</td>\n",
       "      <td>9.999237</td>\n",
       "      <td>0.125</td>\n",
       "      <td>1.160130</td>\n",
       "      <td>9.142049</td>\n",
       "      <td>-0.816358</td>\n",
       "      <td>-1.634241</td>\n",
       "      <td>0.001526</td>\n",
       "      <td>0.001526</td>\n",
       "      <td>-1.634241</td>\n",
       "    </tr>\n",
       "    <tr>\n",
       "      <th>207</th>\n",
       "      <td>0.05</td>\n",
       "      <td>13.331807</td>\n",
       "      <td>0.250</td>\n",
       "      <td>1.730119</td>\n",
       "      <td>12.176708</td>\n",
       "      <td>-0.816358</td>\n",
       "      <td>-1.634241</td>\n",
       "      <td>0.001526</td>\n",
       "      <td>0.001526</td>\n",
       "      <td>-1.634241</td>\n",
       "    </tr>\n",
       "  </tbody>\n",
       "</table>\n",
       "</div>"
      ],
      "text/plain": [
       "     TimeStamp  Reference  Speed   Current    Voltage     Error  Kp x Error  \\\n",
       "203       0.01   0.001526  0.000 -0.195754   0.000000 -0.816358   -1.634241   \n",
       "204       0.02   3.334096  0.000 -0.201511   3.030788 -0.816358   -1.634241   \n",
       "205       0.03   6.666667  0.125  0.546959   6.105554 -0.816358   -1.634241   \n",
       "206       0.04   9.999237  0.125  1.160130   9.142049 -0.816358   -1.634241   \n",
       "207       0.05  13.331807  0.250  1.730119  12.176708 -0.816358   -1.634241   \n",
       "\n",
       "     Error Sum / Ti  Td x Delta Err.  PID Output  \n",
       "203        0.001526         0.001526   -1.634241  \n",
       "204        0.001526         0.001526   -1.634241  \n",
       "205        0.001526         0.001526   -1.634241  \n",
       "206        0.001526         0.001526   -1.634241  \n",
       "207        0.001526         0.001526   -1.634241  "
      ]
     },
     "execution_count": 38,
     "metadata": {},
     "output_type": "execute_result"
    }
   ],
   "source": [
    "tc_fil=tc_raw.loc[203:, :]\n",
    "tc_fil.head()"
   ]
  },
  {
   "cell_type": "code",
   "execution_count": 39,
   "metadata": {},
   "outputs": [],
   "source": [
    "tc_fil_3rd=tc_raw.copy().loc[1002:, :]"
   ]
  },
  {
   "cell_type": "code",
   "execution_count": 40,
   "metadata": {},
   "outputs": [
    {
     "data": {
      "text/html": [
       "<div>\n",
       "<style scoped>\n",
       "    .dataframe tbody tr th:only-of-type {\n",
       "        vertical-align: middle;\n",
       "    }\n",
       "\n",
       "    .dataframe tbody tr th {\n",
       "        vertical-align: top;\n",
       "    }\n",
       "\n",
       "    .dataframe thead th {\n",
       "        text-align: right;\n",
       "    }\n",
       "</style>\n",
       "<table border=\"1\" class=\"dataframe\">\n",
       "  <thead>\n",
       "    <tr style=\"text-align: right;\">\n",
       "      <th></th>\n",
       "      <th>TimeStamp</th>\n",
       "      <th>Reference</th>\n",
       "      <th>Speed</th>\n",
       "      <th>Current</th>\n",
       "      <th>Voltage</th>\n",
       "      <th>Error</th>\n",
       "      <th>Kp x Error</th>\n",
       "      <th>Error Sum / Ti</th>\n",
       "      <th>Td x Delta Err.</th>\n",
       "      <th>PID Output</th>\n",
       "    </tr>\n",
       "  </thead>\n",
       "  <tbody>\n",
       "    <tr>\n",
       "      <th>1002</th>\n",
       "      <td>8.00</td>\n",
       "      <td>0.001526</td>\n",
       "      <td>0.000</td>\n",
       "      <td>-0.189996</td>\n",
       "      <td>0.000000</td>\n",
       "      <td>-0.816358</td>\n",
       "      <td>-1.634241</td>\n",
       "      <td>0.001526</td>\n",
       "      <td>0.001526</td>\n",
       "      <td>-1.634241</td>\n",
       "    </tr>\n",
       "    <tr>\n",
       "      <th>1003</th>\n",
       "      <td>8.01</td>\n",
       "      <td>79.998474</td>\n",
       "      <td>0.000</td>\n",
       "      <td>0.195754</td>\n",
       "      <td>73.159647</td>\n",
       "      <td>-0.816358</td>\n",
       "      <td>-1.634241</td>\n",
       "      <td>0.001526</td>\n",
       "      <td>0.001526</td>\n",
       "      <td>-1.634241</td>\n",
       "    </tr>\n",
       "    <tr>\n",
       "      <th>1004</th>\n",
       "      <td>8.02</td>\n",
       "      <td>79.998474</td>\n",
       "      <td>4.000</td>\n",
       "      <td>28.528248</td>\n",
       "      <td>72.049318</td>\n",
       "      <td>-0.816358</td>\n",
       "      <td>-1.634241</td>\n",
       "      <td>0.001526</td>\n",
       "      <td>0.001526</td>\n",
       "      <td>-1.634241</td>\n",
       "    </tr>\n",
       "    <tr>\n",
       "      <th>1005</th>\n",
       "      <td>8.03</td>\n",
       "      <td>79.998474</td>\n",
       "      <td>14.375</td>\n",
       "      <td>28.528248</td>\n",
       "      <td>72.095824</td>\n",
       "      <td>-0.816358</td>\n",
       "      <td>-1.634241</td>\n",
       "      <td>0.001526</td>\n",
       "      <td>0.001526</td>\n",
       "      <td>-1.634241</td>\n",
       "    </tr>\n",
       "    <tr>\n",
       "      <th>1006</th>\n",
       "      <td>8.04</td>\n",
       "      <td>79.998474</td>\n",
       "      <td>24.000</td>\n",
       "      <td>28.528248</td>\n",
       "      <td>72.303647</td>\n",
       "      <td>-0.816358</td>\n",
       "      <td>-1.634241</td>\n",
       "      <td>0.001526</td>\n",
       "      <td>0.001526</td>\n",
       "      <td>-1.634241</td>\n",
       "    </tr>\n",
       "  </tbody>\n",
       "</table>\n",
       "</div>"
      ],
      "text/plain": [
       "      TimeStamp  Reference   Speed    Current    Voltage     Error  \\\n",
       "1002       8.00   0.001526   0.000  -0.189996   0.000000 -0.816358   \n",
       "1003       8.01  79.998474   0.000   0.195754  73.159647 -0.816358   \n",
       "1004       8.02  79.998474   4.000  28.528248  72.049318 -0.816358   \n",
       "1005       8.03  79.998474  14.375  28.528248  72.095824 -0.816358   \n",
       "1006       8.04  79.998474  24.000  28.528248  72.303647 -0.816358   \n",
       "\n",
       "      Kp x Error  Error Sum / Ti  Td x Delta Err.  PID Output  \n",
       "1002   -1.634241        0.001526         0.001526   -1.634241  \n",
       "1003   -1.634241        0.001526         0.001526   -1.634241  \n",
       "1004   -1.634241        0.001526         0.001526   -1.634241  \n",
       "1005   -1.634241        0.001526         0.001526   -1.634241  \n",
       "1006   -1.634241        0.001526         0.001526   -1.634241  "
      ]
     },
     "execution_count": 40,
     "metadata": {},
     "output_type": "execute_result"
    }
   ],
   "source": [
    "tc_fil_3rd.head()"
   ]
  },
  {
   "cell_type": "code",
   "execution_count": 41,
   "metadata": {},
   "outputs": [
    {
     "data": {
      "text/plain": [
       "79.0"
      ]
     },
     "execution_count": 41,
     "metadata": {},
     "output_type": "execute_result"
    }
   ],
   "source": [
    "tc_fil_3rd.Speed.max()"
   ]
  },
  {
   "cell_type": "code",
   "execution_count": 42,
   "metadata": {},
   "outputs": [
    {
     "name": "stderr",
     "output_type": "stream",
     "text": [
      "<ipython-input-42-c01ec97bdd52>:1: SettingWithCopyWarning: \n",
      "A value is trying to be set on a copy of a slice from a DataFrame.\n",
      "Try using .loc[row_indexer,col_indexer] = value instead\n",
      "\n",
      "See the caveats in the documentation: https://pandas.pydata.org/pandas-docs/stable/user_guide/indexing.html#returning-a-view-versus-a-copy\n",
      "  tc_fil[\"Speed\"]=tc_fil.Speed*np.pi\n"
     ]
    }
   ],
   "source": [
    "tc_fil[\"Speed\"]=tc_fil.Speed*np.pi"
   ]
  },
  {
   "cell_type": "code",
   "execution_count": 43,
   "metadata": {},
   "outputs": [
    {
     "data": {
      "text/html": [
       "<div>\n",
       "<style scoped>\n",
       "    .dataframe tbody tr th:only-of-type {\n",
       "        vertical-align: middle;\n",
       "    }\n",
       "\n",
       "    .dataframe tbody tr th {\n",
       "        vertical-align: top;\n",
       "    }\n",
       "\n",
       "    .dataframe thead th {\n",
       "        text-align: right;\n",
       "    }\n",
       "</style>\n",
       "<table border=\"1\" class=\"dataframe\">\n",
       "  <thead>\n",
       "    <tr style=\"text-align: right;\">\n",
       "      <th></th>\n",
       "      <th>TimeStamp</th>\n",
       "      <th>Reference</th>\n",
       "      <th>Speed</th>\n",
       "      <th>Current</th>\n",
       "      <th>Voltage</th>\n",
       "      <th>Error</th>\n",
       "      <th>Kp x Error</th>\n",
       "      <th>Error Sum / Ti</th>\n",
       "      <th>Td x Delta Err.</th>\n",
       "      <th>PID Output</th>\n",
       "    </tr>\n",
       "  </thead>\n",
       "  <tbody>\n",
       "    <tr>\n",
       "      <th>203</th>\n",
       "      <td>0.01</td>\n",
       "      <td>0.001526</td>\n",
       "      <td>0.000000</td>\n",
       "      <td>-0.195754</td>\n",
       "      <td>0.000000</td>\n",
       "      <td>-0.816358</td>\n",
       "      <td>-1.634241</td>\n",
       "      <td>0.001526</td>\n",
       "      <td>0.001526</td>\n",
       "      <td>-1.634241</td>\n",
       "    </tr>\n",
       "    <tr>\n",
       "      <th>204</th>\n",
       "      <td>0.02</td>\n",
       "      <td>3.334096</td>\n",
       "      <td>0.000000</td>\n",
       "      <td>-0.201511</td>\n",
       "      <td>3.030788</td>\n",
       "      <td>-0.816358</td>\n",
       "      <td>-1.634241</td>\n",
       "      <td>0.001526</td>\n",
       "      <td>0.001526</td>\n",
       "      <td>-1.634241</td>\n",
       "    </tr>\n",
       "    <tr>\n",
       "      <th>205</th>\n",
       "      <td>0.03</td>\n",
       "      <td>6.666667</td>\n",
       "      <td>0.392699</td>\n",
       "      <td>0.546959</td>\n",
       "      <td>6.105554</td>\n",
       "      <td>-0.816358</td>\n",
       "      <td>-1.634241</td>\n",
       "      <td>0.001526</td>\n",
       "      <td>0.001526</td>\n",
       "      <td>-1.634241</td>\n",
       "    </tr>\n",
       "    <tr>\n",
       "      <th>206</th>\n",
       "      <td>0.04</td>\n",
       "      <td>9.999237</td>\n",
       "      <td>0.392699</td>\n",
       "      <td>1.160130</td>\n",
       "      <td>9.142049</td>\n",
       "      <td>-0.816358</td>\n",
       "      <td>-1.634241</td>\n",
       "      <td>0.001526</td>\n",
       "      <td>0.001526</td>\n",
       "      <td>-1.634241</td>\n",
       "    </tr>\n",
       "    <tr>\n",
       "      <th>207</th>\n",
       "      <td>0.05</td>\n",
       "      <td>13.331807</td>\n",
       "      <td>0.785398</td>\n",
       "      <td>1.730119</td>\n",
       "      <td>12.176708</td>\n",
       "      <td>-0.816358</td>\n",
       "      <td>-1.634241</td>\n",
       "      <td>0.001526</td>\n",
       "      <td>0.001526</td>\n",
       "      <td>-1.634241</td>\n",
       "    </tr>\n",
       "  </tbody>\n",
       "</table>\n",
       "</div>"
      ],
      "text/plain": [
       "     TimeStamp  Reference     Speed   Current    Voltage     Error  \\\n",
       "203       0.01   0.001526  0.000000 -0.195754   0.000000 -0.816358   \n",
       "204       0.02   3.334096  0.000000 -0.201511   3.030788 -0.816358   \n",
       "205       0.03   6.666667  0.392699  0.546959   6.105554 -0.816358   \n",
       "206       0.04   9.999237  0.392699  1.160130   9.142049 -0.816358   \n",
       "207       0.05  13.331807  0.785398  1.730119  12.176708 -0.816358   \n",
       "\n",
       "     Kp x Error  Error Sum / Ti  Td x Delta Err.  PID Output  \n",
       "203   -1.634241        0.001526         0.001526   -1.634241  \n",
       "204   -1.634241        0.001526         0.001526   -1.634241  \n",
       "205   -1.634241        0.001526         0.001526   -1.634241  \n",
       "206   -1.634241        0.001526         0.001526   -1.634241  \n",
       "207   -1.634241        0.001526         0.001526   -1.634241  "
      ]
     },
     "execution_count": 43,
     "metadata": {},
     "output_type": "execute_result"
    }
   ],
   "source": [
    "tc_fil.head()"
   ]
  },
  {
   "cell_type": "code",
   "execution_count": 44,
   "metadata": {},
   "outputs": [
    {
     "data": {
      "text/plain": [
       "248.18581963359367"
      ]
     },
     "execution_count": 44,
     "metadata": {},
     "output_type": "execute_result"
    }
   ],
   "source": [
    "tc_fil.Speed.max()"
   ]
  },
  {
   "cell_type": "code",
   "execution_count": 45,
   "metadata": {},
   "outputs": [
    {
     "data": {
      "text/plain": [
       "79.0"
      ]
     },
     "execution_count": 45,
     "metadata": {},
     "output_type": "execute_result"
    }
   ],
   "source": [
    "tc_fil_3rd.Speed.max()"
   ]
  },
  {
   "cell_type": "code",
   "execution_count": 46,
   "metadata": {},
   "outputs": [],
   "source": [
    "tc_fil_3rd[\"Speed\"]=tc_fil_3rd.Speed*np.pi"
   ]
  },
  {
   "cell_type": "code",
   "execution_count": 47,
   "metadata": {},
   "outputs": [],
   "source": [
    "tc_fil_3rd.reset_index(drop=True, inplace=True)"
   ]
  },
  {
   "cell_type": "code",
   "execution_count": 48,
   "metadata": {},
   "outputs": [
    {
     "data": {
      "text/html": [
       "<div>\n",
       "<style scoped>\n",
       "    .dataframe tbody tr th:only-of-type {\n",
       "        vertical-align: middle;\n",
       "    }\n",
       "\n",
       "    .dataframe tbody tr th {\n",
       "        vertical-align: top;\n",
       "    }\n",
       "\n",
       "    .dataframe thead th {\n",
       "        text-align: right;\n",
       "    }\n",
       "</style>\n",
       "<table border=\"1\" class=\"dataframe\">\n",
       "  <thead>\n",
       "    <tr style=\"text-align: right;\">\n",
       "      <th></th>\n",
       "      <th>TimeStamp</th>\n",
       "      <th>Reference</th>\n",
       "      <th>Speed</th>\n",
       "      <th>Current</th>\n",
       "      <th>Voltage</th>\n",
       "      <th>Error</th>\n",
       "      <th>Kp x Error</th>\n",
       "      <th>Error Sum / Ti</th>\n",
       "      <th>Td x Delta Err.</th>\n",
       "      <th>PID Output</th>\n",
       "    </tr>\n",
       "  </thead>\n",
       "  <tbody>\n",
       "    <tr>\n",
       "      <th>0</th>\n",
       "      <td>8.00</td>\n",
       "      <td>0.001526</td>\n",
       "      <td>0.000000</td>\n",
       "      <td>-0.189996</td>\n",
       "      <td>0.000000</td>\n",
       "      <td>-0.816358</td>\n",
       "      <td>-1.634241</td>\n",
       "      <td>0.001526</td>\n",
       "      <td>0.001526</td>\n",
       "      <td>-1.634241</td>\n",
       "    </tr>\n",
       "    <tr>\n",
       "      <th>1</th>\n",
       "      <td>8.01</td>\n",
       "      <td>79.998474</td>\n",
       "      <td>0.000000</td>\n",
       "      <td>0.195754</td>\n",
       "      <td>73.159647</td>\n",
       "      <td>-0.816358</td>\n",
       "      <td>-1.634241</td>\n",
       "      <td>0.001526</td>\n",
       "      <td>0.001526</td>\n",
       "      <td>-1.634241</td>\n",
       "    </tr>\n",
       "    <tr>\n",
       "      <th>2</th>\n",
       "      <td>8.02</td>\n",
       "      <td>79.998474</td>\n",
       "      <td>12.566371</td>\n",
       "      <td>28.528248</td>\n",
       "      <td>72.049318</td>\n",
       "      <td>-0.816358</td>\n",
       "      <td>-1.634241</td>\n",
       "      <td>0.001526</td>\n",
       "      <td>0.001526</td>\n",
       "      <td>-1.634241</td>\n",
       "    </tr>\n",
       "    <tr>\n",
       "      <th>3</th>\n",
       "      <td>8.03</td>\n",
       "      <td>79.998474</td>\n",
       "      <td>45.160394</td>\n",
       "      <td>28.528248</td>\n",
       "      <td>72.095824</td>\n",
       "      <td>-0.816358</td>\n",
       "      <td>-1.634241</td>\n",
       "      <td>0.001526</td>\n",
       "      <td>0.001526</td>\n",
       "      <td>-1.634241</td>\n",
       "    </tr>\n",
       "    <tr>\n",
       "      <th>4</th>\n",
       "      <td>8.04</td>\n",
       "      <td>79.998474</td>\n",
       "      <td>75.398224</td>\n",
       "      <td>28.528248</td>\n",
       "      <td>72.303647</td>\n",
       "      <td>-0.816358</td>\n",
       "      <td>-1.634241</td>\n",
       "      <td>0.001526</td>\n",
       "      <td>0.001526</td>\n",
       "      <td>-1.634241</td>\n",
       "    </tr>\n",
       "  </tbody>\n",
       "</table>\n",
       "</div>"
      ],
      "text/plain": [
       "   TimeStamp  Reference      Speed    Current    Voltage     Error  \\\n",
       "0       8.00   0.001526   0.000000  -0.189996   0.000000 -0.816358   \n",
       "1       8.01  79.998474   0.000000   0.195754  73.159647 -0.816358   \n",
       "2       8.02  79.998474  12.566371  28.528248  72.049318 -0.816358   \n",
       "3       8.03  79.998474  45.160394  28.528248  72.095824 -0.816358   \n",
       "4       8.04  79.998474  75.398224  28.528248  72.303647 -0.816358   \n",
       "\n",
       "   Kp x Error  Error Sum / Ti  Td x Delta Err.  PID Output  \n",
       "0   -1.634241        0.001526         0.001526   -1.634241  \n",
       "1   -1.634241        0.001526         0.001526   -1.634241  \n",
       "2   -1.634241        0.001526         0.001526   -1.634241  \n",
       "3   -1.634241        0.001526         0.001526   -1.634241  \n",
       "4   -1.634241        0.001526         0.001526   -1.634241  "
      ]
     },
     "execution_count": 48,
     "metadata": {},
     "output_type": "execute_result"
    }
   ],
   "source": [
    "tc_fil_3rd.head()"
   ]
  },
  {
   "cell_type": "code",
   "execution_count": 49,
   "metadata": {},
   "outputs": [
    {
     "data": {
      "text/html": [
       "<div>\n",
       "<style scoped>\n",
       "    .dataframe tbody tr th:only-of-type {\n",
       "        vertical-align: middle;\n",
       "    }\n",
       "\n",
       "    .dataframe tbody tr th {\n",
       "        vertical-align: top;\n",
       "    }\n",
       "\n",
       "    .dataframe thead th {\n",
       "        text-align: right;\n",
       "    }\n",
       "</style>\n",
       "<table border=\"1\" class=\"dataframe\">\n",
       "  <thead>\n",
       "    <tr style=\"text-align: right;\">\n",
       "      <th></th>\n",
       "      <th>TimeStamp</th>\n",
       "      <th>Reference</th>\n",
       "      <th>Speed</th>\n",
       "      <th>Current</th>\n",
       "      <th>Voltage</th>\n",
       "      <th>Error</th>\n",
       "      <th>Kp x Error</th>\n",
       "      <th>Error Sum / Ti</th>\n",
       "      <th>Td x Delta Err.</th>\n",
       "      <th>PID Output</th>\n",
       "      <th>TimeShift</th>\n",
       "    </tr>\n",
       "  </thead>\n",
       "  <tbody>\n",
       "    <tr>\n",
       "      <th>0</th>\n",
       "      <td>8.00</td>\n",
       "      <td>0.001526</td>\n",
       "      <td>0.000000</td>\n",
       "      <td>-0.189996</td>\n",
       "      <td>0.000000</td>\n",
       "      <td>-0.816358</td>\n",
       "      <td>-1.634241</td>\n",
       "      <td>0.001526</td>\n",
       "      <td>0.001526</td>\n",
       "      <td>-1.634241</td>\n",
       "      <td>0.00</td>\n",
       "    </tr>\n",
       "    <tr>\n",
       "      <th>1</th>\n",
       "      <td>8.01</td>\n",
       "      <td>79.998474</td>\n",
       "      <td>0.000000</td>\n",
       "      <td>0.195754</td>\n",
       "      <td>73.159647</td>\n",
       "      <td>-0.816358</td>\n",
       "      <td>-1.634241</td>\n",
       "      <td>0.001526</td>\n",
       "      <td>0.001526</td>\n",
       "      <td>-1.634241</td>\n",
       "      <td>0.01</td>\n",
       "    </tr>\n",
       "    <tr>\n",
       "      <th>2</th>\n",
       "      <td>8.02</td>\n",
       "      <td>79.998474</td>\n",
       "      <td>12.566371</td>\n",
       "      <td>28.528248</td>\n",
       "      <td>72.049318</td>\n",
       "      <td>-0.816358</td>\n",
       "      <td>-1.634241</td>\n",
       "      <td>0.001526</td>\n",
       "      <td>0.001526</td>\n",
       "      <td>-1.634241</td>\n",
       "      <td>0.02</td>\n",
       "    </tr>\n",
       "    <tr>\n",
       "      <th>3</th>\n",
       "      <td>8.03</td>\n",
       "      <td>79.998474</td>\n",
       "      <td>45.160394</td>\n",
       "      <td>28.528248</td>\n",
       "      <td>72.095824</td>\n",
       "      <td>-0.816358</td>\n",
       "      <td>-1.634241</td>\n",
       "      <td>0.001526</td>\n",
       "      <td>0.001526</td>\n",
       "      <td>-1.634241</td>\n",
       "      <td>0.03</td>\n",
       "    </tr>\n",
       "    <tr>\n",
       "      <th>4</th>\n",
       "      <td>8.04</td>\n",
       "      <td>79.998474</td>\n",
       "      <td>75.398224</td>\n",
       "      <td>28.528248</td>\n",
       "      <td>72.303647</td>\n",
       "      <td>-0.816358</td>\n",
       "      <td>-1.634241</td>\n",
       "      <td>0.001526</td>\n",
       "      <td>0.001526</td>\n",
       "      <td>-1.634241</td>\n",
       "      <td>0.04</td>\n",
       "    </tr>\n",
       "  </tbody>\n",
       "</table>\n",
       "</div>"
      ],
      "text/plain": [
       "   TimeStamp  Reference      Speed    Current    Voltage     Error  \\\n",
       "0       8.00   0.001526   0.000000  -0.189996   0.000000 -0.816358   \n",
       "1       8.01  79.998474   0.000000   0.195754  73.159647 -0.816358   \n",
       "2       8.02  79.998474  12.566371  28.528248  72.049318 -0.816358   \n",
       "3       8.03  79.998474  45.160394  28.528248  72.095824 -0.816358   \n",
       "4       8.04  79.998474  75.398224  28.528248  72.303647 -0.816358   \n",
       "\n",
       "   Kp x Error  Error Sum / Ti  Td x Delta Err.  PID Output  TimeShift  \n",
       "0   -1.634241        0.001526         0.001526   -1.634241       0.00  \n",
       "1   -1.634241        0.001526         0.001526   -1.634241       0.01  \n",
       "2   -1.634241        0.001526         0.001526   -1.634241       0.02  \n",
       "3   -1.634241        0.001526         0.001526   -1.634241       0.03  \n",
       "4   -1.634241        0.001526         0.001526   -1.634241       0.04  "
      ]
     },
     "execution_count": 49,
     "metadata": {},
     "output_type": "execute_result"
    }
   ],
   "source": [
    "tc_fil_3rd[\"TimeShift\"]=tc_fil_3rd.TimeStamp-tc_fil_3rd.TimeStamp[0]\n",
    "tc_fil_3rd.head()\n",
    "#tc_fil.TimeStamp[0]"
   ]
  },
  {
   "cell_type": "code",
   "execution_count": 50,
   "metadata": {},
   "outputs": [
    {
     "data": {
      "text/plain": [
       "248.18581963359367"
      ]
     },
     "execution_count": 50,
     "metadata": {},
     "output_type": "execute_result"
    }
   ],
   "source": [
    "tc_fil_3rd.Speed.max()"
   ]
  },
  {
   "cell_type": "code",
   "execution_count": 110,
   "metadata": {},
   "outputs": [
    {
     "data": {
      "text/html": [
       "<div>\n",
       "<style scoped>\n",
       "    .dataframe tbody tr th:only-of-type {\n",
       "        vertical-align: middle;\n",
       "    }\n",
       "\n",
       "    .dataframe tbody tr th {\n",
       "        vertical-align: top;\n",
       "    }\n",
       "\n",
       "    .dataframe thead th {\n",
       "        text-align: right;\n",
       "    }\n",
       "</style>\n",
       "<table border=\"1\" class=\"dataframe\">\n",
       "  <thead>\n",
       "    <tr style=\"text-align: right;\">\n",
       "      <th></th>\n",
       "      <th>TimeStamp</th>\n",
       "      <th>Reference</th>\n",
       "      <th>Speed</th>\n",
       "      <th>Current</th>\n",
       "      <th>Voltage</th>\n",
       "      <th>Error</th>\n",
       "      <th>Kp x Error</th>\n",
       "      <th>Error Sum / Ti</th>\n",
       "      <th>Td x Delta Err.</th>\n",
       "      <th>PID Output</th>\n",
       "    </tr>\n",
       "  </thead>\n",
       "  <tbody>\n",
       "    <tr>\n",
       "      <th>1259</th>\n",
       "      <td>10.57</td>\n",
       "      <td>0.001526</td>\n",
       "      <td>-0.392699</td>\n",
       "      <td>-0.195754</td>\n",
       "      <td>0.0</td>\n",
       "      <td>-0.816358</td>\n",
       "      <td>-1.634241</td>\n",
       "      <td>0.001526</td>\n",
       "      <td>0.001526</td>\n",
       "      <td>-1.634241</td>\n",
       "    </tr>\n",
       "    <tr>\n",
       "      <th>1260</th>\n",
       "      <td>10.58</td>\n",
       "      <td>0.001526</td>\n",
       "      <td>-0.392699</td>\n",
       "      <td>-0.189996</td>\n",
       "      <td>0.0</td>\n",
       "      <td>-0.816358</td>\n",
       "      <td>-1.634241</td>\n",
       "      <td>0.001526</td>\n",
       "      <td>0.001526</td>\n",
       "      <td>-1.634241</td>\n",
       "    </tr>\n",
       "    <tr>\n",
       "      <th>1261</th>\n",
       "      <td>10.59</td>\n",
       "      <td>0.001526</td>\n",
       "      <td>-0.392699</td>\n",
       "      <td>-0.169845</td>\n",
       "      <td>0.0</td>\n",
       "      <td>-0.816358</td>\n",
       "      <td>-1.634241</td>\n",
       "      <td>0.001526</td>\n",
       "      <td>0.001526</td>\n",
       "      <td>-1.634241</td>\n",
       "    </tr>\n",
       "    <tr>\n",
       "      <th>1263</th>\n",
       "      <td>10.61</td>\n",
       "      <td>0.001526</td>\n",
       "      <td>-0.392699</td>\n",
       "      <td>-0.189996</td>\n",
       "      <td>0.0</td>\n",
       "      <td>-0.816358</td>\n",
       "      <td>-1.634241</td>\n",
       "      <td>0.001526</td>\n",
       "      <td>0.001526</td>\n",
       "      <td>-1.634241</td>\n",
       "    </tr>\n",
       "    <tr>\n",
       "      <th>1264</th>\n",
       "      <td>10.62</td>\n",
       "      <td>0.001526</td>\n",
       "      <td>-0.392699</td>\n",
       "      <td>-0.184239</td>\n",
       "      <td>0.0</td>\n",
       "      <td>-0.816358</td>\n",
       "      <td>-1.634241</td>\n",
       "      <td>0.001526</td>\n",
       "      <td>0.001526</td>\n",
       "      <td>-1.634241</td>\n",
       "    </tr>\n",
       "  </tbody>\n",
       "</table>\n",
       "</div>"
      ],
      "text/plain": [
       "      TimeStamp  Reference     Speed   Current  Voltage     Error  Kp x Error  \\\n",
       "1259      10.57   0.001526 -0.392699 -0.195754      0.0 -0.816358   -1.634241   \n",
       "1260      10.58   0.001526 -0.392699 -0.189996      0.0 -0.816358   -1.634241   \n",
       "1261      10.59   0.001526 -0.392699 -0.169845      0.0 -0.816358   -1.634241   \n",
       "1263      10.61   0.001526 -0.392699 -0.189996      0.0 -0.816358   -1.634241   \n",
       "1264      10.62   0.001526 -0.392699 -0.184239      0.0 -0.816358   -1.634241   \n",
       "\n",
       "      Error Sum / Ti  Td x Delta Err.  PID Output  \n",
       "1259        0.001526         0.001526   -1.634241  \n",
       "1260        0.001526         0.001526   -1.634241  \n",
       "1261        0.001526         0.001526   -1.634241  \n",
       "1263        0.001526         0.001526   -1.634241  \n",
       "1264        0.001526         0.001526   -1.634241  "
      ]
     },
     "execution_count": 110,
     "metadata": {},
     "output_type": "execute_result"
    }
   ],
   "source": [
    "tc_fil2=tc_fil[~((tc_fil.TimeStamp>=10) & (tc_fil.Speed==0.0))]\n",
    "tc_fil2.tail()"
   ]
  },
  {
   "cell_type": "code",
   "execution_count": 113,
   "metadata": {},
   "outputs": [
    {
     "name": "stderr",
     "output_type": "stream",
     "text": [
      "<ipython-input-113-5d59204f779d>:1: SettingWithCopyWarning: \n",
      "A value is trying to be set on a copy of a slice from a DataFrame.\n",
      "Try using .loc[row_indexer,col_indexer] = value instead\n",
      "\n",
      "See the caveats in the documentation: https://pandas.pydata.org/pandas-docs/stable/user_guide/indexing.html#returning-a-view-versus-a-copy\n",
      "  tc_fil2[\"Voltage_Mul\"]=tc_fil2.Voltage*0.48\n"
     ]
    }
   ],
   "source": [
    "tc_fil2[\"Voltage_Mul\"]=tc_fil2.Voltage*0.48"
   ]
  },
  {
   "cell_type": "code",
   "execution_count": 114,
   "metadata": {},
   "outputs": [
    {
     "data": {
      "text/plain": [
       "35.394270719999994"
      ]
     },
     "execution_count": 114,
     "metadata": {},
     "output_type": "execute_result"
    }
   ],
   "source": [
    "tc_fil2.Voltage_Mul.max()"
   ]
  },
  {
   "cell_type": "code",
   "execution_count": 116,
   "metadata": {},
   "outputs": [
    {
     "data": {
      "text/plain": [
       "73.738064"
      ]
     },
     "execution_count": 116,
     "metadata": {},
     "output_type": "execute_result"
    }
   ],
   "source": [
    "tc_fil2.Voltage.max()"
   ]
  },
  {
   "cell_type": "code",
   "execution_count": 126,
   "metadata": {},
   "outputs": [
    {
     "data": {
      "text/plain": [
       "[<matplotlib.lines.Line2D at 0x54e6d90>]"
      ]
     },
     "execution_count": 126,
     "metadata": {},
     "output_type": "execute_result"
    },
    {
     "data": {
      "image/png": "[encoded data removed]",
      "text/plain": [
       "<Figure size 432x288 with 1 Axes>"
      ]
     },
     "metadata": {
      "needs_background": "light"
     },
     "output_type": "display_data"
    }
   ],
   "source": [
    "# plt.plot(tc_fil.TimeStamp, tc_fil.Speed)\n",
    "# plt.plot(tc_fil.TimeStamp, tc_fil.Voltage*0.48)\n",
    "\n",
    "plt.plot(tc_fil2.TimeStamp, tc_fil2.Speed)\n",
    "plt.plot(tc_fil2.TimeStamp, tc_fil2.Voltage_Mul)"
   ]
  },
  {
   "cell_type": "markdown",
   "metadata": {},
   "source": [
    "### One cycle"
   ]
  },
  {
   "cell_type": "code",
   "execution_count": 70,
   "metadata": {},
   "outputs": [],
   "source": [
    "freq=0.25\n",
    "period=1/freq\n",
    "tc_fil_one=tc_fil_3rd[tc_fil_3rd.TimeShift<=period/2]"
   ]
  },
  {
   "cell_type": "code",
   "execution_count": 71,
   "metadata": {},
   "outputs": [
    {
     "data": {
      "text/html": [
       "<div>\n",
       "<style scoped>\n",
       "    .dataframe tbody tr th:only-of-type {\n",
       "        vertical-align: middle;\n",
       "    }\n",
       "\n",
       "    .dataframe tbody tr th {\n",
       "        vertical-align: top;\n",
       "    }\n",
       "\n",
       "    .dataframe thead th {\n",
       "        text-align: right;\n",
       "    }\n",
       "</style>\n",
       "<table border=\"1\" class=\"dataframe\">\n",
       "  <thead>\n",
       "    <tr style=\"text-align: right;\">\n",
       "      <th></th>\n",
       "      <th>TimeStamp</th>\n",
       "      <th>Reference</th>\n",
       "      <th>Speed</th>\n",
       "      <th>Current</th>\n",
       "      <th>Voltage</th>\n",
       "      <th>Error</th>\n",
       "      <th>Kp x Error</th>\n",
       "      <th>Error Sum / Ti</th>\n",
       "      <th>Td x Delta Err.</th>\n",
       "      <th>PID Output</th>\n",
       "      <th>TimeShift</th>\n",
       "    </tr>\n",
       "  </thead>\n",
       "  <tbody>\n",
       "    <tr>\n",
       "      <th>0</th>\n",
       "      <td>8.00</td>\n",
       "      <td>0.001526</td>\n",
       "      <td>0.000000</td>\n",
       "      <td>-0.189996</td>\n",
       "      <td>0.000000</td>\n",
       "      <td>-0.816358</td>\n",
       "      <td>-1.634241</td>\n",
       "      <td>0.001526</td>\n",
       "      <td>0.001526</td>\n",
       "      <td>-1.634241</td>\n",
       "      <td>0.00</td>\n",
       "    </tr>\n",
       "    <tr>\n",
       "      <th>1</th>\n",
       "      <td>8.01</td>\n",
       "      <td>79.998474</td>\n",
       "      <td>0.000000</td>\n",
       "      <td>0.195754</td>\n",
       "      <td>73.159647</td>\n",
       "      <td>-0.816358</td>\n",
       "      <td>-1.634241</td>\n",
       "      <td>0.001526</td>\n",
       "      <td>0.001526</td>\n",
       "      <td>-1.634241</td>\n",
       "      <td>0.01</td>\n",
       "    </tr>\n",
       "    <tr>\n",
       "      <th>2</th>\n",
       "      <td>8.02</td>\n",
       "      <td>79.998474</td>\n",
       "      <td>12.566371</td>\n",
       "      <td>28.528248</td>\n",
       "      <td>72.049318</td>\n",
       "      <td>-0.816358</td>\n",
       "      <td>-1.634241</td>\n",
       "      <td>0.001526</td>\n",
       "      <td>0.001526</td>\n",
       "      <td>-1.634241</td>\n",
       "      <td>0.02</td>\n",
       "    </tr>\n",
       "    <tr>\n",
       "      <th>3</th>\n",
       "      <td>8.03</td>\n",
       "      <td>79.998474</td>\n",
       "      <td>45.160394</td>\n",
       "      <td>28.528248</td>\n",
       "      <td>72.095824</td>\n",
       "      <td>-0.816358</td>\n",
       "      <td>-1.634241</td>\n",
       "      <td>0.001526</td>\n",
       "      <td>0.001526</td>\n",
       "      <td>-1.634241</td>\n",
       "      <td>0.03</td>\n",
       "    </tr>\n",
       "    <tr>\n",
       "      <th>4</th>\n",
       "      <td>8.04</td>\n",
       "      <td>79.998474</td>\n",
       "      <td>75.398224</td>\n",
       "      <td>28.528248</td>\n",
       "      <td>72.303647</td>\n",
       "      <td>-0.816358</td>\n",
       "      <td>-1.634241</td>\n",
       "      <td>0.001526</td>\n",
       "      <td>0.001526</td>\n",
       "      <td>-1.634241</td>\n",
       "      <td>0.04</td>\n",
       "    </tr>\n",
       "  </tbody>\n",
       "</table>\n",
       "</div>"
      ],
      "text/plain": [
       "   TimeStamp  Reference      Speed    Current    Voltage     Error  \\\n",
       "0       8.00   0.001526   0.000000  -0.189996   0.000000 -0.816358   \n",
       "1       8.01  79.998474   0.000000   0.195754  73.159647 -0.816358   \n",
       "2       8.02  79.998474  12.566371  28.528248  72.049318 -0.816358   \n",
       "3       8.03  79.998474  45.160394  28.528248  72.095824 -0.816358   \n",
       "4       8.04  79.998474  75.398224  28.528248  72.303647 -0.816358   \n",
       "\n",
       "   Kp x Error  Error Sum / Ti  Td x Delta Err.  PID Output  TimeShift  \n",
       "0   -1.634241        0.001526         0.001526   -1.634241       0.00  \n",
       "1   -1.634241        0.001526         0.001526   -1.634241       0.01  \n",
       "2   -1.634241        0.001526         0.001526   -1.634241       0.02  \n",
       "3   -1.634241        0.001526         0.001526   -1.634241       0.03  \n",
       "4   -1.634241        0.001526         0.001526   -1.634241       0.04  "
      ]
     },
     "execution_count": 71,
     "metadata": {},
     "output_type": "execute_result"
    }
   ],
   "source": [
    "tc_fil_one.head()"
   ]
  },
  {
   "cell_type": "code",
   "execution_count": 123,
   "metadata": {
    "scrolled": true
   },
   "outputs": [
    {
     "data": {
      "text/plain": [
       "<matplotlib.legend.Legend at 0x198c640>"
      ]
     },
     "execution_count": 123,
     "metadata": {},
     "output_type": "execute_result"
    },
    {
     "data": {
      "image/png": "[encoded data removed]",
      "text/plain": [
       "<Figure size 432x288 with 1 Axes>"
      ]
     },
     "metadata": {
      "needs_background": "light"
     },
     "output_type": "display_data"
    }
   ],
   "source": [
    "t=np.arange(0, 2, 0.01)\n",
    "E=35.394\n",
    "k_s=5.86\n",
    "tau=0.036\n",
    "first_order=E*k_s*(1-np.exp(-t/tau))\n",
    "plt.plot(tc_fil_one.TimeShift, tc_fil_one.Speed, label=\"Second Order\")\n",
    "plt.plot(t, first_order, label=\"First order\")\n",
    "plt.legend(frameon=False)"
   ]
  },
  {
   "cell_type": "code",
   "execution_count": 124,
   "metadata": {},
   "outputs": [
    {
     "data": {
      "text/plain": [
       "207.40884"
      ]
     },
     "execution_count": 124,
     "metadata": {},
     "output_type": "execute_result"
    }
   ],
   "source": [
    "first_order.max()"
   ]
  },
  {
   "cell_type": "code",
   "execution_count": 73,
   "metadata": {},
   "outputs": [
    {
     "data": {
      "text/plain": [
       "156.8534380084312"
      ]
     },
     "execution_count": 73,
     "metadata": {},
     "output_type": "execute_result"
    }
   ],
   "source": [
    "steady_state=tc_fil_one.Speed.max()\n",
    "amp_tcon=0.632*steady_state\n",
    "amp_tcon"
   ]
  },
  {
   "cell_type": "code",
   "execution_count": 127,
   "metadata": {},
   "outputs": [
    {
     "data": {
      "text/plain": [
       "248.18581963359367"
      ]
     },
     "execution_count": 127,
     "metadata": {},
     "output_type": "execute_result"
    }
   ],
   "source": [
    "steady_state"
   ]
  },
  {
   "cell_type": "code",
   "execution_count": 82,
   "metadata": {},
   "outputs": [
    {
     "data": {
      "text/html": [
       "<div>\n",
       "<style scoped>\n",
       "    .dataframe tbody tr th:only-of-type {\n",
       "        vertical-align: middle;\n",
       "    }\n",
       "\n",
       "    .dataframe tbody tr th {\n",
       "        vertical-align: top;\n",
       "    }\n",
       "\n",
       "    .dataframe thead th {\n",
       "        text-align: right;\n",
       "    }\n",
       "</style>\n",
       "<table border=\"1\" class=\"dataframe\">\n",
       "  <thead>\n",
       "    <tr style=\"text-align: right;\">\n",
       "      <th></th>\n",
       "      <th>TimeStamp</th>\n",
       "      <th>Reference</th>\n",
       "      <th>Speed</th>\n",
       "      <th>Current</th>\n",
       "      <th>Voltage</th>\n",
       "      <th>Error</th>\n",
       "      <th>Kp x Error</th>\n",
       "      <th>Error Sum / Ti</th>\n",
       "      <th>Td x Delta Err.</th>\n",
       "      <th>PID Output</th>\n",
       "      <th>TimeShift</th>\n",
       "    </tr>\n",
       "  </thead>\n",
       "  <tbody>\n",
       "    <tr>\n",
       "      <th>94</th>\n",
       "      <td>8.94</td>\n",
       "      <td>79.998474</td>\n",
       "      <td>248.18582</td>\n",
       "      <td>1.044980</td>\n",
       "      <td>73.113141</td>\n",
       "      <td>-0.816358</td>\n",
       "      <td>-1.634241</td>\n",
       "      <td>0.001526</td>\n",
       "      <td>0.001526</td>\n",
       "      <td>-1.634241</td>\n",
       "      <td>0.94</td>\n",
       "    </tr>\n",
       "    <tr>\n",
       "      <th>99</th>\n",
       "      <td>8.99</td>\n",
       "      <td>79.998474</td>\n",
       "      <td>248.18582</td>\n",
       "      <td>1.016193</td>\n",
       "      <td>73.182900</td>\n",
       "      <td>-0.816358</td>\n",
       "      <td>-1.634241</td>\n",
       "      <td>0.001526</td>\n",
       "      <td>0.001526</td>\n",
       "      <td>-1.634241</td>\n",
       "      <td>0.99</td>\n",
       "    </tr>\n",
       "    <tr>\n",
       "      <th>127</th>\n",
       "      <td>9.27</td>\n",
       "      <td>79.998474</td>\n",
       "      <td>248.18582</td>\n",
       "      <td>1.016193</td>\n",
       "      <td>73.113141</td>\n",
       "      <td>-0.816358</td>\n",
       "      <td>-1.634241</td>\n",
       "      <td>0.001526</td>\n",
       "      <td>0.001526</td>\n",
       "      <td>-1.634241</td>\n",
       "      <td>1.27</td>\n",
       "    </tr>\n",
       "    <tr>\n",
       "      <th>132</th>\n",
       "      <td>9.32</td>\n",
       "      <td>79.998474</td>\n",
       "      <td>248.18582</td>\n",
       "      <td>1.030587</td>\n",
       "      <td>73.182900</td>\n",
       "      <td>-0.816358</td>\n",
       "      <td>-1.634241</td>\n",
       "      <td>0.001526</td>\n",
       "      <td>0.001526</td>\n",
       "      <td>-1.634241</td>\n",
       "      <td>1.32</td>\n",
       "    </tr>\n",
       "  </tbody>\n",
       "</table>\n",
       "</div>"
      ],
      "text/plain": [
       "     TimeStamp  Reference      Speed   Current    Voltage     Error  \\\n",
       "94        8.94  79.998474  248.18582  1.044980  73.113141 -0.816358   \n",
       "99        8.99  79.998474  248.18582  1.016193  73.182900 -0.816358   \n",
       "127       9.27  79.998474  248.18582  1.016193  73.113141 -0.816358   \n",
       "132       9.32  79.998474  248.18582  1.030587  73.182900 -0.816358   \n",
       "\n",
       "     Kp x Error  Error Sum / Ti  Td x Delta Err.  PID Output  TimeShift  \n",
       "94    -1.634241        0.001526         0.001526   -1.634241       0.94  \n",
       "99    -1.634241        0.001526         0.001526   -1.634241       0.99  \n",
       "127   -1.634241        0.001526         0.001526   -1.634241       1.27  \n",
       "132   -1.634241        0.001526         0.001526   -1.634241       1.32  "
      ]
     },
     "execution_count": 82,
     "metadata": {},
     "output_type": "execute_result"
    }
   ],
   "source": [
    "tc_fil_one[tc_fil_one.Speed>=steady_state]"
   ]
  },
  {
   "cell_type": "code",
   "execution_count": 133,
   "metadata": {},
   "outputs": [],
   "source": [
    "tc_fil_one.to_csv(\"exp3part1.csv\", index=False)"
   ]
  },
  {
   "cell_type": "markdown",
   "metadata": {},
   "source": [
    "### Interpolation"
   ]
  },
  {
   "cell_type": "code",
   "execution_count": 75,
   "metadata": {},
   "outputs": [
    {
     "data": {
      "text/plain": [
       "True"
      ]
     },
     "execution_count": 75,
     "metadata": {},
     "output_type": "execute_result"
    }
   ],
   "source": [
    "np.all(np.diff(tc_fil_one.TimeStamp) > 0)"
   ]
  },
  {
   "cell_type": "code",
   "execution_count": 76,
   "metadata": {},
   "outputs": [
    {
     "data": {
      "text/plain": [
       "False"
      ]
     },
     "execution_count": 76,
     "metadata": {},
     "output_type": "execute_result"
    }
   ],
   "source": [
    "np.all(np.diff(tc_fil_one.Speed) > 0)"
   ]
  },
  {
   "cell_type": "code",
   "execution_count": 77,
   "metadata": {},
   "outputs": [
    {
     "data": {
      "text/plain": [
       "0.08400923076923075"
      ]
     },
     "execution_count": 77,
     "metadata": {},
     "output_type": "execute_result"
    }
   ],
   "source": [
    "t_cons=np.interp(amp_tcon, tc_fil_one.Speed, tc_fil_one.TimeShift)\n",
    "t_cons"
   ]
  },
  {
   "cell_type": "code",
   "execution_count": 130,
   "metadata": {},
   "outputs": [
    {
     "data": {
      "text/plain": [
       "72.59987432861539"
      ]
     },
     "execution_count": 130,
     "metadata": {},
     "output_type": "execute_result"
    }
   ],
   "source": [
    "np.interp(t_cons, tc_fil_one.TimeShift, tc_fil_one.Voltage)"
   ]
  },
  {
   "cell_type": "code",
   "execution_count": 107,
   "metadata": {},
   "outputs": [
    {
     "data": {
      "image/png": "[encoded data removed]",
      "text/plain": [
       "<Figure size 1080x504 with 1 Axes>"
      ]
     },
     "metadata": {
      "needs_background": "light"
     },
     "output_type": "display_data"
    }
   ],
   "source": [
    "fig, ax=plt.subplots(figsize=(15,7))\n",
    "font = {'family': 'JetBrains Mono',\n",
    "        'color':  'black',\n",
    "        'weight': 'normal',\n",
    "        'size': 15,\n",
    "        }\n",
    "\n",
    "ax.plot(tc_fil_one.TimeShift, tc_fil_one.Speed, color=\"red\", linewidth=1.5)\n",
    "#ax.set_xlim(0, 0.85)\n",
    "\n",
    "plt.axhline(y=steady_state, linestyle=\"--\", color=\"grey\")\n",
    "# ax.fill_between(tc_fil_one.TimeStamp, 0, 1, where=tc_fil_one.Speed >= steady_state,\n",
    "#                 color='green', alpha=0.5, transform=ax.get_xaxis_transform())\n",
    "ax.axvspan(xmin=0.94, xmax=2.0, color=\"green\", alpha=0.3)\n",
    "ax.axvspan(xmin=0, xmax=0.94, color=\"#F8E0C1\")\n",
    "\n",
    "# Move the left and bottom spines to x = 0 and y = 0, respectively.\n",
    "ax.spines[\"left\"].set_position((\"data\", 0))\n",
    "ax.spines[\"bottom\"].set_position((\"data\", 0))\n",
    "# Hide the top and right spines.\n",
    "ax.spines[\"top\"].set_visible(False)\n",
    "ax.spines[\"right\"].set_visible(False)\n",
    "\n",
    "ax.plot(1, 0, \">k\", transform=ax.get_yaxis_transform(), clip_on=False)\n",
    "ax.plot(0, 1, \"^k\", transform=ax.get_xaxis_transform(), clip_on=False)\n",
    "ax.set_xlabel(xlabel=\"Time\", fontsize=15)\n",
    "ax.set_ylabel(ylabel=\"Speed(rad/s)\", rotation=\"horizontal\", fontsize=15)\n",
    "ax.yaxis.set_label_coords(0.04,1.02)\n",
    "ax.xaxis.set_label_coords(1.06,0.04)\n",
    "ax.tick_params(axis=\"both\", which=\"major\", labelsize=15)\n",
    "\n",
    "tex1=\"Transient\"\n",
    "tex2=\"Steady state\"\n",
    "ax.text(1.25, 150, tex2, fontdict=font, color=\"DarkGreen\")\n",
    "ax.text(0.3, 150, tex1, fontdict=font, color=\"#f78e31\")\n",
    "ax.text(0.09, 10, r\"$\\tau =0.084s$\", fontdict=font, color=\"blue\")\n",
    "\n",
    "ax.hlines(amp_tcon, xmin=0, xmax=t_cons, linestyle=\"dashed\")\n",
    "ax.vlines(t_cons, ymin=0, ymax=amp_tcon, linestyle=\"dashed\")\n",
    "\n",
    "plt.scatter(t_cons, amp_tcon, marker = 'o', color=\"DarkBlue\", zorder=10)\n",
    "\n",
    "ax.annotate(\"(0.084, 156.85)\",xy=(t_cons, amp_tcon),\n",
    "             xytext=[0.15, 130], \n",
    "            arrowprops={'arrowstyle':\"->\", \"color\":'m'}, fontsize=12)\n",
    "            \n",
    "plt.show()"
   ]
  },
  {
   "cell_type": "code",
   "execution_count": null,
   "metadata": {},
   "outputs": [],
   "source": []
  }
 ],
 "metadata": {
  "kernelspec": {
   "display_name": "Python 3 (ipykernel)",
   "language": "python",
   "name": "python3"
  },
  "language_info": {
   "codemirror_mode": {
    "name": "ipython",
    "version": 3
   },
   "file_extension": ".py",
   "mimetype": "text/x-python",
   "name": "python",
   "nbconvert_exporter": "python",
   "pygments_lexer": "ipython3",
   "version": "3.11.2"
  }
 },
 "nbformat": 4,
 "nbformat_minor": 4
}
