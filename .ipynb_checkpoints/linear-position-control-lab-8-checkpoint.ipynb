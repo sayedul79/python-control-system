{
 "cells": [
  {
   "cell_type": "code",
   "execution_count": 26,
   "metadata": {},
   "outputs": [],
   "source": [
    "import numpy as np\n",
    "import pandas as pd\n",
    "import matplotlib.pyplot as plt\n",
    "from matplotlib.ticker import AutoMinorLocator"
   ]
  },
  {
   "cell_type": "code",
   "execution_count": null,
   "metadata": {},
   "outputs": [],
   "source": [
    "step5kp4=pd.read_csv(\"D:\\L-3 T-2\\python-control-system\\python-control-system\\dataset/exp8-step5-group-2-4-kp4.csv\")\n",
    "step5kp4.head()"
   ]
  },
  {
   "cell_type": "code",
   "execution_count": null,
   "metadata": {},
   "outputs": [],
   "source": [
    "plt.plot(step5kp4.TimeStamp, step5kp4.Speed)"
   ]
  },
  {
   "cell_type": "markdown",
   "metadata": {},
   "source": [
    "### When $K_p=4.5$"
   ]
  },
  {
   "cell_type": "code",
   "execution_count": null,
   "metadata": {},
   "outputs": [],
   "source": [
    "step5kp4_5=pd.read_csv(\"D:\\L-3 T-2\\python-control-system\\python-control-system\\dataset/exp8-step5-group-2-4-kp4_5.csv\")\n",
    "step5kp4_5.head()"
   ]
  },
  {
   "cell_type": "code",
   "execution_count": null,
   "metadata": {},
   "outputs": [],
   "source": [
    "plt.plot(step5kp4_5.TimeStamp, step5kp4_5.Position)"
   ]
  },
  {
   "cell_type": "code",
   "execution_count": null,
   "metadata": {},
   "outputs": [],
   "source": [
    "Kp45Rzero=step5kp4_5[~(np.around(step5kp4_5.Position, 3)==0)]\n",
    "plt.plot(Kp45Rzero.TimeStamp, Kp45Rzero.Position)"
   ]
  },
  {
   "cell_type": "code",
   "execution_count": null,
   "metadata": {},
   "outputs": [],
   "source": []
  },
  {
   "cell_type": "code",
   "execution_count": null,
   "metadata": {},
   "outputs": [],
   "source": []
  },
  {
   "cell_type": "code",
   "execution_count": null,
   "metadata": {},
   "outputs": [],
   "source": [
    "step5kp4_75=pd.read_csv(\"D:\\L-3 T-2\\python-control-system\\python-control-system\\dataset/exp8-step5-group-2-4-kp4_75.csv\")\n",
    "step5kp4_75.head()"
   ]
  },
  {
   "cell_type": "code",
   "execution_count": null,
   "metadata": {},
   "outputs": [],
   "source": [
    "plt.plot(step5kp4_75.TimeStamp, step5kp4_75.Position)"
   ]
  },
  {
   "cell_type": "code",
   "execution_count": null,
   "metadata": {},
   "outputs": [],
   "source": [
    "step5kp5=pd.read_csv(\"D:\\L-3 T-2\\python-control-system\\python-control-system\\dataset/exp8-step5-group-2-4-kp5.csv\")\n",
    "step5kp5.head()"
   ]
  },
  {
   "cell_type": "code",
   "execution_count": null,
   "metadata": {},
   "outputs": [],
   "source": [
    "plt.plot(step5kp5.TimeStamp, step5kp5.Position)"
   ]
  },
  {
   "cell_type": "code",
   "execution_count": null,
   "metadata": {},
   "outputs": [],
   "source": [
    "step5kp7_5=pd.read_csv(\"D:\\L-3 T-2\\python-control-system\\python-control-system\\dataset/exp8-step5-group-2-4-kp7_5.csv\")\n",
    "step5kp7_5.head()"
   ]
  },
  {
   "cell_type": "code",
   "execution_count": null,
   "metadata": {},
   "outputs": [],
   "source": [
    "plt.plot(step5kp7_5.TimeStamp, step5kp7_5.Position)"
   ]
  },
  {
   "cell_type": "code",
   "execution_count": null,
   "metadata": {},
   "outputs": [],
   "source": [
    "step12=pd.read_csv(\"D:\\L-3 T-2\\python-control-system\\python-control-system\\dataset/exp8-step12-group-2-4.csv\")\n",
    "step12.head()"
   ]
  },
  {
   "cell_type": "code",
   "execution_count": null,
   "metadata": {},
   "outputs": [],
   "source": [
    "plt.plot(step12.TimeStamp, step12.Position)"
   ]
  },
  {
   "cell_type": "markdown",
   "metadata": {},
   "source": [
    "# Rail"
   ]
  },
  {
   "cell_type": "markdown",
   "metadata": {},
   "source": [
    "### Ziegler-Nichols method"
   ]
  },
  {
   "cell_type": "code",
   "execution_count": null,
   "metadata": {},
   "outputs": [],
   "source": [
    "#%matplotlib widget"
   ]
  },
  {
   "cell_type": "code",
   "execution_count": 2,
   "metadata": {},
   "outputs": [
    {
     "data": {
      "text/html": [
       "<div>\n",
       "<style scoped>\n",
       "    .dataframe tbody tr th:only-of-type {\n",
       "        vertical-align: middle;\n",
       "    }\n",
       "\n",
       "    .dataframe tbody tr th {\n",
       "        vertical-align: top;\n",
       "    }\n",
       "\n",
       "    .dataframe thead th {\n",
       "        text-align: right;\n",
       "    }\n",
       "</style>\n",
       "<table border=\"1\" class=\"dataframe\">\n",
       "  <thead>\n",
       "    <tr style=\"text-align: right;\">\n",
       "      <th></th>\n",
       "      <th>TimeStamp</th>\n",
       "      <th>Reference</th>\n",
       "      <th>Position</th>\n",
       "      <th>Speed</th>\n",
       "      <th>Current</th>\n",
       "      <th>Voltage</th>\n",
       "      <th>Error</th>\n",
       "      <th>Kp x Error</th>\n",
       "      <th>Error Sum / Ti</th>\n",
       "      <th>Td x Delta Err.</th>\n",
       "      <th>PID Output</th>\n",
       "    </tr>\n",
       "  </thead>\n",
       "  <tbody>\n",
       "    <tr>\n",
       "      <th>0</th>\n",
       "      <td>6.95</td>\n",
       "      <td>0.001526</td>\n",
       "      <td>0.0</td>\n",
       "      <td>0.0</td>\n",
       "      <td>0.005757</td>\n",
       "      <td>0.0</td>\n",
       "      <td>0.001526</td>\n",
       "      <td>0.001526</td>\n",
       "      <td>0.001526</td>\n",
       "      <td>0.001526</td>\n",
       "      <td>0.001526</td>\n",
       "    </tr>\n",
       "    <tr>\n",
       "      <th>1</th>\n",
       "      <td>6.96</td>\n",
       "      <td>0.001526</td>\n",
       "      <td>0.0</td>\n",
       "      <td>0.0</td>\n",
       "      <td>0.005757</td>\n",
       "      <td>0.0</td>\n",
       "      <td>0.001526</td>\n",
       "      <td>0.001526</td>\n",
       "      <td>0.001526</td>\n",
       "      <td>0.001526</td>\n",
       "      <td>0.001526</td>\n",
       "    </tr>\n",
       "    <tr>\n",
       "      <th>2</th>\n",
       "      <td>6.97</td>\n",
       "      <td>0.001526</td>\n",
       "      <td>0.0</td>\n",
       "      <td>0.0</td>\n",
       "      <td>-0.040302</td>\n",
       "      <td>0.0</td>\n",
       "      <td>0.001526</td>\n",
       "      <td>0.001526</td>\n",
       "      <td>0.001526</td>\n",
       "      <td>0.001526</td>\n",
       "      <td>0.001526</td>\n",
       "    </tr>\n",
       "    <tr>\n",
       "      <th>3</th>\n",
       "      <td>6.98</td>\n",
       "      <td>0.001526</td>\n",
       "      <td>0.0</td>\n",
       "      <td>0.0</td>\n",
       "      <td>0.005757</td>\n",
       "      <td>0.0</td>\n",
       "      <td>0.001526</td>\n",
       "      <td>0.001526</td>\n",
       "      <td>0.001526</td>\n",
       "      <td>0.001526</td>\n",
       "      <td>0.001526</td>\n",
       "    </tr>\n",
       "    <tr>\n",
       "      <th>4</th>\n",
       "      <td>6.99</td>\n",
       "      <td>0.001526</td>\n",
       "      <td>0.0</td>\n",
       "      <td>0.0</td>\n",
       "      <td>-0.086362</td>\n",
       "      <td>0.0</td>\n",
       "      <td>0.001526</td>\n",
       "      <td>0.001526</td>\n",
       "      <td>0.001526</td>\n",
       "      <td>0.001526</td>\n",
       "      <td>0.001526</td>\n",
       "    </tr>\n",
       "  </tbody>\n",
       "</table>\n",
       "</div>"
      ],
      "text/plain": [
       "   TimeStamp  Reference  Position  Speed   Current  Voltage     Error  \\\n",
       "0       6.95   0.001526       0.0    0.0  0.005757      0.0  0.001526   \n",
       "1       6.96   0.001526       0.0    0.0  0.005757      0.0  0.001526   \n",
       "2       6.97   0.001526       0.0    0.0 -0.040302      0.0  0.001526   \n",
       "3       6.98   0.001526       0.0    0.0  0.005757      0.0  0.001526   \n",
       "4       6.99   0.001526       0.0    0.0 -0.086362      0.0  0.001526   \n",
       "\n",
       "   Kp x Error  Error Sum / Ti  Td x Delta Err.  PID Output  \n",
       "0    0.001526        0.001526         0.001526    0.001526  \n",
       "1    0.001526        0.001526         0.001526    0.001526  \n",
       "2    0.001526        0.001526         0.001526    0.001526  \n",
       "3    0.001526        0.001526         0.001526    0.001526  \n",
       "4    0.001526        0.001526         0.001526    0.001526  "
      ]
     },
     "execution_count": 2,
     "metadata": {},
     "output_type": "execute_result"
    }
   ],
   "source": [
    "rail_ziegler=pd.read_csv(\"D:\\L-3 T-2\\python-control-system\\python-control-system\\dataset/exp8-rail-ziegler-nichols-group-5.csv\", sep=\"\\t\")\n",
    "rail_ziegler.head()"
   ]
  },
  {
   "cell_type": "code",
   "execution_count": 3,
   "metadata": {},
   "outputs": [
    {
     "data": {
      "image/png": "[encoded data removed]",
      "text/plain": [
       "<Figure size 432x288 with 1 Axes>"
      ]
     },
     "metadata": {
      "needs_background": "light"
     },
     "output_type": "display_data"
    }
   ],
   "source": [
    "plt.figure(1)\n",
    "plt.plot(rail_ziegler.TimeStamp, rail_ziegler.Position)\n",
    "plt.show()"
   ]
  },
  {
   "cell_type": "code",
   "execution_count": 20,
   "metadata": {},
   "outputs": [
    {
     "data": {
      "image/png": "[encoded data removed]",
      "text/plain": [
       "<Figure size 432x288 with 1 Axes>"
      ]
     },
     "metadata": {
      "needs_background": "light"
     },
     "output_type": "display_data"
    }
   ],
   "source": [
    "remove_zero=rail_ziegler[~(rail_ziegler.Position==0)]\n",
    "plt.figure(2)\n",
    "plt.plot(remove_zero.TimeStamp, remove_zero.Position)\n",
    "plt.show()"
   ]
  },
  {
   "cell_type": "code",
   "execution_count": 21,
   "metadata": {},
   "outputs": [
    {
     "data": {
      "image/png": "[encoded data removed]",
      "text/plain": [
       "<Figure size 432x288 with 1 Axes>"
      ]
     },
     "metadata": {
      "needs_background": "light"
     },
     "output_type": "display_data"
    }
   ],
   "source": [
    "plt.figure(3)\n",
    "ziegler_desire1=remove_zero[(remove_zero.TimeStamp>=10)]\n",
    "plt.plot(ziegler_desire1.TimeStamp, ziegler_desire1.Position)\n",
    "plt.show()"
   ]
  },
  {
   "cell_type": "code",
   "execution_count": 22,
   "metadata": {},
   "outputs": [
    {
     "data": {
      "text/html": [
       "<div>\n",
       "<style scoped>\n",
       "    .dataframe tbody tr th:only-of-type {\n",
       "        vertical-align: middle;\n",
       "    }\n",
       "\n",
       "    .dataframe tbody tr th {\n",
       "        vertical-align: top;\n",
       "    }\n",
       "\n",
       "    .dataframe thead th {\n",
       "        text-align: right;\n",
       "    }\n",
       "</style>\n",
       "<table border=\"1\" class=\"dataframe\">\n",
       "  <thead>\n",
       "    <tr style=\"text-align: right;\">\n",
       "      <th></th>\n",
       "      <th>TimeStamp</th>\n",
       "      <th>Reference</th>\n",
       "      <th>Position</th>\n",
       "      <th>Speed</th>\n",
       "      <th>Current</th>\n",
       "      <th>Voltage</th>\n",
       "      <th>Error</th>\n",
       "      <th>Kp x Error</th>\n",
       "      <th>Error Sum / Ti</th>\n",
       "      <th>Td x Delta Err.</th>\n",
       "      <th>PID Output</th>\n",
       "    </tr>\n",
       "  </thead>\n",
       "  <tbody>\n",
       "    <tr>\n",
       "      <th>1286</th>\n",
       "      <td>10.00</td>\n",
       "      <td>-2.998398</td>\n",
       "      <td>-2.72</td>\n",
       "      <td>0.0</td>\n",
       "      <td>-0.938467</td>\n",
       "      <td>-2.024282</td>\n",
       "      <td>-0.279240</td>\n",
       "      <td>-2.244602</td>\n",
       "      <td>0.001526</td>\n",
       "      <td>0.001526</td>\n",
       "      <td>-2.244602</td>\n",
       "    </tr>\n",
       "    <tr>\n",
       "      <th>1287</th>\n",
       "      <td>10.01</td>\n",
       "      <td>3.001450</td>\n",
       "      <td>-2.72</td>\n",
       "      <td>0.0</td>\n",
       "      <td>-0.869377</td>\n",
       "      <td>40.521377</td>\n",
       "      <td>5.720607</td>\n",
       "      <td>45.754177</td>\n",
       "      <td>0.001526</td>\n",
       "      <td>0.001526</td>\n",
       "      <td>45.754177</td>\n",
       "    </tr>\n",
       "    <tr>\n",
       "      <th>1288</th>\n",
       "      <td>10.01</td>\n",
       "      <td>3.001450</td>\n",
       "      <td>-2.72</td>\n",
       "      <td>0.0</td>\n",
       "      <td>-0.869377</td>\n",
       "      <td>40.521377</td>\n",
       "      <td>5.720607</td>\n",
       "      <td>45.754177</td>\n",
       "      <td>0.001526</td>\n",
       "      <td>0.001526</td>\n",
       "      <td>45.754177</td>\n",
       "    </tr>\n",
       "    <tr>\n",
       "      <th>1289</th>\n",
       "      <td>10.02</td>\n",
       "      <td>3.001450</td>\n",
       "      <td>-2.72</td>\n",
       "      <td>0.0</td>\n",
       "      <td>67.771141</td>\n",
       "      <td>40.297190</td>\n",
       "      <td>5.720607</td>\n",
       "      <td>45.754177</td>\n",
       "      <td>0.001526</td>\n",
       "      <td>0.001526</td>\n",
       "      <td>45.754177</td>\n",
       "    </tr>\n",
       "    <tr>\n",
       "      <th>1290</th>\n",
       "      <td>10.03</td>\n",
       "      <td>3.001450</td>\n",
       "      <td>-2.70</td>\n",
       "      <td>0.0</td>\n",
       "      <td>59.330694</td>\n",
       "      <td>40.153443</td>\n",
       "      <td>5.699245</td>\n",
       "      <td>45.583276</td>\n",
       "      <td>0.001526</td>\n",
       "      <td>0.001526</td>\n",
       "      <td>45.583276</td>\n",
       "    </tr>\n",
       "  </tbody>\n",
       "</table>\n",
       "</div>"
      ],
      "text/plain": [
       "      TimeStamp  Reference  Position  Speed    Current    Voltage     Error  \\\n",
       "1286      10.00  -2.998398     -2.72    0.0  -0.938467  -2.024282 -0.279240   \n",
       "1287      10.01   3.001450     -2.72    0.0  -0.869377  40.521377  5.720607   \n",
       "1288      10.01   3.001450     -2.72    0.0  -0.869377  40.521377  5.720607   \n",
       "1289      10.02   3.001450     -2.72    0.0  67.771141  40.297190  5.720607   \n",
       "1290      10.03   3.001450     -2.70    0.0  59.330694  40.153443  5.699245   \n",
       "\n",
       "      Kp x Error  Error Sum / Ti  Td x Delta Err.  PID Output  \n",
       "1286   -2.244602        0.001526         0.001526   -2.244602  \n",
       "1287   45.754177        0.001526         0.001526   45.754177  \n",
       "1288   45.754177        0.001526         0.001526   45.754177  \n",
       "1289   45.754177        0.001526         0.001526   45.754177  \n",
       "1290   45.583276        0.001526         0.001526   45.583276  "
      ]
     },
     "execution_count": 22,
     "metadata": {},
     "output_type": "execute_result"
    }
   ],
   "source": [
    "ziegler_desire1.head()"
   ]
  },
  {
   "cell_type": "code",
   "execution_count": 31,
   "metadata": {},
   "outputs": [
    {
     "name": "stderr",
     "output_type": "stream",
     "text": [
      "<ipython-input-31-f9bfb48e98e4>:2: SettingWithCopyWarning: \n",
      "A value is trying to be set on a copy of a slice from a DataFrame.\n",
      "Try using .loc[row_indexer,col_indexer] = value instead\n",
      "\n",
      "See the caveats in the documentation: https://pandas.pydata.org/pandas-docs/stable/user_guide/indexing.html#returning-a-view-versus-a-copy\n",
      "  ziegler_final[\"TimeShift\"]=ziegler_final.TimeStamp-10\n"
     ]
    },
    {
     "data": {
      "image/png": "[encoded data removed]",
      "text/plain": [
       "<Figure size 1080x504 with 1 Axes>"
      ]
     },
     "metadata": {
      "needs_background": "light"
     },
     "output_type": "display_data"
    }
   ],
   "source": [
    "ziegler_final=ziegler_desire1[ziegler_desire1.TimeStamp<=11.32]\n",
    "ziegler_final[\"TimeShift\"]=ziegler_final.TimeStamp-10\n",
    "\n",
    "fig, ax=plt.subplots(figsize=(15,7))\n",
    "ax.plot(ziegler_final.TimeShift, ziegler_final.Position)\n",
    "ax.xaxis.set_minor_locator(AutoMinorLocator())\n",
    "ax.yaxis.set_minor_locator(AutoMinorLocator())\n",
    "\n",
    "ax.spines[\"left\"].set_position((\"data\", 0))\n",
    "ax.spines[\"bottom\"].set_position((\"data\", 0))\n",
    "ax.spines[\"top\"].set_visible(False)\n",
    "ax.spines[\"right\"].set_visible(False)\n",
    "\n",
    "#ax.set_facecolor(\"darkorange\")\n",
    "ax.set_xlim(0, ziegler_final.TimeShift.max())\n",
    "\n",
    "ax.plot(1, 0, \">k\", ms=12, transform=ax.get_yaxis_transform(), clip_on=False)\n",
    "ax.plot(0, 1, \"^k\", ms=12, transform=ax.get_xaxis_transform(), clip_on=False)\n",
    "ax.set_xlabel(xlabel=\"Time\", fontsize=15)\n",
    "ax.set_ylabel(ylabel=\"Position(%)\", rotation=\"horizontal\", fontsize=15)\n",
    "ax.yaxis.set_label_coords(0.05,1.03)\n",
    "ax.xaxis.set_label_coords(1.04,0.0)\n",
    "ax.tick_params(axis=\"both\", which=\"major\", labelsize=15)\n",
    "ax.xaxis.set_label_coords(1.045,0.3)\n",
    "\n",
    "plt.grid()"
   ]
  },
  {
   "cell_type": "markdown",
   "metadata": {},
   "source": [
    "### Quater amplitude decay"
   ]
  },
  {
   "cell_type": "code",
   "execution_count": 32,
   "metadata": {},
   "outputs": [
    {
     "data": {
      "text/html": [
       "<div>\n",
       "<style scoped>\n",
       "    .dataframe tbody tr th:only-of-type {\n",
       "        vertical-align: middle;\n",
       "    }\n",
       "\n",
       "    .dataframe tbody tr th {\n",
       "        vertical-align: top;\n",
       "    }\n",
       "\n",
       "    .dataframe thead th {\n",
       "        text-align: right;\n",
       "    }\n",
       "</style>\n",
       "<table border=\"1\" class=\"dataframe\">\n",
       "  <thead>\n",
       "    <tr style=\"text-align: right;\">\n",
       "      <th></th>\n",
       "      <th>TimeStamp</th>\n",
       "      <th>Reference</th>\n",
       "      <th>Position</th>\n",
       "      <th>Speed</th>\n",
       "      <th>Current</th>\n",
       "      <th>Voltage</th>\n",
       "      <th>Error</th>\n",
       "      <th>Kp x Error</th>\n",
       "      <th>Error Sum / Ti</th>\n",
       "      <th>Td x Delta PV</th>\n",
       "      <th>PID Output</th>\n",
       "      <th>Unnamed: 11</th>\n",
       "      <th>Unnamed: 12</th>\n",
       "      <th>TimeStamp.1</th>\n",
       "      <th>Position.1</th>\n",
       "      <th>Unnamed: 15</th>\n",
       "      <th>TimeStamp.2</th>\n",
       "      <th>Reference.1</th>\n",
       "      <th>Position.2</th>\n",
       "    </tr>\n",
       "  </thead>\n",
       "  <tbody>\n",
       "    <tr>\n",
       "      <th>0</th>\n",
       "      <td>392.24</td>\n",
       "      <td>0.001526</td>\n",
       "      <td>0.0</td>\n",
       "      <td>0.0</td>\n",
       "      <td>-0.040302</td>\n",
       "      <td>0.0</td>\n",
       "      <td>0.001526</td>\n",
       "      <td>0.001526</td>\n",
       "      <td>0.001526</td>\n",
       "      <td>0.001526</td>\n",
       "      <td>0.001526</td>\n",
       "      <td>NaN</td>\n",
       "      <td>NaN</td>\n",
       "      <td>5.02</td>\n",
       "      <td>-10.08</td>\n",
       "      <td>NaN</td>\n",
       "      <td>5.02</td>\n",
       "      <td>9.999237</td>\n",
       "      <td>-10.08</td>\n",
       "    </tr>\n",
       "    <tr>\n",
       "      <th>1</th>\n",
       "      <td>392.25</td>\n",
       "      <td>0.001526</td>\n",
       "      <td>0.0</td>\n",
       "      <td>0.0</td>\n",
       "      <td>0.028787</td>\n",
       "      <td>0.0</td>\n",
       "      <td>0.001526</td>\n",
       "      <td>0.001526</td>\n",
       "      <td>0.001526</td>\n",
       "      <td>0.001526</td>\n",
       "      <td>0.001526</td>\n",
       "      <td>NaN</td>\n",
       "      <td>NaN</td>\n",
       "      <td>5.03</td>\n",
       "      <td>-9.92</td>\n",
       "      <td>NaN</td>\n",
       "      <td>5.03</td>\n",
       "      <td>9.999237</td>\n",
       "      <td>-9.92</td>\n",
       "    </tr>\n",
       "    <tr>\n",
       "      <th>2</th>\n",
       "      <td>392.26</td>\n",
       "      <td>0.001526</td>\n",
       "      <td>0.0</td>\n",
       "      <td>0.0</td>\n",
       "      <td>-0.017272</td>\n",
       "      <td>0.0</td>\n",
       "      <td>0.001526</td>\n",
       "      <td>0.001526</td>\n",
       "      <td>0.001526</td>\n",
       "      <td>0.001526</td>\n",
       "      <td>0.001526</td>\n",
       "      <td>NaN</td>\n",
       "      <td>NaN</td>\n",
       "      <td>5.04</td>\n",
       "      <td>-7.96</td>\n",
       "      <td>NaN</td>\n",
       "      <td>5.04</td>\n",
       "      <td>9.999237</td>\n",
       "      <td>-7.96</td>\n",
       "    </tr>\n",
       "    <tr>\n",
       "      <th>3</th>\n",
       "      <td>392.27</td>\n",
       "      <td>0.001526</td>\n",
       "      <td>0.0</td>\n",
       "      <td>0.0</td>\n",
       "      <td>0.025909</td>\n",
       "      <td>0.0</td>\n",
       "      <td>0.001526</td>\n",
       "      <td>0.001526</td>\n",
       "      <td>0.001526</td>\n",
       "      <td>0.001526</td>\n",
       "      <td>0.001526</td>\n",
       "      <td>NaN</td>\n",
       "      <td>NaN</td>\n",
       "      <td>5.05</td>\n",
       "      <td>-6.12</td>\n",
       "      <td>NaN</td>\n",
       "      <td>5.05</td>\n",
       "      <td>9.999237</td>\n",
       "      <td>-6.12</td>\n",
       "    </tr>\n",
       "    <tr>\n",
       "      <th>4</th>\n",
       "      <td>392.28</td>\n",
       "      <td>0.001526</td>\n",
       "      <td>0.0</td>\n",
       "      <td>0.0</td>\n",
       "      <td>0.005757</td>\n",
       "      <td>0.0</td>\n",
       "      <td>0.001526</td>\n",
       "      <td>0.001526</td>\n",
       "      <td>0.001526</td>\n",
       "      <td>0.001526</td>\n",
       "      <td>0.001526</td>\n",
       "      <td>NaN</td>\n",
       "      <td>NaN</td>\n",
       "      <td>5.06</td>\n",
       "      <td>-3.42</td>\n",
       "      <td>NaN</td>\n",
       "      <td>5.06</td>\n",
       "      <td>9.999237</td>\n",
       "      <td>-3.42</td>\n",
       "    </tr>\n",
       "  </tbody>\n",
       "</table>\n",
       "</div>"
      ],
      "text/plain": [
       "   TimeStamp  Reference  Position  Speed   Current  Voltage     Error  \\\n",
       "0     392.24   0.001526       0.0    0.0 -0.040302      0.0  0.001526   \n",
       "1     392.25   0.001526       0.0    0.0  0.028787      0.0  0.001526   \n",
       "2     392.26   0.001526       0.0    0.0 -0.017272      0.0  0.001526   \n",
       "3     392.27   0.001526       0.0    0.0  0.025909      0.0  0.001526   \n",
       "4     392.28   0.001526       0.0    0.0  0.005757      0.0  0.001526   \n",
       "\n",
       "   Kp x Error  Error Sum / Ti  Td x Delta PV  PID Output  Unnamed: 11  \\\n",
       "0    0.001526        0.001526       0.001526    0.001526          NaN   \n",
       "1    0.001526        0.001526       0.001526    0.001526          NaN   \n",
       "2    0.001526        0.001526       0.001526    0.001526          NaN   \n",
       "3    0.001526        0.001526       0.001526    0.001526          NaN   \n",
       "4    0.001526        0.001526       0.001526    0.001526          NaN   \n",
       "\n",
       "   Unnamed: 12  TimeStamp.1  Position.1  Unnamed: 15  TimeStamp.2  \\\n",
       "0          NaN         5.02      -10.08          NaN         5.02   \n",
       "1          NaN         5.03       -9.92          NaN         5.03   \n",
       "2          NaN         5.04       -7.96          NaN         5.04   \n",
       "3          NaN         5.05       -6.12          NaN         5.05   \n",
       "4          NaN         5.06       -3.42          NaN         5.06   \n",
       "\n",
       "   Reference.1  Position.2  \n",
       "0     9.999237      -10.08  \n",
       "1     9.999237       -9.92  \n",
       "2     9.999237       -7.96  \n",
       "3     9.999237       -6.12  \n",
       "4     9.999237       -3.42  "
      ]
     },
     "execution_count": 32,
     "metadata": {},
     "output_type": "execute_result"
    }
   ],
   "source": [
    "rail_quater=pd.read_csv(\"D:\\L-3 T-2\\python-control-system\\python-control-system\\dataset/exp8-rail-quater-amp-group-5.csv\", sep=\"\\t\")\n",
    "rail_quater.head()"
   ]
  },
  {
   "cell_type": "code",
   "execution_count": 34,
   "metadata": {},
   "outputs": [
    {
     "data": {
      "text/plain": [
       "[<matplotlib.lines.Line2D at 0x12fe838>]"
      ]
     },
     "execution_count": 34,
     "metadata": {},
     "output_type": "execute_result"
    },
    {
     "data": {
      "image/png": "[encoded data removed]",
      "text/plain": [
       "<Figure size 432x288 with 1 Axes>"
      ]
     },
     "metadata": {
      "needs_background": "light"
     },
     "output_type": "display_data"
    }
   ],
   "source": [
    "plt.plot(rail_quater.TimeStamp, rail_quater.Position)"
   ]
  },
  {
   "cell_type": "code",
   "execution_count": 35,
   "metadata": {},
   "outputs": [
    {
     "data": {
      "text/plain": [
       "[<matplotlib.lines.Line2D at 0xb3fc070>]"
      ]
     },
     "execution_count": 35,
     "metadata": {},
     "output_type": "execute_result"
    },
    {
     "data": {
      "image/png": "[encoded data removed]",
      "text/plain": [
       "<Figure size 432x288 with 1 Axes>"
      ]
     },
     "metadata": {
      "needs_background": "light"
     },
     "output_type": "display_data"
    }
   ],
   "source": [
    "rq_zero=rail_quater[~(rail_quater.Position==0)]\n",
    "plt.plot(rq_zero.TimeStamp, rq_zero.Position)"
   ]
  },
  {
   "cell_type": "code",
   "execution_count": 39,
   "metadata": {},
   "outputs": [
    {
     "name": "stderr",
     "output_type": "stream",
     "text": [
      "<ipython-input-39-9af948e9f16a>:2: SettingWithCopyWarning: \n",
      "A value is trying to be set on a copy of a slice from a DataFrame.\n",
      "Try using .loc[row_indexer,col_indexer] = value instead\n",
      "\n",
      "See the caveats in the documentation: https://pandas.pydata.org/pandas-docs/stable/user_guide/indexing.html#returning-a-view-versus-a-copy\n",
      "  rail_quater_halfc[\"TimeShift\"]=rail_quater_halfc.TimeStamp-5\n"
     ]
    },
    {
     "data": {
      "text/plain": [
       "[<matplotlib.lines.Line2D at 0x13e2f70>]"
      ]
     },
     "execution_count": 39,
     "metadata": {},
     "output_type": "execute_result"
    },
    {
     "data": {
      "image/png": "[encoded data removed]",
      "text/plain": [
       "<Figure size 432x288 with 1 Axes>"
      ]
     },
     "metadata": {
      "needs_background": "light"
     },
     "output_type": "display_data"
    }
   ],
   "source": [
    "rail_quater_halfc=rq_zero[(rq_zero.TimeStamp>=5) & (rq_zero.TimeStamp<=6.5)]\n",
    "rail_quater_halfc[\"TimeShift\"]=rail_quater_halfc.TimeStamp-5\n",
    "plt.plot(rail_quater_halfc.TimeShift, rail_quater_halfc.Position)"
   ]
  },
  {
   "cell_type": "code",
   "execution_count": 47,
   "metadata": {},
   "outputs": [
    {
     "data": {
      "text/html": [
       "<div>\n",
       "<style scoped>\n",
       "    .dataframe tbody tr th:only-of-type {\n",
       "        vertical-align: middle;\n",
       "    }\n",
       "\n",
       "    .dataframe tbody tr th {\n",
       "        vertical-align: top;\n",
       "    }\n",
       "\n",
       "    .dataframe thead th {\n",
       "        text-align: right;\n",
       "    }\n",
       "</style>\n",
       "<table border=\"1\" class=\"dataframe\">\n",
       "  <thead>\n",
       "    <tr style=\"text-align: right;\">\n",
       "      <th></th>\n",
       "      <th>TimeStamp</th>\n",
       "      <th>Reference</th>\n",
       "      <th>Position</th>\n",
       "      <th>Speed</th>\n",
       "      <th>Current</th>\n",
       "      <th>Voltage</th>\n",
       "      <th>Error</th>\n",
       "      <th>Kp x Error</th>\n",
       "      <th>Error Sum / Ti</th>\n",
       "      <th>Td x Delta PV</th>\n",
       "      <th>PID Output</th>\n",
       "      <th>Unnamed: 11</th>\n",
       "      <th>Unnamed: 12</th>\n",
       "      <th>TimeStamp.1</th>\n",
       "      <th>Position.1</th>\n",
       "      <th>Unnamed: 15</th>\n",
       "      <th>TimeStamp.2</th>\n",
       "      <th>Reference.1</th>\n",
       "      <th>Position.2</th>\n",
       "      <th>TimeShift</th>\n",
       "    </tr>\n",
       "  </thead>\n",
       "  <tbody>\n",
       "    <tr>\n",
       "      <th>979</th>\n",
       "      <td>5.5</td>\n",
       "      <td>9.999237</td>\n",
       "      <td>14.58</td>\n",
       "      <td>1.041667</td>\n",
       "      <td>-18.029507</td>\n",
       "      <td>-19.494669</td>\n",
       "      <td>-4.582284</td>\n",
       "      <td>-22.001984</td>\n",
       "      <td>2.56199</td>\n",
       "      <td>-2.537575</td>\n",
       "      <td>-21.980621</td>\n",
       "      <td>NaN</td>\n",
       "      <td>NaN</td>\n",
       "      <td>NaN</td>\n",
       "      <td>NaN</td>\n",
       "      <td>NaN</td>\n",
       "      <td>NaN</td>\n",
       "      <td>NaN</td>\n",
       "      <td>NaN</td>\n",
       "      <td>0.5</td>\n",
       "    </tr>\n",
       "  </tbody>\n",
       "</table>\n",
       "</div>"
      ],
      "text/plain": [
       "     TimeStamp  Reference  Position     Speed    Current    Voltage     Error  \\\n",
       "979        5.5   9.999237     14.58  1.041667 -18.029507 -19.494669 -4.582284   \n",
       "\n",
       "     Kp x Error  Error Sum / Ti  Td x Delta PV  PID Output  Unnamed: 11  \\\n",
       "979  -22.001984         2.56199      -2.537575  -21.980621          NaN   \n",
       "\n",
       "     Unnamed: 12  TimeStamp.1  Position.1  Unnamed: 15  TimeStamp.2  \\\n",
       "979          NaN          NaN         NaN          NaN          NaN   \n",
       "\n",
       "     Reference.1  Position.2  TimeShift  \n",
       "979          NaN         NaN        0.5  "
      ]
     },
     "execution_count": 47,
     "metadata": {},
     "output_type": "execute_result"
    }
   ],
   "source": [
    "rail_quater_halfc[rail_quater_halfc.Position==14.58]"
   ]
  },
  {
   "cell_type": "code",
   "execution_count": 48,
   "metadata": {},
   "outputs": [
    {
     "data": {
      "text/plain": [
       "26.76"
      ]
     },
     "execution_count": 48,
     "metadata": {},
     "output_type": "execute_result"
    }
   ],
   "source": [
    "rail_quater_halfc.Position.max()"
   ]
  },
  {
   "cell_type": "markdown",
   "metadata": {},
   "source": [
    "### Rail significantly damped"
   ]
  },
  {
   "cell_type": "code",
   "execution_count": 49,
   "metadata": {},
   "outputs": [
    {
     "data": {
      "text/html": [
       "<div>\n",
       "<style scoped>\n",
       "    .dataframe tbody tr th:only-of-type {\n",
       "        vertical-align: middle;\n",
       "    }\n",
       "\n",
       "    .dataframe tbody tr th {\n",
       "        vertical-align: top;\n",
       "    }\n",
       "\n",
       "    .dataframe thead th {\n",
       "        text-align: right;\n",
       "    }\n",
       "</style>\n",
       "<table border=\"1\" class=\"dataframe\">\n",
       "  <thead>\n",
       "    <tr style=\"text-align: right;\">\n",
       "      <th></th>\n",
       "      <th>TimeStamp\\tReference\\tPosition\\tSpeed\\tCurrent\\tVoltage\\tError\\tKp x Error\\tError Sum / Ti\\tTd x Delta PV\\tPID Output\\t\\tTimeStamp\\tPosition\\tReference</th>\n",
       "    </tr>\n",
       "  </thead>\n",
       "  <tbody>\n",
       "    <tr>\n",
       "      <th>0</th>\n",
       "      <td>59.19\\t0.001526\\t0\\t0\\t-0.034545\\t0\\t0.001526\\...</td>\n",
       "    </tr>\n",
       "    <tr>\n",
       "      <th>1</th>\n",
       "      <td>59.2\\t0.001526\\t0\\t0\\t0.057575\\t0\\t0.001526\\t0...</td>\n",
       "    </tr>\n",
       "    <tr>\n",
       "      <th>2</th>\n",
       "      <td>59.2\\t0.001526\\t0\\t0\\t0.057575\\t0\\t0.001526\\t0...</td>\n",
       "    </tr>\n",
       "    <tr>\n",
       "      <th>3</th>\n",
       "      <td>59.21\\t0.001526\\t0\\t0\\t-0.057575\\t0\\t0.001526\\...</td>\n",
       "    </tr>\n",
       "    <tr>\n",
       "      <th>4</th>\n",
       "      <td>59.22\\t0.001526\\t0\\t0\\t0.011515\\t0\\t0.001526\\t...</td>\n",
       "    </tr>\n",
       "  </tbody>\n",
       "</table>\n",
       "</div>"
      ],
      "text/plain": [
       "  TimeStamp\\tReference\\tPosition\\tSpeed\\tCurrent\\tVoltage\\tError\\tKp x Error\\tError Sum / Ti\\tTd x Delta PV\\tPID Output\\t\\tTimeStamp\\tPosition\\tReference\n",
       "0  59.19\\t0.001526\\t0\\t0\\t-0.034545\\t0\\t0.001526\\...                                                                                                     \n",
       "1  59.2\\t0.001526\\t0\\t0\\t0.057575\\t0\\t0.001526\\t0...                                                                                                     \n",
       "2  59.2\\t0.001526\\t0\\t0\\t0.057575\\t0\\t0.001526\\t0...                                                                                                     \n",
       "3  59.21\\t0.001526\\t0\\t0\\t-0.057575\\t0\\t0.001526\\...                                                                                                     \n",
       "4  59.22\\t0.001526\\t0\\t0\\t0.011515\\t0\\t0.001526\\t...                                                                                                     "
      ]
     },
     "execution_count": 49,
     "metadata": {},
     "output_type": "execute_result"
    }
   ],
   "source": [
    "rail_damp=pd.read_csv(\"D:\\L-3 T-2\\python-control-system\\python-control-system\\dataset/exp8-rail-sig-damp-group-5.csv\", sep=\"t\")\n",
    "rail_damp.head()"
   ]
  },
  {
   "cell_type": "code",
   "execution_count": null,
   "metadata": {},
   "outputs": [],
   "source": []
  }
 ],
 "metadata": {
  "kernelspec": {
   "display_name": "Python 3",
   "language": "python",
   "name": "python3"
  },
  "language_info": {
   "codemirror_mode": {
    "name": "ipython",
    "version": 3
   },
   "file_extension": ".py",
   "mimetype": "text/x-python",
   "name": "python",
   "nbconvert_exporter": "python",
   "pygments_lexer": "ipython3",
   "version": "3.8.2"
  }
 },
 "nbformat": 4,
 "nbformat_minor": 4
}
