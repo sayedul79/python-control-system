{
 "cells": [
  {
   "cell_type": "markdown",
   "id": "f696df05",
   "metadata": {},
   "source": [
    "<!--NAVIGATION-->\n",
    "<a href=\"https://colab.research.google.com/github/sayedul79/python-control-system/blob/main/Time-Response-first-order-system.ipynb\"> <img align=\"left\" src=\"https://colab.research.google.com/assets/colab-badge.svg\" alt=\"Open in Colab\" title=\"Open in Google Colaboratory\"></a><a href=\"https://github.com/sayedul79/python-control-system/blob/main/Time-Response-first-order-system.ipynb\"> <img align=\"left\" src=\"https://img.shields.io/badge/Github-Download-blue.svg\" alt=\"Download\" title=\"Download Notebook\"></a>"
   ]
  },
  {
   "cell_type": "code",
   "execution_count": 1,
   "id": "d7808156",
   "metadata": {},
   "outputs": [],
   "source": [
    "import numpy as np\n",
    "import control as co\n",
    "import sympy as sym\n",
    "import matplotlib.pyplot as plt\n",
    "from ipywidgets import interact\n",
    "sym.init_printing()"
   ]
  },
  {
   "cell_type": "code",
   "execution_count": 22,
   "id": "3221e3d3",
   "metadata": {},
   "outputs": [],
   "source": [
    "from bokeh.io import show, output_notebook\n",
    "from bokeh.plotting import figure"
   ]
  },
  {
   "cell_type": "code",
   "execution_count": 23,
   "id": "624c354c",
   "metadata": {},
   "outputs": [
    {
     "data": {
      "text/html": [
       "<style>\n",
       "        .bk-notebook-logo {\n",
       "            display: block;\n",
       "            width: 20px;\n",
       "            height: 20px;\n",
       "            background-image: url(data:image/png;base64,iVBORw0KGgoAAAANSUhEUgAAABQAAAAUCAYAAACNiR0NAAAABHNCSVQICAgIfAhkiAAAAAlwSFlzAAALEgAACxIB0t1+/AAAABx0RVh0U29mdHdhcmUAQWRvYmUgRmlyZXdvcmtzIENTNui8sowAAAOkSURBVDiNjZRtaJVlGMd/1/08zzln5zjP1LWcU9N0NkN8m2CYjpgQYQXqSs0I84OLIC0hkEKoPtiH3gmKoiJDU7QpLgoLjLIQCpEsNJ1vqUOdO7ppbuec5+V+rj4ctwzd8IIbbi6u+8f1539dt3A78eXC7QizUF7gyV1fD1Yqg4JWz84yffhm0qkFqBogB9rM8tZdtwVsPUhWhGcFJngGeWrPzHm5oaMmkfEg1usvLFyc8jLRqDOMru7AyC8saQr7GG7f5fvDeH7Ej8CM66nIF+8yngt6HWaKh7k49Soy9nXurCi1o3qUbS3zWfrYeQDTB/Qj6kX6Ybhw4B+bOYoLKCC9H3Nu/leUTZ1JdRWkkn2ldcCamzrcf47KKXdAJllSlxAOkRgyHsGC/zRday5Qld9DyoM4/q/rUoy/CXh3jzOu3bHUVZeU+DEn8FInkPBFlu3+nW3Nw0mk6vCDiWg8CeJaxEwuHS3+z5RgY+YBR6V1Z1nxSOfoaPa4LASWxxdNp+VWTk7+4vzaou8v8PN+xo+KY2xsw6une2frhw05CTYOmQvsEhjhWjn0bmXPjpE1+kplmmkP3suftwTubK9Vq22qKmrBhpY4jvd5afdRA3wGjFAgcnTK2s4hY0/GPNIb0nErGMCRxWOOX64Z8RAC4oCXdklmEvcL8o0BfkNK4lUg9HTl+oPlQxdNo3Mg4Nv175e/1LDGzZen30MEjRUtmXSfiTVu1kK8W4txyV6BMKlbgk3lMwYCiusNy9fVfvvwMxv8Ynl6vxoByANLTWplvuj/nF9m2+PDtt1eiHPBr1oIfhCChQMBw6Aw0UulqTKZdfVvfG7VcfIqLG9bcldL/+pdWTLxLUy8Qq38heUIjh4XlzZxzQm19lLFlr8vdQ97rjZVOLf8nclzckbcD4wxXMidpX30sFd37Fv/GtwwhzhxGVAprjbg0gCAEeIgwCZyTV2Z1REEW8O4py0wsjeloKoMr6iCY6dP92H6Vw/oTyICIthibxjm/DfN9lVz8IqtqKYLUXfoKVMVQVVJOElGjrnnUt9T9wbgp8AyYKaGlqingHZU/uG2NTZSVqwHQTWkx9hxjkpWDaCg6Ckj5qebgBVbT3V3NNXMSiWSDdGV3hrtzla7J+duwPOToIg42ChPQOQjspnSlp1V+Gjdged7+8UN5CRAV7a5EdFNwCjEaBR27b3W890TE7g24NAP/mMDXRWrGoFPQI9ls/MWO2dWFAar/xcOIImbbpA3zgAAAABJRU5ErkJggg==);\n",
       "        }\n",
       "    </style>\n",
       "    <div>\n",
       "        <a href=\"https://bokeh.org\" target=\"_blank\" class=\"bk-notebook-logo\"></a>\n",
       "        <span id=\"a4cabf6d-fbe9-4b3c-9945-d76e86cca329\">Loading BokehJS ...</span>\n",
       "    </div>\n"
      ]
     },
     "metadata": {},
     "output_type": "display_data"
    },
    {
     "data": {
      "application/javascript": [
       "(function(root) {\n",
       "  function now() {\n",
       "    return new Date();\n",
       "  }\n",
       "\n",
       "  const force = true;\n",
       "\n",
       "  if (typeof root._bokeh_onload_callbacks === \"undefined\" || force === true) {\n",
       "    root._bokeh_onload_callbacks = [];\n",
       "    root._bokeh_is_loading = undefined;\n",
       "  }\n",
       "\n",
       "const JS_MIME_TYPE = 'application/javascript';\n",
       "  const HTML_MIME_TYPE = 'text/html';\n",
       "  const EXEC_MIME_TYPE = 'application/vnd.bokehjs_exec.v0+json';\n",
       "  const CLASS_NAME = 'output_bokeh rendered_html';\n",
       "\n",
       "  /**\n",
       "   * Render data to the DOM node\n",
       "   */\n",
       "  function render(props, node) {\n",
       "    const script = document.createElement(\"script\");\n",
       "    node.appendChild(script);\n",
       "  }\n",
       "\n",
       "  /**\n",
       "   * Handle when an output is cleared or removed\n",
       "   */\n",
       "  function handleClearOutput(event, handle) {\n",
       "    const cell = handle.cell;\n",
       "\n",
       "    const id = cell.output_area._bokeh_element_id;\n",
       "    const server_id = cell.output_area._bokeh_server_id;\n",
       "    // Clean up Bokeh references\n",
       "    if (id != null && id in Bokeh.index) {\n",
       "      Bokeh.index[id].model.document.clear();\n",
       "      delete Bokeh.index[id];\n",
       "    }\n",
       "\n",
       "    if (server_id !== undefined) {\n",
       "      // Clean up Bokeh references\n",
       "      const cmd_clean = \"from bokeh.io.state import curstate; print(curstate().uuid_to_server['\" + server_id + \"'].get_sessions()[0].document.roots[0]._id)\";\n",
       "      cell.notebook.kernel.execute(cmd_clean, {\n",
       "        iopub: {\n",
       "          output: function(msg) {\n",
       "            const id = msg.content.text.trim();\n",
       "            if (id in Bokeh.index) {\n",
       "              Bokeh.index[id].model.document.clear();\n",
       "              delete Bokeh.index[id];\n",
       "            }\n",
       "          }\n",
       "        }\n",
       "      });\n",
       "      // Destroy server and session\n",
       "      const cmd_destroy = \"import bokeh.io.notebook as ion; ion.destroy_server('\" + server_id + \"')\";\n",
       "      cell.notebook.kernel.execute(cmd_destroy);\n",
       "    }\n",
       "  }\n",
       "\n",
       "  /**\n",
       "   * Handle when a new output is added\n",
       "   */\n",
       "  function handleAddOutput(event, handle) {\n",
       "    const output_area = handle.output_area;\n",
       "    const output = handle.output;\n",
       "\n",
       "    // limit handleAddOutput to display_data with EXEC_MIME_TYPE content only\n",
       "    if ((output.output_type != \"display_data\") || (!Object.prototype.hasOwnProperty.call(output.data, EXEC_MIME_TYPE))) {\n",
       "      return\n",
       "    }\n",
       "\n",
       "    const toinsert = output_area.element.find(\".\" + CLASS_NAME.split(' ')[0]);\n",
       "\n",
       "    if (output.metadata[EXEC_MIME_TYPE][\"id\"] !== undefined) {\n",
       "      toinsert[toinsert.length - 1].firstChild.textContent = output.data[JS_MIME_TYPE];\n",
       "      // store reference to embed id on output_area\n",
       "      output_area._bokeh_element_id = output.metadata[EXEC_MIME_TYPE][\"id\"];\n",
       "    }\n",
       "    if (output.metadata[EXEC_MIME_TYPE][\"server_id\"] !== undefined) {\n",
       "      const bk_div = document.createElement(\"div\");\n",
       "      bk_div.innerHTML = output.data[HTML_MIME_TYPE];\n",
       "      const script_attrs = bk_div.children[0].attributes;\n",
       "      for (let i = 0; i < script_attrs.length; i++) {\n",
       "        toinsert[toinsert.length - 1].firstChild.setAttribute(script_attrs[i].name, script_attrs[i].value);\n",
       "        toinsert[toinsert.length - 1].firstChild.textContent = bk_div.children[0].textContent\n",
       "      }\n",
       "      // store reference to server id on output_area\n",
       "      output_area._bokeh_server_id = output.metadata[EXEC_MIME_TYPE][\"server_id\"];\n",
       "    }\n",
       "  }\n",
       "\n",
       "  function register_renderer(events, OutputArea) {\n",
       "\n",
       "    function append_mime(data, metadata, element) {\n",
       "      // create a DOM node to render to\n",
       "      const toinsert = this.create_output_subarea(\n",
       "        metadata,\n",
       "        CLASS_NAME,\n",
       "        EXEC_MIME_TYPE\n",
       "      );\n",
       "      this.keyboard_manager.register_events(toinsert);\n",
       "      // Render to node\n",
       "      const props = {data: data, metadata: metadata[EXEC_MIME_TYPE]};\n",
       "      render(props, toinsert[toinsert.length - 1]);\n",
       "      element.append(toinsert);\n",
       "      return toinsert\n",
       "    }\n",
       "\n",
       "    /* Handle when an output is cleared or removed */\n",
       "    events.on('clear_output.CodeCell', handleClearOutput);\n",
       "    events.on('delete.Cell', handleClearOutput);\n",
       "\n",
       "    /* Handle when a new output is added */\n",
       "    events.on('output_added.OutputArea', handleAddOutput);\n",
       "\n",
       "    /**\n",
       "     * Register the mime type and append_mime function with output_area\n",
       "     */\n",
       "    OutputArea.prototype.register_mime_type(EXEC_MIME_TYPE, append_mime, {\n",
       "      /* Is output safe? */\n",
       "      safe: true,\n",
       "      /* Index of renderer in `output_area.display_order` */\n",
       "      index: 0\n",
       "    });\n",
       "  }\n",
       "\n",
       "  // register the mime type if in Jupyter Notebook environment and previously unregistered\n",
       "  if (root.Jupyter !== undefined) {\n",
       "    const events = require('base/js/events');\n",
       "    const OutputArea = require('notebook/js/outputarea').OutputArea;\n",
       "\n",
       "    if (OutputArea.prototype.mime_types().indexOf(EXEC_MIME_TYPE) == -1) {\n",
       "      register_renderer(events, OutputArea);\n",
       "    }\n",
       "  }\n",
       "  if (typeof (root._bokeh_timeout) === \"undefined\" || force === true) {\n",
       "    root._bokeh_timeout = Date.now() + 5000;\n",
       "    root._bokeh_failed_load = false;\n",
       "  }\n",
       "\n",
       "  const NB_LOAD_WARNING = {'data': {'text/html':\n",
       "     \"<div style='background-color: #fdd'>\\n\"+\n",
       "     \"<p>\\n\"+\n",
       "     \"BokehJS does not appear to have successfully loaded. If loading BokehJS from CDN, this \\n\"+\n",
       "     \"may be due to a slow or bad network connection. Possible fixes:\\n\"+\n",
       "     \"</p>\\n\"+\n",
       "     \"<ul>\\n\"+\n",
       "     \"<li>re-rerun `output_notebook()` to attempt to load from CDN again, or</li>\\n\"+\n",
       "     \"<li>use INLINE resources instead, as so:</li>\\n\"+\n",
       "     \"</ul>\\n\"+\n",
       "     \"<code>\\n\"+\n",
       "     \"from bokeh.resources import INLINE\\n\"+\n",
       "     \"output_notebook(resources=INLINE)\\n\"+\n",
       "     \"</code>\\n\"+\n",
       "     \"</div>\"}};\n",
       "\n",
       "  function display_loaded() {\n",
       "    const el = document.getElementById(\"a4cabf6d-fbe9-4b3c-9945-d76e86cca329\");\n",
       "    if (el != null) {\n",
       "      el.textContent = \"BokehJS is loading...\";\n",
       "    }\n",
       "    if (root.Bokeh !== undefined) {\n",
       "      if (el != null) {\n",
       "        el.textContent = \"BokehJS \" + root.Bokeh.version + \" successfully loaded.\";\n",
       "      }\n",
       "    } else if (Date.now() < root._bokeh_timeout) {\n",
       "      setTimeout(display_loaded, 100)\n",
       "    }\n",
       "  }\n",
       "\n",
       "  function run_callbacks() {\n",
       "    try {\n",
       "      root._bokeh_onload_callbacks.forEach(function(callback) {\n",
       "        if (callback != null)\n",
       "          callback();\n",
       "      });\n",
       "    } finally {\n",
       "      delete root._bokeh_onload_callbacks\n",
       "    }\n",
       "    console.debug(\"Bokeh: all callbacks have finished\");\n",
       "  }\n",
       "\n",
       "  function load_libs(css_urls, js_urls, callback) {\n",
       "    if (css_urls == null) css_urls = [];\n",
       "    if (js_urls == null) js_urls = [];\n",
       "\n",
       "    root._bokeh_onload_callbacks.push(callback);\n",
       "    if (root._bokeh_is_loading > 0) {\n",
       "      console.debug(\"Bokeh: BokehJS is being loaded, scheduling callback at\", now());\n",
       "      return null;\n",
       "    }\n",
       "    if (js_urls == null || js_urls.length === 0) {\n",
       "      run_callbacks();\n",
       "      return null;\n",
       "    }\n",
       "    console.debug(\"Bokeh: BokehJS not loaded, scheduling load and callback at\", now());\n",
       "    root._bokeh_is_loading = css_urls.length + js_urls.length;\n",
       "\n",
       "    function on_load() {\n",
       "      root._bokeh_is_loading--;\n",
       "      if (root._bokeh_is_loading === 0) {\n",
       "        console.debug(\"Bokeh: all BokehJS libraries/stylesheets loaded\");\n",
       "        run_callbacks()\n",
       "      }\n",
       "    }\n",
       "\n",
       "    function on_error(url) {\n",
       "      console.error(\"failed to load \" + url);\n",
       "    }\n",
       "\n",
       "    for (let i = 0; i < css_urls.length; i++) {\n",
       "      const url = css_urls[i];\n",
       "      const element = document.createElement(\"link\");\n",
       "      element.onload = on_load;\n",
       "      element.onerror = on_error.bind(null, url);\n",
       "      element.rel = \"stylesheet\";\n",
       "      element.type = \"text/css\";\n",
       "      element.href = url;\n",
       "      console.debug(\"Bokeh: injecting link tag for BokehJS stylesheet: \", url);\n",
       "      document.body.appendChild(element);\n",
       "    }\n",
       "\n",
       "    for (let i = 0; i < js_urls.length; i++) {\n",
       "      const url = js_urls[i];\n",
       "      const element = document.createElement('script');\n",
       "      element.onload = on_load;\n",
       "      element.onerror = on_error.bind(null, url);\n",
       "      element.async = false;\n",
       "      element.src = url;\n",
       "      console.debug(\"Bokeh: injecting script tag for BokehJS library: \", url);\n",
       "      document.head.appendChild(element);\n",
       "    }\n",
       "  };\n",
       "\n",
       "  function inject_raw_css(css) {\n",
       "    const element = document.createElement(\"style\");\n",
       "    element.appendChild(document.createTextNode(css));\n",
       "    document.body.appendChild(element);\n",
       "  }\n",
       "\n",
       "  const js_urls = [\"https://cdn.bokeh.org/bokeh/release/bokeh-3.1.1.min.js\", \"https://cdn.bokeh.org/bokeh/release/bokeh-gl-3.1.1.min.js\", \"https://cdn.bokeh.org/bokeh/release/bokeh-widgets-3.1.1.min.js\", \"https://cdn.bokeh.org/bokeh/release/bokeh-tables-3.1.1.min.js\", \"https://cdn.bokeh.org/bokeh/release/bokeh-mathjax-3.1.1.min.js\"];\n",
       "  const css_urls = [];\n",
       "\n",
       "  const inline_js = [    function(Bokeh) {\n",
       "      Bokeh.set_log_level(\"info\");\n",
       "    },\n",
       "function(Bokeh) {\n",
       "    }\n",
       "  ];\n",
       "\n",
       "  function run_inline_js() {\n",
       "    if (root.Bokeh !== undefined || force === true) {\n",
       "          for (let i = 0; i < inline_js.length; i++) {\n",
       "      inline_js[i].call(root, root.Bokeh);\n",
       "    }\n",
       "if (force === true) {\n",
       "        display_loaded();\n",
       "      }} else if (Date.now() < root._bokeh_timeout) {\n",
       "      setTimeout(run_inline_js, 100);\n",
       "    } else if (!root._bokeh_failed_load) {\n",
       "      console.log(\"Bokeh: BokehJS failed to load within specified timeout.\");\n",
       "      root._bokeh_failed_load = true;\n",
       "    } else if (force !== true) {\n",
       "      const cell = $(document.getElementById(\"a4cabf6d-fbe9-4b3c-9945-d76e86cca329\")).parents('.cell').data().cell;\n",
       "      cell.output_area.append_execute_result(NB_LOAD_WARNING)\n",
       "    }\n",
       "  }\n",
       "\n",
       "  if (root._bokeh_is_loading === 0) {\n",
       "    console.debug(\"Bokeh: BokehJS loaded, going straight to plotting\");\n",
       "    run_inline_js();\n",
       "  } else {\n",
       "    load_libs(css_urls, js_urls, function() {\n",
       "      console.debug(\"Bokeh: BokehJS plotting callback run at\", now());\n",
       "      run_inline_js();\n",
       "    });\n",
       "  }\n",
       "}(window));"
      ],
      "application/vnd.bokehjs_load.v0+json": "(function(root) {\n  function now() {\n    return new Date();\n  }\n\n  const force = true;\n\n  if (typeof root._bokeh_onload_callbacks === \"undefined\" || force === true) {\n    root._bokeh_onload_callbacks = [];\n    root._bokeh_is_loading = undefined;\n  }\n\n\n  if (typeof (root._bokeh_timeout) === \"undefined\" || force === true) {\n    root._bokeh_timeout = Date.now() + 5000;\n    root._bokeh_failed_load = false;\n  }\n\n  const NB_LOAD_WARNING = {'data': {'text/html':\n     \"<div style='background-color: #fdd'>\\n\"+\n     \"<p>\\n\"+\n     \"BokehJS does not appear to have successfully loaded. If loading BokehJS from CDN, this \\n\"+\n     \"may be due to a slow or bad network connection. Possible fixes:\\n\"+\n     \"</p>\\n\"+\n     \"<ul>\\n\"+\n     \"<li>re-rerun `output_notebook()` to attempt to load from CDN again, or</li>\\n\"+\n     \"<li>use INLINE resources instead, as so:</li>\\n\"+\n     \"</ul>\\n\"+\n     \"<code>\\n\"+\n     \"from bokeh.resources import INLINE\\n\"+\n     \"output_notebook(resources=INLINE)\\n\"+\n     \"</code>\\n\"+\n     \"</div>\"}};\n\n  function display_loaded() {\n    const el = document.getElementById(\"a4cabf6d-fbe9-4b3c-9945-d76e86cca329\");\n    if (el != null) {\n      el.textContent = \"BokehJS is loading...\";\n    }\n    if (root.Bokeh !== undefined) {\n      if (el != null) {\n        el.textContent = \"BokehJS \" + root.Bokeh.version + \" successfully loaded.\";\n      }\n    } else if (Date.now() < root._bokeh_timeout) {\n      setTimeout(display_loaded, 100)\n    }\n  }\n\n  function run_callbacks() {\n    try {\n      root._bokeh_onload_callbacks.forEach(function(callback) {\n        if (callback != null)\n          callback();\n      });\n    } finally {\n      delete root._bokeh_onload_callbacks\n    }\n    console.debug(\"Bokeh: all callbacks have finished\");\n  }\n\n  function load_libs(css_urls, js_urls, callback) {\n    if (css_urls == null) css_urls = [];\n    if (js_urls == null) js_urls = [];\n\n    root._bokeh_onload_callbacks.push(callback);\n    if (root._bokeh_is_loading > 0) {\n      console.debug(\"Bokeh: BokehJS is being loaded, scheduling callback at\", now());\n      return null;\n    }\n    if (js_urls == null || js_urls.length === 0) {\n      run_callbacks();\n      return null;\n    }\n    console.debug(\"Bokeh: BokehJS not loaded, scheduling load and callback at\", now());\n    root._bokeh_is_loading = css_urls.length + js_urls.length;\n\n    function on_load() {\n      root._bokeh_is_loading--;\n      if (root._bokeh_is_loading === 0) {\n        console.debug(\"Bokeh: all BokehJS libraries/stylesheets loaded\");\n        run_callbacks()\n      }\n    }\n\n    function on_error(url) {\n      console.error(\"failed to load \" + url);\n    }\n\n    for (let i = 0; i < css_urls.length; i++) {\n      const url = css_urls[i];\n      const element = document.createElement(\"link\");\n      element.onload = on_load;\n      element.onerror = on_error.bind(null, url);\n      element.rel = \"stylesheet\";\n      element.type = \"text/css\";\n      element.href = url;\n      console.debug(\"Bokeh: injecting link tag for BokehJS stylesheet: \", url);\n      document.body.appendChild(element);\n    }\n\n    for (let i = 0; i < js_urls.length; i++) {\n      const url = js_urls[i];\n      const element = document.createElement('script');\n      element.onload = on_load;\n      element.onerror = on_error.bind(null, url);\n      element.async = false;\n      element.src = url;\n      console.debug(\"Bokeh: injecting script tag for BokehJS library: \", url);\n      document.head.appendChild(element);\n    }\n  };\n\n  function inject_raw_css(css) {\n    const element = document.createElement(\"style\");\n    element.appendChild(document.createTextNode(css));\n    document.body.appendChild(element);\n  }\n\n  const js_urls = [\"https://cdn.bokeh.org/bokeh/release/bokeh-3.1.1.min.js\", \"https://cdn.bokeh.org/bokeh/release/bokeh-gl-3.1.1.min.js\", \"https://cdn.bokeh.org/bokeh/release/bokeh-widgets-3.1.1.min.js\", \"https://cdn.bokeh.org/bokeh/release/bokeh-tables-3.1.1.min.js\", \"https://cdn.bokeh.org/bokeh/release/bokeh-mathjax-3.1.1.min.js\"];\n  const css_urls = [];\n\n  const inline_js = [    function(Bokeh) {\n      Bokeh.set_log_level(\"info\");\n    },\nfunction(Bokeh) {\n    }\n  ];\n\n  function run_inline_js() {\n    if (root.Bokeh !== undefined || force === true) {\n          for (let i = 0; i < inline_js.length; i++) {\n      inline_js[i].call(root, root.Bokeh);\n    }\nif (force === true) {\n        display_loaded();\n      }} else if (Date.now() < root._bokeh_timeout) {\n      setTimeout(run_inline_js, 100);\n    } else if (!root._bokeh_failed_load) {\n      console.log(\"Bokeh: BokehJS failed to load within specified timeout.\");\n      root._bokeh_failed_load = true;\n    } else if (force !== true) {\n      const cell = $(document.getElementById(\"a4cabf6d-fbe9-4b3c-9945-d76e86cca329\")).parents('.cell').data().cell;\n      cell.output_area.append_execute_result(NB_LOAD_WARNING)\n    }\n  }\n\n  if (root._bokeh_is_loading === 0) {\n    console.debug(\"Bokeh: BokehJS loaded, going straight to plotting\");\n    run_inline_js();\n  } else {\n    load_libs(css_urls, js_urls, function() {\n      console.debug(\"Bokeh: BokehJS plotting callback run at\", now());\n      run_inline_js();\n    });\n  }\n}(window));"
     },
     "metadata": {},
     "output_type": "display_data"
    }
   ],
   "source": [
    "output_notebook()"
   ]
  },
  {
   "cell_type": "markdown",
   "id": "6882da37",
   "metadata": {},
   "source": [
    "### Order of a system"
   ]
  },
  {
   "cell_type": "markdown",
   "id": "40c2b71a",
   "metadata": {},
   "source": [
    "* The order refers to the order of the equivalent differential equation representing the system\n",
    "* The order of the denominator of the transfer function after cancellation of common factors in the numerator.\n",
    "* The number of simultaneous first-order equations required for the state-space representation."
   ]
  },
  {
   "cell_type": "markdown",
   "id": "0238690a",
   "metadata": {},
   "source": [
    "### System Response\n",
    "**Forced response:** For linear systems, that part of the total response function due to the input. It is typically of the same form as the input and its derivatives.\n",
    "\n",
    "**Natural response:** That part of the total response function due to the system and the way the system acquires or dissipates energy\n",
    "\n",
    "The output response of a system is the sum of two responses: the forced response and the natural response."
   ]
  },
  {
   "cell_type": "markdown",
   "id": "535054b7",
   "metadata": {},
   "source": [
    "### Poles of a Transfer Function\n",
    "The poles of a transfer function are \n",
    "1. The values of the Laplace transform variable, s, that cause the transfer function to become infinite or \n",
    "2. Any roots of the denominator of the transfer function that are common to roots of the numerator\n",
    "\n",
    "In general, G(s) is a rational function of the form\n",
    "$$G(s) = \\dfrac {N(s)}{D(s)}$$\n",
    "When $D(s)=0$ the transfer function become to infinite.Hence the roots of $D(s)$ polynomial is called system poles.<br>\n",
    "If $G(s)=\\dfrac{s+2}{s^2+6s+25}$ then $N(s)=s+2$ and $D(s)=s^2+6s+25$\n",
    ","
   ]
  },
  {
   "cell_type": "code",
   "execution_count": 24,
   "id": "1fba715d",
   "metadata": {},
   "outputs": [
    {
     "data": {
      "text/latex": [
       "$$\\frac{s + 2}{s^2 + 6 s + 25}$$"
      ],
      "text/plain": [
       "TransferFunction(array([1, 2]), array([ 1,  6, 25]))"
      ]
     },
     "execution_count": 24,
     "metadata": {},
     "output_type": "execute_result"
    }
   ],
   "source": [
    "s=co.tf(\"s\")\n",
    "G=(s+2)/(s**2+6*s+25)\n",
    "G"
   ]
  },
  {
   "cell_type": "code",
   "execution_count": 25,
   "id": "8fca07cb",
   "metadata": {},
   "outputs": [
    {
     "data": {
      "text/plain": [
       "array([-3.+4.j, -3.-4.j])"
      ]
     },
     "execution_count": 25,
     "metadata": {},
     "output_type": "execute_result"
    }
   ],
   "source": [
    "co.pole(G)"
   ]
  },
  {
   "cell_type": "markdown",
   "id": "3a66add1",
   "metadata": {},
   "source": [
    "The system $G(s)=\\dfrac{s+2}{s^2+6s+25}$ has two pole at $s=-3+4j$, $-3-4j$"
   ]
  },
  {
   "cell_type": "markdown",
   "id": "82f29d4b",
   "metadata": {},
   "source": [
    "### Zeros of a Transfer Function\n",
    "The zeros of a transfer function are \n",
    "1. The values of the Laplace transform variable, s, that cause the transfer function to become zero or \n",
    "2. Any roots of the numerator of the transfer function that are common to roots of the denominator"
   ]
  },
  {
   "cell_type": "markdown",
   "id": "6b3df15b",
   "metadata": {},
   "source": [
    "### Pole-Zero plot"
   ]
  },
  {
   "cell_type": "markdown",
   "id": "61292e8f",
   "metadata": {},
   "source": [
    "### Poles and Zeros of a First-Order System: An Example\n",
    "Suppose the system transfer function $$G(s)=\\dfrac{s+2}{s+5}$$\n",
    "If the reference input is $R(s)$ and output response is $C(s)$ in frequency domain then$$C(s)=G(s)R(s)$$\n",
    "When reference input $R(s)=\\dfrac{1}{s}$ the output response $$C(s)=\\dfrac{1}{s}\\times \\dfrac{s+2}{s+5}=\\dfrac{s+2}{s(s+5)}$$\n",
    "Partial fraction of $C(s)$ is $$C(s)=\\dfrac{A}{s}+\\dfrac{B}{s+5}$$\n",
    "\n",
    "$$\n",
    "\\begin{align}\n",
    "A&=\\dfrac{s+2}{s+5}|_{s=0} =\\dfrac{2}{5}\\\\ \n",
    "\\\\\n",
    "B&=\\dfrac{s+2}{s}|_{s=-5}=\\dfrac{3}{5}\n",
    "\\end{align}\n",
    "$$\n",
    "Now $C(s)=\\dfrac{2/5}{s}+\\dfrac{3/5}{s+5}$\n",
    "\n",
    "\n",
    "So time domain step response of this first order system is $$c(t)=\\left [\\dfrac{2}{5}+\\dfrac{3}{5}\\times e^{-5t}\\right ]u(t)$$"
   ]
  },
  {
   "cell_type": "markdown",
   "id": "56022a83",
   "metadata": {},
   "source": [
    "**Code**"
   ]
  },
  {
   "cell_type": "code",
   "execution_count": 26,
   "id": "751f7d4d",
   "metadata": {},
   "outputs": [
    {
     "data": {
      "image/png": "[encoded data removed]",
      "text/latex": [
       "$\\displaystyle \\frac{s + 2}{s \\left(s + 5\\right)}$"
      ],
      "text/plain": [
       "  s + 2  \n",
       "─────────\n",
       "s⋅(s + 5)"
      ]
     },
     "execution_count": 26,
     "metadata": {},
     "output_type": "execute_result"
    }
   ],
   "source": [
    "t, s = sym.symbols('t, s')\n",
    "C=(s+2)/(s*(s+5))\n",
    "C"
   ]
  },
  {
   "cell_type": "code",
   "execution_count": 27,
   "id": "7a5c8f9e",
   "metadata": {},
   "outputs": [
    {
     "data": {
      "image/png": "[encoded data removed]",
      "text/latex": [
       "$\\displaystyle \\frac{3}{5 \\left(s + 5\\right)} + \\frac{2}{5 s}$"
      ],
      "text/plain": [
       "    3        2 \n",
       "───────── + ───\n",
       "5⋅(s + 5)   5⋅s"
      ]
     },
     "execution_count": 27,
     "metadata": {},
     "output_type": "execute_result"
    }
   ],
   "source": [
    "partial_fraction=C.apart(s)\n",
    "partial_fraction"
   ]
  },
  {
   "cell_type": "code",
   "execution_count": 28,
   "id": "df648e3d",
   "metadata": {},
   "outputs": [
    {
     "data": {
      "image/png": "[encoded data removed]",
      "text/latex": [
       "$\\displaystyle \\frac{2 \\theta\\left(t\\right)}{5} + \\frac{3 e^{- 5 t} \\theta\\left(t\\right)}{5}$"
      ],
      "text/plain": [
       "            -5⋅t     \n",
       "2⋅θ(t)   3⋅ℯ    ⋅θ(t)\n",
       "────── + ────────────\n",
       "  5           5      "
      ]
     },
     "execution_count": 28,
     "metadata": {},
     "output_type": "execute_result"
    }
   ],
   "source": [
    "c_t=sym.inverse_laplace_transform(partial_fraction, s,t)\n",
    "c_t"
   ]
  },
  {
   "cell_type": "markdown",
   "id": "52fb78de",
   "metadata": {},
   "source": [
    "The pole zero plot of $C(s)=\\dfrac{s+2}{s(s+5)}$ is shown bt python code"
   ]
  },
  {
   "cell_type": "code",
   "execution_count": 29,
   "id": "a339db4f",
   "metadata": {},
   "outputs": [
    {
     "data": {
      "text/html": [
       "\n",
       "  <div id=\"c14089ed-5cd3-4787-8b04-a3e41e1587c6\" data-root-id=\"p1330\" style=\"display: contents;\"></div>\n"
      ]
     },
     "metadata": {},
     "output_type": "display_data"
    },
    {
     "data": {
      "application/javascript": [
       "(function(root) {\n",
       "  function embed_document(root) {\n",
       "  const docs_json = {\"739b63b6-28d0-43eb-b620-f147e99af4a3\":{\"version\":\"3.1.1\",\"title\":\"Bokeh Application\",\"defs\":[],\"roots\":[{\"type\":\"object\",\"name\":\"Figure\",\"id\":\"p1330\",\"attributes\":{\"height\":300,\"x_range\":{\"type\":\"object\",\"name\":\"DataRange1d\",\"id\":\"p1332\"},\"y_range\":{\"type\":\"object\",\"name\":\"DataRange1d\",\"id\":\"p1331\"},\"x_scale\":{\"type\":\"object\",\"name\":\"LinearScale\",\"id\":\"p1343\"},\"y_scale\":{\"type\":\"object\",\"name\":\"LinearScale\",\"id\":\"p1345\"},\"title\":{\"type\":\"object\",\"name\":\"Title\",\"id\":\"p1334\",\"attributes\":{\"text\":\"Pole-Zero plot on S plane\",\"text_color\":\"DarkGreen\",\"text_font\":\"ecotype\",\"text_font_size\":\"18px\",\"align\":\"center\"}},\"renderers\":[{\"type\":\"object\",\"name\":\"GlyphRenderer\",\"id\":\"p1375\",\"attributes\":{\"data_source\":{\"type\":\"object\",\"name\":\"ColumnDataSource\",\"id\":\"p1369\",\"attributes\":{\"selected\":{\"type\":\"object\",\"name\":\"Selection\",\"id\":\"p1370\",\"attributes\":{\"indices\":[],\"line_indices\":[]}},\"selection_policy\":{\"type\":\"object\",\"name\":\"UnionRenderers\",\"id\":\"p1371\"},\"data\":{\"type\":\"map\",\"entries\":[[\"x\",{\"type\":\"ndarray\",\"array\":{\"type\":\"bytes\",\"data\":\"AAAAAAAAFMAAAAAAAAAAAA==\"},\"shape\":[2],\"dtype\":\"float64\",\"order\":\"little\"}],[\"y\",{\"type\":\"ndarray\",\"array\":{\"type\":\"bytes\",\"data\":\"AAAAAAAAAAAAAAAAAAAAAA==\"},\"shape\":[2],\"dtype\":\"float64\",\"order\":\"little\"}]]}}},\"view\":{\"type\":\"object\",\"name\":\"CDSView\",\"id\":\"p1376\",\"attributes\":{\"filter\":{\"type\":\"object\",\"name\":\"AllIndices\",\"id\":\"p1377\"}}},\"glyph\":{\"type\":\"object\",\"name\":\"Scatter\",\"id\":\"p1372\",\"attributes\":{\"x\":{\"type\":\"field\",\"field\":\"x\"},\"y\":{\"type\":\"field\",\"field\":\"y\"},\"size\":{\"type\":\"value\",\"value\":15},\"line_color\":{\"type\":\"value\",\"value\":\"DarkBlue\"},\"line_width\":{\"type\":\"value\",\"value\":2},\"fill_color\":{\"type\":\"value\",\"value\":\"DarkBlue\"},\"hatch_color\":{\"type\":\"value\",\"value\":\"DarkBlue\"},\"marker\":{\"type\":\"value\",\"value\":\"x\"}}},\"nonselection_glyph\":{\"type\":\"object\",\"name\":\"Scatter\",\"id\":\"p1373\",\"attributes\":{\"x\":{\"type\":\"field\",\"field\":\"x\"},\"y\":{\"type\":\"field\",\"field\":\"y\"},\"size\":{\"type\":\"value\",\"value\":15},\"line_color\":{\"type\":\"value\",\"value\":\"DarkBlue\"},\"line_alpha\":{\"type\":\"value\",\"value\":0.1},\"line_width\":{\"type\":\"value\",\"value\":2},\"fill_color\":{\"type\":\"value\",\"value\":\"DarkBlue\"},\"fill_alpha\":{\"type\":\"value\",\"value\":0.1},\"hatch_color\":{\"type\":\"value\",\"value\":\"DarkBlue\"},\"hatch_alpha\":{\"type\":\"value\",\"value\":0.1},\"marker\":{\"type\":\"value\",\"value\":\"x\"}}},\"muted_glyph\":{\"type\":\"object\",\"name\":\"Scatter\",\"id\":\"p1374\",\"attributes\":{\"x\":{\"type\":\"field\",\"field\":\"x\"},\"y\":{\"type\":\"field\",\"field\":\"y\"},\"size\":{\"type\":\"value\",\"value\":15},\"line_color\":{\"type\":\"value\",\"value\":\"DarkBlue\"},\"line_alpha\":{\"type\":\"value\",\"value\":0.2},\"line_width\":{\"type\":\"value\",\"value\":2},\"fill_color\":{\"type\":\"value\",\"value\":\"DarkBlue\"},\"fill_alpha\":{\"type\":\"value\",\"value\":0.2},\"hatch_color\":{\"type\":\"value\",\"value\":\"DarkBlue\"},\"hatch_alpha\":{\"type\":\"value\",\"value\":0.2},\"marker\":{\"type\":\"value\",\"value\":\"x\"}}}}},{\"type\":\"object\",\"name\":\"GlyphRenderer\",\"id\":\"p1384\",\"attributes\":{\"data_source\":{\"type\":\"object\",\"name\":\"ColumnDataSource\",\"id\":\"p1378\",\"attributes\":{\"selected\":{\"type\":\"object\",\"name\":\"Selection\",\"id\":\"p1379\",\"attributes\":{\"indices\":[],\"line_indices\":[]}},\"selection_policy\":{\"type\":\"object\",\"name\":\"UnionRenderers\",\"id\":\"p1380\"},\"data\":{\"type\":\"map\",\"entries\":[[\"x\",{\"type\":\"ndarray\",\"array\":{\"type\":\"bytes\",\"data\":\"AAAAAAAAAMA=\"},\"shape\":[1],\"dtype\":\"float64\",\"order\":\"little\"}],[\"y\",{\"type\":\"ndarray\",\"array\":{\"type\":\"bytes\",\"data\":\"AAAAAAAAAAA=\"},\"shape\":[1],\"dtype\":\"float64\",\"order\":\"little\"}]]}}},\"view\":{\"type\":\"object\",\"name\":\"CDSView\",\"id\":\"p1385\",\"attributes\":{\"filter\":{\"type\":\"object\",\"name\":\"AllIndices\",\"id\":\"p1386\"}}},\"glyph\":{\"type\":\"object\",\"name\":\"Circle\",\"id\":\"p1381\",\"attributes\":{\"x\":{\"type\":\"field\",\"field\":\"x\"},\"y\":{\"type\":\"field\",\"field\":\"y\"},\"size\":{\"type\":\"value\",\"value\":12},\"line_color\":{\"type\":\"value\",\"value\":\"DarkBlue\"},\"line_width\":{\"type\":\"value\",\"value\":2},\"fill_color\":{\"type\":\"value\",\"value\":\"white\"},\"hatch_color\":{\"type\":\"value\",\"value\":\"DarkBlue\"}}},\"nonselection_glyph\":{\"type\":\"object\",\"name\":\"Circle\",\"id\":\"p1382\",\"attributes\":{\"x\":{\"type\":\"field\",\"field\":\"x\"},\"y\":{\"type\":\"field\",\"field\":\"y\"},\"size\":{\"type\":\"value\",\"value\":12},\"line_color\":{\"type\":\"value\",\"value\":\"DarkBlue\"},\"line_alpha\":{\"type\":\"value\",\"value\":0.1},\"line_width\":{\"type\":\"value\",\"value\":2},\"fill_color\":{\"type\":\"value\",\"value\":\"white\"},\"fill_alpha\":{\"type\":\"value\",\"value\":0.1},\"hatch_color\":{\"type\":\"value\",\"value\":\"DarkBlue\"},\"hatch_alpha\":{\"type\":\"value\",\"value\":0.1}}},\"muted_glyph\":{\"type\":\"object\",\"name\":\"Circle\",\"id\":\"p1383\",\"attributes\":{\"x\":{\"type\":\"field\",\"field\":\"x\"},\"y\":{\"type\":\"field\",\"field\":\"y\"},\"size\":{\"type\":\"value\",\"value\":12},\"line_color\":{\"type\":\"value\",\"value\":\"DarkBlue\"},\"line_alpha\":{\"type\":\"value\",\"value\":0.2},\"line_width\":{\"type\":\"value\",\"value\":2},\"fill_color\":{\"type\":\"value\",\"value\":\"white\"},\"fill_alpha\":{\"type\":\"value\",\"value\":0.2},\"hatch_color\":{\"type\":\"value\",\"value\":\"DarkBlue\"},\"hatch_alpha\":{\"type\":\"value\",\"value\":0.2}}}}}],\"toolbar\":{\"type\":\"object\",\"name\":\"Toolbar\",\"id\":\"p1335\",\"attributes\":{\"tools\":[{\"type\":\"object\",\"name\":\"HoverTool\",\"id\":\"p1329\",\"attributes\":{\"renderers\":\"auto\",\"tooltips\":[[\"(x, y)\",\"($x, $y)\"]]}},{\"type\":\"object\",\"name\":\"SaveTool\",\"id\":\"p1361\"},{\"type\":\"object\",\"name\":\"ResetTool\",\"id\":\"p1362\"},{\"type\":\"object\",\"name\":\"WheelZoomTool\",\"id\":\"p1363\"}]}},\"left\":[{\"type\":\"object\",\"name\":\"LinearAxis\",\"id\":\"p1354\",\"attributes\":{\"ticker\":{\"type\":\"object\",\"name\":\"BasicTicker\",\"id\":\"p1356\",\"attributes\":{\"mantissas\":[1,2,5]}},\"formatter\":{\"type\":\"object\",\"name\":\"BasicTickFormatter\",\"id\":\"p1355\"},\"major_label_policy\":{\"type\":\"object\",\"name\":\"AllLabels\",\"id\":\"p1357\"},\"fixed_location\":0}}],\"below\":[{\"type\":\"object\",\"name\":\"LinearAxis\",\"id\":\"p1347\",\"attributes\":{\"ticker\":{\"type\":\"object\",\"name\":\"BasicTicker\",\"id\":\"p1349\",\"attributes\":{\"mantissas\":[1,2,5]}},\"formatter\":{\"type\":\"object\",\"name\":\"BasicTickFormatter\",\"id\":\"p1348\"},\"major_label_policy\":{\"type\":\"object\",\"name\":\"AllLabels\",\"id\":\"p1350\"},\"fixed_location\":0}}],\"center\":[{\"type\":\"object\",\"name\":\"Grid\",\"id\":\"p1353\",\"attributes\":{\"axis\":{\"id\":\"p1347\"}}},{\"type\":\"object\",\"name\":\"Grid\",\"id\":\"p1360\",\"attributes\":{\"dimension\":1,\"axis\":{\"id\":\"p1354\"}}}]}}],\"callbacks\":{\"type\":\"map\"}}};\n",
       "  const render_items = [{\"docid\":\"739b63b6-28d0-43eb-b620-f147e99af4a3\",\"roots\":{\"p1330\":\"c14089ed-5cd3-4787-8b04-a3e41e1587c6\"},\"root_ids\":[\"p1330\"]}];\n",
       "  root.Bokeh.embed.embed_items_notebook(docs_json, render_items);\n",
       "  }\n",
       "  if (root.Bokeh !== undefined) {\n",
       "    embed_document(root);\n",
       "  } else {\n",
       "    let attempts = 0;\n",
       "    const timer = setInterval(function(root) {\n",
       "      if (root.Bokeh !== undefined) {\n",
       "        clearInterval(timer);\n",
       "        embed_document(root);\n",
       "      } else {\n",
       "        attempts++;\n",
       "        if (attempts > 100) {\n",
       "          clearInterval(timer);\n",
       "          console.log(\"Bokeh: ERROR: Unable to run BokehJS code because BokehJS library is missing\");\n",
       "        }\n",
       "      }\n",
       "    }, 10, root)\n",
       "  }\n",
       "})(window);"
      ],
      "application/vnd.bokehjs_exec.v0+json": ""
     },
     "metadata": {
      "application/vnd.bokehjs_exec.v0+json": {
       "id": "p1330"
      }
     },
     "output_type": "display_data"
    }
   ],
   "source": [
    "from bokeh.models import HoverTool\n",
    "s=co.tf(\"s\")\n",
    "C=(s+2)/(s*(s+5))\n",
    "pole=C.pole()\n",
    "zero=C.zero()\n",
    "hover=HoverTool(tooltips=[(\"(x, y)\", \"($x, $y)\")])\n",
    "p=figure(width=600, height=300, tools=[hover, \"save\", \"reset\", \"wheel_zoom\"])\n",
    "#pole plot\n",
    "p.x(pole.real, pole.imag, \n",
    "   size=15, \n",
    "   line_width=2, \n",
    "   color=\"DarkBlue\")\n",
    "#zero plot\n",
    "p.circle(zero.real, zero.imag, \n",
    "        size=12, \n",
    "        color=\"DarkBlue\", \n",
    "        fill_color=\"white\", \n",
    "        line_width=2)\n",
    "\n",
    "p.xaxis.fixed_location=0\n",
    "p.yaxis.fixed_location=0\n",
    "\n",
    "p.title.text=\"Pole-Zero plot on S plane\"\n",
    "p.title.text_color=\"DarkGreen\"\n",
    "p.title.text_font=\"ecotype\"\n",
    "p.title.text_font_size=\"18px\"\n",
    "p.title.align=\"center\"\n",
    "show(p)"
   ]
  },
  {
   "cell_type": "markdown",
   "id": "9967fb1c",
   "metadata": {},
   "source": [
    "Below figure shows the first order system step response evolution by inspection.\n",
    "<img src=\"https://github.com/sayedul79/python-control-system/blob/main/image/first-order-system-response.png?raw=true\">"
   ]
  },
  {
   "cell_type": "markdown",
   "id": "60885d52",
   "metadata": {},
   "source": [
    "From the above development we draw the following conclusion\n",
    "1. A pole of the input function generates the form of the forced response (i.e., the pole at the origin generated a step function at the output)."
   ]
  },
  {
   "cell_type": "code",
   "execution_count": 30,
   "id": "3afdcef6",
   "metadata": {},
   "outputs": [
    {
     "data": {
      "image/png": "[encoded data removed]",
      "text/latex": [
       "$\\displaystyle \\theta\\left(t\\right)$"
      ],
      "text/plain": [
       "θ(t)"
      ]
     },
     "execution_count": 30,
     "metadata": {},
     "output_type": "execute_result"
    }
   ],
   "source": [
    "s, t=sym.symbols('s, t')\n",
    "pole_origin=1/s\n",
    "inv_lap=sym.inverse_laplace_transform(pole_origin, s, t)\n",
    "inv_lap"
   ]
  },
  {
   "cell_type": "code",
   "execution_count": 31,
   "id": "61ec8448",
   "metadata": {},
   "outputs": [
    {
     "data": {
      "image/png": "[encoded data removed]",
      "text/plain": [
       "<Figure size 1500x700 with 1 Axes>"
      ]
     },
     "metadata": {},
     "output_type": "display_data"
    },
    {
     "data": {
      "text/plain": [
       "<sympy.plotting.plot.Plot at 0x133efbba8d0>"
      ]
     },
     "execution_count": 31,
     "metadata": {},
     "output_type": "execute_result"
    }
   ],
   "source": [
    "sym.plot(inv_lap, line_color=\"red\", \n",
    "         size=(15,7))"
   ]
  },
  {
   "cell_type": "markdown",
   "id": "dee51193",
   "metadata": {},
   "source": [
    "2. A pole of the transfer function generates the form of the natural response (i.e., the pole at −5 generated $e^{−5t}$)."
   ]
  },
  {
   "cell_type": "code",
   "execution_count": 32,
   "id": "183d2058",
   "metadata": {},
   "outputs": [
    {
     "data": {
      "image/png": "[encoded data removed]",
      "text/latex": [
       "$\\displaystyle e^{- t} \\theta\\left(t\\right)$"
      ],
      "text/plain": [
       " -t     \n",
       "ℯ  ⋅θ(t)"
      ]
     },
     "execution_count": 32,
     "metadata": {},
     "output_type": "execute_result"
    }
   ],
   "source": [
    "s, t=sym.symbols(\"s, t\")\n",
    "pole_real_axis=1/(s+1)\n",
    "inv_lap=sym.inverse_laplace_transform(pole_real_axis, s, t)\n",
    "inv_lap"
   ]
  },
  {
   "cell_type": "code",
   "execution_count": 33,
   "id": "d1ea98ea",
   "metadata": {},
   "outputs": [
    {
     "data": {
      "text/html": [
       "\n",
       "  <div id=\"c4c793eb-fdc9-4fac-9465-4555b2b523ef\" data-root-id=\"p1539\" style=\"display: contents;\"></div>\n"
      ]
     },
     "metadata": {},
     "output_type": "display_data"
    },
    {
     "data": {
      "application/javascript": [
       "(function(root) {\n",
       "  function embed_document(root) {\n",
       "  const docs_json = {\"5a257024-917a-4a2c-8583-f87ab6a258fe\":{\"version\":\"3.1.1\",\"title\":\"Bokeh Application\",\"defs\":[],\"roots\":[{\"type\":\"object\",\"name\":\"Figure\",\"id\":\"p1539\",\"attributes\":{\"height\":300,\"x_range\":{\"type\":\"object\",\"name\":\"DataRange1d\",\"id\":\"p1541\"},\"y_range\":{\"type\":\"object\",\"name\":\"DataRange1d\",\"id\":\"p1540\"},\"x_scale\":{\"type\":\"object\",\"name\":\"LinearScale\",\"id\":\"p1552\"},\"y_scale\":{\"type\":\"object\",\"name\":\"LinearScale\",\"id\":\"p1554\"},\"title\":{\"type\":\"object\",\"name\":\"Title\",\"id\":\"p1543\"},\"renderers\":[{\"type\":\"object\",\"name\":\"GlyphRenderer\",\"id\":\"p1584\",\"attributes\":{\"data_source\":{\"type\":\"object\",\"name\":\"ColumnDataSource\",\"id\":\"p1535\",\"attributes\":{\"selected\":{\"type\":\"object\",\"name\":\"Selection\",\"id\":\"p1536\",\"attributes\":{\"indices\":[],\"line_indices\":[]}},\"selection_policy\":{\"type\":\"object\",\"name\":\"UnionRenderers\",\"id\":\"p1537\"},\"data\":{\"type\":\"map\",\"entries\":[[\"t\",{\"type\":\"ndarray\",\"array\":{\"type\":\"bytes\",\"data\":\"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\"},\"shape\":[4000],\"dtype\":\"float64\",\"order\":\"little\"}],[\"inv_lap\",{\"type\":\"ndarray\",\"array\":{\"type\":\"bytes\",\"data\":\"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\"},\"shape\":[4000],\"dtype\":\"float64\",\"order\":\"little\"}]]}}},\"view\":{\"type\":\"object\",\"name\":\"CDSView\",\"id\":\"p1585\",\"attributes\":{\"filter\":{\"type\":\"object\",\"name\":\"AllIndices\",\"id\":\"p1586\"}}},\"glyph\":{\"type\":\"object\",\"name\":\"Line\",\"id\":\"p1581\",\"attributes\":{\"x\":{\"type\":\"field\",\"field\":\"t\"},\"y\":{\"type\":\"field\",\"field\":\"inv_lap\"},\"line_color\":\"DarkBlue\",\"line_width\":2}},\"nonselection_glyph\":{\"type\":\"object\",\"name\":\"Line\",\"id\":\"p1582\",\"attributes\":{\"x\":{\"type\":\"field\",\"field\":\"t\"},\"y\":{\"type\":\"field\",\"field\":\"inv_lap\"},\"line_color\":\"DarkBlue\",\"line_alpha\":0.1,\"line_width\":2}},\"muted_glyph\":{\"type\":\"object\",\"name\":\"Line\",\"id\":\"p1583\",\"attributes\":{\"x\":{\"type\":\"field\",\"field\":\"t\"},\"y\":{\"type\":\"field\",\"field\":\"inv_lap\"},\"line_color\":\"DarkBlue\",\"line_alpha\":0.2,\"line_width\":2}}}}],\"toolbar\":{\"type\":\"object\",\"name\":\"Toolbar\",\"id\":\"p1544\",\"attributes\":{\"tools\":[{\"type\":\"object\",\"name\":\"HoverTool\",\"id\":\"p1538\",\"attributes\":{\"renderers\":\"auto\",\"tooltips\":[[\"(time, Amplitude)\",\"(@t, @inv_lap)\"]]}},{\"type\":\"object\",\"name\":\"SaveTool\",\"id\":\"p1570\"},{\"type\":\"object\",\"name\":\"ResetTool\",\"id\":\"p1571\"},{\"type\":\"object\",\"name\":\"WheelZoomTool\",\"id\":\"p1572\"}]}},\"left\":[{\"type\":\"object\",\"name\":\"LinearAxis\",\"id\":\"p1563\",\"attributes\":{\"ticker\":{\"type\":\"object\",\"name\":\"BasicTicker\",\"id\":\"p1565\",\"attributes\":{\"mantissas\":[1,2,5]}},\"formatter\":{\"type\":\"object\",\"name\":\"BasicTickFormatter\",\"id\":\"p1564\"},\"major_label_policy\":{\"type\":\"object\",\"name\":\"AllLabels\",\"id\":\"p1566\"},\"fixed_location\":0}}],\"below\":[{\"type\":\"object\",\"name\":\"LinearAxis\",\"id\":\"p1556\",\"attributes\":{\"ticker\":{\"type\":\"object\",\"name\":\"BasicTicker\",\"id\":\"p1558\",\"attributes\":{\"mantissas\":[1,2,5]}},\"formatter\":{\"type\":\"object\",\"name\":\"BasicTickFormatter\",\"id\":\"p1557\"},\"major_label_policy\":{\"type\":\"object\",\"name\":\"AllLabels\",\"id\":\"p1559\"},\"fixed_location\":0}}],\"center\":[{\"type\":\"object\",\"name\":\"Grid\",\"id\":\"p1562\",\"attributes\":{\"axis\":{\"id\":\"p1556\"}}},{\"type\":\"object\",\"name\":\"Grid\",\"id\":\"p1569\",\"attributes\":{\"dimension\":1,\"axis\":{\"id\":\"p1563\"}}}]}}],\"callbacks\":{\"type\":\"map\"}}};\n",
       "  const render_items = [{\"docid\":\"5a257024-917a-4a2c-8583-f87ab6a258fe\",\"roots\":{\"p1539\":\"c4c793eb-fdc9-4fac-9465-4555b2b523ef\"},\"root_ids\":[\"p1539\"]}];\n",
       "  root.Bokeh.embed.embed_items_notebook(docs_json, render_items);\n",
       "  }\n",
       "  if (root.Bokeh !== undefined) {\n",
       "    embed_document(root);\n",
       "  } else {\n",
       "    let attempts = 0;\n",
       "    const timer = setInterval(function(root) {\n",
       "      if (root.Bokeh !== undefined) {\n",
       "        clearInterval(timer);\n",
       "        embed_document(root);\n",
       "      } else {\n",
       "        attempts++;\n",
       "        if (attempts > 100) {\n",
       "          clearInterval(timer);\n",
       "          console.log(\"Bokeh: ERROR: Unable to run BokehJS code because BokehJS library is missing\");\n",
       "        }\n",
       "      }\n",
       "    }, 10, root)\n",
       "  }\n",
       "})(window);"
      ],
      "application/vnd.bokehjs_exec.v0+json": ""
     },
     "metadata": {
      "application/vnd.bokehjs_exec.v0+json": {
       "id": "p1539"
      }
     },
     "output_type": "display_data"
    }
   ],
   "source": [
    "from bokeh.models import HoverTool, ColumnDataSource\n",
    "t=np.arange(0, 4, .001) #t>=0\n",
    "inv_lap=np.exp(-3*t)\n",
    "source=ColumnDataSource(data={\"t\":t, \"inv_lap\":inv_lap})\n",
    "\n",
    "hover=HoverTool(tooltips=[(\"(time, Amplitude)\", \"(@t, @inv_lap)\")])\n",
    "p=figure(width=600, height=300, \n",
    "        tools=[hover, \"save\", \"reset\", \"wheel_zoom\"])\n",
    "p.line(x=\"t\", y=\"inv_lap\", \n",
    "      source=source, \n",
    "      line_width=2, \n",
    "      line_color=\"DarkBlue\")\n",
    "p.xaxis.fixed_location=0\n",
    "p.yaxis.fixed_location=0\n",
    "show(p)"
   ]
  },
  {
   "cell_type": "markdown",
   "id": "cfc51957",
   "metadata": {},
   "source": [
    "3. A pole on the real axis generates an exponential response of the form $e^{−αt}$, where −α is the pole location on the real axis. Thus, the farther to the left a pole is on the negative real axis, the faster the exponential transient response will decay to zero (again, the pole at −5 generated $e^{−5t}$."
   ]
  },
  {
   "cell_type": "code",
   "execution_count": 34,
   "id": "a3cd1f5f",
   "metadata": {},
   "outputs": [],
   "source": [
    "def decay_interact(a):\n",
    "    t=np.arange(0,5, .01)\n",
    "    y=np.exp(a*t)\n",
    "    plt.figure(4,figsize=(8,4))\n",
    "    ax=plt.axes()\n",
    "    ax.plot(t, y, color=\"red\",\n",
    "             linewidth=2,\n",
    "             label=fr\"$a={a}$\")\n",
    "    #move left y axis and bottom x axis to center (0,0)\n",
    "    ax.spines[\"left\"].set_position(\"zero\")\n",
    "    ax.spines[\"bottom\"].set_position(\"zero\")\n",
    "    #Eliminate upper and right axes\n",
    "    ax.spines[\"right\"].set_visible(False)\n",
    "    ax.spines[\"top\"].set_visible(False)\n",
    "    ax.set_xlim(0, np.max(t))\n",
    "    ax.set_ylim(0, np.max(y))\n",
    "    ax.grid()\n",
    "    ax.legend()"
   ]
  },
  {
   "cell_type": "code",
   "execution_count": 35,
   "id": "46af851a",
   "metadata": {},
   "outputs": [
    {
     "data": {
      "application/vnd.jupyter.widget-view+json": {
       "model_id": "e0b0c56036124fec8657ac300e248cc1",
       "version_major": 2,
       "version_minor": 0
      },
      "text/plain": [
       "interactive(children=(FloatSlider(value=-4.1, description='a', max=-0.1, min=-8.0), Output()), _dom_classes=('…"
      ]
     },
     "metadata": {},
     "output_type": "display_data"
    },
    {
     "data": {
      "text/plain": [
       "<function __main__.decay_interact(a)>"
      ]
     },
     "execution_count": 35,
     "metadata": {},
     "output_type": "execute_result"
    }
   ],
   "source": [
    "%matplotlib inline\n",
    "interact(decay_interact, a=(-8, -0.1, 0.1))"
   ]
  },
  {
   "cell_type": "markdown",
   "id": "b1d87417",
   "metadata": {},
   "source": [
    "<img src=\"https://github.com/sayedul79/python-control-system/blob/main/image/effefct-of-real-axis-pole-upon-transient-response.png?raw=true\">\n",
    "Each pole of the system transfer function that is on the real axis\n",
    "generates an exponential response that is a component of the natural response. The\n",
    "input pole generates the forced response.\n",
    "\n",
    "\n",
    "4. The zeros and poles generate the amplitudes for both the forced and natural responses ."
   ]
  },
  {
   "cell_type": "markdown",
   "id": "bd1523e4",
   "metadata": {},
   "source": [
    "### Evaluating Response Using Poles\n",
    "<img src=\"https://github.com/sayedul79/python-control-system/blob/main/image/Evaluating%20Response%20Using%20Poles.png?raw=true\">"
   ]
  },
  {
   "cell_type": "code",
   "execution_count": 36,
   "id": "806128e8",
   "metadata": {},
   "outputs": [
    {
     "data": {
      "image/png": "[encoded data removed]",
      "text/latex": [
       "$\\displaystyle \\frac{s + 2}{s \\left(s + 3\\right) \\left(s + 4\\right) \\left(s + 5\\right)}$"
      ],
      "text/plain": [
       "          s + 2          \n",
       "─────────────────────────\n",
       "s⋅(s + 3)⋅(s + 4)⋅(s + 5)"
      ]
     },
     "execution_count": 36,
     "metadata": {},
     "output_type": "execute_result"
    }
   ],
   "source": [
    "s, t=sym.symbols(\"s, t\")\n",
    "G=(s+2)/((s+3)*(s+4)*(s+5))\n",
    "R=1/s\n",
    "C=G*R\n",
    "C"
   ]
  },
  {
   "cell_type": "code",
   "execution_count": 37,
   "id": "2157083a",
   "metadata": {},
   "outputs": [
    {
     "data": {
      "image/png": "[encoded data removed]",
      "text/latex": [
       "$\\displaystyle \\frac{3}{10 \\left(s + 5\\right)} - \\frac{1}{2 \\left(s + 4\\right)} + \\frac{1}{6 \\left(s + 3\\right)} + \\frac{1}{30 s}$"
      ],
      "text/plain": [
       "    3            1           1        1  \n",
       "────────── - ───────── + ───────── + ────\n",
       "10⋅(s + 5)   2⋅(s + 4)   6⋅(s + 3)   30⋅s"
      ]
     },
     "execution_count": 37,
     "metadata": {},
     "output_type": "execute_result"
    }
   ],
   "source": [
    "partial_fraction_C=C.apart(s)\n",
    "partial_fraction_C"
   ]
  },
  {
   "cell_type": "code",
   "execution_count": 38,
   "id": "b9f93b8b",
   "metadata": {},
   "outputs": [
    {
     "data": {
      "image/png": "[encoded data removed]",
      "text/latex": [
       "$\\displaystyle \\frac{\\theta\\left(t\\right)}{30} + \\frac{e^{- 3 t} \\theta\\left(t\\right)}{6} - \\frac{e^{- 4 t} \\theta\\left(t\\right)}{2} + \\frac{3 e^{- 5 t} \\theta\\left(t\\right)}{10}$"
      ],
      "text/plain": [
       "        -3⋅t         -4⋅t           -5⋅t     \n",
       "θ(t)   ℯ    ⋅θ(t)   ℯ    ⋅θ(t)   3⋅ℯ    ⋅θ(t)\n",
       "──── + ────────── - ────────── + ────────────\n",
       " 30        6            2             10     "
      ]
     },
     "execution_count": 38,
     "metadata": {},
     "output_type": "execute_result"
    }
   ],
   "source": [
    "c_time_domain=sym.inverse_laplace_transform(partial_fraction_C, s, t)\n",
    "c_time_domain"
   ]
  },
  {
   "cell_type": "markdown",
   "id": "408f2eaf",
   "metadata": {},
   "source": [
    "### First-order system\n",
    "We now discuss first-order systems without zeros to define a performance\n",
    "specification for such a system. A first-order system without zeros can be described by\n",
    "the transfer function $G(s)=\\dfrac {a}{s+a}$. If the input is a unit step, where $R(s) =\\dfrac{1}{s}$, the Laplace transform of the step response is $C(s)$, where $$C(s)=\\dfrac{a}{s(s+a)}$$"
   ]
  },
  {
   "cell_type": "code",
   "execution_count": 39,
   "id": "c260db03",
   "metadata": {},
   "outputs": [
    {
     "data": {
      "image/png": "[encoded data removed]",
      "text/latex": [
       "$\\displaystyle - \\frac{1}{a + s} + \\frac{1}{s}$"
      ],
      "text/plain": [
       "    1     1\n",
       "- ───── + ─\n",
       "  a + s   s"
      ]
     },
     "execution_count": 39,
     "metadata": {},
     "output_type": "execute_result"
    }
   ],
   "source": [
    "a, b, s, t=sym.symbols(\"a, b, s, t\", real=True)\n",
    "C=a/(s*(s+a))\n",
    "partial_fraction_C=C.apart(s)\n",
    "partial_fraction_C"
   ]
  },
  {
   "cell_type": "code",
   "execution_count": 40,
   "id": "076e03d0",
   "metadata": {},
   "outputs": [
    {
     "data": {
      "image/png": "[encoded data removed]",
      "text/latex": [
       "$\\displaystyle \\theta\\left(t\\right) - e^{- a t} \\theta\\left(t\\right)$"
      ],
      "text/plain": [
       "        -a⋅t     \n",
       "θ(t) - ℯ    ⋅θ(t)"
      ]
     },
     "execution_count": 40,
     "metadata": {},
     "output_type": "execute_result"
    }
   ],
   "source": [
    "c_time_domain=sym.inverse_laplace_transform(partial_fraction_C, s, t)\n",
    "c_time_domain"
   ]
  },
  {
   "cell_type": "code",
   "execution_count": 41,
   "id": "fb5e51db",
   "metadata": {},
   "outputs": [
    {
     "data": {
      "text/plain": [
       "<matplotlib.lines.Line2D at 0x133f0abde50>"
      ]
     },
     "execution_count": 41,
     "metadata": {},
     "output_type": "execute_result"
    },
    {
     "data": {
      "image/png": "[encoded data removed]",
      "text/plain": [
       "<Figure size 640x480 with 1 Axes>"
      ]
     },
     "metadata": {},
     "output_type": "display_data"
    }
   ],
   "source": [
    "a=2\n",
    "time_constant=1/a\n",
    "t=np.arange(0, 7*time_constant, step=.01)\n",
    "c_t=1-np.exp(-a*t)\n",
    "#final value of c(t) when t tends to infinity\n",
    "final_value=1\n",
    "#value of c(t) when t=one time constant \n",
    "c_time_constant_1=0.63*final_value\n",
    "#plot figure\n",
    "plt.plot(t, c_t, color=\"red\")\n",
    "plt.axvline(x=time_constant, \n",
    "            ymax=c_time_constant_1, \n",
    "            color=\"m\")\n",
    "plt.axhline(y=c_time_constant_1, \n",
    "            color=\"m\",\n",
    "            xmax=0.18)"
   ]
  },
  {
   "cell_type": "markdown",
   "id": "fd299fae",
   "metadata": {},
   "source": [
    "Let us examine the significance of parameter a, the only parameter needed to describe\n",
    "the transient response. When $t =\\dfrac{1}{a}$,\n",
    " $$e^{-at}|_{t=1/a}=e^{-1}=0.37 \\tag{1}$$\n",
    " \n",
    " \n",
    " From first order time domain response $c(t)=[1-e^{-at}]u(t)$\n",
    " At t=1/a $$c(t)|_{t=1/a}=1-e^{-at}|_{t=1/a}=1-0.37=0.63 \\tag{2}$$"
   ]
  },
  {
   "cell_type": "markdown",
   "id": "b08263c6",
   "metadata": {},
   "source": [
    "### [Time Constant](https://en.wikipedia.org/wiki/Time_constant#:~:text=In%20physics%20and%20engineering%2C%20the,a%20first%2Dorder%20LTI%20system.)\n",
    "The time constant **($\\tau$)** is the parameter characterizing the response to a step input of a first-order, linear time-invariant (LTI) system. The time constant is the main characteristic unit of a first-order LTI system.\n",
    "* We call 1/a the time constant of the response. From Eq. (1), the time constant can be described as the time for $e^{-at}$ to decay to 37% of its initial value.<img src=\"https://upload.wikimedia.org/wikipedia/commons/thumb/3/39/Series_RC_resistor_voltage.svg/800px-Series_RC_resistor_voltage.svg.png\"/> Alternately, from Eq. (2), the time constant is the time it takes for the step response to rise to 63% of its final value.<img src=\"https://upload.wikimedia.org/wikipedia/commons/thumb/0/09/Series_RC_capacitor_voltage.svg/800px-Series_RC_capacitor_voltage.svg.png\"/>\n",
    "\n",
    "\n",
    "* The reciprocal of the time constant has the units (1/seconds), or frequency. Thus, we can call the parameter **a** the **exponential frequency**. Since the derivative of $e^{{-at}$ is −a when t = 0, a is the initial rate of change of the exponential at t = 0. Thus, the time constant can be considered a transient response specification for a first-order system, since it is related to the speed at which the system responds to a step input.\n",
    "\n",
    "\n",
    "* The time constant can also be evaluated from the pole plot <img src=\"https://github.com/sayedul79/python-control-system/blob/main/image/4.4.png?raw=true\">. Since the pole of the transfer function is at −a, we can say the pole is located at the reciprocal of the time constant, and the farther the pole from the imaginary axis, the faster the transient response."
   ]
  },
  {
   "cell_type": "markdown",
   "id": "91505f09",
   "metadata": {},
   "source": [
    "### Rise Time, $T_r$\n",
    "The time required for the step response to go from 0.1 (10%) of the final\n",
    "value to 0.9 (90%) of the final value."
   ]
  },
  {
   "cell_type": "code",
   "execution_count": null,
   "id": "5417ff4d",
   "metadata": {},
   "outputs": [],
   "source": []
  }
 ],
 "metadata": {
  "kernelspec": {
   "display_name": "Python 3 (ipykernel)",
   "language": "python",
   "name": "python3"
  },
  "language_info": {
   "codemirror_mode": {
    "name": "ipython",
    "version": 3
   },
   "file_extension": ".py",
   "mimetype": "text/x-python",
   "name": "python",
   "nbconvert_exporter": "python",
   "pygments_lexer": "ipython3",
   "version": "3.11.2"
  }
 },
 "nbformat": 4,
 "nbformat_minor": 5
}
