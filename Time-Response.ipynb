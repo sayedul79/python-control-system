{
 "cells": [
  {
   "cell_type": "code",
   "execution_count": 1,
   "id": "baf975b5",
   "metadata": {},
   "outputs": [],
   "source": [
    "import numpy as np\n",
    "import control as co\n",
    "import matplotlib.pyplot as plt\n",
    "%matplotlib notebook\n",
    "#%matplotlib inline"
   ]
  },
  {
   "cell_type": "markdown",
   "id": "121f9b7d",
   "metadata": {},
   "source": [
    "### Order of a system"
   ]
  },
  {
   "cell_type": "markdown",
   "id": "fa98c9d8",
   "metadata": {},
   "source": [
    "* The order refers to the order of the equivalent differential equation representing the system\n",
    "* The order of the denominator of the transfer function after cancellation of common factors in the numerator.\n",
    "* The number of simultaneous first-order equations required for the state-space representation."
   ]
  },
  {
   "cell_type": "markdown",
   "id": "38a8cae0",
   "metadata": {},
   "source": [
    "### System Response\n",
    "**Forced response:** For linear systems, that part of the total response function due to the input. It is typically of the same form as the input and its derivatives.\n",
    "\n",
    "**Natural response:** That part of the total response function due to the system and the way the system acquires or dissipates energy\n",
    "\n",
    "The output response of a system is the sum of two responses: the forced response and the natural response."
   ]
  },
  {
   "cell_type": "markdown",
   "id": "20bf16f3",
   "metadata": {},
   "source": [
    "### Poles of a Transfer Function\n",
    "The poles of a transfer function are \n",
    "1. The values of the Laplace transform variable, s, that cause the transfer function to become infinite or \n",
    "2. Any roots of the denominator of the transfer function that are common to roots of the numerator\n",
    "\n",
    "In general, G(s) is a rational function of the form\n",
    "$$G(s) = \\dfrac {N(s)}{D(s)}$$\n",
    "When $D(s)=0$ the transfer function become to infinite.Hence the roots of $D(s)$ polynomial is called system poles.<br>\n",
    "If $G(s)=\\dfrac{s+2}{s^2+6s+25}$ then $N(s)=s+2$ and $D(s)=s^2+6s+25$\n",
    ","
   ]
  },
  {
   "cell_type": "code",
   "execution_count": 2,
   "id": "6bbdf97b",
   "metadata": {},
   "outputs": [
    {
     "data": {
      "text/latex": [
       "$$\\frac{s + 2}{s^2 + 6 s + 25}$$"
      ],
      "text/plain": [
       "TransferFunction(array([1, 2]), array([ 1,  6, 25]))"
      ]
     },
     "execution_count": 2,
     "metadata": {},
     "output_type": "execute_result"
    }
   ],
   "source": [
    "s=co.tf(\"s\")\n",
    "G=(s+2)/(s**2+6*s+25)\n",
    "G"
   ]
  },
  {
   "cell_type": "code",
   "execution_count": 3,
   "id": "91e4940d",
   "metadata": {},
   "outputs": [
    {
     "data": {
      "text/plain": [
       "array([-3.+4.j, -3.-4.j])"
      ]
     },
     "execution_count": 3,
     "metadata": {},
     "output_type": "execute_result"
    }
   ],
   "source": [
    "co.pole(G)"
   ]
  },
  {
   "cell_type": "markdown",
   "id": "927f32f2",
   "metadata": {},
   "source": [
    "The system $G(s)=\\dfrac{s+2}{s^2+6s+25}$ has two pole at $s=-3+4j$, $-3-4j$"
   ]
  },
  {
   "cell_type": "markdown",
   "id": "e924d94c",
   "metadata": {},
   "source": [
    "### Zeros of a Transfer Function\n",
    "The zeros of a transfer function are \n",
    "1. The values of the Laplace transform variable, s, that cause the transfer function to become zero or \n",
    "2. Any roots of the numerator of the transfer function that are common to roots of the denominator"
   ]
  },
  {
   "cell_type": "markdown",
   "id": "15e7e96b",
   "metadata": {},
   "source": [
    "### Pole-Zero plot"
   ]
  },
  {
   "cell_type": "markdown",
   "id": "45b050d7",
   "metadata": {},
   "source": [
    "### Poles and Zeros of a First-Order System: An Example"
   ]
  },
  {
   "cell_type": "code",
   "execution_count": null,
   "id": "a39bd7a6",
   "metadata": {},
   "outputs": [],
   "source": []
  }
 ],
 "metadata": {
  "kernelspec": {
   "display_name": "Python 3",
   "language": "python",
   "name": "python3"
  },
  "language_info": {
   "codemirror_mode": {
    "name": "ipython",
    "version": 3
   },
   "file_extension": ".py",
   "mimetype": "text/x-python",
   "name": "python",
   "nbconvert_exporter": "python",
   "pygments_lexer": "ipython3",
   "version": "3.8.5"
  }
 },
 "nbformat": 4,
 "nbformat_minor": 5
}
