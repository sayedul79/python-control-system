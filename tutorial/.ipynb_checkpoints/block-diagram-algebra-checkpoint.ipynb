{
 "cells": [
  {
   "cell_type": "markdown",
   "metadata": {},
   "source": [
    "### Import library"
   ]
  },
  {
   "cell_type": "code",
   "execution_count": 1,
   "metadata": {},
   "outputs": [],
   "source": [
    "import control as co"
   ]
  },
  {
   "cell_type": "markdown",
   "metadata": {},
   "source": [
    "### TF Representation"
   ]
  },
  {
   "cell_type": "markdown",
   "metadata": {},
   "source": [
    "$$G_1(s)=\\dfrac{10}{s^2+2s+5}$$\n",
    "\n",
    "\n",
    "$$G_2(s)=\\dfrac{1}{s+1}$$"
   ]
  },
  {
   "cell_type": "code",
   "execution_count": 3,
   "metadata": {},
   "outputs": [
    {
     "data": {
      "text/latex": [
       "$$\\frac{10}{s^2 + 2 s + 5}$$"
      ],
      "text/plain": [
       "\n",
       "      10\n",
       "-------------\n",
       "s^2 + 2 s + 5"
      ]
     },
     "execution_count": 3,
     "metadata": {},
     "output_type": "execute_result"
    }
   ],
   "source": [
    "s=co.TransferFunction.s\n",
    "G_1=10/(s**2+2*s+5)\n",
    "G_2=1/(s+1)\n",
    "G_1"
   ]
  },
  {
   "cell_type": "code",
   "execution_count": 4,
   "metadata": {},
   "outputs": [
    {
     "data": {
      "text/latex": [
       "$$\\frac{1}{s + 1}$$"
      ],
      "text/plain": [
       "\n",
       "  1\n",
       "-----\n",
       "s + 1"
      ]
     },
     "execution_count": 4,
     "metadata": {},
     "output_type": "execute_result"
    }
   ],
   "source": [
    "G_2"
   ]
  },
  {
   "cell_type": "markdown",
   "metadata": {},
   "source": [
    "### Addition"
   ]
  },
  {
   "cell_type": "code",
   "execution_count": 5,
   "metadata": {},
   "outputs": [
    {
     "data": {
      "text/latex": [
       "$$\\frac{s^2 + 12 s + 15}{s^3 + 3 s^2 + 7 s + 5}$$"
      ],
      "text/plain": [
       "\n",
       "   s^2 + 12 s + 15\n",
       "---------------------\n",
       "s^3 + 3 s^2 + 7 s + 5"
      ]
     },
     "execution_count": 5,
     "metadata": {},
     "output_type": "execute_result"
    }
   ],
   "source": [
    "G_1+G_2"
   ]
  },
  {
   "cell_type": "markdown",
   "metadata": {},
   "source": [
    "### Subtraction"
   ]
  },
  {
   "cell_type": "code",
   "execution_count": 6,
   "metadata": {},
   "outputs": [
    {
     "data": {
      "text/latex": [
       "$$\\frac{-s^2 + 8 s + 5}{s^3 + 3 s^2 + 7 s + 5}$$"
      ],
      "text/plain": [
       "\n",
       "    -s^2 + 8 s + 5\n",
       "---------------------\n",
       "s^3 + 3 s^2 + 7 s + 5"
      ]
     },
     "execution_count": 6,
     "metadata": {},
     "output_type": "execute_result"
    }
   ],
   "source": [
    "G_1-G_2"
   ]
  },
  {
   "cell_type": "markdown",
   "metadata": {},
   "source": [
    "### Multiplication"
   ]
  },
  {
   "cell_type": "code",
   "execution_count": 7,
   "metadata": {},
   "outputs": [
    {
     "data": {
      "text/latex": [
       "$$\\frac{10}{s^3 + 3 s^2 + 7 s + 5}$$"
      ],
      "text/plain": [
       "\n",
       "          10\n",
       "---------------------\n",
       "s^3 + 3 s^2 + 7 s + 5"
      ]
     },
     "execution_count": 7,
     "metadata": {},
     "output_type": "execute_result"
    }
   ],
   "source": [
    "G_1*G_2"
   ]
  },
  {
   "cell_type": "markdown",
   "metadata": {},
   "source": [
    "### Division"
   ]
  },
  {
   "cell_type": "code",
   "execution_count": 8,
   "metadata": {},
   "outputs": [
    {
     "data": {
      "text/latex": [
       "$$\\frac{10 s + 10}{s^2 + 2 s + 5}$$"
      ],
      "text/plain": [
       "\n",
       "  10 s + 10\n",
       "-------------\n",
       "s^2 + 2 s + 5"
      ]
     },
     "execution_count": 8,
     "metadata": {},
     "output_type": "execute_result"
    }
   ],
   "source": [
    "G_1/G_2"
   ]
  },
  {
   "cell_type": "code",
   "execution_count": 9,
   "metadata": {},
   "outputs": [
    {
     "data": {
      "text/latex": [
       "$$\\frac{s^2 + 2 s + 5}{10 s + 10}$$"
      ],
      "text/plain": [
       "\n",
       "s^2 + 2 s + 5\n",
       "-------------\n",
       "  10 s + 10"
      ]
     },
     "execution_count": 9,
     "metadata": {},
     "output_type": "execute_result"
    }
   ],
   "source": [
    "G_2/G_1"
   ]
  },
  {
   "cell_type": "markdown",
   "metadata": {},
   "source": [
    "### Negative"
   ]
  },
  {
   "cell_type": "code",
   "execution_count": 20,
   "metadata": {},
   "outputs": [
    {
     "data": {
      "text/latex": [
       "$$\\frac{-10}{s^2 + 2 s + 5}$$"
      ],
      "text/plain": [
       "\n",
       "     -10\n",
       "-------------\n",
       "s^2 + 2 s + 5"
      ]
     },
     "execution_count": 20,
     "metadata": {},
     "output_type": "execute_result"
    }
   ],
   "source": [
    "co.negate(G_1)"
   ]
  },
  {
   "cell_type": "markdown",
   "metadata": {},
   "source": [
    "# Series\n",
    "<img src=\"https://github.com/sayedul79/python-control-system/blob/main/image/series-block-1.png?raw=True\">"
   ]
  },
  {
   "cell_type": "markdown",
   "metadata": {},
   "source": [
    "<img src=\"https://github.com/sayedul79/python-control-system/blob/main/image/series-block-2.png?raw=True\">"
   ]
  },
  {
   "cell_type": "code",
   "execution_count": 13,
   "metadata": {},
   "outputs": [
    {
     "data": {
      "text/latex": [
       "$$\\frac{10}{s^3 + 3 s^2 + 7 s + 5}$$"
      ],
      "text/plain": [
       "\n",
       "          10\n",
       "---------------------\n",
       "s^3 + 3 s^2 + 7 s + 5"
      ]
     },
     "execution_count": 13,
     "metadata": {},
     "output_type": "execute_result"
    }
   ],
   "source": [
    "G=co.series(G_1, G_2)\n",
    "G"
   ]
  },
  {
   "cell_type": "markdown",
   "metadata": {},
   "source": [
    "# Parallel"
   ]
  },
  {
   "cell_type": "markdown",
   "metadata": {},
   "source": [
    "<img src=\"https://github.com/sayedul79/python-control-system/blob/main/image/parallel-block-1.png?raw=True\">\n",
    "\n",
    "<img src=\"https://github.com/sayedul79/python-control-system/blob/main/image/parallel-block-2.png?raw=True\">"
   ]
  },
  {
   "cell_type": "code",
   "execution_count": 14,
   "metadata": {},
   "outputs": [
    {
     "data": {
      "text/latex": [
       "$$\\frac{s^2 + 12 s + 15}{s^3 + 3 s^2 + 7 s + 5}$$"
      ],
      "text/plain": [
       "\n",
       "   s^2 + 12 s + 15\n",
       "---------------------\n",
       "s^3 + 3 s^2 + 7 s + 5"
      ]
     },
     "execution_count": 14,
     "metadata": {},
     "output_type": "execute_result"
    }
   ],
   "source": [
    "G=co.parallel(G_1, G_2)\n",
    "G"
   ]
  },
  {
   "cell_type": "markdown",
   "metadata": {},
   "source": [
    "# Feedback"
   ]
  },
  {
   "cell_type": "markdown",
   "metadata": {},
   "source": [
    "<img src=\"https://github.com/sayedul79/python-control-system/blob/main/image/feddback-block-1.png?raw=True\">\n",
    "\n",
    "<img src=\"https://github.com/sayedul79/python-control-system/blob/main/image/feedback-block-2.png?raw=True\">"
   ]
  },
  {
   "cell_type": "code",
   "execution_count": 15,
   "metadata": {},
   "outputs": [
    {
     "data": {
      "text/latex": [
       "$$\\frac{10}{s^2 + 2 s + 15}$$"
      ],
      "text/plain": [
       "\n",
       "      10\n",
       "--------------\n",
       "s^2 + 2 s + 15"
      ]
     },
     "execution_count": 15,
     "metadata": {},
     "output_type": "execute_result"
    }
   ],
   "source": [
    "H=1\n",
    "G=co.feedback(G_1, H)\n",
    "G"
   ]
  },
  {
   "cell_type": "code",
   "execution_count": 18,
   "metadata": {},
   "outputs": [
    {
     "data": {
      "text/latex": [
       "$$\\frac{10}{s^2 + 2 s - 5}$$"
      ],
      "text/plain": [
       "\n",
       "      10\n",
       "-------------\n",
       "s^2 + 2 s - 5"
      ]
     },
     "execution_count": 18,
     "metadata": {},
     "output_type": "execute_result"
    }
   ],
   "source": [
    "co.feedback(G_1, H, sign=1)"
   ]
  },
  {
   "cell_type": "code",
   "execution_count": null,
   "metadata": {},
   "outputs": [],
   "source": []
  }
 ],
 "metadata": {
  "kernelspec": {
   "display_name": "Python 3",
   "language": "python",
   "name": "python3"
  },
  "language_info": {
   "codemirror_mode": {
    "name": "ipython",
    "version": 3
   },
   "file_extension": ".py",
   "mimetype": "text/x-python",
   "name": "python",
   "nbconvert_exporter": "python",
   "pygments_lexer": "ipython3",
   "version": "3.8.2"
  }
 },
 "nbformat": 4,
 "nbformat_minor": 4
}
