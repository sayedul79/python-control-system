{
 "cells": [
  {
   "cell_type": "markdown",
   "metadata": {},
   "source": [
    "### Import library"
   ]
  },
  {
   "cell_type": "code",
   "execution_count": 6,
   "metadata": {},
   "outputs": [],
   "source": [
    "import numpy as np\n",
    "import control as co"
   ]
  },
  {
   "cell_type": "markdown",
   "metadata": {},
   "source": [
    "### Transformation from Transfer Function to State Space Representation\n",
    "\n",
    "$$\n",
    "\\dfrac{C(s)}{R(s)}=\\dfrac{s}{(s+10)(s^2+4s+16)}\n",
    "$$"
   ]
  },
  {
   "cell_type": "code",
   "execution_count": 2,
   "metadata": {},
   "outputs": [
    {
     "data": {
      "text/latex": [
       "$$\\frac{s}{s^3 + 14 s^2 + 56 s + 160}$$"
      ],
      "text/plain": [
       "\n",
       "            s\n",
       "-------------------------\n",
       "s^3 + 14 s^2 + 56 s + 160"
      ]
     },
     "execution_count": 2,
     "metadata": {},
     "output_type": "execute_result"
    }
   ],
   "source": [
    "s=co.TransferFunction.s\n",
    "G=s/((s+10)*(s**2+4*s+16))\n",
    "G"
   ]
  },
  {
   "cell_type": "code",
   "execution_count": 4,
   "metadata": {},
   "outputs": [
    {
     "data": {
      "text/plain": [
       "A = [[ -14.  -56. -160.]\n",
       " [   1.    0.    0.]\n",
       " [   0.    1.    0.]]\n",
       "\n",
       "B = [[1.]\n",
       " [0.]\n",
       " [0.]]\n",
       "\n",
       "C = [[0. 1. 0.]]\n",
       "\n",
       "D = [[0.]]"
      ]
     },
     "execution_count": 4,
     "metadata": {},
     "output_type": "execute_result"
    }
   ],
   "source": [
    "state_space=co.tf2ss(G)\n",
    "state_space"
   ]
  },
  {
   "cell_type": "code",
   "execution_count": 5,
   "metadata": {},
   "outputs": [
    {
     "data": {
      "text/plain": [
       "control.statesp.StateSpace"
      ]
     },
     "execution_count": 5,
     "metadata": {},
     "output_type": "execute_result"
    }
   ],
   "source": [
    "type(state_space)"
   ]
  },
  {
   "cell_type": "markdown",
   "metadata": {},
   "source": [
    "### Transformation from State Space Representation to Transfer Function"
   ]
  },
  {
   "cell_type": "markdown",
   "metadata": {},
   "source": [
    "\\begin{gather}\n",
    "\\begin{bmatrix}\n",
    "\\dot{x_1}\\\\\n",
    "\\dot{x_2}\\\\\n",
    "\\dot{x_3}\n",
    "\\end{bmatrix}\n",
    "=\n",
    "\\begin{bmatrix}\n",
    "0 & 1 & 0\\\\\n",
    "0 & 0 & 1\\\\\n",
    "-5 & -25 & -5\n",
    "\\end{bmatrix}\n",
    "\\begin{bmatrix}\n",
    "x_1\\\\\n",
    "x_2\\\\\n",
    "x_3\n",
    "\\end{bmatrix}\n",
    "+\n",
    "\\begin{bmatrix}\n",
    "0\\\\\n",
    "25\\\\\n",
    "-120\n",
    "\\end{bmatrix}\n",
    "r\n",
    "\\end{gather}\n",
    "\n",
    "\\begin{gather}\n",
    "y\n",
    "=\n",
    "\\begin{bmatrix}\n",
    "1 & 0 & 0\n",
    "\\end{bmatrix}\n",
    "\\begin{bmatrix}\n",
    "x_1\\\\\n",
    "x_2\\\\\n",
    "x_3\n",
    "\\end{bmatrix}\n",
    "\\end{gather}"
   ]
  },
  {
   "cell_type": "code",
   "execution_count": 7,
   "metadata": {},
   "outputs": [
    {
     "data": {
      "text/plain": [
       "array([[  0,   1,   0],\n",
       "       [  0,   0,   1],\n",
       "       [ -5, -25,  -5]])"
      ]
     },
     "execution_count": 7,
     "metadata": {},
     "output_type": "execute_result"
    }
   ],
   "source": [
    "A=np.array([[0, 1, 0],\n",
    "            [0, 0, 1], \n",
    "            [-5, -25, -5]])\n",
    "A"
   ]
  },
  {
   "cell_type": "code",
   "execution_count": 8,
   "metadata": {},
   "outputs": [
    {
     "data": {
      "text/plain": [
       "array([[   0],\n",
       "       [  25],\n",
       "       [-120]])"
      ]
     },
     "execution_count": 8,
     "metadata": {},
     "output_type": "execute_result"
    }
   ],
   "source": [
    "B=np.array([[0], \n",
    "           [25], \n",
    "           [-120]])\n",
    "B"
   ]
  },
  {
   "cell_type": "code",
   "execution_count": 11,
   "metadata": {},
   "outputs": [
    {
     "data": {
      "text/plain": [
       "array([1, 0, 0])"
      ]
     },
     "execution_count": 11,
     "metadata": {},
     "output_type": "execute_result"
    }
   ],
   "source": [
    "C=np.array([1, 0, 0])\n",
    "C"
   ]
  },
  {
   "cell_type": "code",
   "execution_count": 12,
   "metadata": {},
   "outputs": [],
   "source": [
    "D=0"
   ]
  },
  {
   "cell_type": "code",
   "execution_count": 14,
   "metadata": {},
   "outputs": [
    {
     "data": {
      "text/plain": [
       "A = [[  0.   1.   0.]\n",
       " [  0.   0.   1.]\n",
       " [ -5. -25.  -5.]]\n",
       "\n",
       "B = [[   0.]\n",
       " [  25.]\n",
       " [-120.]]\n",
       "\n",
       "C = [[1. 0. 0.]]\n",
       "\n",
       "D = [[0.]]"
      ]
     },
     "execution_count": 14,
     "metadata": {},
     "output_type": "execute_result"
    }
   ],
   "source": [
    "ss=co.StateSpace(A, B, C, D)\n",
    "ss"
   ]
  },
  {
   "cell_type": "code",
   "execution_count": 17,
   "metadata": {},
   "outputs": [
    {
     "data": {
      "text/plain": [
       "A = [[ -6. -25.]\n",
       " [  1.   0.]]\n",
       "\n",
       "B = [[1.]\n",
       " [0.]]\n",
       "\n",
       "C = [[ 0. 25.]]\n",
       "\n",
       "D = [[0.]]"
      ]
     },
     "execution_count": 17,
     "metadata": {},
     "output_type": "execute_result"
    }
   ],
   "source": [
    "s=co.TransferFunction.s\n",
    "G=25/(s**2+6*s+25)\n",
    "co.ss(G)"
   ]
  },
  {
   "cell_type": "code",
   "execution_count": 19,
   "metadata": {},
   "outputs": [
    {
     "ename": "TypeError",
     "evalue": "The one-argument constructor can only take in a StateSpace object.  Received <class 'control.xferfcn.TransferFunction'>.",
     "output_type": "error",
     "traceback": [
      "\u001b[1;31m---------------------------------------------------------------------------\u001b[0m",
      "\u001b[1;31mTypeError\u001b[0m                                 Traceback (most recent call last)",
      "\u001b[1;32m<ipython-input-19-8b95c1d1dd72>\u001b[0m in \u001b[0;36m<module>\u001b[1;34m\u001b[0m\n\u001b[1;32m----> 1\u001b[1;33m \u001b[0mco\u001b[0m\u001b[1;33m.\u001b[0m\u001b[0mStateSpace\u001b[0m\u001b[1;33m(\u001b[0m\u001b[0mG\u001b[0m\u001b[1;33m)\u001b[0m\u001b[1;33m\u001b[0m\u001b[1;33m\u001b[0m\u001b[0m\n\u001b[0m",
      "\u001b[1;32mc:\\users\\hp-npc\\appdata\\local\\programs\\python\\python38-32\\lib\\site-packages\\control\\statesp.py\u001b[0m in \u001b[0;36m__init__\u001b[1;34m(self, *args, **kw)\u001b[0m\n\u001b[0;32m    179\u001b[0m             \u001b[1;31m# Use the copy constructor.\u001b[0m\u001b[1;33m\u001b[0m\u001b[1;33m\u001b[0m\u001b[1;33m\u001b[0m\u001b[0m\n\u001b[0;32m    180\u001b[0m             \u001b[1;32mif\u001b[0m \u001b[1;32mnot\u001b[0m \u001b[0misinstance\u001b[0m\u001b[1;33m(\u001b[0m\u001b[0margs\u001b[0m\u001b[1;33m[\u001b[0m\u001b[1;36m0\u001b[0m\u001b[1;33m]\u001b[0m\u001b[1;33m,\u001b[0m \u001b[0mStateSpace\u001b[0m\u001b[1;33m)\u001b[0m\u001b[1;33m:\u001b[0m\u001b[1;33m\u001b[0m\u001b[1;33m\u001b[0m\u001b[0m\n\u001b[1;32m--> 181\u001b[1;33m                 raise TypeError(\"The one-argument constructor can only take in a StateSpace \"\n\u001b[0m\u001b[0;32m    182\u001b[0m                                 \"object.  Received %s.\" % type(args[0]))\n\u001b[0;32m    183\u001b[0m             \u001b[0mA\u001b[0m \u001b[1;33m=\u001b[0m \u001b[0margs\u001b[0m\u001b[1;33m[\u001b[0m\u001b[1;36m0\u001b[0m\u001b[1;33m]\u001b[0m\u001b[1;33m.\u001b[0m\u001b[0mA\u001b[0m\u001b[1;33m\u001b[0m\u001b[1;33m\u001b[0m\u001b[0m\n",
      "\u001b[1;31mTypeError\u001b[0m: The one-argument constructor can only take in a StateSpace object.  Received <class 'control.xferfcn.TransferFunction'>."
     ]
    }
   ],
   "source": [
    "co.StateSpace(G)"
   ]
  },
  {
   "cell_type": "code",
   "execution_count": 15,
   "metadata": {},
   "outputs": [
    {
     "data": {
      "text/plain": [
       "A = [[  0.   1.   0.]\n",
       " [  0.   0.   1.]\n",
       " [ -5. -25.  -5.]]\n",
       "\n",
       "B = [[   0.]\n",
       " [  25.]\n",
       " [-120.]]\n",
       "\n",
       "C = [[1. 0. 0.]]\n",
       "\n",
       "D = [[0.]]"
      ]
     },
     "execution_count": 15,
     "metadata": {},
     "output_type": "execute_result"
    }
   ],
   "source": [
    "co.ss(A, B, C, D)"
   ]
  },
  {
   "cell_type": "code",
   "execution_count": 22,
   "metadata": {},
   "outputs": [
    {
     "data": {
      "text/latex": [
       "$$\\frac{-1.776 \\times 10^{-15} s^2 + 25 s + 5}{s^3 + 5 s^2 + 25 s + 5}$$"
      ],
      "text/plain": [
       "\n",
       "-1.776e-15 s^2 + 25 s + 5\n",
       "-------------------------\n",
       "  s^3 + 5 s^2 + 25 s + 5"
      ]
     },
     "execution_count": 22,
     "metadata": {},
     "output_type": "execute_result"
    }
   ],
   "source": [
    "co.ss2tf(ss)"
   ]
  },
  {
   "cell_type": "code",
   "execution_count": 26,
   "metadata": {},
   "outputs": [
    {
     "data": {
      "text/plain": [
       "(A = [[ -5. -25.  -5.]\n",
       "  [  1.   0.   0.]\n",
       "  [  0.   1.   0.]]\n",
       " \n",
       " B = [[1.]\n",
       "  [0.]\n",
       "  [0.]]\n",
       " \n",
       " C = [[-1.70530257e-14  2.50000000e+01  5.00000000e+00]]\n",
       " \n",
       " D = [[0.]],\n",
       " matrix([[-2.08333333e-01, -4.08591630e-15, -8.33333333e-03],\n",
       "         [ 1.04166667e+00,  2.00000000e-01,  4.16666667e-02],\n",
       "         [-5.00833333e+00, -1.00000000e+00, -2.08333333e-01]]))"
      ]
     },
     "execution_count": 26,
     "metadata": {},
     "output_type": "execute_result"
    }
   ],
   "source": [
    "co.canonical_form(ss)"
   ]
  },
  {
   "cell_type": "code",
   "execution_count": 27,
   "metadata": {},
   "outputs": [
    {
     "data": {
      "text/plain": [
       "(A = [[ -5.   1.   0.]\n",
       "  [-25.   0.   1.]\n",
       "  [ -5.   0.   0.]]\n",
       " \n",
       " B = [[ 0.]\n",
       "  [25.]\n",
       "  [ 5.]]\n",
       " \n",
       " C = [[1. 0. 0.]]\n",
       " \n",
       " D = [[0.]],\n",
       " matrix([[ 1., -0., -0.],\n",
       "         [ 5.,  1., -0.],\n",
       "         [25.,  5.,  1.]]))"
      ]
     },
     "execution_count": 27,
     "metadata": {},
     "output_type": "execute_result"
    }
   ],
   "source": [
    "co.observable_form(ss)"
   ]
  },
  {
   "cell_type": "code",
   "execution_count": 29,
   "metadata": {},
   "outputs": [
    {
     "data": {
      "text/plain": [
       "(A = [[ -5. -25.  -5.]\n",
       "  [  1.   0.   0.]\n",
       "  [  0.   1.   0.]]\n",
       " \n",
       " B = [[1.]\n",
       "  [0.]\n",
       "  [0.]]\n",
       " \n",
       " C = [[-1.70530257e-14  2.50000000e+01  5.00000000e+00]]\n",
       " \n",
       " D = [[0.]],\n",
       " matrix([[-2.08333333e-01, -4.08591630e-15, -8.33333333e-03],\n",
       "         [ 1.04166667e+00,  2.00000000e-01,  4.16666667e-02],\n",
       "         [-5.00833333e+00, -1.00000000e+00, -2.08333333e-01]]))"
      ]
     },
     "execution_count": 29,
     "metadata": {},
     "output_type": "execute_result"
    }
   ],
   "source": [
    "co.reachable_form(ss)"
   ]
  },
  {
   "cell_type": "markdown",
   "metadata": {},
   "source": [
    "###  controller canonical form"
   ]
  },
  {
   "cell_type": "code",
   "execution_count": 31,
   "metadata": {},
   "outputs": [
    {
     "data": {
      "text/latex": [
       "$$\\frac{s^2 + 7 s + 2}{s^3 + 9 s^2 + 26 s + 24}$$"
      ],
      "text/plain": [
       "\n",
       "     s^2 + 7 s + 2\n",
       "-----------------------\n",
       "s^3 + 9 s^2 + 26 s + 24"
      ]
     },
     "execution_count": 31,
     "metadata": {},
     "output_type": "execute_result"
    }
   ],
   "source": [
    "G=(s**2+7*s+2)/(s**3+9*s**2+26*s+24)\n",
    "G"
   ]
  },
  {
   "cell_type": "code",
   "execution_count": 36,
   "metadata": {},
   "outputs": [
    {
     "data": {
      "text/plain": [
       "A = [[ -9. -26. -24.]\n",
       " [  1.   0.   0.]\n",
       " [  0.   1.   0.]]\n",
       "\n",
       "B = [[1.]\n",
       " [0.]\n",
       " [0.]]\n",
       "\n",
       "C = [[1. 7. 2.]]\n",
       "\n",
       "D = [[0.]]"
      ]
     },
     "execution_count": 36,
     "metadata": {},
     "output_type": "execute_result"
    }
   ],
   "source": [
    "ccf=co.tf2ss(G)\n",
    "# controller canonical form\n",
    "ccf"
   ]
  },
  {
   "cell_type": "code",
   "execution_count": 34,
   "metadata": {},
   "outputs": [
    {
     "data": {
      "text/plain": [
       "A = [[ -9. -26. -24.]\n",
       " [  1.   0.   0.]\n",
       " [  0.   1.   0.]]\n",
       "\n",
       "B = [[1.]\n",
       " [0.]\n",
       " [0.]]\n",
       "\n",
       "C = [[1. 7. 2.]]\n",
       "\n",
       "D = [[0.]]"
      ]
     },
     "execution_count": 34,
     "metadata": {},
     "output_type": "execute_result"
    }
   ],
   "source": [
    "co.ss(G)"
   ]
  },
  {
   "cell_type": "markdown",
   "metadata": {},
   "source": [
    "### observer canonical form,"
   ]
  },
  {
   "cell_type": "code",
   "execution_count": 37,
   "metadata": {},
   "outputs": [
    {
     "data": {
      "text/plain": [
       "(A = [[ -9.   1.   0.]\n",
       "  [-26.   0.   1.]\n",
       "  [-24.   0.   0.]]\n",
       " \n",
       " B = [[1.]\n",
       "  [7.]\n",
       "  [2.]]\n",
       " \n",
       " C = [[1. 0. 0.]]\n",
       " \n",
       " D = [[0.]],\n",
       " matrix([[   1.,    7.,    2.],\n",
       "         [   7.,   39.,   -6.],\n",
       "         [   2.,   -6., -116.]]))"
      ]
     },
     "execution_count": 37,
     "metadata": {},
     "output_type": "execute_result"
    }
   ],
   "source": [
    "co.observable_form(ccf)"
   ]
  },
  {
   "cell_type": "code",
   "execution_count": 38,
   "metadata": {},
   "outputs": [
    {
     "data": {
      "text/plain": [
       "(A = [[ -9. -26. -24.]\n",
       "  [  1.   0.   0.]\n",
       "  [  0.   1.   0.]]\n",
       " \n",
       " B = [[1.]\n",
       "  [0.]\n",
       "  [0.]]\n",
       " \n",
       " C = [[1. 7. 2.]]\n",
       " \n",
       " D = [[0.]],\n",
       " matrix([[ 1.00000000e+00,  3.51855297e-15, -1.15463195e-14],\n",
       "         [-3.22973971e-17,  1.00000000e+00,  1.44328993e-15],\n",
       "         [ 0.00000000e+00, -0.00000000e+00,  1.00000000e+00]]))"
      ]
     },
     "execution_count": 38,
     "metadata": {},
     "output_type": "execute_result"
    }
   ],
   "source": [
    "co.reachable_form(ccf)"
   ]
  },
  {
   "cell_type": "code",
   "execution_count": null,
   "metadata": {},
   "outputs": [],
   "source": []
  }
 ],
 "metadata": {
  "kernelspec": {
   "display_name": "Python 3",
   "language": "python",
   "name": "python3"
  },
  "language_info": {
   "codemirror_mode": {
    "name": "ipython",
    "version": 3
   },
   "file_extension": ".py",
   "mimetype": "text/x-python",
   "name": "python",
   "nbconvert_exporter": "python",
   "pygments_lexer": "ipython3",
   "version": "3.8.2"
  }
 },
 "nbformat": 4,
 "nbformat_minor": 4
}
