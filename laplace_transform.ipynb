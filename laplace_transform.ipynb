{
 "cells": [
  {
   "cell_type": "markdown",
   "metadata": {},
   "source": [
    "Laplace Transform\n",
    "==============="
   ]
  },
  {
   "cell_type": "markdown",
   "metadata": {},
   "source": [
    "The Laplace transform of a function $f(t)$ is defined by the equation\n",
    "$$\\mathcal{L}\\{f(t)\\} = F(s)=\\int_{0}^\\infty f(t) e^{-st}dt$$\n",
    "where `s` is the complex frequency\n",
    "$$s=\\sigma +j\\omega$$\n",
    "and the function $f(t)$ is assumed to possess the property that\n",
    "$f(t)=0$ for $t<0$<br>\n",
    "Note that the Laplace transform is unilateral $(0\\leq t < \\infty)$, in contrast to the Fourier transform, which is bilateral $(-\\infty <t<\\infty)$. In our analysis of circuits using the Laplace transform, we will focus our attention on the time interval $t\\geq 0$(causal system). It is the initial conditions that account for the operation of the circuit prior to $t = 0$; therefore, our analyses will describe the circuit operation for $t\\geq 0$.\n",
    "<br>\n",
    "A function $f(t)$ may not have a Laplace transform $F(s)$ or $f(t)$ to have a Laplace transform when the integral in $\\int_{0}^\\infty f(t) e^{-st}dt$ must converge to a finite value. <br>Because $$|e^{j\\omega t}\n",
    "| = 1$$ for any value of $t$, the integral converges when\n",
    " $$\\int_{0}^\\infty |f(t)e^{(-\\sigma +j\\omega)t}|dt<\\infty\n",
    " =\\int_{0}^\\infty e^{-\\sigma t} |f(t)|dt<\\infty$$"
   ]
  },
  {
   "cell_type": "markdown",
   "metadata": {},
   "source": [
    "### [Region of Convergence (ROC)](https://eng.libretexts.org/Bookshelves/Electrical_Engineering/Signal_Processing_and_Modeling/Book%3A_Signals_and_Systems_(Baraniuk_et_al.)/11%3A_Laplace_Transform_and_Continuous_Time_System_Design/11.06%3A_Region_of_Convergence_for_the_Laplace_Transform) also [see](http://fourier.eng.hmc.edu/e102/lectures/Laplace_Transform/node2.html)\n",
    "$F(s)$ is undefined outside the region of convergence. Fortunately, all functions of interest in circuit analysis satisfy the\n",
    "convergence criterion and have Laplace transforms"
   ]
  },
  {
   "cell_type": "markdown",
   "metadata": {},
   "source": [
    "### Import library"
   ]
  },
  {
   "cell_type": "code",
   "execution_count": 1,
   "metadata": {},
   "outputs": [],
   "source": [
    "#pip install sympy\n",
    "import numpy as np\n",
    "import sympy as sym\n",
    "import matplotlib.pyplot as plt\n",
    "#%matplotlib notebook\n",
    "%matplotlib inline\n",
    "sym.init_printing()"
   ]
  },
  {
   "cell_type": "code",
   "execution_count": 2,
   "metadata": {},
   "outputs": [
    {
     "data": {
      "text/plain": [
       "'1.9'"
      ]
     },
     "execution_count": 2,
     "metadata": {},
     "output_type": "execute_result"
    }
   ],
   "source": [
    "sym.__version__"
   ]
  },
  {
   "cell_type": "code",
   "execution_count": 3,
   "metadata": {},
   "outputs": [],
   "source": [
    "t, s = sym.symbols('t, s')\n",
    "a = sym.symbols('a', real=True, positive=True)"
   ]
  },
  {
   "cell_type": "markdown",
   "metadata": {},
   "source": [
    "### Step input"
   ]
  },
  {
   "cell_type": "markdown",
   "metadata": {},
   "source": [
    "The unit step function is also known as the Heaviside step function. We will see this function often in inverse laplace transforms. It is typeset as $\\theta(t)$ by sympy."
   ]
  },
  {
   "cell_type": "code",
   "execution_count": 4,
   "metadata": {},
   "outputs": [
    {
     "data": {
      "image/png": "[encoded data removed]",
      "text/latex": [
       "$\\displaystyle \\theta\\left(t\\right)$"
      ],
      "text/plain": [
       "θ(t)"
      ]
     },
     "execution_count": 4,
     "metadata": {},
     "output_type": "execute_result"
    }
   ],
   "source": [
    "step=sym.Heaviside(t)\n",
    "step"
   ]
  },
  {
   "cell_type": "code",
   "execution_count": 5,
   "metadata": {},
   "outputs": [
    {
     "data": {
      "image/png": "[encoded data removed]",
      "text/plain": [
       "<Figure size 432x288 with 1 Axes>"
      ]
     },
     "metadata": {
      "needs_background": "light"
     },
     "output_type": "display_data"
    },
    {
     "data": {
      "text/plain": [
       "<sympy.plotting.plot.Plot at 0xc548c40>"
      ]
     },
     "execution_count": 5,
     "metadata": {},
     "output_type": "execute_result"
    }
   ],
   "source": [
    "sym.plot(sym.Heaviside(t), line_color='red')"
   ]
  },
  {
   "cell_type": "code",
   "execution_count": 6,
   "metadata": {},
   "outputs": [
    {
     "data": {
      "image/png": "[encoded data removed]",
      "text/latex": [
       "$\\displaystyle \\left( \\frac{1}{s}, \\  0, \\  \\text{True}\\right)$"
      ],
      "text/plain": [
       "⎛1         ⎞\n",
       "⎜─, 0, True⎟\n",
       "⎝s         ⎠"
      ]
     },
     "execution_count": 6,
     "metadata": {},
     "output_type": "execute_result"
    }
   ],
   "source": [
    "sym.laplace_transform(step, t, s)"
   ]
  },
  {
   "cell_type": "markdown",
   "metadata": {},
   "source": [
    "### Impulse input"
   ]
  },
  {
   "cell_type": "code",
   "execution_count": 7,
   "metadata": {},
   "outputs": [
    {
     "data": {
      "image/png": "[encoded data removed]",
      "text/latex": [
       "$\\displaystyle \\delta\\left(t\\right)$"
      ],
      "text/plain": [
       "δ(t)"
      ]
     },
     "execution_count": 7,
     "metadata": {},
     "output_type": "execute_result"
    }
   ],
   "source": [
    "impulse=sym.DiracDelta(t)\n",
    "impulse"
   ]
  },
  {
   "cell_type": "code",
   "execution_count": 8,
   "metadata": {},
   "outputs": [
    {
     "data": {
      "image/png": "[encoded data removed]",
      "text/latex": [
       "$\\displaystyle \\left( 1, \\  -\\infty, \\  \\text{True}\\right)$"
      ],
      "text/plain": [
       "(1, -∞, True)"
      ]
     },
     "execution_count": 8,
     "metadata": {},
     "output_type": "execute_result"
    }
   ],
   "source": [
    "sym.laplace_transform(impulse, t, s)"
   ]
  },
  {
   "cell_type": "code",
   "execution_count": 9,
   "metadata": {},
   "outputs": [
    {
     "data": {
      "image/png": "[encoded data removed]",
      "text/latex": [
       "$\\displaystyle 1$"
      ],
      "text/plain": [
       "1"
      ]
     },
     "execution_count": 9,
     "metadata": {},
     "output_type": "execute_result"
    }
   ],
   "source": [
    "sym.laplace_transform(sym.DiracDelta(t), t, s, noconds=True)"
   ]
  },
  {
   "cell_type": "markdown",
   "metadata": {},
   "source": [
    "### Example\n",
    "Obtain the Laplace transform of $f(t) = \\delta (t) + 2u(t)-3e^{-2t}u(t)$"
   ]
  },
  {
   "cell_type": "code",
   "execution_count": 10,
   "metadata": {},
   "outputs": [
    {
     "data": {
      "image/png": "[encoded data removed]",
      "text/latex": [
       "$\\displaystyle \\delta\\left(t\\right) + 2 \\theta\\left(t\\right) - 3 e^{- 2 t} \\theta\\left(t\\right)$"
      ],
      "text/plain": [
       "                   -2⋅t     \n",
       "δ(t) + 2⋅θ(t) - 3⋅ℯ    ⋅θ(t)"
      ]
     },
     "execution_count": 10,
     "metadata": {},
     "output_type": "execute_result"
    }
   ],
   "source": [
    "delta=sym.DiracDelta(t)\n",
    "step=sym.Heaviside(t)\n",
    "exp=sym.exp(-2*t)\n",
    "f=delta+2*step-3*exp*step\n",
    "f"
   ]
  },
  {
   "cell_type": "code",
   "execution_count": 11,
   "metadata": {},
   "outputs": [
    {
     "data": {
      "image/png": "[encoded data removed]",
      "text/latex": [
       "$\\displaystyle 1 - \\frac{3}{s + 2} + \\frac{2}{s}$"
      ],
      "text/plain": [
       "      3     2\n",
       "1 - ───── + ─\n",
       "    s + 2   s"
      ]
     },
     "execution_count": 11,
     "metadata": {},
     "output_type": "execute_result"
    }
   ],
   "source": [
    "sym.laplace_transform(f, t, s, noconds=True)"
   ]
  },
  {
   "cell_type": "markdown",
   "metadata": {},
   "source": [
    "Find the laplace transform $g(t)=10[u(t-2)-u(t-3)]$"
   ]
  },
  {
   "cell_type": "code",
   "execution_count": 12,
   "metadata": {},
   "outputs": [
    {
     "data": {
      "image/png": "[encoded data removed]",
      "text/latex": [
       "$\\displaystyle - 10 \\theta\\left(t - 3\\right) + 10 \\theta\\left(t - 2\\right)$"
      ],
      "text/plain": [
       "-10⋅θ(t - 3) + 10⋅θ(t - 2)"
      ]
     },
     "execution_count": 12,
     "metadata": {},
     "output_type": "execute_result"
    }
   ],
   "source": [
    "g=10*sym.Heaviside(t-2)-10*sym.Heaviside(t-3)\n",
    "g"
   ]
  },
  {
   "cell_type": "code",
   "execution_count": 13,
   "metadata": {},
   "outputs": [
    {
     "data": {
      "image/png": "[encoded data removed]",
      "text/latex": [
       "$\\displaystyle \\frac{\\left(10 e^{s} - 10\\right) e^{- 3 s}}{s}$"
      ],
      "text/plain": [
       "⎛    s     ⎞  -3⋅s\n",
       "⎝10⋅ℯ  - 10⎠⋅ℯ    \n",
       "──────────────────\n",
       "        s         "
      ]
     },
     "execution_count": 13,
     "metadata": {},
     "output_type": "execute_result"
    }
   ],
   "source": [
    "sym.laplace_transform(g, t, s, noconds=True)"
   ]
  },
  {
   "cell_type": "code",
   "execution_count": 14,
   "metadata": {},
   "outputs": [
    {
     "data": {
      "image/png": "[encoded data removed]",
      "text/plain": [
       "<Figure size 432x288 with 1 Axes>"
      ]
     },
     "metadata": {
      "needs_background": "light"
     },
     "output_type": "display_data"
    },
    {
     "data": {
      "text/plain": [
       "<sympy.plotting.plot.Plot at 0xda834f0>"
      ]
     },
     "execution_count": 14,
     "metadata": {},
     "output_type": "execute_result"
    }
   ],
   "source": [
    "sym.plot(g, line_color='r')"
   ]
  },
  {
   "cell_type": "markdown",
   "metadata": {},
   "source": [
    "### Direct evaluation\n",
    "We start with simple function"
   ]
  },
  {
   "cell_type": "code",
   "execution_count": 15,
   "metadata": {},
   "outputs": [
    {
     "data": {
      "image/png": "[encoded data removed]",
      "text/latex": [
       "$\\displaystyle e^{- a t}$"
      ],
      "text/plain": [
       " -a⋅t\n",
       "ℯ    "
      ]
     },
     "execution_count": 15,
     "metadata": {},
     "output_type": "execute_result"
    }
   ],
   "source": [
    "f=sym.exp(-a*t)\n",
    "f"
   ]
  },
  {
   "cell_type": "markdown",
   "metadata": {},
   "source": [
    "We can evaluate the integral directly using `integrate`"
   ]
  },
  {
   "cell_type": "code",
   "execution_count": 16,
   "metadata": {},
   "outputs": [
    {
     "data": {
      "image/png": "[encoded data removed]",
      "text/latex": [
       "$\\displaystyle \\begin{cases} \\frac{1}{s \\left(\\frac{a}{s} + 1\\right)} & \\text{for}\\: \\left|{\\arg{\\left(s \\right)}}\\right| \\leq \\frac{\\pi}{2} \\\\\\int\\limits_{0}^{\\infty} e^{- a t} e^{- s t}\\, dt & \\text{otherwise} \\end{cases}$"
      ],
      "text/plain": [
       "⎧       1                         π\n",
       "⎪   ─────────      for │arg(s)│ ≤ ─\n",
       "⎪     ⎛a    ⎞                     2\n",
       "⎪   s⋅⎜─ + 1⎟                      \n",
       "⎪     ⎝s    ⎠                      \n",
       "⎪                                  \n",
       "⎨∞                                 \n",
       "⎪⌠                                 \n",
       "⎪⎮  -a⋅t  -s⋅t                     \n",
       "⎪⎮ ℯ    ⋅ℯ     dt     otherwise    \n",
       "⎪⌡                                 \n",
       "⎪0                                 \n",
       "⎩                                  "
      ]
     },
     "execution_count": 16,
     "metadata": {},
     "output_type": "execute_result"
    }
   ],
   "source": [
    "sym.integrate(f*sym.exp(-s*t), (t, 0, sym.oo))"
   ]
  },
  {
   "cell_type": "markdown",
   "metadata": {},
   "source": [
    "This works, but it is a bit cumbersome to have all the extra stuff in there. \n",
    "\n",
    "Sympy provides a function called `laplace_transform` which does this more efficiently. By default it will return conditions of convergence as well (recall this is an improper integral, with an infinite bound, so it will not always converge)."
   ]
  },
  {
   "cell_type": "code",
   "execution_count": 17,
   "metadata": {},
   "outputs": [
    {
     "data": {
      "image/png": "[encoded data removed]",
      "text/latex": [
       "$\\displaystyle \\left( \\frac{1}{a + s}, \\  0, \\  \\text{True}\\right)$"
      ],
      "text/plain": [
       "⎛  1           ⎞\n",
       "⎜─────, 0, True⎟\n",
       "⎝a + s         ⎠"
      ]
     },
     "execution_count": 17,
     "metadata": {},
     "output_type": "execute_result"
    }
   ],
   "source": [
    "sym.laplace_transform(f, t, s)"
   ]
  },
  {
   "cell_type": "markdown",
   "metadata": {},
   "source": [
    "If we want just the function, we can specify `noconds=True`."
   ]
  },
  {
   "cell_type": "code",
   "execution_count": 18,
   "metadata": {},
   "outputs": [
    {
     "data": {
      "image/png": "[encoded data removed]",
      "text/latex": [
       "$\\displaystyle \\frac{1}{a + s}$"
      ],
      "text/plain": [
       "  1  \n",
       "─────\n",
       "a + s"
      ]
     },
     "execution_count": 18,
     "metadata": {},
     "output_type": "execute_result"
    }
   ],
   "source": [
    "F = sym.laplace_transform(f, t, s, noconds=True)\n",
    "F"
   ]
  },
  {
   "cell_type": "markdown",
   "metadata": {},
   "source": [
    "We will find it useful to define a quicker version of this:"
   ]
  },
  {
   "cell_type": "code",
   "execution_count": 19,
   "metadata": {},
   "outputs": [],
   "source": [
    "def L(f):\n",
    "    return sym.laplace_transform(f, t, s, noconds=True)"
   ]
  },
  {
   "cell_type": "markdown",
   "metadata": {},
   "source": [
    "Inverse laplace transform are simple as well"
   ]
  },
  {
   "cell_type": "code",
   "execution_count": 20,
   "metadata": {},
   "outputs": [],
   "source": [
    "def invL(F):\n",
    "    return sym.inverse_laplace_transform(F, s,t)"
   ]
  },
  {
   "cell_type": "code",
   "execution_count": 21,
   "metadata": {},
   "outputs": [
    {
     "data": {
      "image/png": "[encoded data removed]",
      "text/latex": [
       "$\\displaystyle \\frac{1}{a + s}$"
      ],
      "text/plain": [
       "  1  \n",
       "─────\n",
       "a + s"
      ]
     },
     "execution_count": 21,
     "metadata": {},
     "output_type": "execute_result"
    }
   ],
   "source": [
    "F=L(sym.exp(-a*t))\n",
    "F"
   ]
  },
  {
   "cell_type": "code",
   "execution_count": 22,
   "metadata": {},
   "outputs": [
    {
     "data": {
      "image/png": "[encoded data removed]",
      "text/latex": [
       "$\\displaystyle e^{- a t} \\theta\\left(t\\right)$"
      ],
      "text/plain": [
       " -a⋅t     \n",
       "ℯ    ⋅θ(t)"
      ]
     },
     "execution_count": 22,
     "metadata": {},
     "output_type": "execute_result"
    }
   ],
   "source": [
    "expr=invL(F)\n",
    "expr"
   ]
  },
  {
   "cell_type": "code",
   "execution_count": 23,
   "metadata": {},
   "outputs": [
    {
     "data": {
      "image/png": "[encoded data removed]",
      "text/plain": [
       "<Figure size 432x288 with 1 Axes>"
      ]
     },
     "metadata": {
      "needs_background": "light"
     },
     "output_type": "display_data"
    }
   ],
   "source": [
    "p = sym.plot(f.subs(a,2), invL(F).subs(a,2), \n",
    "               xlim=(-1, 4), ylim=(0, 3), show=False)\n",
    "p[1].line_color = 'red'\n",
    "p.show()"
   ]
  },
  {
   "cell_type": "code",
   "execution_count": 24,
   "metadata": {},
   "outputs": [
    {
     "data": {
      "image/png": "[encoded data removed]",
      "text/latex": [
       "$\\displaystyle \\left[ 1, \\  t, \\  e^{- a t}, \\  t e^{- a t}, \\  t^{2} e^{- a t}, \\  \\sin{\\left(\\omega t \\right)}, \\  \\cos{\\left(\\omega t \\right)}, \\  1 - e^{- a t}, \\  e^{- a t} \\sin{\\left(\\omega t \\right)}, \\  e^{- a t} \\cos{\\left(\\omega t \\right)}\\right]$"
      ],
      "text/plain": [
       "⎡       -a⋅t     -a⋅t   2  -a⋅t                           -a⋅t   -a⋅t         \n",
       "⎣1, t, ℯ    , t⋅ℯ    , t ⋅ℯ    , sin(ω⋅t), cos(ω⋅t), 1 - ℯ    , ℯ    ⋅sin(ω⋅t)\n",
       "\n",
       "   -a⋅t         ⎤\n",
       ", ℯ    ⋅cos(ω⋅t)⎦"
      ]
     },
     "execution_count": 24,
     "metadata": {},
     "output_type": "execute_result"
    }
   ],
   "source": [
    "omega = sym.Symbol('omega', real=True)\n",
    "exp = sym.exp\n",
    "sin = sym.sin\n",
    "cos = sym.cos\n",
    "functions = [1,\n",
    "         t,\n",
    "         exp(-a*t),\n",
    "         t*exp(-a*t),\n",
    "         t**2*exp(-a*t),\n",
    "         sin(omega*t),\n",
    "         cos(omega*t),\n",
    "         1 - exp(-a*t),\n",
    "         exp(-a*t)*sin(omega*t),\n",
    "         exp(-a*t)*cos(omega*t),\n",
    "         ]\n",
    "functions"
   ]
  },
  {
   "cell_type": "code",
   "execution_count": 25,
   "metadata": {},
   "outputs": [
    {
     "data": {
      "image/png": "[encoded data removed]",
      "text/latex": [
       "$\\displaystyle \\left[ \\frac{1}{s}, \\  \\frac{1}{s^{2}}, \\  \\frac{1}{a + s}, \\  \\frac{1}{\\left(a + s\\right)^{2}}, \\  \\frac{2}{\\left(a + s\\right)^{3}}, \\  \\frac{\\omega}{\\omega^{2} + s^{2}}, \\  \\frac{s}{\\omega^{2} + s^{2}}, \\  \\frac{a}{s \\left(a + s\\right)}, \\  \\frac{\\omega}{\\omega^{2} + \\left(a + s\\right)^{2}}, \\  \\frac{a + s}{\\omega^{2} + \\left(a + s\\right)^{2}}\\right]$"
      ],
      "text/plain": [
       "⎡1  1     1       1         2         ω        s         a            ω       \n",
       "⎢─, ──, ─────, ────────, ────────, ───────, ───────, ─────────, ─────────────,\n",
       "⎢s   2  a + s         2         3   2    2   2    2  s⋅(a + s)   2          2 \n",
       "⎣   s          (a + s)   (a + s)   ω  + s   ω  + s              ω  + (a + s)  \n",
       "\n",
       "     a + s    ⎤\n",
       " ─────────────⎥\n",
       "  2          2⎥\n",
       " ω  + (a + s) ⎦"
      ]
     },
     "execution_count": 25,
     "metadata": {},
     "output_type": "execute_result"
    }
   ],
   "source": [
    "F=[L(f) for f in functions]\n",
    "F"
   ]
  },
  {
   "cell_type": "code",
   "execution_count": 26,
   "metadata": {},
   "outputs": [],
   "source": [
    "from pandas import DataFrame"
   ]
  },
  {
   "cell_type": "code",
   "execution_count": 27,
   "metadata": {},
   "outputs": [
    {
     "data": {
      "text/html": [
       "<div>\n",
       "<style scoped>\n",
       "    .dataframe tbody tr th:only-of-type {\n",
       "        vertical-align: middle;\n",
       "    }\n",
       "\n",
       "    .dataframe tbody tr th {\n",
       "        vertical-align: top;\n",
       "    }\n",
       "\n",
       "    .dataframe thead th {\n",
       "        text-align: right;\n",
       "    }\n",
       "</style>\n",
       "<table border=\"1\" class=\"dataframe\">\n",
       "  <thead>\n",
       "    <tr style=\"text-align: right;\">\n",
       "      <th></th>\n",
       "      <th>Time Domain</th>\n",
       "      <th>Laplace Domain</th>\n",
       "    </tr>\n",
       "  </thead>\n",
       "  <tbody>\n",
       "    <tr>\n",
       "      <th>0</th>\n",
       "      <td>$$1$$</td>\n",
       "      <td>$$\\frac{1}{s}$$</td>\n",
       "    </tr>\n",
       "    <tr>\n",
       "      <th>1</th>\n",
       "      <td>$$t$$</td>\n",
       "      <td>$$\\frac{1}{s^{2}}$$</td>\n",
       "    </tr>\n",
       "    <tr>\n",
       "      <th>2</th>\n",
       "      <td>$$e^{- a t}$$</td>\n",
       "      <td>$$\\frac{1}{a + s}$$</td>\n",
       "    </tr>\n",
       "    <tr>\n",
       "      <th>3</th>\n",
       "      <td>$$t e^{- a t}$$</td>\n",
       "      <td>$$\\frac{1}{\\left(a + s\\right)^{2}}$$</td>\n",
       "    </tr>\n",
       "    <tr>\n",
       "      <th>4</th>\n",
       "      <td>$$t^{2} e^{- a t}$$</td>\n",
       "      <td>$$\\frac{2}{\\left(a + s\\right)^{3}}$$</td>\n",
       "    </tr>\n",
       "    <tr>\n",
       "      <th>5</th>\n",
       "      <td>$$\\sin{\\left(\\omega t \\right)}$$</td>\n",
       "      <td>$$\\frac{\\omega}{\\omega^{2} + s^{2}}$$</td>\n",
       "    </tr>\n",
       "    <tr>\n",
       "      <th>6</th>\n",
       "      <td>$$\\cos{\\left(\\omega t \\right)}$$</td>\n",
       "      <td>$$\\frac{s}{\\omega^{2} + s^{2}}$$</td>\n",
       "    </tr>\n",
       "    <tr>\n",
       "      <th>7</th>\n",
       "      <td>$$1 - e^{- a t}$$</td>\n",
       "      <td>$$\\frac{a}{s \\left(a + s\\right)}$$</td>\n",
       "    </tr>\n",
       "    <tr>\n",
       "      <th>8</th>\n",
       "      <td>$$e^{- a t} \\sin{\\left(\\omega t \\right)}$$</td>\n",
       "      <td>$$\\frac{\\omega}{\\omega^{2} + \\left(a + s\\right...</td>\n",
       "    </tr>\n",
       "    <tr>\n",
       "      <th>9</th>\n",
       "      <td>$$e^{- a t} \\cos{\\left(\\omega t \\right)}$$</td>\n",
       "      <td>$$\\frac{a + s}{\\omega^{2} + \\left(a + s\\right)...</td>\n",
       "    </tr>\n",
       "  </tbody>\n",
       "</table>\n",
       "</div>"
      ],
      "text/plain": [
       "                                  Time Domain  \\\n",
       "0                                       $$1$$   \n",
       "1                                       $$t$$   \n",
       "2                               $$e^{- a t}$$   \n",
       "3                             $$t e^{- a t}$$   \n",
       "4                         $$t^{2} e^{- a t}$$   \n",
       "5            $$\\sin{\\left(\\omega t \\right)}$$   \n",
       "6            $$\\cos{\\left(\\omega t \\right)}$$   \n",
       "7                           $$1 - e^{- a t}$$   \n",
       "8  $$e^{- a t} \\sin{\\left(\\omega t \\right)}$$   \n",
       "9  $$e^{- a t} \\cos{\\left(\\omega t \\right)}$$   \n",
       "\n",
       "                                      Laplace Domain  \n",
       "0                                    $$\\frac{1}{s}$$  \n",
       "1                                $$\\frac{1}{s^{2}}$$  \n",
       "2                                $$\\frac{1}{a + s}$$  \n",
       "3               $$\\frac{1}{\\left(a + s\\right)^{2}}$$  \n",
       "4               $$\\frac{2}{\\left(a + s\\right)^{3}}$$  \n",
       "5              $$\\frac{\\omega}{\\omega^{2} + s^{2}}$$  \n",
       "6                   $$\\frac{s}{\\omega^{2} + s^{2}}$$  \n",
       "7                 $$\\frac{a}{s \\left(a + s\\right)}$$  \n",
       "8  $$\\frac{\\omega}{\\omega^{2} + \\left(a + s\\right...  \n",
       "9  $$\\frac{a + s}{\\omega^{2} + \\left(a + s\\right)...  "
      ]
     },
     "execution_count": 27,
     "metadata": {},
     "output_type": "execute_result"
    }
   ],
   "source": [
    "def LatexFunction(func):\n",
    "    return [\"$${}$$\".format(sym.latex(x)) for x in func]\n",
    "table=DataFrame(LatexFunction(F), LatexFunction(functions)).reset_index()\n",
    "table.columns=[\"Time Domain\", \"Laplace Domain\"]\n",
    "table"
   ]
  },
  {
   "cell_type": "markdown",
   "metadata": {},
   "source": [
    "<img src=\"https://github.com/sayedul79/python-control-system/blob/main/image/laplace-transform-theorem.PNG?raw=true\">"
   ]
  },
  {
   "cell_type": "markdown",
   "metadata": {},
   "source": [
    "### Partial fraction expansion"
   ]
  },
  {
   "cell_type": "markdown",
   "metadata": {},
   "source": [
    "#### Case 1. Roots of the Denominator of $F(s)$ Are Real and Distinct\n",
    "$$F(s)=\\dfrac{2}{(s+1)(s+2)}$$"
   ]
  },
  {
   "cell_type": "code",
   "execution_count": 28,
   "metadata": {},
   "outputs": [
    {
     "data": {
      "image/png": "[encoded data removed]",
      "text/latex": [
       "$\\displaystyle \\frac{2}{\\left(s + 1\\right) \\left(s + 2\\right)}$"
      ],
      "text/plain": [
       "       2       \n",
       "───────────────\n",
       "(s + 1)⋅(s + 2)"
      ]
     },
     "execution_count": 28,
     "metadata": {},
     "output_type": "execute_result"
    }
   ],
   "source": [
    "F=2/((s+1)*(s+2))\n",
    "F"
   ]
  },
  {
   "cell_type": "code",
   "execution_count": 29,
   "metadata": {},
   "outputs": [
    {
     "data": {
      "image/png": "[encoded data removed]",
      "text/latex": [
       "$\\displaystyle - \\frac{2}{s + 2} + \\frac{2}{s + 1}$"
      ],
      "text/plain": [
       "    2       2  \n",
       "- ───── + ─────\n",
       "  s + 2   s + 1"
      ]
     },
     "execution_count": 29,
     "metadata": {},
     "output_type": "execute_result"
    }
   ],
   "source": [
    "partial_frac=F.apart(s)\n",
    "partial_frac"
   ]
  },
  {
   "cell_type": "code",
   "execution_count": 30,
   "metadata": {},
   "outputs": [
    {
     "data": {
      "image/png": "[encoded data removed]",
      "text/latex": [
       "$\\displaystyle 2 \\left(e^{t} - 1\\right) e^{- 2 t} \\theta\\left(t\\right)$"
      ],
      "text/plain": [
       "  ⎛ t    ⎞  -2⋅t     \n",
       "2⋅⎝ℯ  - 1⎠⋅ℯ    ⋅θ(t)"
      ]
     },
     "execution_count": 30,
     "metadata": {},
     "output_type": "execute_result"
    }
   ],
   "source": [
    "sym.inverse_laplace_transform(F, s, t)"
   ]
  },
  {
   "cell_type": "markdown",
   "metadata": {},
   "source": [
    "#### Case 2. Roots of the Denominator of $F(s)$ Are Real and Repeated\n",
    "$$F(s)=\\frac{2}{(s+1)(s+2)^2}$$"
   ]
  },
  {
   "cell_type": "code",
   "execution_count": 31,
   "metadata": {},
   "outputs": [
    {
     "data": {
      "image/png": "[encoded data removed]",
      "text/latex": [
       "$\\displaystyle \\frac{2}{\\left(s + 1\\right) \\left(s + 2\\right)^{2}}$"
      ],
      "text/plain": [
       "       2        \n",
       "────────────────\n",
       "               2\n",
       "(s + 1)⋅(s + 2) "
      ]
     },
     "execution_count": 31,
     "metadata": {},
     "output_type": "execute_result"
    }
   ],
   "source": [
    "F=2/((s+1)*(s+2)**2)\n",
    "F"
   ]
  },
  {
   "cell_type": "code",
   "execution_count": 32,
   "metadata": {},
   "outputs": [
    {
     "data": {
      "image/png": "[encoded data removed]",
      "text/latex": [
       "$\\displaystyle - \\frac{2}{s + 2} - \\frac{2}{\\left(s + 2\\right)^{2}} + \\frac{2}{s + 1}$"
      ],
      "text/plain": [
       "    2        2         2  \n",
       "- ───── - ──────── + ─────\n",
       "  s + 2          2   s + 1\n",
       "          (s + 2)         "
      ]
     },
     "execution_count": 32,
     "metadata": {},
     "output_type": "execute_result"
    }
   ],
   "source": [
    "partial_frac=F.apart(s)\n",
    "partial_frac"
   ]
  },
  {
   "cell_type": "code",
   "execution_count": 33,
   "metadata": {},
   "outputs": [
    {
     "data": {
      "image/png": "[encoded data removed]",
      "text/latex": [
       "$\\displaystyle 2 \\left(- t + e^{t} - 1\\right) e^{- 2 t} \\theta\\left(t\\right)$"
      ],
      "text/plain": [
       "  ⎛      t    ⎞  -2⋅t     \n",
       "2⋅⎝-t + ℯ  - 1⎠⋅ℯ    ⋅θ(t)"
      ]
     },
     "execution_count": 33,
     "metadata": {},
     "output_type": "execute_result"
    }
   ],
   "source": [
    "sym.inverse_laplace_transform(partial_frac, s, t)"
   ]
  },
  {
   "cell_type": "markdown",
   "metadata": {},
   "source": [
    "#### Case 3. Roots of the Denominator of $F(s)$ Are Complex or Imaginary\n",
    "$$F(s)=\\frac{3}{s(s^2+2s+5)}$$"
   ]
  },
  {
   "cell_type": "code",
   "execution_count": 34,
   "metadata": {},
   "outputs": [
    {
     "data": {
      "image/png": "[encoded data removed]",
      "text/latex": [
       "$\\displaystyle \\frac{3}{s \\left(s^{2} + 2 s + 5\\right)}$"
      ],
      "text/plain": [
       "       3        \n",
       "────────────────\n",
       "  ⎛ 2          ⎞\n",
       "s⋅⎝s  + 2⋅s + 5⎠"
      ]
     },
     "execution_count": 34,
     "metadata": {},
     "output_type": "execute_result"
    }
   ],
   "source": [
    "F=3/(s*(s**2+2*s+5))\n",
    "F"
   ]
  },
  {
   "cell_type": "code",
   "execution_count": 35,
   "metadata": {},
   "outputs": [
    {
     "data": {
      "image/png": "[encoded data removed]",
      "text/latex": [
       "$\\displaystyle - \\frac{3 \\left(s + 2\\right)}{5 \\left(s^{2} + 2 s + 5\\right)} + \\frac{3}{5 s}$"
      ],
      "text/plain": [
       "     3⋅(s + 2)        3 \n",
       "- ──────────────── + ───\n",
       "    ⎛ 2          ⎞   5⋅s\n",
       "  5⋅⎝s  + 2⋅s + 5⎠      "
      ]
     },
     "execution_count": 35,
     "metadata": {},
     "output_type": "execute_result"
    }
   ],
   "source": [
    "partial_frac=F.apart(s)\n",
    "partial_frac"
   ]
  },
  {
   "cell_type": "code",
   "execution_count": 36,
   "metadata": {},
   "outputs": [
    {
     "data": {
      "image/png": "[encoded data removed]",
      "text/latex": [
       "$\\displaystyle \\frac{3 \\left(2 e^{t} - \\sin{\\left(2 t \\right)} - 2 \\cos{\\left(2 t \\right)}\\right) e^{- t} \\theta\\left(t\\right)}{10}$"
      ],
      "text/plain": [
       "  ⎛   t                        ⎞  -t     \n",
       "3⋅⎝2⋅ℯ  - sin(2⋅t) - 2⋅cos(2⋅t)⎠⋅ℯ  ⋅θ(t)\n",
       "─────────────────────────────────────────\n",
       "                    10                   "
      ]
     },
     "execution_count": 36,
     "metadata": {},
     "output_type": "execute_result"
    }
   ],
   "source": [
    "sym.inverse_laplace_transform(F, s, t)"
   ]
  },
  {
   "cell_type": "code",
   "execution_count": 37,
   "metadata": {},
   "outputs": [
    {
     "data": {
      "image/png": "[encoded data removed]",
      "text/latex": [
       "$\\displaystyle \\frac{3 \\left(2 e^{t} - \\sin{\\left(2 t \\right)} - 2 \\cos{\\left(2 t \\right)}\\right) e^{- t} \\theta\\left(t\\right)}{10}$"
      ],
      "text/plain": [
       "  ⎛   t                        ⎞  -t     \n",
       "3⋅⎝2⋅ℯ  - sin(2⋅t) - 2⋅cos(2⋅t)⎠⋅ℯ  ⋅θ(t)\n",
       "─────────────────────────────────────────\n",
       "                    10                   "
      ]
     },
     "execution_count": 37,
     "metadata": {},
     "output_type": "execute_result"
    }
   ],
   "source": [
    "sym.inverse_laplace_transform(partial_frac, s, t)"
   ]
  },
  {
   "cell_type": "markdown",
   "metadata": {},
   "source": [
    "### More Example"
   ]
  },
  {
   "cell_type": "code",
   "execution_count": 38,
   "metadata": {},
   "outputs": [
    {
     "data": {
      "image/png": "[encoded data removed]",
      "text/latex": [
       "$\\displaystyle \\frac{\\left(s + 1\\right) \\left(s + 2\\right) \\left(s + 3\\right)}{\\left(s + 4\\right) \\left(s + 5\\right) \\left(s + 6\\right)}$"
      ],
      "text/plain": [
       "(s + 1)⋅(s + 2)⋅(s + 3)\n",
       "───────────────────────\n",
       "(s + 4)⋅(s + 5)⋅(s + 6)"
      ]
     },
     "execution_count": 38,
     "metadata": {},
     "output_type": "execute_result"
    }
   ],
   "source": [
    "F = ((s + 1)*(s + 2)* (s + 3))/((s + 4)*(s + 5)*(s + 6))\n",
    "F"
   ]
  },
  {
   "cell_type": "code",
   "execution_count": 39,
   "metadata": {},
   "outputs": [
    {
     "data": {
      "image/png": "[encoded data removed]",
      "text/latex": [
       "$\\displaystyle 1 - \\frac{30}{s + 6} + \\frac{24}{s + 5} - \\frac{3}{s + 4}$"
      ],
      "text/plain": [
       "      30      24      3  \n",
       "1 - ───── + ───── - ─────\n",
       "    s + 6   s + 5   s + 4"
      ]
     },
     "execution_count": 39,
     "metadata": {},
     "output_type": "execute_result"
    }
   ],
   "source": [
    "F.apart(s)"
   ]
  },
  {
   "cell_type": "markdown",
   "metadata": {},
   "source": [
    "Even sympy can benefit from a little help sometimes. When we try to calculate the inverse of $F$ we get a bit of a nasty answer:"
   ]
  },
  {
   "cell_type": "code",
   "execution_count": 40,
   "metadata": {},
   "outputs": [
    {
     "data": {
      "image/png": "[encoded data removed]",
      "text/latex": [
       "$\\displaystyle \\delta\\left(t\\right) - 3 e^{- 4 t} \\theta\\left(t\\right) + 24 e^{- 5 t} \\theta\\left(t\\right) - 30 e^{- 6 t} \\theta\\left(t\\right)$"
      ],
      "text/plain": [
       "          -4⋅t            -5⋅t            -6⋅t     \n",
       "δ(t) - 3⋅ℯ    ⋅θ(t) + 24⋅ℯ    ⋅θ(t) - 30⋅ℯ    ⋅θ(t)"
      ]
     },
     "execution_count": 40,
     "metadata": {},
     "output_type": "execute_result"
    }
   ],
   "source": [
    "invL(F)"
   ]
  },
  {
   "cell_type": "code",
   "execution_count": 41,
   "metadata": {},
   "outputs": [
    {
     "name": "stdout",
     "output_type": "stream",
     "text": [
      "963 ms ± 51.3 ms per loop (mean ± std. dev. of 7 runs, 1 loop each)\n"
     ]
    }
   ],
   "source": [
    "%%timeit\n",
    "invL(F.apart(s))"
   ]
  },
  {
   "cell_type": "code",
   "execution_count": 42,
   "metadata": {},
   "outputs": [
    {
     "data": {
      "image/png": "[encoded data removed]",
      "text/latex": [
       "$\\displaystyle \\delta\\left(t\\right) - 3 e^{- 4 t} \\theta\\left(t\\right) + 24 e^{- 5 t} \\theta\\left(t\\right) - 30 e^{- 6 t} \\theta\\left(t\\right)$"
      ],
      "text/plain": [
       "          -4⋅t            -5⋅t            -6⋅t     \n",
       "δ(t) - 3⋅ℯ    ⋅θ(t) + 24⋅ℯ    ⋅θ(t) - 30⋅ℯ    ⋅θ(t)"
      ]
     },
     "execution_count": 42,
     "metadata": {},
     "output_type": "execute_result"
    }
   ],
   "source": [
    "invL(F.apart(s))"
   ]
  },
  {
   "cell_type": "markdown",
   "metadata": {},
   "source": [
    "Find the inverse laplace transform $$F(s)=5+\\dfrac{6}{s+4}-\\dfrac{7s}{s^2+25}$$"
   ]
  },
  {
   "cell_type": "code",
   "execution_count": 43,
   "metadata": {},
   "outputs": [
    {
     "data": {
      "image/png": "[encoded data removed]",
      "text/latex": [
       "$\\displaystyle - \\frac{7 s}{s^{2} + 25} + 5 + \\frac{6}{s + 4}$"
      ],
      "text/plain": [
       "    7⋅s           6  \n",
       "- ─────── + 5 + ─────\n",
       "   2            s + 4\n",
       "  s  + 25            "
      ]
     },
     "execution_count": 43,
     "metadata": {},
     "output_type": "execute_result"
    }
   ],
   "source": [
    "F=5+6/(s+4)-7*s/(s**2+25)\n",
    "F"
   ]
  },
  {
   "cell_type": "code",
   "execution_count": 44,
   "metadata": {},
   "outputs": [
    {
     "data": {
      "image/png": "[encoded data removed]",
      "text/latex": [
       "$\\displaystyle - 7 \\cos{\\left(5 t \\right)} \\theta\\left(t\\right) + 5 \\delta\\left(t\\right) + 6 e^{- 4 t} \\theta\\left(t\\right)$"
      ],
      "text/plain": [
       "                               -4⋅t     \n",
       "-7⋅cos(5⋅t)⋅θ(t) + 5⋅δ(t) + 6⋅ℯ    ⋅θ(t)"
      ]
     },
     "execution_count": 44,
     "metadata": {},
     "output_type": "execute_result"
    }
   ],
   "source": [
    "invL(F)"
   ]
  },
  {
   "cell_type": "markdown",
   "metadata": {},
   "source": [
    "Find $f(t)$ given that $$F(s)=\\dfrac {s^2+12}{s(s+2)(s+3)}$$"
   ]
  },
  {
   "cell_type": "code",
   "execution_count": 45,
   "metadata": {},
   "outputs": [
    {
     "data": {
      "image/png": "[encoded data removed]",
      "text/latex": [
       "$\\displaystyle \\frac{s^{2} + 12}{s \\left(s + 2\\right) \\left(s + 3\\right)}$"
      ],
      "text/plain": [
       "      2          \n",
       "     s  + 12     \n",
       "─────────────────\n",
       "s⋅(s + 2)⋅(s + 3)"
      ]
     },
     "execution_count": 45,
     "metadata": {},
     "output_type": "execute_result"
    }
   ],
   "source": [
    "F=(s**2+12)/(s*(s+2)*(s+3))\n",
    "F"
   ]
  },
  {
   "cell_type": "code",
   "execution_count": 46,
   "metadata": {},
   "outputs": [
    {
     "data": {
      "image/png": "[encoded data removed]",
      "text/latex": [
       "$\\displaystyle \\frac{7}{s + 3} - \\frac{8}{s + 2} + \\frac{2}{s}$"
      ],
      "text/plain": [
       "  7       8     2\n",
       "───── - ───── + ─\n",
       "s + 3   s + 2   s"
      ]
     },
     "execution_count": 46,
     "metadata": {},
     "output_type": "execute_result"
    }
   ],
   "source": [
    "F.apart(s)"
   ]
  },
  {
   "cell_type": "code",
   "execution_count": 47,
   "metadata": {},
   "outputs": [
    {
     "data": {
      "image/png": "[encoded data removed]",
      "text/latex": [
       "$\\displaystyle \\left(2 e^{3 t} - 8 e^{t} + 7\\right) e^{- 3 t} \\theta\\left(t\\right)$"
      ],
      "text/plain": [
       "⎛   3⋅t      t    ⎞  -3⋅t     \n",
       "⎝2⋅ℯ    - 8⋅ℯ  + 7⎠⋅ℯ    ⋅θ(t)"
      ]
     },
     "execution_count": 47,
     "metadata": {},
     "output_type": "execute_result"
    }
   ],
   "source": [
    "invL(F.apart(s))"
   ]
  },
  {
   "cell_type": "markdown",
   "metadata": {},
   "source": [
    "Calculate $f(t)$ given that $$F(s)=\\dfrac {10s^2+4}{s(s+1)(s+2)^2}$$"
   ]
  },
  {
   "cell_type": "code",
   "execution_count": 48,
   "metadata": {},
   "outputs": [
    {
     "data": {
      "image/png": "[encoded data removed]",
      "text/latex": [
       "$\\displaystyle \\frac{10 s^{2} + 4}{s \\left(s + 1\\right) \\left(s + 2\\right)^{2}}$"
      ],
      "text/plain": [
       "        2         \n",
       "    10⋅s  + 4     \n",
       "──────────────────\n",
       "                 2\n",
       "s⋅(s + 1)⋅(s + 2) "
      ]
     },
     "execution_count": 48,
     "metadata": {},
     "output_type": "execute_result"
    }
   ],
   "source": [
    "F=(10*s**2+4)/(s*(s+1)*(s+2)**2)\n",
    "F"
   ]
  },
  {
   "cell_type": "code",
   "execution_count": 49,
   "metadata": {},
   "outputs": [
    {
     "data": {
      "image/png": "[encoded data removed]",
      "text/latex": [
       "$\\displaystyle \\frac{13}{s + 2} + \\frac{22}{\\left(s + 2\\right)^{2}} - \\frac{14}{s + 1} + \\frac{1}{s}$"
      ],
      "text/plain": [
       "  13       22        14    1\n",
       "───── + ──────── - ───── + ─\n",
       "s + 2          2   s + 1   s\n",
       "        (s + 2)             "
      ]
     },
     "execution_count": 49,
     "metadata": {},
     "output_type": "execute_result"
    }
   ],
   "source": [
    "F.apart(s)"
   ]
  },
  {
   "cell_type": "code",
   "execution_count": 50,
   "metadata": {},
   "outputs": [
    {
     "data": {
      "image/png": "[encoded data removed]",
      "text/latex": [
       "$\\displaystyle \\left(22 t + e^{2 t} - 14 e^{t} + 13\\right) e^{- 2 t} \\theta\\left(t\\right)$"
      ],
      "text/plain": [
       "⎛        2⋅t       t     ⎞  -2⋅t     \n",
       "⎝22⋅t + ℯ    - 14⋅ℯ  + 13⎠⋅ℯ    ⋅θ(t)"
      ]
     },
     "execution_count": 50,
     "metadata": {},
     "output_type": "execute_result"
    }
   ],
   "source": [
    "invL(F.apart(s))"
   ]
  },
  {
   "cell_type": "markdown",
   "metadata": {},
   "source": [
    "Find the inverse transform of frequency domain function $$H(s)=\\dfrac {20}{(s+3)(s^2+8s+25)}$$"
   ]
  },
  {
   "cell_type": "code",
   "execution_count": 51,
   "metadata": {},
   "outputs": [
    {
     "data": {
      "image/png": "[encoded data removed]",
      "text/latex": [
       "$\\displaystyle \\frac{20}{\\left(s + 3\\right) \\left(s^{2} + 8 s + 25\\right)}$"
      ],
      "text/plain": [
       "           20          \n",
       "───────────────────────\n",
       "        ⎛ 2           ⎞\n",
       "(s + 3)⋅⎝s  + 8⋅s + 25⎠"
      ]
     },
     "execution_count": 51,
     "metadata": {},
     "output_type": "execute_result"
    }
   ],
   "source": [
    "H=20/((s+3)*(s**2+8*s+25))\n",
    "H"
   ]
  },
  {
   "cell_type": "code",
   "execution_count": 52,
   "metadata": {},
   "outputs": [
    {
     "data": {
      "image/png": "[encoded data removed]",
      "text/latex": [
       "$\\displaystyle - \\frac{2 \\left(s + 5\\right)}{s^{2} + 8 s + 25} + \\frac{2}{s + 3}$"
      ],
      "text/plain": [
       "    2⋅(s + 5)       2  \n",
       "- ───────────── + ─────\n",
       "   2              s + 3\n",
       "  s  + 8⋅s + 25        "
      ]
     },
     "execution_count": 52,
     "metadata": {},
     "output_type": "execute_result"
    }
   ],
   "source": [
    "H.apart(s) #exist complex root"
   ]
  },
  {
   "cell_type": "code",
   "execution_count": 53,
   "metadata": {},
   "outputs": [
    {
     "data": {
      "image/png": "[encoded data removed]",
      "text/latex": [
       "$\\displaystyle \\frac{2 \\left(3 e^{t} - \\sin{\\left(3 t \\right)} - 3 \\cos{\\left(3 t \\right)}\\right) e^{- 4 t} \\theta\\left(t\\right)}{3}$"
      ],
      "text/plain": [
       "  ⎛   t                        ⎞  -4⋅t     \n",
       "2⋅⎝3⋅ℯ  - sin(3⋅t) - 3⋅cos(3⋅t)⎠⋅ℯ    ⋅θ(t)\n",
       "───────────────────────────────────────────\n",
       "                     3                     "
      ]
     },
     "execution_count": 53,
     "metadata": {},
     "output_type": "execute_result"
    }
   ],
   "source": [
    "invL(H)"
   ]
  },
  {
   "cell_type": "markdown",
   "metadata": {},
   "source": [
    "### Solve linear differential equation\n",
    "$$\\frac{d^2y}{dt^2}+12 \\frac{dy}{dt}+32y=32u(t)$$\n",
    "    "
   ]
  },
  {
   "cell_type": "code",
   "execution_count": 54,
   "metadata": {},
   "outputs": [],
   "source": [
    "Y=sym.symbols(\"Y\", cls=sym. Function)"
   ]
  },
  {
   "cell_type": "code",
   "execution_count": 55,
   "metadata": {},
   "outputs": [
    {
     "data": {
      "image/png": "[encoded data removed]",
      "text/latex": [
       "$\\displaystyle s^{2} Y{\\left(s \\right)} + 12 s Y{\\left(s \\right)} + 32 Y{\\left(s \\right)} = \\frac{32}{s}$"
      ],
      "text/plain": [
       " 2                              32\n",
       "s ⋅Y(s) + 12⋅s⋅Y(s) + 32⋅Y(s) = ──\n",
       "                                s "
      ]
     },
     "execution_count": 55,
     "metadata": {},
     "output_type": "execute_result"
    }
   ],
   "source": [
    "eq=sym.Eq(s**2*Y(s)+12*s*Y(s)+32*Y(s), 32*1/s)\n",
    "eq"
   ]
  },
  {
   "cell_type": "code",
   "execution_count": 56,
   "metadata": {},
   "outputs": [
    {
     "data": {
      "image/png": "[encoded data removed]",
      "text/latex": [
       "$\\displaystyle \\left[ \\frac{32}{s \\left(s^{2} + 12 s + 32\\right)}\\right]$"
      ],
      "text/plain": [
       "⎡        32        ⎤\n",
       "⎢──────────────────⎥\n",
       "⎢  ⎛ 2            ⎞⎥\n",
       "⎣s⋅⎝s  + 12⋅s + 32⎠⎦"
      ]
     },
     "execution_count": 56,
     "metadata": {},
     "output_type": "execute_result"
    }
   ],
   "source": [
    "Ysol=sym.solve(eq, Y(s))\n",
    "Ysol"
   ]
  },
  {
   "cell_type": "code",
   "execution_count": 57,
   "metadata": {},
   "outputs": [
    {
     "data": {
      "image/png": "[encoded data removed]",
      "text/latex": [
       "$\\displaystyle \\frac{1}{s + 8} - \\frac{2}{s + 4} + \\frac{1}{s}$"
      ],
      "text/plain": [
       "  1       2     1\n",
       "───── - ───── + ─\n",
       "s + 8   s + 4   s"
      ]
     },
     "execution_count": 57,
     "metadata": {},
     "output_type": "execute_result"
    }
   ],
   "source": [
    "Ysol[0].apart(s)"
   ]
  },
  {
   "cell_type": "code",
   "execution_count": 58,
   "metadata": {},
   "outputs": [
    {
     "data": {
      "image/png": "[encoded data removed]",
      "text/latex": [
       "$\\displaystyle \\left(e^{8 t} - 2 e^{4 t} + 1\\right) e^{- 8 t} \\theta\\left(t\\right)$"
      ],
      "text/plain": [
       "⎛ 8⋅t      4⋅t    ⎞  -8⋅t     \n",
       "⎝ℯ    - 2⋅ℯ    + 1⎠⋅ℯ    ⋅θ(t)"
      ]
     },
     "execution_count": 58,
     "metadata": {},
     "output_type": "execute_result"
    }
   ],
   "source": [
    "sym.inverse_laplace_transform(Ysol[0], s, t)"
   ]
  },
  {
   "cell_type": "code",
   "execution_count": null,
   "metadata": {},
   "outputs": [],
   "source": []
  }
 ],
 "metadata": {
  "kernelspec": {
   "display_name": "Python 3",
   "language": "python",
   "name": "python3"
  },
  "language_info": {
   "codemirror_mode": {
    "name": "ipython",
    "version": 3
   },
   "file_extension": ".py",
   "mimetype": "text/x-python",
   "name": "python",
   "nbconvert_exporter": "python",
   "pygments_lexer": "ipython3",
   "version": "3.8.2"
  }
 },
 "nbformat": 4,
 "nbformat_minor": 4
}
