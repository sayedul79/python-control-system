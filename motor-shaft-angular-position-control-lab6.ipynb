{
 "cells": [
  {
   "cell_type": "markdown",
   "metadata": {},
   "source": [
    "## Import library"
   ]
  },
  {
   "cell_type": "code",
   "execution_count": 2,
   "metadata": {},
   "outputs": [],
   "source": [
    "import numpy as np\n",
    "import pandas as pd\n",
    "import matplotlib.pyplot as plt"
   ]
  },
  {
   "cell_type": "markdown",
   "metadata": {},
   "source": [
    "## Data pre-processing\n",
    "### Step-2\n",
    "#### Read dataset"
   ]
  },
  {
   "cell_type": "code",
   "execution_count": 2,
   "metadata": {},
   "outputs": [
    {
     "data": {
      "text/html": [
       "<div>\n",
       "<style scoped>\n",
       "    .dataframe tbody tr th:only-of-type {\n",
       "        vertical-align: middle;\n",
       "    }\n",
       "\n",
       "    .dataframe tbody tr th {\n",
       "        vertical-align: top;\n",
       "    }\n",
       "\n",
       "    .dataframe thead th {\n",
       "        text-align: right;\n",
       "    }\n",
       "</style>\n",
       "<table border=\"1\" class=\"dataframe\">\n",
       "  <thead>\n",
       "    <tr style=\"text-align: right;\">\n",
       "      <th></th>\n",
       "      <th>TimeStamp</th>\n",
       "      <th>Reference</th>\n",
       "      <th>Position</th>\n",
       "      <th>Speed</th>\n",
       "      <th>Current</th>\n",
       "      <th>Voltage</th>\n",
       "      <th>Error</th>\n",
       "      <th>Kp x Error</th>\n",
       "      <th>Error Sum / Ti</th>\n",
       "      <th>Td x Delta Err.</th>\n",
       "      <th>PID Output</th>\n",
       "    </tr>\n",
       "  </thead>\n",
       "  <tbody>\n",
       "    <tr>\n",
       "      <th>0</th>\n",
       "      <td>14.03</td>\n",
       "      <td>-79.995422</td>\n",
       "      <td>-55.4</td>\n",
       "      <td>0.0</td>\n",
       "      <td>-1.517092</td>\n",
       "      <td>-3.082661</td>\n",
       "      <td>-24.599069</td>\n",
       "      <td>-3.443961</td>\n",
       "      <td>0.001526</td>\n",
       "      <td>0.001526</td>\n",
       "      <td>-3.443961</td>\n",
       "    </tr>\n",
       "    <tr>\n",
       "      <th>1</th>\n",
       "      <td>14.04</td>\n",
       "      <td>-79.995422</td>\n",
       "      <td>-55.4</td>\n",
       "      <td>0.0</td>\n",
       "      <td>-1.540122</td>\n",
       "      <td>-3.083672</td>\n",
       "      <td>-24.599069</td>\n",
       "      <td>-3.443961</td>\n",
       "      <td>0.001526</td>\n",
       "      <td>0.001526</td>\n",
       "      <td>-3.443961</td>\n",
       "    </tr>\n",
       "    <tr>\n",
       "      <th>2</th>\n",
       "      <td>14.05</td>\n",
       "      <td>-79.995422</td>\n",
       "      <td>-55.4</td>\n",
       "      <td>0.0</td>\n",
       "      <td>-1.517092</td>\n",
       "      <td>-3.084620</td>\n",
       "      <td>-24.599069</td>\n",
       "      <td>-3.443961</td>\n",
       "      <td>0.001526</td>\n",
       "      <td>0.001526</td>\n",
       "      <td>-3.443961</td>\n",
       "    </tr>\n",
       "    <tr>\n",
       "      <th>3</th>\n",
       "      <td>14.06</td>\n",
       "      <td>-79.995422</td>\n",
       "      <td>-55.4</td>\n",
       "      <td>0.0</td>\n",
       "      <td>-1.540122</td>\n",
       "      <td>-3.084620</td>\n",
       "      <td>-24.599069</td>\n",
       "      <td>-3.443961</td>\n",
       "      <td>0.001526</td>\n",
       "      <td>0.001526</td>\n",
       "      <td>-3.443961</td>\n",
       "    </tr>\n",
       "    <tr>\n",
       "      <th>4</th>\n",
       "      <td>14.07</td>\n",
       "      <td>-79.995422</td>\n",
       "      <td>-55.4</td>\n",
       "      <td>0.0</td>\n",
       "      <td>-1.517092</td>\n",
       "      <td>-3.084620</td>\n",
       "      <td>-24.599069</td>\n",
       "      <td>-3.443961</td>\n",
       "      <td>0.001526</td>\n",
       "      <td>0.001526</td>\n",
       "      <td>-3.443961</td>\n",
       "    </tr>\n",
       "  </tbody>\n",
       "</table>\n",
       "</div>"
      ],
      "text/plain": [
       "   TimeStamp  Reference  Position  Speed   Current   Voltage      Error  \\\n",
       "0      14.03 -79.995422     -55.4    0.0 -1.517092 -3.082661 -24.599069   \n",
       "1      14.04 -79.995422     -55.4    0.0 -1.540122 -3.083672 -24.599069   \n",
       "2      14.05 -79.995422     -55.4    0.0 -1.517092 -3.084620 -24.599069   \n",
       "3      14.06 -79.995422     -55.4    0.0 -1.540122 -3.084620 -24.599069   \n",
       "4      14.07 -79.995422     -55.4    0.0 -1.517092 -3.084620 -24.599069   \n",
       "\n",
       "   Kp x Error  Error Sum / Ti  Td x Delta Err.  PID Output  \n",
       "0   -3.443961        0.001526         0.001526   -3.443961  \n",
       "1   -3.443961        0.001526         0.001526   -3.443961  \n",
       "2   -3.443961        0.001526         0.001526   -3.443961  \n",
       "3   -3.443961        0.001526         0.001526   -3.443961  \n",
       "4   -3.443961        0.001526         0.001526   -3.443961  "
      ]
     },
     "execution_count": 2,
     "metadata": {},
     "output_type": "execute_result"
    }
   ],
   "source": [
    "step2_raw=pd.read_csv(\"D:\\Extra Knowledge\\HP-NPC\\dataset/exp6-step2-group-4.csv\")\n",
    "step2_raw.head()"
   ]
  },
  {
   "cell_type": "code",
   "execution_count": 3,
   "metadata": {},
   "outputs": [
    {
     "data": {
      "text/plain": [
       "(1035, 11)"
      ]
     },
     "execution_count": 3,
     "metadata": {},
     "output_type": "execute_result"
    }
   ],
   "source": [
    "step2_raw.shape"
   ]
  },
  {
   "cell_type": "code",
   "execution_count": 4,
   "metadata": {},
   "outputs": [
    {
     "data": {
      "text/plain": [
       "[<matplotlib.lines.Line2D at 0xbef9820>]"
      ]
     },
     "execution_count": 4,
     "metadata": {},
     "output_type": "execute_result"
    },
    {
     "data": {
      "image/png": "[encoded data removed]",
      "text/plain": [
       "<Figure size 432x288 with 1 Axes>"
      ]
     },
     "metadata": {
      "needs_background": "light"
     },
     "output_type": "display_data"
    }
   ],
   "source": [
    "plt.plot(step2_raw.TimeStamp, step2_raw.Reference)"
   ]
  },
  {
   "cell_type": "code",
   "execution_count": 5,
   "metadata": {},
   "outputs": [
    {
     "data": {
      "text/plain": [
       "[<matplotlib.lines.Line2D at 0xcfa0a00>]"
      ]
     },
     "execution_count": 5,
     "metadata": {},
     "output_type": "execute_result"
    },
    {
     "data": {
      "image/png": "[encoded data removed]",
      "text/plain": [
       "<Figure size 432x288 with 1 Axes>"
      ]
     },
     "metadata": {
      "needs_background": "light"
     },
     "output_type": "display_data"
    }
   ],
   "source": [
    "plt.plot(step2_raw.TimeStamp, step2_raw.Position)"
   ]
  },
  {
   "cell_type": "markdown",
   "metadata": {},
   "source": [
    "#### Filtering"
   ]
  },
  {
   "cell_type": "code",
   "execution_count": 6,
   "metadata": {},
   "outputs": [
    {
     "data": {
      "text/html": [
       "<div>\n",
       "<style scoped>\n",
       "    .dataframe tbody tr th:only-of-type {\n",
       "        vertical-align: middle;\n",
       "    }\n",
       "\n",
       "    .dataframe tbody tr th {\n",
       "        vertical-align: top;\n",
       "    }\n",
       "\n",
       "    .dataframe thead th {\n",
       "        text-align: right;\n",
       "    }\n",
       "</style>\n",
       "<table border=\"1\" class=\"dataframe\">\n",
       "  <thead>\n",
       "    <tr style=\"text-align: right;\">\n",
       "      <th></th>\n",
       "      <th>TimeStamp</th>\n",
       "      <th>Reference</th>\n",
       "      <th>Position</th>\n",
       "      <th>Speed</th>\n",
       "      <th>Current</th>\n",
       "      <th>Voltage</th>\n",
       "      <th>Error</th>\n",
       "      <th>Kp x Error</th>\n",
       "      <th>Error Sum / Ti</th>\n",
       "      <th>Td x Delta Err.</th>\n",
       "      <th>PID Output</th>\n",
       "    </tr>\n",
       "  </thead>\n",
       "  <tbody>\n",
       "    <tr>\n",
       "      <th>141</th>\n",
       "      <td>15.38</td>\n",
       "      <td>79.998474</td>\n",
       "      <td>0.18</td>\n",
       "      <td>4.625</td>\n",
       "      <td>2.446923</td>\n",
       "      <td>9.886899</td>\n",
       "      <td>79.818418</td>\n",
       "      <td>11.177234</td>\n",
       "      <td>0.001526</td>\n",
       "      <td>0.001526</td>\n",
       "      <td>11.177234</td>\n",
       "    </tr>\n",
       "  </tbody>\n",
       "</table>\n",
       "</div>"
      ],
      "text/plain": [
       "     TimeStamp  Reference  Position  Speed   Current   Voltage      Error  \\\n",
       "141      15.38  79.998474      0.18  4.625  2.446923  9.886899  79.818418   \n",
       "\n",
       "     Kp x Error  Error Sum / Ti  Td x Delta Err.  PID Output  \n",
       "141   11.177234        0.001526         0.001526   11.177234  "
      ]
     },
     "execution_count": 6,
     "metadata": {},
     "output_type": "execute_result"
    }
   ],
   "source": [
    "step2_raw[(step2_raw.Position<=0.5) & (step2_raw.Position>=0)]"
   ]
  },
  {
   "cell_type": "code",
   "execution_count": 7,
   "metadata": {},
   "outputs": [
    {
     "data": {
      "text/html": [
       "<div>\n",
       "<style scoped>\n",
       "    .dataframe tbody tr th:only-of-type {\n",
       "        vertical-align: middle;\n",
       "    }\n",
       "\n",
       "    .dataframe tbody tr th {\n",
       "        vertical-align: top;\n",
       "    }\n",
       "\n",
       "    .dataframe thead th {\n",
       "        text-align: right;\n",
       "    }\n",
       "</style>\n",
       "<table border=\"1\" class=\"dataframe\">\n",
       "  <thead>\n",
       "    <tr style=\"text-align: right;\">\n",
       "      <th></th>\n",
       "      <th>TimeStamp</th>\n",
       "      <th>Reference</th>\n",
       "      <th>Position</th>\n",
       "      <th>Speed</th>\n",
       "      <th>Current</th>\n",
       "      <th>Voltage</th>\n",
       "      <th>Error</th>\n",
       "      <th>Kp x Error</th>\n",
       "      <th>Error Sum / Ti</th>\n",
       "      <th>Td x Delta Err.</th>\n",
       "      <th>PID Output</th>\n",
       "    </tr>\n",
       "  </thead>\n",
       "  <tbody>\n",
       "    <tr>\n",
       "      <th>103</th>\n",
       "      <td>15.01</td>\n",
       "      <td>79.998474</td>\n",
       "      <td>-55.40</td>\n",
       "      <td>0.000</td>\n",
       "      <td>-1.494063</td>\n",
       "      <td>12.390736</td>\n",
       "      <td>100.0</td>\n",
       "      <td>14.000153</td>\n",
       "      <td>0.001526</td>\n",
       "      <td>0.001526</td>\n",
       "      <td>14.000153</td>\n",
       "    </tr>\n",
       "    <tr>\n",
       "      <th>104</th>\n",
       "      <td>15.02</td>\n",
       "      <td>79.998474</td>\n",
       "      <td>-55.28</td>\n",
       "      <td>0.125</td>\n",
       "      <td>9.528607</td>\n",
       "      <td>12.374751</td>\n",
       "      <td>100.0</td>\n",
       "      <td>14.000153</td>\n",
       "      <td>0.001526</td>\n",
       "      <td>0.001526</td>\n",
       "      <td>14.000153</td>\n",
       "    </tr>\n",
       "    <tr>\n",
       "      <th>105</th>\n",
       "      <td>15.03</td>\n",
       "      <td>79.998474</td>\n",
       "      <td>-54.92</td>\n",
       "      <td>0.875</td>\n",
       "      <td>7.107593</td>\n",
       "      <td>12.386676</td>\n",
       "      <td>100.0</td>\n",
       "      <td>14.000153</td>\n",
       "      <td>0.001526</td>\n",
       "      <td>0.001526</td>\n",
       "      <td>14.000153</td>\n",
       "    </tr>\n",
       "    <tr>\n",
       "      <th>106</th>\n",
       "      <td>15.04</td>\n",
       "      <td>79.998474</td>\n",
       "      <td>-54.40</td>\n",
       "      <td>1.375</td>\n",
       "      <td>6.413818</td>\n",
       "      <td>12.394796</td>\n",
       "      <td>100.0</td>\n",
       "      <td>14.000153</td>\n",
       "      <td>0.001526</td>\n",
       "      <td>0.001526</td>\n",
       "      <td>14.000153</td>\n",
       "    </tr>\n",
       "    <tr>\n",
       "      <th>107</th>\n",
       "      <td>15.05</td>\n",
       "      <td>79.998474</td>\n",
       "      <td>-53.74</td>\n",
       "      <td>1.750</td>\n",
       "      <td>6.577906</td>\n",
       "      <td>12.382870</td>\n",
       "      <td>100.0</td>\n",
       "      <td>14.000153</td>\n",
       "      <td>0.001526</td>\n",
       "      <td>0.001526</td>\n",
       "      <td>14.000153</td>\n",
       "    </tr>\n",
       "  </tbody>\n",
       "</table>\n",
       "</div>"
      ],
      "text/plain": [
       "     TimeStamp  Reference  Position  Speed   Current    Voltage  Error  \\\n",
       "103      15.01  79.998474    -55.40  0.000 -1.494063  12.390736  100.0   \n",
       "104      15.02  79.998474    -55.28  0.125  9.528607  12.374751  100.0   \n",
       "105      15.03  79.998474    -54.92  0.875  7.107593  12.386676  100.0   \n",
       "106      15.04  79.998474    -54.40  1.375  6.413818  12.394796  100.0   \n",
       "107      15.05  79.998474    -53.74  1.750  6.577906  12.382870  100.0   \n",
       "\n",
       "     Kp x Error  Error Sum / Ti  Td x Delta Err.  PID Output  \n",
       "103   14.000153        0.001526         0.001526   14.000153  \n",
       "104   14.000153        0.001526         0.001526   14.000153  \n",
       "105   14.000153        0.001526         0.001526   14.000153  \n",
       "106   14.000153        0.001526         0.001526   14.000153  \n",
       "107   14.000153        0.001526         0.001526   14.000153  "
      ]
     },
     "execution_count": 7,
     "metadata": {},
     "output_type": "execute_result"
    }
   ],
   "source": [
    "#step2_fil=step2_raw.loc[141:, :]\n",
    "step2_fil=step2_raw.loc[103:, :]\n",
    "step2_fil.head()"
   ]
  },
  {
   "cell_type": "code",
   "execution_count": 8,
   "metadata": {},
   "outputs": [
    {
     "data": {
      "text/html": [
       "<div>\n",
       "<style scoped>\n",
       "    .dataframe tbody tr th:only-of-type {\n",
       "        vertical-align: middle;\n",
       "    }\n",
       "\n",
       "    .dataframe tbody tr th {\n",
       "        vertical-align: top;\n",
       "    }\n",
       "\n",
       "    .dataframe thead th {\n",
       "        text-align: right;\n",
       "    }\n",
       "</style>\n",
       "<table border=\"1\" class=\"dataframe\">\n",
       "  <thead>\n",
       "    <tr style=\"text-align: right;\">\n",
       "      <th></th>\n",
       "      <th>TimeStamp</th>\n",
       "      <th>Reference</th>\n",
       "      <th>Position</th>\n",
       "      <th>Speed</th>\n",
       "      <th>Current</th>\n",
       "      <th>Voltage</th>\n",
       "      <th>Error</th>\n",
       "      <th>Kp x Error</th>\n",
       "      <th>Error Sum / Ti</th>\n",
       "      <th>Td x Delta Err.</th>\n",
       "      <th>PID Output</th>\n",
       "    </tr>\n",
       "  </thead>\n",
       "  <tbody>\n",
       "    <tr>\n",
       "      <th>0</th>\n",
       "      <td>15.01</td>\n",
       "      <td>79.998474</td>\n",
       "      <td>-55.40</td>\n",
       "      <td>0.000</td>\n",
       "      <td>-1.494063</td>\n",
       "      <td>12.390736</td>\n",
       "      <td>100.0</td>\n",
       "      <td>14.000153</td>\n",
       "      <td>0.001526</td>\n",
       "      <td>0.001526</td>\n",
       "      <td>14.000153</td>\n",
       "    </tr>\n",
       "    <tr>\n",
       "      <th>1</th>\n",
       "      <td>15.02</td>\n",
       "      <td>79.998474</td>\n",
       "      <td>-55.28</td>\n",
       "      <td>0.125</td>\n",
       "      <td>9.528607</td>\n",
       "      <td>12.374751</td>\n",
       "      <td>100.0</td>\n",
       "      <td>14.000153</td>\n",
       "      <td>0.001526</td>\n",
       "      <td>0.001526</td>\n",
       "      <td>14.000153</td>\n",
       "    </tr>\n",
       "    <tr>\n",
       "      <th>2</th>\n",
       "      <td>15.03</td>\n",
       "      <td>79.998474</td>\n",
       "      <td>-54.92</td>\n",
       "      <td>0.875</td>\n",
       "      <td>7.107593</td>\n",
       "      <td>12.386676</td>\n",
       "      <td>100.0</td>\n",
       "      <td>14.000153</td>\n",
       "      <td>0.001526</td>\n",
       "      <td>0.001526</td>\n",
       "      <td>14.000153</td>\n",
       "    </tr>\n",
       "    <tr>\n",
       "      <th>3</th>\n",
       "      <td>15.04</td>\n",
       "      <td>79.998474</td>\n",
       "      <td>-54.40</td>\n",
       "      <td>1.375</td>\n",
       "      <td>6.413818</td>\n",
       "      <td>12.394796</td>\n",
       "      <td>100.0</td>\n",
       "      <td>14.000153</td>\n",
       "      <td>0.001526</td>\n",
       "      <td>0.001526</td>\n",
       "      <td>14.000153</td>\n",
       "    </tr>\n",
       "    <tr>\n",
       "      <th>4</th>\n",
       "      <td>15.05</td>\n",
       "      <td>79.998474</td>\n",
       "      <td>-53.74</td>\n",
       "      <td>1.750</td>\n",
       "      <td>6.577906</td>\n",
       "      <td>12.382870</td>\n",
       "      <td>100.0</td>\n",
       "      <td>14.000153</td>\n",
       "      <td>0.001526</td>\n",
       "      <td>0.001526</td>\n",
       "      <td>14.000153</td>\n",
       "    </tr>\n",
       "  </tbody>\n",
       "</table>\n",
       "</div>"
      ],
      "text/plain": [
       "   TimeStamp  Reference  Position  Speed   Current    Voltage  Error  \\\n",
       "0      15.01  79.998474    -55.40  0.000 -1.494063  12.390736  100.0   \n",
       "1      15.02  79.998474    -55.28  0.125  9.528607  12.374751  100.0   \n",
       "2      15.03  79.998474    -54.92  0.875  7.107593  12.386676  100.0   \n",
       "3      15.04  79.998474    -54.40  1.375  6.413818  12.394796  100.0   \n",
       "4      15.05  79.998474    -53.74  1.750  6.577906  12.382870  100.0   \n",
       "\n",
       "   Kp x Error  Error Sum / Ti  Td x Delta Err.  PID Output  \n",
       "0   14.000153        0.001526         0.001526   14.000153  \n",
       "1   14.000153        0.001526         0.001526   14.000153  \n",
       "2   14.000153        0.001526         0.001526   14.000153  \n",
       "3   14.000153        0.001526         0.001526   14.000153  \n",
       "4   14.000153        0.001526         0.001526   14.000153  "
      ]
     },
     "execution_count": 8,
     "metadata": {},
     "output_type": "execute_result"
    }
   ],
   "source": [
    "step2_fil=step2_fil.reset_index(drop=True)\n",
    "step2_fil.head()"
   ]
  },
  {
   "cell_type": "code",
   "execution_count": 9,
   "metadata": {},
   "outputs": [
    {
     "data": {
      "text/plain": [
       "[<matplotlib.lines.Line2D at 0xcfe7da8>]"
      ]
     },
     "execution_count": 9,
     "metadata": {},
     "output_type": "execute_result"
    },
    {
     "data": {
      "image/png": "[encoded data removed]",
      "text/plain": [
       "<Figure size 432x288 with 1 Axes>"
      ]
     },
     "metadata": {
      "needs_background": "light"
     },
     "output_type": "display_data"
    }
   ],
   "source": [
    "plt.plot(step2_fil.TimeStamp, step2_fil.Reference)"
   ]
  },
  {
   "cell_type": "code",
   "execution_count": 10,
   "metadata": {},
   "outputs": [
    {
     "data": {
      "text/plain": [
       "[<matplotlib.lines.Line2D at 0xd021e68>]"
      ]
     },
     "execution_count": 10,
     "metadata": {},
     "output_type": "execute_result"
    },
    {
     "data": {
      "image/png": "[encoded data removed]",
      "text/plain": [
       "<Figure size 432x288 with 1 Axes>"
      ]
     },
     "metadata": {
      "needs_background": "light"
     },
     "output_type": "display_data"
    }
   ],
   "source": [
    "plt.plot(step2_fil.TimeStamp, step2_fil.Position)"
   ]
  },
  {
   "cell_type": "markdown",
   "metadata": {},
   "source": [
    "#### Shifting"
   ]
  },
  {
   "cell_type": "code",
   "execution_count": 11,
   "metadata": {},
   "outputs": [
    {
     "data": {
      "text/html": [
       "<div>\n",
       "<style scoped>\n",
       "    .dataframe tbody tr th:only-of-type {\n",
       "        vertical-align: middle;\n",
       "    }\n",
       "\n",
       "    .dataframe tbody tr th {\n",
       "        vertical-align: top;\n",
       "    }\n",
       "\n",
       "    .dataframe thead th {\n",
       "        text-align: right;\n",
       "    }\n",
       "</style>\n",
       "<table border=\"1\" class=\"dataframe\">\n",
       "  <thead>\n",
       "    <tr style=\"text-align: right;\">\n",
       "      <th></th>\n",
       "      <th>TimeStamp</th>\n",
       "      <th>Reference</th>\n",
       "      <th>Position</th>\n",
       "      <th>Speed</th>\n",
       "      <th>Current</th>\n",
       "      <th>Voltage</th>\n",
       "      <th>Error</th>\n",
       "      <th>Kp x Error</th>\n",
       "      <th>Error Sum / Ti</th>\n",
       "      <th>Td x Delta Err.</th>\n",
       "      <th>PID Output</th>\n",
       "      <th>TimeShift</th>\n",
       "    </tr>\n",
       "  </thead>\n",
       "  <tbody>\n",
       "    <tr>\n",
       "      <th>0</th>\n",
       "      <td>15.01</td>\n",
       "      <td>79.998474</td>\n",
       "      <td>-55.40</td>\n",
       "      <td>0.000</td>\n",
       "      <td>-1.494063</td>\n",
       "      <td>12.390736</td>\n",
       "      <td>100.0</td>\n",
       "      <td>14.000153</td>\n",
       "      <td>0.001526</td>\n",
       "      <td>0.001526</td>\n",
       "      <td>14.000153</td>\n",
       "      <td>0.00</td>\n",
       "    </tr>\n",
       "    <tr>\n",
       "      <th>1</th>\n",
       "      <td>15.02</td>\n",
       "      <td>79.998474</td>\n",
       "      <td>-55.28</td>\n",
       "      <td>0.125</td>\n",
       "      <td>9.528607</td>\n",
       "      <td>12.374751</td>\n",
       "      <td>100.0</td>\n",
       "      <td>14.000153</td>\n",
       "      <td>0.001526</td>\n",
       "      <td>0.001526</td>\n",
       "      <td>14.000153</td>\n",
       "      <td>0.01</td>\n",
       "    </tr>\n",
       "    <tr>\n",
       "      <th>2</th>\n",
       "      <td>15.03</td>\n",
       "      <td>79.998474</td>\n",
       "      <td>-54.92</td>\n",
       "      <td>0.875</td>\n",
       "      <td>7.107593</td>\n",
       "      <td>12.386676</td>\n",
       "      <td>100.0</td>\n",
       "      <td>14.000153</td>\n",
       "      <td>0.001526</td>\n",
       "      <td>0.001526</td>\n",
       "      <td>14.000153</td>\n",
       "      <td>0.02</td>\n",
       "    </tr>\n",
       "    <tr>\n",
       "      <th>3</th>\n",
       "      <td>15.04</td>\n",
       "      <td>79.998474</td>\n",
       "      <td>-54.40</td>\n",
       "      <td>1.375</td>\n",
       "      <td>6.413818</td>\n",
       "      <td>12.394796</td>\n",
       "      <td>100.0</td>\n",
       "      <td>14.000153</td>\n",
       "      <td>0.001526</td>\n",
       "      <td>0.001526</td>\n",
       "      <td>14.000153</td>\n",
       "      <td>0.03</td>\n",
       "    </tr>\n",
       "    <tr>\n",
       "      <th>4</th>\n",
       "      <td>15.05</td>\n",
       "      <td>79.998474</td>\n",
       "      <td>-53.74</td>\n",
       "      <td>1.750</td>\n",
       "      <td>6.577906</td>\n",
       "      <td>12.382870</td>\n",
       "      <td>100.0</td>\n",
       "      <td>14.000153</td>\n",
       "      <td>0.001526</td>\n",
       "      <td>0.001526</td>\n",
       "      <td>14.000153</td>\n",
       "      <td>0.04</td>\n",
       "    </tr>\n",
       "  </tbody>\n",
       "</table>\n",
       "</div>"
      ],
      "text/plain": [
       "   TimeStamp  Reference  Position  Speed   Current    Voltage  Error  \\\n",
       "0      15.01  79.998474    -55.40  0.000 -1.494063  12.390736  100.0   \n",
       "1      15.02  79.998474    -55.28  0.125  9.528607  12.374751  100.0   \n",
       "2      15.03  79.998474    -54.92  0.875  7.107593  12.386676  100.0   \n",
       "3      15.04  79.998474    -54.40  1.375  6.413818  12.394796  100.0   \n",
       "4      15.05  79.998474    -53.74  1.750  6.577906  12.382870  100.0   \n",
       "\n",
       "   Kp x Error  Error Sum / Ti  Td x Delta Err.  PID Output  TimeShift  \n",
       "0   14.000153        0.001526         0.001526   14.000153       0.00  \n",
       "1   14.000153        0.001526         0.001526   14.000153       0.01  \n",
       "2   14.000153        0.001526         0.001526   14.000153       0.02  \n",
       "3   14.000153        0.001526         0.001526   14.000153       0.03  \n",
       "4   14.000153        0.001526         0.001526   14.000153       0.04  "
      ]
     },
     "execution_count": 11,
     "metadata": {},
     "output_type": "execute_result"
    }
   ],
   "source": [
    "step2_fil[\"TimeShift\"]=step2_fil.TimeStamp-step2_fil.TimeStamp[0]\n",
    "step2_fil.head()"
   ]
  },
  {
   "cell_type": "code",
   "execution_count": 12,
   "metadata": {},
   "outputs": [
    {
     "data": {
      "text/plain": [
       "79.998474"
      ]
     },
     "execution_count": 12,
     "metadata": {},
     "output_type": "execute_result"
    }
   ],
   "source": [
    "step2_raw.Reference.max()"
   ]
  },
  {
   "cell_type": "code",
   "execution_count": 13,
   "metadata": {},
   "outputs": [
    {
     "data": {
      "text/plain": [
       "[<matplotlib.lines.Line2D at 0xd05ab08>]"
      ]
     },
     "execution_count": 13,
     "metadata": {},
     "output_type": "execute_result"
    },
    {
     "data": {
      "image/png": "[encoded data removed]",
      "text/plain": [
       "<Figure size 432x288 with 1 Axes>"
      ]
     },
     "metadata": {
      "needs_background": "light"
     },
     "output_type": "display_data"
    }
   ],
   "source": [
    "plt.plot(step2_fil.TimeShift, step2_fil.Reference)"
   ]
  },
  {
   "cell_type": "markdown",
   "metadata": {},
   "source": [
    "#### Select one cycle (step-2)"
   ]
  },
  {
   "cell_type": "code",
   "execution_count": 14,
   "metadata": {},
   "outputs": [
    {
     "data": {
      "text/html": [
       "<div>\n",
       "<style scoped>\n",
       "    .dataframe tbody tr th:only-of-type {\n",
       "        vertical-align: middle;\n",
       "    }\n",
       "\n",
       "    .dataframe tbody tr th {\n",
       "        vertical-align: top;\n",
       "    }\n",
       "\n",
       "    .dataframe thead th {\n",
       "        text-align: right;\n",
       "    }\n",
       "</style>\n",
       "<table border=\"1\" class=\"dataframe\">\n",
       "  <thead>\n",
       "    <tr style=\"text-align: right;\">\n",
       "      <th></th>\n",
       "      <th>TimeStamp</th>\n",
       "      <th>Reference</th>\n",
       "      <th>Position</th>\n",
       "      <th>Speed</th>\n",
       "      <th>Current</th>\n",
       "      <th>Voltage</th>\n",
       "      <th>Error</th>\n",
       "      <th>Kp x Error</th>\n",
       "      <th>Error Sum / Ti</th>\n",
       "      <th>Td x Delta Err.</th>\n",
       "      <th>PID Output</th>\n",
       "      <th>TimeShift</th>\n",
       "    </tr>\n",
       "  </thead>\n",
       "  <tbody>\n",
       "    <tr>\n",
       "      <th>519</th>\n",
       "      <td>19.97</td>\n",
       "      <td>-79.995422</td>\n",
       "      <td>-54.84</td>\n",
       "      <td>0.0</td>\n",
       "      <td>-1.563152</td>\n",
       "      <td>-3.131854</td>\n",
       "      <td>-25.157549</td>\n",
       "      <td>-3.520256</td>\n",
       "      <td>0.001526</td>\n",
       "      <td>0.001526</td>\n",
       "      <td>-3.520256</td>\n",
       "      <td>4.96</td>\n",
       "    </tr>\n",
       "    <tr>\n",
       "      <th>520</th>\n",
       "      <td>19.98</td>\n",
       "      <td>-79.995422</td>\n",
       "      <td>-54.84</td>\n",
       "      <td>0.0</td>\n",
       "      <td>-1.517092</td>\n",
       "      <td>-3.130828</td>\n",
       "      <td>-25.157549</td>\n",
       "      <td>-3.520256</td>\n",
       "      <td>0.001526</td>\n",
       "      <td>0.001526</td>\n",
       "      <td>-3.520256</td>\n",
       "      <td>4.97</td>\n",
       "    </tr>\n",
       "    <tr>\n",
       "      <th>521</th>\n",
       "      <td>19.99</td>\n",
       "      <td>-79.995422</td>\n",
       "      <td>-54.84</td>\n",
       "      <td>0.0</td>\n",
       "      <td>-1.517092</td>\n",
       "      <td>-3.132817</td>\n",
       "      <td>-25.157549</td>\n",
       "      <td>-3.520256</td>\n",
       "      <td>0.001526</td>\n",
       "      <td>0.001526</td>\n",
       "      <td>-3.520256</td>\n",
       "      <td>4.98</td>\n",
       "    </tr>\n",
       "    <tr>\n",
       "      <th>522</th>\n",
       "      <td>20.00</td>\n",
       "      <td>-79.995422</td>\n",
       "      <td>-54.84</td>\n",
       "      <td>0.0</td>\n",
       "      <td>-1.494063</td>\n",
       "      <td>-3.133844</td>\n",
       "      <td>-25.157549</td>\n",
       "      <td>-3.520256</td>\n",
       "      <td>0.001526</td>\n",
       "      <td>0.001526</td>\n",
       "      <td>-3.520256</td>\n",
       "      <td>4.99</td>\n",
       "    </tr>\n",
       "    <tr>\n",
       "      <th>523</th>\n",
       "      <td>20.01</td>\n",
       "      <td>79.998474</td>\n",
       "      <td>-54.84</td>\n",
       "      <td>0.0</td>\n",
       "      <td>-1.586182</td>\n",
       "      <td>12.382870</td>\n",
       "      <td>100.000000</td>\n",
       "      <td>14.000153</td>\n",
       "      <td>0.001526</td>\n",
       "      <td>0.001526</td>\n",
       "      <td>14.000153</td>\n",
       "      <td>5.00</td>\n",
       "    </tr>\n",
       "  </tbody>\n",
       "</table>\n",
       "</div>"
      ],
      "text/plain": [
       "     TimeStamp  Reference  Position  Speed   Current    Voltage       Error  \\\n",
       "519      19.97 -79.995422    -54.84    0.0 -1.563152  -3.131854  -25.157549   \n",
       "520      19.98 -79.995422    -54.84    0.0 -1.517092  -3.130828  -25.157549   \n",
       "521      19.99 -79.995422    -54.84    0.0 -1.517092  -3.132817  -25.157549   \n",
       "522      20.00 -79.995422    -54.84    0.0 -1.494063  -3.133844  -25.157549   \n",
       "523      20.01  79.998474    -54.84    0.0 -1.586182  12.382870  100.000000   \n",
       "\n",
       "     Kp x Error  Error Sum / Ti  Td x Delta Err.  PID Output  TimeShift  \n",
       "519   -3.520256        0.001526         0.001526   -3.520256       4.96  \n",
       "520   -3.520256        0.001526         0.001526   -3.520256       4.97  \n",
       "521   -3.520256        0.001526         0.001526   -3.520256       4.98  \n",
       "522   -3.520256        0.001526         0.001526   -3.520256       4.99  \n",
       "523   14.000153        0.001526         0.001526   14.000153       5.00  "
      ]
     },
     "execution_count": 14,
     "metadata": {},
     "output_type": "execute_result"
    }
   ],
   "source": [
    "freq=0.20\n",
    "period=1/freq\n",
    "step2_one_cycle=step2_fil[step2_fil.TimeShift<period+.01]\n",
    "step2_one_cycle.tail()"
   ]
  },
  {
   "cell_type": "code",
   "execution_count": 15,
   "metadata": {},
   "outputs": [
    {
     "data": {
      "text/plain": [
       "[<matplotlib.lines.Line2D at 0xd08cdf0>]"
      ]
     },
     "execution_count": 15,
     "metadata": {},
     "output_type": "execute_result"
    },
    {
     "data": {
      "image/png": "[encoded data removed]",
      "text/plain": [
       "<Figure size 432x288 with 1 Axes>"
      ]
     },
     "metadata": {
      "needs_background": "light"
     },
     "output_type": "display_data"
    }
   ],
   "source": [
    "plt.plot(step2_one_cycle.TimeShift,step2_one_cycle.Reference)"
   ]
  },
  {
   "cell_type": "code",
   "execution_count": 16,
   "metadata": {},
   "outputs": [
    {
     "data": {
      "text/plain": [
       "[<matplotlib.lines.Line2D at 0xd0dd280>]"
      ]
     },
     "execution_count": 16,
     "metadata": {},
     "output_type": "execute_result"
    },
    {
     "data": {
      "image/png": "[encoded data removed]",
      "text/plain": [
       "<Figure size 432x288 with 1 Axes>"
      ]
     },
     "metadata": {
      "needs_background": "light"
     },
     "output_type": "display_data"
    }
   ],
   "source": [
    "plt.plot(step2_one_cycle.TimeShift, step2_one_cycle.Position)"
   ]
  },
  {
   "cell_type": "markdown",
   "metadata": {},
   "source": [
    "#### Select half cycle (step-2)"
   ]
  },
  {
   "cell_type": "code",
   "execution_count": 17,
   "metadata": {},
   "outputs": [
    {
     "data": {
      "text/plain": [
       "[<matplotlib.lines.Line2D at 0xd117190>]"
      ]
     },
     "execution_count": 17,
     "metadata": {},
     "output_type": "execute_result"
    },
    {
     "data": {
      "image/png": "[encoded data removed]",
      "text/plain": [
       "<Figure size 432x288 with 1 Axes>"
      ]
     },
     "metadata": {
      "needs_background": "light"
     },
     "output_type": "display_data"
    }
   ],
   "source": [
    "step2_half_cycle=step2_one_cycle[step2_one_cycle.TimeShift<=period/2]\n",
    "plt.plot(step2_half_cycle.TimeShift,step2_half_cycle.Reference)"
   ]
  },
  {
   "cell_type": "code",
   "execution_count": 18,
   "metadata": {},
   "outputs": [
    {
     "data": {
      "text/html": [
       "<div>\n",
       "<style scoped>\n",
       "    .dataframe tbody tr th:only-of-type {\n",
       "        vertical-align: middle;\n",
       "    }\n",
       "\n",
       "    .dataframe tbody tr th {\n",
       "        vertical-align: top;\n",
       "    }\n",
       "\n",
       "    .dataframe thead th {\n",
       "        text-align: right;\n",
       "    }\n",
       "</style>\n",
       "<table border=\"1\" class=\"dataframe\">\n",
       "  <thead>\n",
       "    <tr style=\"text-align: right;\">\n",
       "      <th></th>\n",
       "      <th>TimeStamp</th>\n",
       "      <th>Reference</th>\n",
       "      <th>Position</th>\n",
       "      <th>Speed</th>\n",
       "      <th>Current</th>\n",
       "      <th>Voltage</th>\n",
       "      <th>Error</th>\n",
       "      <th>Kp x Error</th>\n",
       "      <th>Error Sum / Ti</th>\n",
       "      <th>Td x Delta Err.</th>\n",
       "      <th>PID Output</th>\n",
       "      <th>TimeShift</th>\n",
       "    </tr>\n",
       "  </thead>\n",
       "  <tbody>\n",
       "    <tr>\n",
       "      <th>256</th>\n",
       "      <td>17.46</td>\n",
       "      <td>79.998474</td>\n",
       "      <td>51.88</td>\n",
       "      <td>0.0</td>\n",
       "      <td>1.571788</td>\n",
       "      <td>3.472472</td>\n",
       "      <td>28.1178</td>\n",
       "      <td>3.938354</td>\n",
       "      <td>0.001526</td>\n",
       "      <td>0.001526</td>\n",
       "      <td>3.938354</td>\n",
       "      <td>2.45</td>\n",
       "    </tr>\n",
       "    <tr>\n",
       "      <th>257</th>\n",
       "      <td>17.47</td>\n",
       "      <td>79.998474</td>\n",
       "      <td>51.88</td>\n",
       "      <td>0.0</td>\n",
       "      <td>1.571788</td>\n",
       "      <td>3.467994</td>\n",
       "      <td>28.1178</td>\n",
       "      <td>3.938354</td>\n",
       "      <td>0.001526</td>\n",
       "      <td>0.001526</td>\n",
       "      <td>3.938354</td>\n",
       "      <td>2.46</td>\n",
       "    </tr>\n",
       "    <tr>\n",
       "      <th>258</th>\n",
       "      <td>17.48</td>\n",
       "      <td>79.998474</td>\n",
       "      <td>51.88</td>\n",
       "      <td>0.0</td>\n",
       "      <td>1.594818</td>\n",
       "      <td>3.473609</td>\n",
       "      <td>28.1178</td>\n",
       "      <td>3.938354</td>\n",
       "      <td>0.001526</td>\n",
       "      <td>0.001526</td>\n",
       "      <td>3.938354</td>\n",
       "      <td>2.47</td>\n",
       "    </tr>\n",
       "    <tr>\n",
       "      <th>259</th>\n",
       "      <td>17.49</td>\n",
       "      <td>79.998474</td>\n",
       "      <td>51.88</td>\n",
       "      <td>0.0</td>\n",
       "      <td>1.594818</td>\n",
       "      <td>3.470197</td>\n",
       "      <td>28.1178</td>\n",
       "      <td>3.938354</td>\n",
       "      <td>0.001526</td>\n",
       "      <td>0.001526</td>\n",
       "      <td>3.938354</td>\n",
       "      <td>2.48</td>\n",
       "    </tr>\n",
       "    <tr>\n",
       "      <th>260</th>\n",
       "      <td>17.50</td>\n",
       "      <td>79.998474</td>\n",
       "      <td>51.88</td>\n",
       "      <td>0.0</td>\n",
       "      <td>1.571788</td>\n",
       "      <td>3.471335</td>\n",
       "      <td>28.1178</td>\n",
       "      <td>3.938354</td>\n",
       "      <td>0.001526</td>\n",
       "      <td>0.001526</td>\n",
       "      <td>3.938354</td>\n",
       "      <td>2.49</td>\n",
       "    </tr>\n",
       "  </tbody>\n",
       "</table>\n",
       "</div>"
      ],
      "text/plain": [
       "     TimeStamp  Reference  Position  Speed   Current   Voltage    Error  \\\n",
       "256      17.46  79.998474     51.88    0.0  1.571788  3.472472  28.1178   \n",
       "257      17.47  79.998474     51.88    0.0  1.571788  3.467994  28.1178   \n",
       "258      17.48  79.998474     51.88    0.0  1.594818  3.473609  28.1178   \n",
       "259      17.49  79.998474     51.88    0.0  1.594818  3.470197  28.1178   \n",
       "260      17.50  79.998474     51.88    0.0  1.571788  3.471335  28.1178   \n",
       "\n",
       "     Kp x Error  Error Sum / Ti  Td x Delta Err.  PID Output  TimeShift  \n",
       "256    3.938354        0.001526         0.001526    3.938354       2.45  \n",
       "257    3.938354        0.001526         0.001526    3.938354       2.46  \n",
       "258    3.938354        0.001526         0.001526    3.938354       2.47  \n",
       "259    3.938354        0.001526         0.001526    3.938354       2.48  \n",
       "260    3.938354        0.001526         0.001526    3.938354       2.49  "
      ]
     },
     "execution_count": 18,
     "metadata": {},
     "output_type": "execute_result"
    }
   ],
   "source": [
    "step2_half_cycle.tail()"
   ]
  },
  {
   "cell_type": "code",
   "execution_count": 19,
   "metadata": {},
   "outputs": [
    {
     "data": {
      "text/plain": [
       "-55.4"
      ]
     },
     "execution_count": 19,
     "metadata": {},
     "output_type": "execute_result"
    }
   ],
   "source": [
    "step2_one_cycle.Position.min()"
   ]
  },
  {
   "cell_type": "code",
   "execution_count": 86,
   "metadata": {},
   "outputs": [
    {
     "data": {
      "image/png": "[encoded data removed]",
      "text/plain": [
       "<Figure size 1080x504 with 1 Axes>"
      ]
     },
     "metadata": {
      "needs_background": "light"
     },
     "output_type": "display_data"
    }
   ],
   "source": [
    "font = {'family': 'JetBrains Mono',\n",
    "        'color':  'black',\n",
    "        'weight': 'normal',\n",
    "        'size': 15,\n",
    "        }\n",
    "fig, ax=plt.subplots(figsize=(15,7))\n",
    "ax.plot(step2_half_cycle.TimeShift, step2_half_cycle.Position, color=\"red\", \n",
    "       linewidth=1.5)\n",
    "\n",
    "step2_tex=r\"$f=0.2 Hz$, $A=80\\%$, $K_p=0.14$\"\n",
    "ax.text(1.0, 30, step2_tex, fontdict=font, color=\"DarkBlue\", fontsize=20)\n",
    "\n",
    "ax.set_facecolor(\"#F8E0C1\")\n",
    "# Move the left and bottom spines to x = 0 and y = 0, respectively.\n",
    "ax.spines[\"left\"].set_position((\"data\", 0))\n",
    "ax.spines[\"bottom\"].set_position((\"data\", 0))\n",
    "# Hide the top and right spines.\n",
    "ax.spines[\"top\"].set_visible(False)\n",
    "ax.spines[\"right\"].set_visible(False)\n",
    "\n",
    "ax.plot(1, 0, \">k\", ms=12, transform=ax.get_yaxis_transform(), clip_on=False)\n",
    "ax.plot(0, 1, \"^k\", ms=12, transform=ax.get_xaxis_transform(), clip_on=False)\n",
    "ax.set_xlabel(xlabel=\"Time\", fontsize=15)\n",
    "ax.set_ylabel(ylabel=\"Position(%)\", rotation=\"horizontal\", fontsize=15)\n",
    "ax.yaxis.set_label_coords(0.05,1.03)\n",
    "ax.xaxis.set_label_coords(1.04,0.53)\n",
    "ax.tick_params(axis=\"both\", which=\"major\", labelsize=15)"
   ]
  },
  {
   "cell_type": "code",
   "execution_count": 4,
   "metadata": {},
   "outputs": [
    {
     "data": {
      "text/html": [
       "<div>\n",
       "<style scoped>\n",
       "    .dataframe tbody tr th:only-of-type {\n",
       "        vertical-align: middle;\n",
       "    }\n",
       "\n",
       "    .dataframe tbody tr th {\n",
       "        vertical-align: top;\n",
       "    }\n",
       "\n",
       "    .dataframe thead th {\n",
       "        text-align: right;\n",
       "    }\n",
       "</style>\n",
       "<table border=\"1\" class=\"dataframe\">\n",
       "  <thead>\n",
       "    <tr style=\"text-align: right;\">\n",
       "      <th></th>\n",
       "      <th>TimeStamp</th>\n",
       "      <th>Reference</th>\n",
       "      <th>Position</th>\n",
       "      <th>Speed</th>\n",
       "      <th>Current</th>\n",
       "      <th>Voltage</th>\n",
       "      <th>Error</th>\n",
       "      <th>Kp x Error</th>\n",
       "      <th>Error Sum / Ti</th>\n",
       "      <th>Td x Delta Err.</th>\n",
       "      <th>PID Output</th>\n",
       "    </tr>\n",
       "  </thead>\n",
       "  <tbody>\n",
       "    <tr>\n",
       "      <th>0</th>\n",
       "      <td>60.90</td>\n",
       "      <td>0.001526</td>\n",
       "      <td>0.0</td>\n",
       "      <td>0.0</td>\n",
       "      <td>-0.224541</td>\n",
       "      <td>0.0</td>\n",
       "      <td>0.001526</td>\n",
       "      <td>0.001526</td>\n",
       "      <td>21.074235</td>\n",
       "      <td>0.001526</td>\n",
       "      <td>21.074235</td>\n",
       "    </tr>\n",
       "    <tr>\n",
       "      <th>1</th>\n",
       "      <td>60.91</td>\n",
       "      <td>0.001526</td>\n",
       "      <td>0.0</td>\n",
       "      <td>0.0</td>\n",
       "      <td>-0.244692</td>\n",
       "      <td>0.0</td>\n",
       "      <td>0.001526</td>\n",
       "      <td>0.001526</td>\n",
       "      <td>21.074235</td>\n",
       "      <td>0.001526</td>\n",
       "      <td>21.074235</td>\n",
       "    </tr>\n",
       "    <tr>\n",
       "      <th>2</th>\n",
       "      <td>60.92</td>\n",
       "      <td>0.001526</td>\n",
       "      <td>0.0</td>\n",
       "      <td>0.0</td>\n",
       "      <td>-0.224541</td>\n",
       "      <td>0.0</td>\n",
       "      <td>0.001526</td>\n",
       "      <td>0.001526</td>\n",
       "      <td>21.074235</td>\n",
       "      <td>0.001526</td>\n",
       "      <td>21.074235</td>\n",
       "    </tr>\n",
       "    <tr>\n",
       "      <th>3</th>\n",
       "      <td>60.93</td>\n",
       "      <td>0.001526</td>\n",
       "      <td>0.0</td>\n",
       "      <td>0.0</td>\n",
       "      <td>-0.236056</td>\n",
       "      <td>0.0</td>\n",
       "      <td>0.001526</td>\n",
       "      <td>0.001526</td>\n",
       "      <td>21.074235</td>\n",
       "      <td>0.001526</td>\n",
       "      <td>21.074235</td>\n",
       "    </tr>\n",
       "    <tr>\n",
       "      <th>4</th>\n",
       "      <td>60.94</td>\n",
       "      <td>0.001526</td>\n",
       "      <td>0.0</td>\n",
       "      <td>0.0</td>\n",
       "      <td>-0.250450</td>\n",
       "      <td>0.0</td>\n",
       "      <td>0.001526</td>\n",
       "      <td>0.001526</td>\n",
       "      <td>21.074235</td>\n",
       "      <td>0.001526</td>\n",
       "      <td>21.074235</td>\n",
       "    </tr>\n",
       "  </tbody>\n",
       "</table>\n",
       "</div>"
      ],
      "text/plain": [
       "   TimeStamp  Reference  Position  Speed   Current  Voltage     Error  \\\n",
       "0      60.90   0.001526       0.0    0.0 -0.224541      0.0  0.001526   \n",
       "1      60.91   0.001526       0.0    0.0 -0.244692      0.0  0.001526   \n",
       "2      60.92   0.001526       0.0    0.0 -0.224541      0.0  0.001526   \n",
       "3      60.93   0.001526       0.0    0.0 -0.236056      0.0  0.001526   \n",
       "4      60.94   0.001526       0.0    0.0 -0.250450      0.0  0.001526   \n",
       "\n",
       "   Kp x Error  Error Sum / Ti  Td x Delta Err.  PID Output  \n",
       "0    0.001526       21.074235         0.001526   21.074235  \n",
       "1    0.001526       21.074235         0.001526   21.074235  \n",
       "2    0.001526       21.074235         0.001526   21.074235  \n",
       "3    0.001526       21.074235         0.001526   21.074235  \n",
       "4    0.001526       21.074235         0.001526   21.074235  "
      ]
     },
     "execution_count": 4,
     "metadata": {},
     "output_type": "execute_result"
    }
   ],
   "source": [
    "step2_raw_g6=pd.read_csv(\"D:\\Extra Knowledge\\HP-NPC\\dataset/exp6-step2-group-6.csv\")\n",
    "step2_raw_g6.head()"
   ]
  },
  {
   "cell_type": "code",
   "execution_count": 6,
   "metadata": {},
   "outputs": [
    {
     "data": {
      "text/plain": [
       "(4200, 11)"
      ]
     },
     "execution_count": 6,
     "metadata": {},
     "output_type": "execute_result"
    }
   ],
   "source": [
    "step2_raw_g6.shape"
   ]
  },
  {
   "cell_type": "code",
   "execution_count": 8,
   "metadata": {},
   "outputs": [
    {
     "data": {
      "text/html": [
       "<div>\n",
       "<style scoped>\n",
       "    .dataframe tbody tr th:only-of-type {\n",
       "        vertical-align: middle;\n",
       "    }\n",
       "\n",
       "    .dataframe tbody tr th {\n",
       "        vertical-align: top;\n",
       "    }\n",
       "\n",
       "    .dataframe thead th {\n",
       "        text-align: right;\n",
       "    }\n",
       "</style>\n",
       "<table border=\"1\" class=\"dataframe\">\n",
       "  <thead>\n",
       "    <tr style=\"text-align: right;\">\n",
       "      <th></th>\n",
       "      <th>TimeStamp</th>\n",
       "      <th>Reference</th>\n",
       "      <th>Position</th>\n",
       "      <th>Speed</th>\n",
       "      <th>Current</th>\n",
       "      <th>Voltage</th>\n",
       "      <th>Error</th>\n",
       "      <th>Kp x Error</th>\n",
       "      <th>Error Sum / Ti</th>\n",
       "      <th>Td x Delta Err.</th>\n",
       "      <th>PID Output</th>\n",
       "    </tr>\n",
       "  </thead>\n",
       "  <tbody>\n",
       "    <tr>\n",
       "      <th>203</th>\n",
       "      <td>0.01</td>\n",
       "      <td>0.001526</td>\n",
       "      <td>0.00</td>\n",
       "      <td>0.000</td>\n",
       "      <td>-0.256207</td>\n",
       "      <td>0.000000</td>\n",
       "      <td>0.001526</td>\n",
       "      <td>0.001526</td>\n",
       "      <td>0.001526</td>\n",
       "      <td>0.001526</td>\n",
       "      <td>0.001526</td>\n",
       "    </tr>\n",
       "    <tr>\n",
       "      <th>204</th>\n",
       "      <td>0.02</td>\n",
       "      <td>3.334096</td>\n",
       "      <td>0.00</td>\n",
       "      <td>0.000</td>\n",
       "      <td>-0.230299</td>\n",
       "      <td>0.446606</td>\n",
       "      <td>3.334096</td>\n",
       "      <td>0.465400</td>\n",
       "      <td>0.001526</td>\n",
       "      <td>0.001526</td>\n",
       "      <td>0.465400</td>\n",
       "    </tr>\n",
       "    <tr>\n",
       "      <th>205</th>\n",
       "      <td>0.03</td>\n",
       "      <td>6.666667</td>\n",
       "      <td>0.00</td>\n",
       "      <td>0.000</td>\n",
       "      <td>-0.118028</td>\n",
       "      <td>0.843320</td>\n",
       "      <td>6.666667</td>\n",
       "      <td>0.932326</td>\n",
       "      <td>0.001526</td>\n",
       "      <td>0.001526</td>\n",
       "      <td>0.932326</td>\n",
       "    </tr>\n",
       "    <tr>\n",
       "      <th>206</th>\n",
       "      <td>0.04</td>\n",
       "      <td>9.999237</td>\n",
       "      <td>0.02</td>\n",
       "      <td>0.125</td>\n",
       "      <td>0.005757</td>\n",
       "      <td>1.288962</td>\n",
       "      <td>9.980926</td>\n",
       "      <td>1.396201</td>\n",
       "      <td>0.001526</td>\n",
       "      <td>0.001526</td>\n",
       "      <td>1.396201</td>\n",
       "    </tr>\n",
       "    <tr>\n",
       "      <th>207</th>\n",
       "      <td>0.05</td>\n",
       "      <td>13.331807</td>\n",
       "      <td>0.02</td>\n",
       "      <td>0.000</td>\n",
       "      <td>0.074847</td>\n",
       "      <td>1.688251</td>\n",
       "      <td>13.313497</td>\n",
       "      <td>1.863127</td>\n",
       "      <td>0.001526</td>\n",
       "      <td>0.001526</td>\n",
       "      <td>1.863127</td>\n",
       "    </tr>\n",
       "  </tbody>\n",
       "</table>\n",
       "</div>"
      ],
      "text/plain": [
       "     TimeStamp  Reference  Position  Speed   Current   Voltage      Error  \\\n",
       "203       0.01   0.001526      0.00  0.000 -0.256207  0.000000   0.001526   \n",
       "204       0.02   3.334096      0.00  0.000 -0.230299  0.446606   3.334096   \n",
       "205       0.03   6.666667      0.00  0.000 -0.118028  0.843320   6.666667   \n",
       "206       0.04   9.999237      0.02  0.125  0.005757  1.288962   9.980926   \n",
       "207       0.05  13.331807      0.02  0.000  0.074847  1.688251  13.313497   \n",
       "\n",
       "     Kp x Error  Error Sum / Ti  Td x Delta Err.  PID Output  \n",
       "203    0.001526        0.001526         0.001526    0.001526  \n",
       "204    0.465400        0.001526         0.001526    0.465400  \n",
       "205    0.932326        0.001526         0.001526    0.932326  \n",
       "206    1.396201        0.001526         0.001526    1.396201  \n",
       "207    1.863127        0.001526         0.001526    1.863127  "
      ]
     },
     "execution_count": 8,
     "metadata": {},
     "output_type": "execute_result"
    }
   ],
   "source": [
    "remove_zero=step2_raw_g6.loc[203:,:]\n",
    "remove_zero.head()"
   ]
  },
  {
   "cell_type": "code",
   "execution_count": 20,
   "metadata": {
    "scrolled": true
   },
   "outputs": [
    {
     "data": {
      "text/html": [
       "<div>\n",
       "<style scoped>\n",
       "    .dataframe tbody tr th:only-of-type {\n",
       "        vertical-align: middle;\n",
       "    }\n",
       "\n",
       "    .dataframe tbody tr th {\n",
       "        vertical-align: top;\n",
       "    }\n",
       "\n",
       "    .dataframe thead th {\n",
       "        text-align: right;\n",
       "    }\n",
       "</style>\n",
       "<table border=\"1\" class=\"dataframe\">\n",
       "  <thead>\n",
       "    <tr style=\"text-align: right;\">\n",
       "      <th></th>\n",
       "      <th>TimeStamp</th>\n",
       "      <th>Reference</th>\n",
       "      <th>Position</th>\n",
       "      <th>Speed</th>\n",
       "      <th>Current</th>\n",
       "      <th>Voltage</th>\n",
       "      <th>Error</th>\n",
       "      <th>Kp x Error</th>\n",
       "      <th>Error Sum / Ti</th>\n",
       "      <th>Td x Delta Err.</th>\n",
       "      <th>PID Output</th>\n",
       "    </tr>\n",
       "  </thead>\n",
       "  <tbody>\n",
       "    <tr>\n",
       "      <th>448</th>\n",
       "      <td>2.46</td>\n",
       "      <td>79.998474</td>\n",
       "      <td>54.22</td>\n",
       "      <td>0.0</td>\n",
       "      <td>0.693775</td>\n",
       "      <td>3.279213</td>\n",
       "      <td>25.780117</td>\n",
       "      <td>3.608759</td>\n",
       "      <td>0.001526</td>\n",
       "      <td>0.001526</td>\n",
       "      <td>3.608759</td>\n",
       "    </tr>\n",
       "    <tr>\n",
       "      <th>449</th>\n",
       "      <td>2.47</td>\n",
       "      <td>79.998474</td>\n",
       "      <td>54.22</td>\n",
       "      <td>0.0</td>\n",
       "      <td>0.673624</td>\n",
       "      <td>3.278171</td>\n",
       "      <td>25.780117</td>\n",
       "      <td>3.608759</td>\n",
       "      <td>0.001526</td>\n",
       "      <td>0.001526</td>\n",
       "      <td>3.608759</td>\n",
       "    </tr>\n",
       "    <tr>\n",
       "      <th>450</th>\n",
       "      <td>2.48</td>\n",
       "      <td>79.998474</td>\n",
       "      <td>54.22</td>\n",
       "      <td>0.0</td>\n",
       "      <td>0.679381</td>\n",
       "      <td>3.278171</td>\n",
       "      <td>25.780117</td>\n",
       "      <td>3.608759</td>\n",
       "      <td>0.001526</td>\n",
       "      <td>0.001526</td>\n",
       "      <td>3.608759</td>\n",
       "    </tr>\n",
       "    <tr>\n",
       "      <th>451</th>\n",
       "      <td>2.49</td>\n",
       "      <td>79.998474</td>\n",
       "      <td>54.22</td>\n",
       "      <td>0.0</td>\n",
       "      <td>0.659230</td>\n",
       "      <td>3.280256</td>\n",
       "      <td>25.780117</td>\n",
       "      <td>3.608759</td>\n",
       "      <td>0.001526</td>\n",
       "      <td>0.001526</td>\n",
       "      <td>3.608759</td>\n",
       "    </tr>\n",
       "    <tr>\n",
       "      <th>452</th>\n",
       "      <td>2.50</td>\n",
       "      <td>79.998474</td>\n",
       "      <td>54.22</td>\n",
       "      <td>0.0</td>\n",
       "      <td>0.679381</td>\n",
       "      <td>3.277193</td>\n",
       "      <td>25.780117</td>\n",
       "      <td>3.608759</td>\n",
       "      <td>0.001526</td>\n",
       "      <td>0.001526</td>\n",
       "      <td>3.608759</td>\n",
       "    </tr>\n",
       "  </tbody>\n",
       "</table>\n",
       "</div>"
      ],
      "text/plain": [
       "     TimeStamp  Reference  Position  Speed   Current   Voltage      Error  \\\n",
       "448       2.46  79.998474     54.22    0.0  0.693775  3.279213  25.780117   \n",
       "449       2.47  79.998474     54.22    0.0  0.673624  3.278171  25.780117   \n",
       "450       2.48  79.998474     54.22    0.0  0.679381  3.278171  25.780117   \n",
       "451       2.49  79.998474     54.22    0.0  0.659230  3.280256  25.780117   \n",
       "452       2.50  79.998474     54.22    0.0  0.679381  3.277193  25.780117   \n",
       "\n",
       "     Kp x Error  Error Sum / Ti  Td x Delta Err.  PID Output  \n",
       "448    3.608759        0.001526         0.001526    3.608759  \n",
       "449    3.608759        0.001526         0.001526    3.608759  \n",
       "450    3.608759        0.001526         0.001526    3.608759  \n",
       "451    3.608759        0.001526         0.001526    3.608759  \n",
       "452    3.608759        0.001526         0.001526    3.608759  "
      ]
     },
     "execution_count": 20,
     "metadata": {},
     "output_type": "execute_result"
    }
   ],
   "source": [
    "freq=0.2\n",
    "period=1/freq\n",
    "step2_g6_half_cycle=remove_zero[remove_zero.TimeStamp<=period/2]\n",
    "step2_g6_half_cycle.tail()"
   ]
  },
  {
   "cell_type": "code",
   "execution_count": 21,
   "metadata": {},
   "outputs": [],
   "source": [
    "step2_g6_half_cycle.reset_index(drop=True, inplace=True)"
   ]
  },
  {
   "cell_type": "code",
   "execution_count": 23,
   "metadata": {},
   "outputs": [
    {
     "data": {
      "text/html": [
       "<div>\n",
       "<style scoped>\n",
       "    .dataframe tbody tr th:only-of-type {\n",
       "        vertical-align: middle;\n",
       "    }\n",
       "\n",
       "    .dataframe tbody tr th {\n",
       "        vertical-align: top;\n",
       "    }\n",
       "\n",
       "    .dataframe thead th {\n",
       "        text-align: right;\n",
       "    }\n",
       "</style>\n",
       "<table border=\"1\" class=\"dataframe\">\n",
       "  <thead>\n",
       "    <tr style=\"text-align: right;\">\n",
       "      <th></th>\n",
       "      <th>TimeStamp</th>\n",
       "      <th>Reference</th>\n",
       "      <th>Position</th>\n",
       "      <th>Speed</th>\n",
       "      <th>Current</th>\n",
       "      <th>Voltage</th>\n",
       "      <th>Error</th>\n",
       "      <th>Kp x Error</th>\n",
       "      <th>Error Sum / Ti</th>\n",
       "      <th>Td x Delta Err.</th>\n",
       "      <th>PID Output</th>\n",
       "    </tr>\n",
       "  </thead>\n",
       "  <tbody>\n",
       "    <tr>\n",
       "      <th>0</th>\n",
       "      <td>0.01</td>\n",
       "      <td>0.001526</td>\n",
       "      <td>0.00</td>\n",
       "      <td>0.000</td>\n",
       "      <td>-0.256207</td>\n",
       "      <td>0.000000</td>\n",
       "      <td>0.001526</td>\n",
       "      <td>0.001526</td>\n",
       "      <td>0.001526</td>\n",
       "      <td>0.001526</td>\n",
       "      <td>0.001526</td>\n",
       "    </tr>\n",
       "    <tr>\n",
       "      <th>1</th>\n",
       "      <td>0.02</td>\n",
       "      <td>3.334096</td>\n",
       "      <td>0.00</td>\n",
       "      <td>0.000</td>\n",
       "      <td>-0.230299</td>\n",
       "      <td>0.446606</td>\n",
       "      <td>3.334096</td>\n",
       "      <td>0.465400</td>\n",
       "      <td>0.001526</td>\n",
       "      <td>0.001526</td>\n",
       "      <td>0.465400</td>\n",
       "    </tr>\n",
       "    <tr>\n",
       "      <th>2</th>\n",
       "      <td>0.03</td>\n",
       "      <td>6.666667</td>\n",
       "      <td>0.00</td>\n",
       "      <td>0.000</td>\n",
       "      <td>-0.118028</td>\n",
       "      <td>0.843320</td>\n",
       "      <td>6.666667</td>\n",
       "      <td>0.932326</td>\n",
       "      <td>0.001526</td>\n",
       "      <td>0.001526</td>\n",
       "      <td>0.932326</td>\n",
       "    </tr>\n",
       "    <tr>\n",
       "      <th>3</th>\n",
       "      <td>0.04</td>\n",
       "      <td>9.999237</td>\n",
       "      <td>0.02</td>\n",
       "      <td>0.125</td>\n",
       "      <td>0.005757</td>\n",
       "      <td>1.288962</td>\n",
       "      <td>9.980926</td>\n",
       "      <td>1.396201</td>\n",
       "      <td>0.001526</td>\n",
       "      <td>0.001526</td>\n",
       "      <td>1.396201</td>\n",
       "    </tr>\n",
       "    <tr>\n",
       "      <th>4</th>\n",
       "      <td>0.05</td>\n",
       "      <td>13.331807</td>\n",
       "      <td>0.02</td>\n",
       "      <td>0.000</td>\n",
       "      <td>0.074847</td>\n",
       "      <td>1.688251</td>\n",
       "      <td>13.313497</td>\n",
       "      <td>1.863127</td>\n",
       "      <td>0.001526</td>\n",
       "      <td>0.001526</td>\n",
       "      <td>1.863127</td>\n",
       "    </tr>\n",
       "  </tbody>\n",
       "</table>\n",
       "</div>"
      ],
      "text/plain": [
       "   TimeStamp  Reference  Position  Speed   Current   Voltage      Error  \\\n",
       "0       0.01   0.001526      0.00  0.000 -0.256207  0.000000   0.001526   \n",
       "1       0.02   3.334096      0.00  0.000 -0.230299  0.446606   3.334096   \n",
       "2       0.03   6.666667      0.00  0.000 -0.118028  0.843320   6.666667   \n",
       "3       0.04   9.999237      0.02  0.125  0.005757  1.288962   9.980926   \n",
       "4       0.05  13.331807      0.02  0.000  0.074847  1.688251  13.313497   \n",
       "\n",
       "   Kp x Error  Error Sum / Ti  Td x Delta Err.  PID Output  \n",
       "0    0.001526        0.001526         0.001526    0.001526  \n",
       "1    0.465400        0.001526         0.001526    0.465400  \n",
       "2    0.932326        0.001526         0.001526    0.932326  \n",
       "3    1.396201        0.001526         0.001526    1.396201  \n",
       "4    1.863127        0.001526         0.001526    1.863127  "
      ]
     },
     "execution_count": 23,
     "metadata": {},
     "output_type": "execute_result"
    }
   ],
   "source": [
    "step2_g6_half_cycle.head()"
   ]
  },
  {
   "cell_type": "code",
   "execution_count": 25,
   "metadata": {},
   "outputs": [
    {
     "name": "stderr",
     "output_type": "stream",
     "text": [
      "<ipython-input-25-41ba200cb1ba>:1: SettingWithCopyWarning: \n",
      "A value is trying to be set on a copy of a slice from a DataFrame.\n",
      "Try using .loc[row_indexer,col_indexer] = value instead\n",
      "\n",
      "See the caveats in the documentation: https://pandas.pydata.org/pandas-docs/stable/user_guide/indexing.html#returning-a-view-versus-a-copy\n",
      "  step2_g6_half_cycle[\"TimeShift\"]=step2_g6_half_cycle.TimeStamp-step2_g6_half_cycle.TimeStamp[0]\n"
     ]
    }
   ],
   "source": [
    "step2_g6_half_cycle[\"TimeShift\"]=step2_g6_half_cycle.TimeStamp-step2_g6_half_cycle.TimeStamp[0]"
   ]
  },
  {
   "cell_type": "code",
   "execution_count": 26,
   "metadata": {},
   "outputs": [
    {
     "data": {
      "text/html": [
       "<div>\n",
       "<style scoped>\n",
       "    .dataframe tbody tr th:only-of-type {\n",
       "        vertical-align: middle;\n",
       "    }\n",
       "\n",
       "    .dataframe tbody tr th {\n",
       "        vertical-align: top;\n",
       "    }\n",
       "\n",
       "    .dataframe thead th {\n",
       "        text-align: right;\n",
       "    }\n",
       "</style>\n",
       "<table border=\"1\" class=\"dataframe\">\n",
       "  <thead>\n",
       "    <tr style=\"text-align: right;\">\n",
       "      <th></th>\n",
       "      <th>TimeStamp</th>\n",
       "      <th>Reference</th>\n",
       "      <th>Position</th>\n",
       "      <th>Speed</th>\n",
       "      <th>Current</th>\n",
       "      <th>Voltage</th>\n",
       "      <th>Error</th>\n",
       "      <th>Kp x Error</th>\n",
       "      <th>Error Sum / Ti</th>\n",
       "      <th>Td x Delta Err.</th>\n",
       "      <th>PID Output</th>\n",
       "      <th>TimeShift</th>\n",
       "    </tr>\n",
       "  </thead>\n",
       "  <tbody>\n",
       "    <tr>\n",
       "      <th>0</th>\n",
       "      <td>0.01</td>\n",
       "      <td>0.001526</td>\n",
       "      <td>0.00</td>\n",
       "      <td>0.000</td>\n",
       "      <td>-0.256207</td>\n",
       "      <td>0.000000</td>\n",
       "      <td>0.001526</td>\n",
       "      <td>0.001526</td>\n",
       "      <td>0.001526</td>\n",
       "      <td>0.001526</td>\n",
       "      <td>0.001526</td>\n",
       "      <td>0.00</td>\n",
       "    </tr>\n",
       "    <tr>\n",
       "      <th>1</th>\n",
       "      <td>0.02</td>\n",
       "      <td>3.334096</td>\n",
       "      <td>0.00</td>\n",
       "      <td>0.000</td>\n",
       "      <td>-0.230299</td>\n",
       "      <td>0.446606</td>\n",
       "      <td>3.334096</td>\n",
       "      <td>0.465400</td>\n",
       "      <td>0.001526</td>\n",
       "      <td>0.001526</td>\n",
       "      <td>0.465400</td>\n",
       "      <td>0.01</td>\n",
       "    </tr>\n",
       "    <tr>\n",
       "      <th>2</th>\n",
       "      <td>0.03</td>\n",
       "      <td>6.666667</td>\n",
       "      <td>0.00</td>\n",
       "      <td>0.000</td>\n",
       "      <td>-0.118028</td>\n",
       "      <td>0.843320</td>\n",
       "      <td>6.666667</td>\n",
       "      <td>0.932326</td>\n",
       "      <td>0.001526</td>\n",
       "      <td>0.001526</td>\n",
       "      <td>0.932326</td>\n",
       "      <td>0.02</td>\n",
       "    </tr>\n",
       "    <tr>\n",
       "      <th>3</th>\n",
       "      <td>0.04</td>\n",
       "      <td>9.999237</td>\n",
       "      <td>0.02</td>\n",
       "      <td>0.125</td>\n",
       "      <td>0.005757</td>\n",
       "      <td>1.288962</td>\n",
       "      <td>9.980926</td>\n",
       "      <td>1.396201</td>\n",
       "      <td>0.001526</td>\n",
       "      <td>0.001526</td>\n",
       "      <td>1.396201</td>\n",
       "      <td>0.03</td>\n",
       "    </tr>\n",
       "    <tr>\n",
       "      <th>4</th>\n",
       "      <td>0.05</td>\n",
       "      <td>13.331807</td>\n",
       "      <td>0.02</td>\n",
       "      <td>0.000</td>\n",
       "      <td>0.074847</td>\n",
       "      <td>1.688251</td>\n",
       "      <td>13.313497</td>\n",
       "      <td>1.863127</td>\n",
       "      <td>0.001526</td>\n",
       "      <td>0.001526</td>\n",
       "      <td>1.863127</td>\n",
       "      <td>0.04</td>\n",
       "    </tr>\n",
       "  </tbody>\n",
       "</table>\n",
       "</div>"
      ],
      "text/plain": [
       "   TimeStamp  Reference  Position  Speed   Current   Voltage      Error  \\\n",
       "0       0.01   0.001526      0.00  0.000 -0.256207  0.000000   0.001526   \n",
       "1       0.02   3.334096      0.00  0.000 -0.230299  0.446606   3.334096   \n",
       "2       0.03   6.666667      0.00  0.000 -0.118028  0.843320   6.666667   \n",
       "3       0.04   9.999237      0.02  0.125  0.005757  1.288962   9.980926   \n",
       "4       0.05  13.331807      0.02  0.000  0.074847  1.688251  13.313497   \n",
       "\n",
       "   Kp x Error  Error Sum / Ti  Td x Delta Err.  PID Output  TimeShift  \n",
       "0    0.001526        0.001526         0.001526    0.001526       0.00  \n",
       "1    0.465400        0.001526         0.001526    0.465400       0.01  \n",
       "2    0.932326        0.001526         0.001526    0.932326       0.02  \n",
       "3    1.396201        0.001526         0.001526    1.396201       0.03  \n",
       "4    1.863127        0.001526         0.001526    1.863127       0.04  "
      ]
     },
     "execution_count": 26,
     "metadata": {},
     "output_type": "execute_result"
    }
   ],
   "source": [
    "step2_g6_half_cycle.head()"
   ]
  },
  {
   "cell_type": "code",
   "execution_count": 16,
   "metadata": {},
   "outputs": [
    {
     "data": {
      "text/plain": [
       "[<matplotlib.lines.Line2D at 0x6405238>]"
      ]
     },
     "execution_count": 16,
     "metadata": {},
     "output_type": "execute_result"
    },
    {
     "data": {
      "image/png": "[encoded data removed]",
      "text/plain": [
       "<Figure size 432x288 with 1 Axes>"
      ]
     },
     "metadata": {
      "needs_background": "light"
     },
     "output_type": "display_data"
    }
   ],
   "source": [
    "plt.plot(half_cycle.TimeStamp, half_cycle.Reference)"
   ]
  },
  {
   "cell_type": "code",
   "execution_count": 27,
   "metadata": {},
   "outputs": [
    {
     "name": "stderr",
     "output_type": "stream",
     "text": [
      "findfont: Font family ['JetBrains Mono'] not found. Falling back to DejaVu Sans.\n"
     ]
    },
    {
     "data": {
      "image/png": "[encoded data removed]",
      "text/plain": [
       "<Figure size 1080x504 with 1 Axes>"
      ]
     },
     "metadata": {
      "needs_background": "light"
     },
     "output_type": "display_data"
    }
   ],
   "source": [
    "#plt.plot(half_cycle.TimeStamp, half_cycle.Position)\n",
    "font = {'family': 'JetBrains Mono',\n",
    "        'color':  'black',\n",
    "        'weight': 'normal',\n",
    "        'size': 15,\n",
    "        }\n",
    "fig, ax=plt.subplots(figsize=(15,7))\n",
    "ax.plot(step2_g6_half_cycle.TimeShift, step2_g6_half_cycle.Position, color=\"red\", \n",
    "       linewidth=1.5)\n",
    "\n",
    "step2_tex=r\"$f=0.2 Hz$, $A=80\\%$, $K_p=0.14$\"\n",
    "ax.text(1.0, 30, step2_tex, fontdict=font, color=\"DarkBlue\", fontsize=20)\n",
    "\n",
    "ax.set_facecolor(\"#F8E0C1\")\n",
    "# Move the left and bottom spines to x = 0 and y = 0, respectively.\n",
    "ax.spines[\"left\"].set_position((\"data\", 0))\n",
    "ax.spines[\"bottom\"].set_position((\"data\", 0))\n",
    "# Hide the top and right spines.\n",
    "ax.spines[\"top\"].set_visible(False)\n",
    "\n",
    "ax.spines[\"right\"].set_visible(False)\n",
    "\n",
    "ax.plot(1, 0, \">k\", ms=12, transform=ax.get_yaxis_transform(), clip_on=False)\n",
    "ax.plot(0, 1, \"^k\", ms=12, transform=ax.get_xaxis_transform(), clip_on=False)\n",
    "ax.set_xlabel(xlabel=\"Time\", fontsize=15)\n",
    "ax.set_ylabel(ylabel=\"Position(%)\", rotation=\"horizontal\", fontsize=15)\n",
    "ax.yaxis.set_label_coords(0.05,1.03)\n",
    "ax.xaxis.set_label_coords(1.04,0.53)"
   ]
  },
  {
   "cell_type": "markdown",
   "metadata": {},
   "source": [
    "### Step-6\n",
    "#### Read dataset"
   ]
  },
  {
   "cell_type": "code",
   "execution_count": 49,
   "metadata": {},
   "outputs": [
    {
     "data": {
      "text/html": [
       "<div>\n",
       "<style scoped>\n",
       "    .dataframe tbody tr th:only-of-type {\n",
       "        vertical-align: middle;\n",
       "    }\n",
       "\n",
       "    .dataframe tbody tr th {\n",
       "        vertical-align: top;\n",
       "    }\n",
       "\n",
       "    .dataframe thead th {\n",
       "        text-align: right;\n",
       "    }\n",
       "</style>\n",
       "<table border=\"1\" class=\"dataframe\">\n",
       "  <thead>\n",
       "    <tr style=\"text-align: right;\">\n",
       "      <th></th>\n",
       "      <th>TimeStamp</th>\n",
       "      <th>Reference</th>\n",
       "      <th>Position</th>\n",
       "      <th>Speed</th>\n",
       "      <th>Current</th>\n",
       "      <th>Voltage</th>\n",
       "      <th>Error</th>\n",
       "      <th>Kp x Error</th>\n",
       "      <th>Error Sum / Ti</th>\n",
       "      <th>Td x Delta Err.</th>\n",
       "      <th>PID Output</th>\n",
       "    </tr>\n",
       "  </thead>\n",
       "  <tbody>\n",
       "    <tr>\n",
       "      <th>0</th>\n",
       "      <td>19.34</td>\n",
       "      <td>-14.998093</td>\n",
       "      <td>-15.04</td>\n",
       "      <td>0.0</td>\n",
       "      <td>-0.149694</td>\n",
       "      <td>0.049669</td>\n",
       "      <td>0.041199</td>\n",
       "      <td>0.080873</td>\n",
       "      <td>0.001526</td>\n",
       "      <td>0.001526</td>\n",
       "      <td>0.080873</td>\n",
       "    </tr>\n",
       "    <tr>\n",
       "      <th>1</th>\n",
       "      <td>19.35</td>\n",
       "      <td>-14.998093</td>\n",
       "      <td>-15.04</td>\n",
       "      <td>0.0</td>\n",
       "      <td>-0.149694</td>\n",
       "      <td>0.049654</td>\n",
       "      <td>0.041199</td>\n",
       "      <td>0.080873</td>\n",
       "      <td>0.001526</td>\n",
       "      <td>0.001526</td>\n",
       "      <td>0.080873</td>\n",
       "    </tr>\n",
       "    <tr>\n",
       "      <th>2</th>\n",
       "      <td>19.36</td>\n",
       "      <td>-14.998093</td>\n",
       "      <td>-15.04</td>\n",
       "      <td>0.0</td>\n",
       "      <td>-0.129543</td>\n",
       "      <td>0.049701</td>\n",
       "      <td>0.041199</td>\n",
       "      <td>0.080873</td>\n",
       "      <td>0.001526</td>\n",
       "      <td>0.001526</td>\n",
       "      <td>0.080873</td>\n",
       "    </tr>\n",
       "    <tr>\n",
       "      <th>3</th>\n",
       "      <td>19.37</td>\n",
       "      <td>-14.998093</td>\n",
       "      <td>-15.04</td>\n",
       "      <td>0.0</td>\n",
       "      <td>-0.164088</td>\n",
       "      <td>0.049654</td>\n",
       "      <td>0.041199</td>\n",
       "      <td>0.080873</td>\n",
       "      <td>0.001526</td>\n",
       "      <td>0.001526</td>\n",
       "      <td>0.080873</td>\n",
       "    </tr>\n",
       "    <tr>\n",
       "      <th>4</th>\n",
       "      <td>19.38</td>\n",
       "      <td>-14.998093</td>\n",
       "      <td>-15.04</td>\n",
       "      <td>0.0</td>\n",
       "      <td>-0.149694</td>\n",
       "      <td>0.049685</td>\n",
       "      <td>0.041199</td>\n",
       "      <td>0.080873</td>\n",
       "      <td>0.001526</td>\n",
       "      <td>0.001526</td>\n",
       "      <td>0.080873</td>\n",
       "    </tr>\n",
       "  </tbody>\n",
       "</table>\n",
       "</div>"
      ],
      "text/plain": [
       "   TimeStamp  Reference  Position  Speed   Current   Voltage     Error  \\\n",
       "0      19.34 -14.998093    -15.04    0.0 -0.149694  0.049669  0.041199   \n",
       "1      19.35 -14.998093    -15.04    0.0 -0.149694  0.049654  0.041199   \n",
       "2      19.36 -14.998093    -15.04    0.0 -0.129543  0.049701  0.041199   \n",
       "3      19.37 -14.998093    -15.04    0.0 -0.164088  0.049654  0.041199   \n",
       "4      19.38 -14.998093    -15.04    0.0 -0.149694  0.049685  0.041199   \n",
       "\n",
       "   Kp x Error  Error Sum / Ti  Td x Delta Err.  PID Output  \n",
       "0    0.080873        0.001526         0.001526    0.080873  \n",
       "1    0.080873        0.001526         0.001526    0.080873  \n",
       "2    0.080873        0.001526         0.001526    0.080873  \n",
       "3    0.080873        0.001526         0.001526    0.080873  \n",
       "4    0.080873        0.001526         0.001526    0.080873  "
      ]
     },
     "execution_count": 49,
     "metadata": {},
     "output_type": "execute_result"
    }
   ],
   "source": [
    "step6_raw=pd.read_csv(\"D:\\Extra Knowledge\\HP-NPC\\dataset/exp6-step6-group-6.csv\")\n",
    "step6_raw.head()"
   ]
  },
  {
   "cell_type": "code",
   "execution_count": 50,
   "metadata": {},
   "outputs": [
    {
     "data": {
      "text/plain": [
       "[<matplotlib.lines.Line2D at 0x673f538>]"
      ]
     },
     "execution_count": 50,
     "metadata": {},
     "output_type": "execute_result"
    },
    {
     "data": {
      "image/png": "[encoded data removed]",
      "text/plain": [
       "<Figure size 432x288 with 1 Axes>"
      ]
     },
     "metadata": {
      "needs_background": "light"
     },
     "output_type": "display_data"
    }
   ],
   "source": [
    "plt.plot(step6_raw.TimeStamp, step6_raw.Reference)"
   ]
  },
  {
   "cell_type": "code",
   "execution_count": 51,
   "metadata": {},
   "outputs": [
    {
     "data": {
      "text/plain": [
       "[<matplotlib.lines.Line2D at 0x648ca60>]"
      ]
     },
     "execution_count": 51,
     "metadata": {},
     "output_type": "execute_result"
    },
    {
     "data": {
      "image/png": "[encoded data removed]",
      "text/plain": [
       "<Figure size 432x288 with 1 Axes>"
      ]
     },
     "metadata": {
      "needs_background": "light"
     },
     "output_type": "display_data"
    }
   ],
   "source": [
    "plt.plot(step6_raw.TimeStamp, step6_raw.Position)"
   ]
  },
  {
   "cell_type": "markdown",
   "metadata": {},
   "source": [
    "#### Filtering"
   ]
  },
  {
   "cell_type": "code",
   "execution_count": 24,
   "metadata": {},
   "outputs": [],
   "source": [
    "# step6_raw[(step6_raw.Position<=0.5) & (step6_raw.Position>=0)]"
   ]
  },
  {
   "cell_type": "code",
   "execution_count": 25,
   "metadata": {},
   "outputs": [
    {
     "data": {
      "text/html": [
       "<div>\n",
       "<style scoped>\n",
       "    .dataframe tbody tr th:only-of-type {\n",
       "        vertical-align: middle;\n",
       "    }\n",
       "\n",
       "    .dataframe tbody tr th {\n",
       "        vertical-align: top;\n",
       "    }\n",
       "\n",
       "    .dataframe thead th {\n",
       "        text-align: right;\n",
       "    }\n",
       "</style>\n",
       "<table border=\"1\" class=\"dataframe\">\n",
       "  <thead>\n",
       "    <tr style=\"text-align: right;\">\n",
       "      <th></th>\n",
       "      <th>TimeStamp</th>\n",
       "      <th>Reference</th>\n",
       "      <th>Position</th>\n",
       "      <th>Speed</th>\n",
       "      <th>Current</th>\n",
       "      <th>Voltage</th>\n",
       "      <th>Error</th>\n",
       "      <th>Kp x Error</th>\n",
       "      <th>Error Sum / Ti</th>\n",
       "      <th>Td x Delta Err.</th>\n",
       "      <th>PID Output</th>\n",
       "    </tr>\n",
       "  </thead>\n",
       "  <tbody>\n",
       "    <tr>\n",
       "      <th>464</th>\n",
       "      <td>5.01</td>\n",
       "      <td>15.001144</td>\n",
       "      <td>-15.94</td>\n",
       "      <td>0.000</td>\n",
       "      <td>0.834833</td>\n",
       "      <td>54.902326</td>\n",
       "      <td>30.940719</td>\n",
       "      <td>61.879911</td>\n",
       "      <td>0.001526</td>\n",
       "      <td>0.001526</td>\n",
       "      <td>61.879911</td>\n",
       "    </tr>\n",
       "    <tr>\n",
       "      <th>465</th>\n",
       "      <td>5.02</td>\n",
       "      <td>15.001144</td>\n",
       "      <td>-14.80</td>\n",
       "      <td>2.250</td>\n",
       "      <td>93.089601</td>\n",
       "      <td>52.343668</td>\n",
       "      <td>29.799344</td>\n",
       "      <td>59.597162</td>\n",
       "      <td>0.001526</td>\n",
       "      <td>0.001526</td>\n",
       "      <td>59.597162</td>\n",
       "    </tr>\n",
       "    <tr>\n",
       "      <th>466</th>\n",
       "      <td>5.03</td>\n",
       "      <td>15.001144</td>\n",
       "      <td>-11.14</td>\n",
       "      <td>9.000</td>\n",
       "      <td>89.508456</td>\n",
       "      <td>45.941770</td>\n",
       "      <td>26.140230</td>\n",
       "      <td>52.278935</td>\n",
       "      <td>0.001526</td>\n",
       "      <td>0.001526</td>\n",
       "      <td>52.278935</td>\n",
       "    </tr>\n",
       "    <tr>\n",
       "      <th>467</th>\n",
       "      <td>5.04</td>\n",
       "      <td>15.001144</td>\n",
       "      <td>-5.04</td>\n",
       "      <td>15.375</td>\n",
       "      <td>57.833753</td>\n",
       "      <td>35.313947</td>\n",
       "      <td>20.039673</td>\n",
       "      <td>40.077821</td>\n",
       "      <td>0.001526</td>\n",
       "      <td>0.001526</td>\n",
       "      <td>40.077821</td>\n",
       "    </tr>\n",
       "    <tr>\n",
       "      <th>468</th>\n",
       "      <td>5.05</td>\n",
       "      <td>15.001144</td>\n",
       "      <td>2.60</td>\n",
       "      <td>19.750</td>\n",
       "      <td>25.329975</td>\n",
       "      <td>21.927943</td>\n",
       "      <td>12.401007</td>\n",
       "      <td>24.800488</td>\n",
       "      <td>0.001526</td>\n",
       "      <td>0.001526</td>\n",
       "      <td>24.800488</td>\n",
       "    </tr>\n",
       "  </tbody>\n",
       "</table>\n",
       "</div>"
      ],
      "text/plain": [
       "     TimeStamp  Reference  Position   Speed    Current    Voltage      Error  \\\n",
       "464       5.01  15.001144    -15.94   0.000   0.834833  54.902326  30.940719   \n",
       "465       5.02  15.001144    -14.80   2.250  93.089601  52.343668  29.799344   \n",
       "466       5.03  15.001144    -11.14   9.000  89.508456  45.941770  26.140230   \n",
       "467       5.04  15.001144     -5.04  15.375  57.833753  35.313947  20.039673   \n",
       "468       5.05  15.001144      2.60  19.750  25.329975  21.927943  12.401007   \n",
       "\n",
       "     Kp x Error  Error Sum / Ti  Td x Delta Err.  PID Output  \n",
       "464   61.879911        0.001526         0.001526   61.879911  \n",
       "465   59.597162        0.001526         0.001526   59.597162  \n",
       "466   52.278935        0.001526         0.001526   52.278935  \n",
       "467   40.077821        0.001526         0.001526   40.077821  \n",
       "468   24.800488        0.001526         0.001526   24.800488  "
      ]
     },
     "execution_count": 25,
     "metadata": {},
     "output_type": "execute_result"
    }
   ],
   "source": [
    "#step6_fil=step6_raw[(step6_raw.TimeStamp>=5) & (step6_raw.TimeStamp<=10)]\n",
    "# step6_fil=step6_raw.loc[464:, :]\n",
    "# step6_fil.head()"
   ]
  },
  {
   "cell_type": "code",
   "execution_count": 26,
   "metadata": {},
   "outputs": [],
   "source": [
    "#plt.plot(step6_fil.TimeStamp, step6_fil.Reference)"
   ]
  },
  {
   "cell_type": "code",
   "execution_count": 27,
   "metadata": {},
   "outputs": [],
   "source": [
    "#plt.plot(step6_fil.TimeStamp, step6_fil.Position)"
   ]
  },
  {
   "cell_type": "code",
   "execution_count": 28,
   "metadata": {},
   "outputs": [],
   "source": [
    "#step6_raw[(step6_raw.Position<=0.5) & (step6_raw.Position>=0)]"
   ]
  },
  {
   "cell_type": "code",
   "execution_count": 29,
   "metadata": {},
   "outputs": [],
   "source": [
    "# step6_fil_pos=step6_raw.loc[488:, :]\n",
    "# step6_fil_pos.head()"
   ]
  },
  {
   "cell_type": "code",
   "execution_count": 30,
   "metadata": {},
   "outputs": [],
   "source": [
    "#plt.plot(step6_fil_pos.TimeStamp, step6_fil_pos.Position)"
   ]
  },
  {
   "cell_type": "code",
   "execution_count": 31,
   "metadata": {},
   "outputs": [],
   "source": [
    "#plt.plot(step6_raw.TimeStamp, step6_raw.Reference)"
   ]
  },
  {
   "cell_type": "code",
   "execution_count": 32,
   "metadata": {},
   "outputs": [],
   "source": [
    "#plt.plot(step6_raw.TimeStamp, step6_raw.Position)"
   ]
  },
  {
   "cell_type": "code",
   "execution_count": 33,
   "metadata": {},
   "outputs": [],
   "source": [
    "step6_fil.reset_index(drop=True, inplace=True)"
   ]
  },
  {
   "cell_type": "code",
   "execution_count": 34,
   "metadata": {},
   "outputs": [
    {
     "data": {
      "text/html": [
       "<div>\n",
       "<style scoped>\n",
       "    .dataframe tbody tr th:only-of-type {\n",
       "        vertical-align: middle;\n",
       "    }\n",
       "\n",
       "    .dataframe tbody tr th {\n",
       "        vertical-align: top;\n",
       "    }\n",
       "\n",
       "    .dataframe thead th {\n",
       "        text-align: right;\n",
       "    }\n",
       "</style>\n",
       "<table border=\"1\" class=\"dataframe\">\n",
       "  <thead>\n",
       "    <tr style=\"text-align: right;\">\n",
       "      <th></th>\n",
       "      <th>TimeStamp</th>\n",
       "      <th>Reference</th>\n",
       "      <th>Position</th>\n",
       "      <th>Speed</th>\n",
       "      <th>Current</th>\n",
       "      <th>Voltage</th>\n",
       "      <th>Error</th>\n",
       "      <th>Kp x Error</th>\n",
       "      <th>Error Sum / Ti</th>\n",
       "      <th>Td x Delta Err.</th>\n",
       "      <th>PID Output</th>\n",
       "    </tr>\n",
       "  </thead>\n",
       "  <tbody>\n",
       "    <tr>\n",
       "      <th>0</th>\n",
       "      <td>5.01</td>\n",
       "      <td>15.001144</td>\n",
       "      <td>-15.94</td>\n",
       "      <td>0.000</td>\n",
       "      <td>0.834833</td>\n",
       "      <td>54.902326</td>\n",
       "      <td>30.940719</td>\n",
       "      <td>61.879911</td>\n",
       "      <td>0.001526</td>\n",
       "      <td>0.001526</td>\n",
       "      <td>61.879911</td>\n",
       "    </tr>\n",
       "    <tr>\n",
       "      <th>1</th>\n",
       "      <td>5.02</td>\n",
       "      <td>15.001144</td>\n",
       "      <td>-14.80</td>\n",
       "      <td>2.250</td>\n",
       "      <td>93.089601</td>\n",
       "      <td>52.343668</td>\n",
       "      <td>29.799344</td>\n",
       "      <td>59.597162</td>\n",
       "      <td>0.001526</td>\n",
       "      <td>0.001526</td>\n",
       "      <td>59.597162</td>\n",
       "    </tr>\n",
       "    <tr>\n",
       "      <th>2</th>\n",
       "      <td>5.03</td>\n",
       "      <td>15.001144</td>\n",
       "      <td>-11.14</td>\n",
       "      <td>9.000</td>\n",
       "      <td>89.508456</td>\n",
       "      <td>45.941770</td>\n",
       "      <td>26.140230</td>\n",
       "      <td>52.278935</td>\n",
       "      <td>0.001526</td>\n",
       "      <td>0.001526</td>\n",
       "      <td>52.278935</td>\n",
       "    </tr>\n",
       "    <tr>\n",
       "      <th>3</th>\n",
       "      <td>5.04</td>\n",
       "      <td>15.001144</td>\n",
       "      <td>-5.04</td>\n",
       "      <td>15.375</td>\n",
       "      <td>57.833753</td>\n",
       "      <td>35.313947</td>\n",
       "      <td>20.039673</td>\n",
       "      <td>40.077821</td>\n",
       "      <td>0.001526</td>\n",
       "      <td>0.001526</td>\n",
       "      <td>40.077821</td>\n",
       "    </tr>\n",
       "    <tr>\n",
       "      <th>4</th>\n",
       "      <td>5.05</td>\n",
       "      <td>15.001144</td>\n",
       "      <td>2.60</td>\n",
       "      <td>19.750</td>\n",
       "      <td>25.329975</td>\n",
       "      <td>21.927943</td>\n",
       "      <td>12.401007</td>\n",
       "      <td>24.800488</td>\n",
       "      <td>0.001526</td>\n",
       "      <td>0.001526</td>\n",
       "      <td>24.800488</td>\n",
       "    </tr>\n",
       "  </tbody>\n",
       "</table>\n",
       "</div>"
      ],
      "text/plain": [
       "   TimeStamp  Reference  Position   Speed    Current    Voltage      Error  \\\n",
       "0       5.01  15.001144    -15.94   0.000   0.834833  54.902326  30.940719   \n",
       "1       5.02  15.001144    -14.80   2.250  93.089601  52.343668  29.799344   \n",
       "2       5.03  15.001144    -11.14   9.000  89.508456  45.941770  26.140230   \n",
       "3       5.04  15.001144     -5.04  15.375  57.833753  35.313947  20.039673   \n",
       "4       5.05  15.001144      2.60  19.750  25.329975  21.927943  12.401007   \n",
       "\n",
       "   Kp x Error  Error Sum / Ti  Td x Delta Err.  PID Output  \n",
       "0   61.879911        0.001526         0.001526   61.879911  \n",
       "1   59.597162        0.001526         0.001526   59.597162  \n",
       "2   52.278935        0.001526         0.001526   52.278935  \n",
       "3   40.077821        0.001526         0.001526   40.077821  \n",
       "4   24.800488        0.001526         0.001526   24.800488  "
      ]
     },
     "execution_count": 34,
     "metadata": {},
     "output_type": "execute_result"
    }
   ],
   "source": [
    "step6_fil.head()"
   ]
  },
  {
   "cell_type": "code",
   "execution_count": 35,
   "metadata": {},
   "outputs": [
    {
     "data": {
      "text/plain": [
       "[<matplotlib.lines.Line2D at 0xd669610>]"
      ]
     },
     "execution_count": 35,
     "metadata": {},
     "output_type": "execute_result"
    },
    {
     "data": {
      "image/png": "[encoded data removed]",
      "text/plain": [
       "<Figure size 432x288 with 1 Axes>"
      ]
     },
     "metadata": {
      "needs_background": "light"
     },
     "output_type": "display_data"
    }
   ],
   "source": [
    "plt.plot(step6_fil.TimeStamp, step6_fil.Reference)"
   ]
  },
  {
   "cell_type": "code",
   "execution_count": 36,
   "metadata": {},
   "outputs": [
    {
     "data": {
      "text/plain": [
       "[<matplotlib.lines.Line2D at 0xd6a16d0>]"
      ]
     },
     "execution_count": 36,
     "metadata": {},
     "output_type": "execute_result"
    },
    {
     "data": {
      "image/png": "[encoded data removed]",
      "text/plain": [
       "<Figure size 432x288 with 1 Axes>"
      ]
     },
     "metadata": {
      "needs_background": "light"
     },
     "output_type": "display_data"
    }
   ],
   "source": [
    "plt.plot(step6_fil.TimeStamp, step6_fil.Position)"
   ]
  },
  {
   "cell_type": "markdown",
   "metadata": {},
   "source": [
    "#### Shifting"
   ]
  },
  {
   "cell_type": "code",
   "execution_count": 37,
   "metadata": {},
   "outputs": [
    {
     "name": "stderr",
     "output_type": "stream",
     "text": [
      "<ipython-input-37-eac0e9f7d199>:1: SettingWithCopyWarning: \n",
      "A value is trying to be set on a copy of a slice from a DataFrame.\n",
      "Try using .loc[row_indexer,col_indexer] = value instead\n",
      "\n",
      "See the caveats in the documentation: https://pandas.pydata.org/pandas-docs/stable/user_guide/indexing.html#returning-a-view-versus-a-copy\n",
      "  step6_fil[\"TimeShift\"]=step6_fil.TimeStamp-step6_fil.TimeStamp[0]\n"
     ]
    },
    {
     "data": {
      "text/html": [
       "<div>\n",
       "<style scoped>\n",
       "    .dataframe tbody tr th:only-of-type {\n",
       "        vertical-align: middle;\n",
       "    }\n",
       "\n",
       "    .dataframe tbody tr th {\n",
       "        vertical-align: top;\n",
       "    }\n",
       "\n",
       "    .dataframe thead th {\n",
       "        text-align: right;\n",
       "    }\n",
       "</style>\n",
       "<table border=\"1\" class=\"dataframe\">\n",
       "  <thead>\n",
       "    <tr style=\"text-align: right;\">\n",
       "      <th></th>\n",
       "      <th>TimeStamp</th>\n",
       "      <th>Reference</th>\n",
       "      <th>Position</th>\n",
       "      <th>Speed</th>\n",
       "      <th>Current</th>\n",
       "      <th>Voltage</th>\n",
       "      <th>Error</th>\n",
       "      <th>Kp x Error</th>\n",
       "      <th>Error Sum / Ti</th>\n",
       "      <th>Td x Delta Err.</th>\n",
       "      <th>PID Output</th>\n",
       "      <th>TimeShift</th>\n",
       "    </tr>\n",
       "  </thead>\n",
       "  <tbody>\n",
       "    <tr>\n",
       "      <th>0</th>\n",
       "      <td>5.01</td>\n",
       "      <td>15.001144</td>\n",
       "      <td>-15.94</td>\n",
       "      <td>0.000</td>\n",
       "      <td>0.834833</td>\n",
       "      <td>54.902326</td>\n",
       "      <td>30.940719</td>\n",
       "      <td>61.879911</td>\n",
       "      <td>0.001526</td>\n",
       "      <td>0.001526</td>\n",
       "      <td>61.879911</td>\n",
       "      <td>0.00</td>\n",
       "    </tr>\n",
       "    <tr>\n",
       "      <th>1</th>\n",
       "      <td>5.02</td>\n",
       "      <td>15.001144</td>\n",
       "      <td>-14.80</td>\n",
       "      <td>2.250</td>\n",
       "      <td>93.089601</td>\n",
       "      <td>52.343668</td>\n",
       "      <td>29.799344</td>\n",
       "      <td>59.597162</td>\n",
       "      <td>0.001526</td>\n",
       "      <td>0.001526</td>\n",
       "      <td>59.597162</td>\n",
       "      <td>0.01</td>\n",
       "    </tr>\n",
       "    <tr>\n",
       "      <th>2</th>\n",
       "      <td>5.03</td>\n",
       "      <td>15.001144</td>\n",
       "      <td>-11.14</td>\n",
       "      <td>9.000</td>\n",
       "      <td>89.508456</td>\n",
       "      <td>45.941770</td>\n",
       "      <td>26.140230</td>\n",
       "      <td>52.278935</td>\n",
       "      <td>0.001526</td>\n",
       "      <td>0.001526</td>\n",
       "      <td>52.278935</td>\n",
       "      <td>0.02</td>\n",
       "    </tr>\n",
       "    <tr>\n",
       "      <th>3</th>\n",
       "      <td>5.04</td>\n",
       "      <td>15.001144</td>\n",
       "      <td>-5.04</td>\n",
       "      <td>15.375</td>\n",
       "      <td>57.833753</td>\n",
       "      <td>35.313947</td>\n",
       "      <td>20.039673</td>\n",
       "      <td>40.077821</td>\n",
       "      <td>0.001526</td>\n",
       "      <td>0.001526</td>\n",
       "      <td>40.077821</td>\n",
       "      <td>0.03</td>\n",
       "    </tr>\n",
       "    <tr>\n",
       "      <th>4</th>\n",
       "      <td>5.05</td>\n",
       "      <td>15.001144</td>\n",
       "      <td>2.60</td>\n",
       "      <td>19.750</td>\n",
       "      <td>25.329975</td>\n",
       "      <td>21.927943</td>\n",
       "      <td>12.401007</td>\n",
       "      <td>24.800488</td>\n",
       "      <td>0.001526</td>\n",
       "      <td>0.001526</td>\n",
       "      <td>24.800488</td>\n",
       "      <td>0.04</td>\n",
       "    </tr>\n",
       "  </tbody>\n",
       "</table>\n",
       "</div>"
      ],
      "text/plain": [
       "   TimeStamp  Reference  Position   Speed    Current    Voltage      Error  \\\n",
       "0       5.01  15.001144    -15.94   0.000   0.834833  54.902326  30.940719   \n",
       "1       5.02  15.001144    -14.80   2.250  93.089601  52.343668  29.799344   \n",
       "2       5.03  15.001144    -11.14   9.000  89.508456  45.941770  26.140230   \n",
       "3       5.04  15.001144     -5.04  15.375  57.833753  35.313947  20.039673   \n",
       "4       5.05  15.001144      2.60  19.750  25.329975  21.927943  12.401007   \n",
       "\n",
       "   Kp x Error  Error Sum / Ti  Td x Delta Err.  PID Output  TimeShift  \n",
       "0   61.879911        0.001526         0.001526   61.879911       0.00  \n",
       "1   59.597162        0.001526         0.001526   59.597162       0.01  \n",
       "2   52.278935        0.001526         0.001526   52.278935       0.02  \n",
       "3   40.077821        0.001526         0.001526   40.077821       0.03  \n",
       "4   24.800488        0.001526         0.001526   24.800488       0.04  "
      ]
     },
     "execution_count": 37,
     "metadata": {},
     "output_type": "execute_result"
    }
   ],
   "source": [
    "step6_fil[\"TimeShift\"]=step6_fil.TimeStamp-step6_fil.TimeStamp[0]\n",
    "step6_fil.head()"
   ]
  },
  {
   "cell_type": "code",
   "execution_count": 38,
   "metadata": {},
   "outputs": [
    {
     "data": {
      "text/plain": [
       "[<matplotlib.lines.Line2D at 0xd3dfb98>]"
      ]
     },
     "execution_count": 38,
     "metadata": {},
     "output_type": "execute_result"
    },
    {
     "data": {
      "image/png": "[encoded data removed]",
      "text/plain": [
       "<Figure size 432x288 with 1 Axes>"
      ]
     },
     "metadata": {
      "needs_background": "light"
     },
     "output_type": "display_data"
    }
   ],
   "source": [
    "plt.plot(step6_fil.TimeShift, step6_fil.Reference)"
   ]
  },
  {
   "cell_type": "code",
   "execution_count": 39,
   "metadata": {},
   "outputs": [
    {
     "data": {
      "text/plain": [
       "[<matplotlib.lines.Line2D at 0xd450c10>]"
      ]
     },
     "execution_count": 39,
     "metadata": {},
     "output_type": "execute_result"
    },
    {
     "data": {
      "image/png": "[encoded data removed]",
      "text/plain": [
       "<Figure size 432x288 with 1 Axes>"
      ]
     },
     "metadata": {
      "needs_background": "light"
     },
     "output_type": "display_data"
    }
   ],
   "source": [
    "plt.plot(step6_fil.TimeShift, step6_fil.Position)"
   ]
  },
  {
   "cell_type": "markdown",
   "metadata": {},
   "source": [
    "#### Select one cycle"
   ]
  },
  {
   "cell_type": "code",
   "execution_count": 40,
   "metadata": {
    "scrolled": true
   },
   "outputs": [
    {
     "data": {
      "text/html": [
       "<div>\n",
       "<style scoped>\n",
       "    .dataframe tbody tr th:only-of-type {\n",
       "        vertical-align: middle;\n",
       "    }\n",
       "\n",
       "    .dataframe tbody tr th {\n",
       "        vertical-align: top;\n",
       "    }\n",
       "\n",
       "    .dataframe thead th {\n",
       "        text-align: right;\n",
       "    }\n",
       "</style>\n",
       "<table border=\"1\" class=\"dataframe\">\n",
       "  <thead>\n",
       "    <tr style=\"text-align: right;\">\n",
       "      <th></th>\n",
       "      <th>TimeStamp</th>\n",
       "      <th>Reference</th>\n",
       "      <th>Position</th>\n",
       "      <th>Speed</th>\n",
       "      <th>Current</th>\n",
       "      <th>Voltage</th>\n",
       "      <th>Error</th>\n",
       "      <th>Kp x Error</th>\n",
       "      <th>Error Sum / Ti</th>\n",
       "      <th>Td x Delta Err.</th>\n",
       "      <th>PID Output</th>\n",
       "      <th>TimeShift</th>\n",
       "    </tr>\n",
       "  </thead>\n",
       "  <tbody>\n",
       "    <tr>\n",
       "      <th>519</th>\n",
       "      <td>9.97</td>\n",
       "      <td>-14.998093</td>\n",
       "      <td>-16.48</td>\n",
       "      <td>0.0</td>\n",
       "      <td>1.157251</td>\n",
       "      <td>2.606913</td>\n",
       "      <td>1.481651</td>\n",
       "      <td>2.961776</td>\n",
       "      <td>0.001526</td>\n",
       "      <td>0.001526</td>\n",
       "      <td>2.961776</td>\n",
       "      <td>4.96</td>\n",
       "    </tr>\n",
       "    <tr>\n",
       "      <th>520</th>\n",
       "      <td>9.98</td>\n",
       "      <td>-14.998093</td>\n",
       "      <td>-16.48</td>\n",
       "      <td>0.0</td>\n",
       "      <td>1.318460</td>\n",
       "      <td>2.601848</td>\n",
       "      <td>1.481651</td>\n",
       "      <td>2.961776</td>\n",
       "      <td>0.001526</td>\n",
       "      <td>0.001526</td>\n",
       "      <td>2.961776</td>\n",
       "      <td>4.97</td>\n",
       "    </tr>\n",
       "    <tr>\n",
       "      <th>521</th>\n",
       "      <td>9.99</td>\n",
       "      <td>-14.998093</td>\n",
       "      <td>-16.48</td>\n",
       "      <td>0.0</td>\n",
       "      <td>1.203311</td>\n",
       "      <td>2.602648</td>\n",
       "      <td>1.481651</td>\n",
       "      <td>2.961776</td>\n",
       "      <td>0.001526</td>\n",
       "      <td>0.001526</td>\n",
       "      <td>2.961776</td>\n",
       "      <td>4.98</td>\n",
       "    </tr>\n",
       "    <tr>\n",
       "      <th>522</th>\n",
       "      <td>10.00</td>\n",
       "      <td>-14.998093</td>\n",
       "      <td>-16.48</td>\n",
       "      <td>0.0</td>\n",
       "      <td>1.180281</td>\n",
       "      <td>2.603501</td>\n",
       "      <td>1.481651</td>\n",
       "      <td>2.961776</td>\n",
       "      <td>0.001526</td>\n",
       "      <td>0.001526</td>\n",
       "      <td>2.961776</td>\n",
       "      <td>4.99</td>\n",
       "    </tr>\n",
       "    <tr>\n",
       "      <th>523</th>\n",
       "      <td>10.01</td>\n",
       "      <td>15.001144</td>\n",
       "      <td>-16.48</td>\n",
       "      <td>0.0</td>\n",
       "      <td>1.295430</td>\n",
       "      <td>55.885510</td>\n",
       "      <td>31.480888</td>\n",
       "      <td>62.960250</td>\n",
       "      <td>0.001526</td>\n",
       "      <td>0.001526</td>\n",
       "      <td>62.960250</td>\n",
       "      <td>5.00</td>\n",
       "    </tr>\n",
       "  </tbody>\n",
       "</table>\n",
       "</div>"
      ],
      "text/plain": [
       "     TimeStamp  Reference  Position  Speed   Current    Voltage      Error  \\\n",
       "519       9.97 -14.998093    -16.48    0.0  1.157251   2.606913   1.481651   \n",
       "520       9.98 -14.998093    -16.48    0.0  1.318460   2.601848   1.481651   \n",
       "521       9.99 -14.998093    -16.48    0.0  1.203311   2.602648   1.481651   \n",
       "522      10.00 -14.998093    -16.48    0.0  1.180281   2.603501   1.481651   \n",
       "523      10.01  15.001144    -16.48    0.0  1.295430  55.885510  31.480888   \n",
       "\n",
       "     Kp x Error  Error Sum / Ti  Td x Delta Err.  PID Output  TimeShift  \n",
       "519    2.961776        0.001526         0.001526    2.961776       4.96  \n",
       "520    2.961776        0.001526         0.001526    2.961776       4.97  \n",
       "521    2.961776        0.001526         0.001526    2.961776       4.98  \n",
       "522    2.961776        0.001526         0.001526    2.961776       4.99  \n",
       "523   62.960250        0.001526         0.001526   62.960250       5.00  "
      ]
     },
     "execution_count": 40,
     "metadata": {},
     "output_type": "execute_result"
    }
   ],
   "source": [
    "freq=0.20\n",
    "period=1/freq\n",
    "step6_one_cycle=step6_fil[step6_fil.TimeShift<=period]\n",
    "step6_one_cycle.tail()"
   ]
  },
  {
   "cell_type": "code",
   "execution_count": 41,
   "metadata": {},
   "outputs": [
    {
     "data": {
      "text/plain": [
       "[<matplotlib.lines.Line2D at 0xd1985e0>]"
      ]
     },
     "execution_count": 41,
     "metadata": {},
     "output_type": "execute_result"
    },
    {
     "data": {
      "image/png": "[encoded data removed]",
      "text/plain": [
       "<Figure size 432x288 with 1 Axes>"
      ]
     },
     "metadata": {
      "needs_background": "light"
     },
     "output_type": "display_data"
    }
   ],
   "source": [
    "plt.plot(step6_one_cycle.TimeShift, step6_one_cycle.Reference)"
   ]
  },
  {
   "cell_type": "code",
   "execution_count": 42,
   "metadata": {},
   "outputs": [
    {
     "data": {
      "text/plain": [
       "[<matplotlib.lines.Line2D at 0xd1cf520>]"
      ]
     },
     "execution_count": 42,
     "metadata": {},
     "output_type": "execute_result"
    },
    {
     "data": {
      "image/png": "[encoded data removed]",
      "text/plain": [
       "<Figure size 432x288 with 1 Axes>"
      ]
     },
     "metadata": {
      "needs_background": "light"
     },
     "output_type": "display_data"
    }
   ],
   "source": [
    "plt.plot(step6_one_cycle.TimeShift, step6_one_cycle.Position)"
   ]
  },
  {
   "cell_type": "code",
   "execution_count": 43,
   "metadata": {},
   "outputs": [
    {
     "data": {
      "text/plain": [
       "39.7"
      ]
     },
     "execution_count": 43,
     "metadata": {},
     "output_type": "execute_result"
    }
   ],
   "source": [
    "step6_raw.Position.max()"
   ]
  },
  {
   "cell_type": "markdown",
   "metadata": {},
   "source": [
    "#### Select half cycle"
   ]
  },
  {
   "cell_type": "code",
   "execution_count": 52,
   "metadata": {},
   "outputs": [],
   "source": [
    "#step6_half_cycle=step6_one_cycle[step6_one_cycle.TimeShift<=period/2]\n",
    "step6_half_cycle=step6_raw[(step6_raw.TimeStamp>=20.24) & (step6_raw.TimeStamp<=22.29)]"
   ]
  },
  {
   "cell_type": "code",
   "execution_count": 53,
   "metadata": {},
   "outputs": [
    {
     "data": {
      "text/html": [
       "<div>\n",
       "<style scoped>\n",
       "    .dataframe tbody tr th:only-of-type {\n",
       "        vertical-align: middle;\n",
       "    }\n",
       "\n",
       "    .dataframe tbody tr th {\n",
       "        vertical-align: top;\n",
       "    }\n",
       "\n",
       "    .dataframe thead th {\n",
       "        text-align: right;\n",
       "    }\n",
       "</style>\n",
       "<table border=\"1\" class=\"dataframe\">\n",
       "  <thead>\n",
       "    <tr style=\"text-align: right;\">\n",
       "      <th></th>\n",
       "      <th>TimeStamp</th>\n",
       "      <th>Reference</th>\n",
       "      <th>Position</th>\n",
       "      <th>Speed</th>\n",
       "      <th>Current</th>\n",
       "      <th>Voltage</th>\n",
       "      <th>Error</th>\n",
       "      <th>Kp x Error</th>\n",
       "      <th>Error Sum / Ti</th>\n",
       "      <th>Td x Delta Err.</th>\n",
       "      <th>PID Output</th>\n",
       "    </tr>\n",
       "  </thead>\n",
       "  <tbody>\n",
       "    <tr>\n",
       "      <th>90</th>\n",
       "      <td>20.24</td>\n",
       "      <td>15.001144</td>\n",
       "      <td>0.94</td>\n",
       "      <td>8.000</td>\n",
       "      <td>24.739834</td>\n",
       "      <td>25.623320</td>\n",
       "      <td>14.064240</td>\n",
       "      <td>28.126955</td>\n",
       "      <td>0.001526</td>\n",
       "      <td>0.001526</td>\n",
       "      <td>28.126955</td>\n",
       "    </tr>\n",
       "    <tr>\n",
       "      <th>91</th>\n",
       "      <td>20.25</td>\n",
       "      <td>15.001144</td>\n",
       "      <td>4.62</td>\n",
       "      <td>10.250</td>\n",
       "      <td>14.451241</td>\n",
       "      <td>18.967998</td>\n",
       "      <td>10.383764</td>\n",
       "      <td>20.766003</td>\n",
       "      <td>0.001526</td>\n",
       "      <td>0.001526</td>\n",
       "      <td>20.766003</td>\n",
       "    </tr>\n",
       "    <tr>\n",
       "      <th>92</th>\n",
       "      <td>20.26</td>\n",
       "      <td>15.001144</td>\n",
       "      <td>8.78</td>\n",
       "      <td>11.125</td>\n",
       "      <td>3.932350</td>\n",
       "      <td>11.381494</td>\n",
       "      <td>6.224155</td>\n",
       "      <td>12.446784</td>\n",
       "      <td>0.001526</td>\n",
       "      <td>0.001526</td>\n",
       "      <td>12.446784</td>\n",
       "    </tr>\n",
       "    <tr>\n",
       "      <th>93</th>\n",
       "      <td>20.27</td>\n",
       "      <td>15.001144</td>\n",
       "      <td>13.02</td>\n",
       "      <td>11.000</td>\n",
       "      <td>0.840590</td>\n",
       "      <td>3.632775</td>\n",
       "      <td>1.985199</td>\n",
       "      <td>3.968872</td>\n",
       "      <td>0.001526</td>\n",
       "      <td>0.001526</td>\n",
       "      <td>3.968872</td>\n",
       "    </tr>\n",
       "    <tr>\n",
       "      <th>94</th>\n",
       "      <td>20.28</td>\n",
       "      <td>15.001144</td>\n",
       "      <td>17.18</td>\n",
       "      <td>10.500</td>\n",
       "      <td>-1.459518</td>\n",
       "      <td>-3.973540</td>\n",
       "      <td>-2.174411</td>\n",
       "      <td>-4.350347</td>\n",
       "      <td>0.001526</td>\n",
       "      <td>0.001526</td>\n",
       "      <td>-4.350347</td>\n",
       "    </tr>\n",
       "  </tbody>\n",
       "</table>\n",
       "</div>"
      ],
      "text/plain": [
       "    TimeStamp  Reference  Position   Speed    Current    Voltage      Error  \\\n",
       "90      20.24  15.001144      0.94   8.000  24.739834  25.623320  14.064240   \n",
       "91      20.25  15.001144      4.62  10.250  14.451241  18.967998  10.383764   \n",
       "92      20.26  15.001144      8.78  11.125   3.932350  11.381494   6.224155   \n",
       "93      20.27  15.001144     13.02  11.000   0.840590   3.632775   1.985199   \n",
       "94      20.28  15.001144     17.18  10.500  -1.459518  -3.973540  -2.174411   \n",
       "\n",
       "    Kp x Error  Error Sum / Ti  Td x Delta Err.  PID Output  \n",
       "90   28.126955        0.001526         0.001526   28.126955  \n",
       "91   20.766003        0.001526         0.001526   20.766003  \n",
       "92   12.446784        0.001526         0.001526   12.446784  \n",
       "93    3.968872        0.001526         0.001526    3.968872  \n",
       "94   -4.350347        0.001526         0.001526   -4.350347  "
      ]
     },
     "execution_count": 53,
     "metadata": {},
     "output_type": "execute_result"
    }
   ],
   "source": [
    "step6_half_cycle.head()"
   ]
  },
  {
   "cell_type": "code",
   "execution_count": 54,
   "metadata": {},
   "outputs": [],
   "source": [
    "step6_half_cycle.reset_index(drop=True, inplace=True)"
   ]
  },
  {
   "cell_type": "code",
   "execution_count": 56,
   "metadata": {},
   "outputs": [
    {
     "data": {
      "text/html": [
       "<div>\n",
       "<style scoped>\n",
       "    .dataframe tbody tr th:only-of-type {\n",
       "        vertical-align: middle;\n",
       "    }\n",
       "\n",
       "    .dataframe tbody tr th {\n",
       "        vertical-align: top;\n",
       "    }\n",
       "\n",
       "    .dataframe thead th {\n",
       "        text-align: right;\n",
       "    }\n",
       "</style>\n",
       "<table border=\"1\" class=\"dataframe\">\n",
       "  <thead>\n",
       "    <tr style=\"text-align: right;\">\n",
       "      <th></th>\n",
       "      <th>TimeStamp</th>\n",
       "      <th>Reference</th>\n",
       "      <th>Position</th>\n",
       "      <th>Speed</th>\n",
       "      <th>Current</th>\n",
       "      <th>Voltage</th>\n",
       "      <th>Error</th>\n",
       "      <th>Kp x Error</th>\n",
       "      <th>Error Sum / Ti</th>\n",
       "      <th>Td x Delta Err.</th>\n",
       "      <th>PID Output</th>\n",
       "    </tr>\n",
       "  </thead>\n",
       "  <tbody>\n",
       "    <tr>\n",
       "      <th>0</th>\n",
       "      <td>20.24</td>\n",
       "      <td>15.001144</td>\n",
       "      <td>0.94</td>\n",
       "      <td>8.000</td>\n",
       "      <td>24.739834</td>\n",
       "      <td>25.623320</td>\n",
       "      <td>14.064240</td>\n",
       "      <td>28.126955</td>\n",
       "      <td>0.001526</td>\n",
       "      <td>0.001526</td>\n",
       "      <td>28.126955</td>\n",
       "    </tr>\n",
       "    <tr>\n",
       "      <th>1</th>\n",
       "      <td>20.25</td>\n",
       "      <td>15.001144</td>\n",
       "      <td>4.62</td>\n",
       "      <td>10.250</td>\n",
       "      <td>14.451241</td>\n",
       "      <td>18.967998</td>\n",
       "      <td>10.383764</td>\n",
       "      <td>20.766003</td>\n",
       "      <td>0.001526</td>\n",
       "      <td>0.001526</td>\n",
       "      <td>20.766003</td>\n",
       "    </tr>\n",
       "    <tr>\n",
       "      <th>2</th>\n",
       "      <td>20.26</td>\n",
       "      <td>15.001144</td>\n",
       "      <td>8.78</td>\n",
       "      <td>11.125</td>\n",
       "      <td>3.932350</td>\n",
       "      <td>11.381494</td>\n",
       "      <td>6.224155</td>\n",
       "      <td>12.446784</td>\n",
       "      <td>0.001526</td>\n",
       "      <td>0.001526</td>\n",
       "      <td>12.446784</td>\n",
       "    </tr>\n",
       "    <tr>\n",
       "      <th>3</th>\n",
       "      <td>20.27</td>\n",
       "      <td>15.001144</td>\n",
       "      <td>13.02</td>\n",
       "      <td>11.000</td>\n",
       "      <td>0.840590</td>\n",
       "      <td>3.632775</td>\n",
       "      <td>1.985199</td>\n",
       "      <td>3.968872</td>\n",
       "      <td>0.001526</td>\n",
       "      <td>0.001526</td>\n",
       "      <td>3.968872</td>\n",
       "    </tr>\n",
       "    <tr>\n",
       "      <th>4</th>\n",
       "      <td>20.28</td>\n",
       "      <td>15.001144</td>\n",
       "      <td>17.18</td>\n",
       "      <td>10.500</td>\n",
       "      <td>-1.459518</td>\n",
       "      <td>-3.973540</td>\n",
       "      <td>-2.174411</td>\n",
       "      <td>-4.350347</td>\n",
       "      <td>0.001526</td>\n",
       "      <td>0.001526</td>\n",
       "      <td>-4.350347</td>\n",
       "    </tr>\n",
       "  </tbody>\n",
       "</table>\n",
       "</div>"
      ],
      "text/plain": [
       "   TimeStamp  Reference  Position   Speed    Current    Voltage      Error  \\\n",
       "0      20.24  15.001144      0.94   8.000  24.739834  25.623320  14.064240   \n",
       "1      20.25  15.001144      4.62  10.250  14.451241  18.967998  10.383764   \n",
       "2      20.26  15.001144      8.78  11.125   3.932350  11.381494   6.224155   \n",
       "3      20.27  15.001144     13.02  11.000   0.840590   3.632775   1.985199   \n",
       "4      20.28  15.001144     17.18  10.500  -1.459518  -3.973540  -2.174411   \n",
       "\n",
       "   Kp x Error  Error Sum / Ti  Td x Delta Err.  PID Output  \n",
       "0   28.126955        0.001526         0.001526   28.126955  \n",
       "1   20.766003        0.001526         0.001526   20.766003  \n",
       "2   12.446784        0.001526         0.001526   12.446784  \n",
       "3    3.968872        0.001526         0.001526    3.968872  \n",
       "4   -4.350347        0.001526         0.001526   -4.350347  "
      ]
     },
     "execution_count": 56,
     "metadata": {},
     "output_type": "execute_result"
    }
   ],
   "source": [
    "step6_half_cycle.head()"
   ]
  },
  {
   "cell_type": "code",
   "execution_count": 57,
   "metadata": {},
   "outputs": [
    {
     "name": "stderr",
     "output_type": "stream",
     "text": [
      "<ipython-input-57-84b2b4c576be>:1: SettingWithCopyWarning: \n",
      "A value is trying to be set on a copy of a slice from a DataFrame.\n",
      "Try using .loc[row_indexer,col_indexer] = value instead\n",
      "\n",
      "See the caveats in the documentation: https://pandas.pydata.org/pandas-docs/stable/user_guide/indexing.html#returning-a-view-versus-a-copy\n",
      "  step6_half_cycle[\"TimeShift\"]=step6_half_cycle.TimeStamp-step6_half_cycle.TimeStamp[0]\n"
     ]
    }
   ],
   "source": [
    "step6_half_cycle[\"TimeShift\"]=step6_half_cycle.TimeStamp-step6_half_cycle.TimeStamp[0]"
   ]
  },
  {
   "cell_type": "code",
   "execution_count": 58,
   "metadata": {},
   "outputs": [
    {
     "data": {
      "text/html": [
       "<div>\n",
       "<style scoped>\n",
       "    .dataframe tbody tr th:only-of-type {\n",
       "        vertical-align: middle;\n",
       "    }\n",
       "\n",
       "    .dataframe tbody tr th {\n",
       "        vertical-align: top;\n",
       "    }\n",
       "\n",
       "    .dataframe thead th {\n",
       "        text-align: right;\n",
       "    }\n",
       "</style>\n",
       "<table border=\"1\" class=\"dataframe\">\n",
       "  <thead>\n",
       "    <tr style=\"text-align: right;\">\n",
       "      <th></th>\n",
       "      <th>TimeStamp</th>\n",
       "      <th>Reference</th>\n",
       "      <th>Position</th>\n",
       "      <th>Speed</th>\n",
       "      <th>Current</th>\n",
       "      <th>Voltage</th>\n",
       "      <th>Error</th>\n",
       "      <th>Kp x Error</th>\n",
       "      <th>Error Sum / Ti</th>\n",
       "      <th>Td x Delta Err.</th>\n",
       "      <th>PID Output</th>\n",
       "      <th>TimeShift</th>\n",
       "    </tr>\n",
       "  </thead>\n",
       "  <tbody>\n",
       "    <tr>\n",
       "      <th>0</th>\n",
       "      <td>20.24</td>\n",
       "      <td>15.001144</td>\n",
       "      <td>0.94</td>\n",
       "      <td>8.000</td>\n",
       "      <td>24.739834</td>\n",
       "      <td>25.623320</td>\n",
       "      <td>14.064240</td>\n",
       "      <td>28.126955</td>\n",
       "      <td>0.001526</td>\n",
       "      <td>0.001526</td>\n",
       "      <td>28.126955</td>\n",
       "      <td>0.00</td>\n",
       "    </tr>\n",
       "    <tr>\n",
       "      <th>1</th>\n",
       "      <td>20.25</td>\n",
       "      <td>15.001144</td>\n",
       "      <td>4.62</td>\n",
       "      <td>10.250</td>\n",
       "      <td>14.451241</td>\n",
       "      <td>18.967998</td>\n",
       "      <td>10.383764</td>\n",
       "      <td>20.766003</td>\n",
       "      <td>0.001526</td>\n",
       "      <td>0.001526</td>\n",
       "      <td>20.766003</td>\n",
       "      <td>0.01</td>\n",
       "    </tr>\n",
       "    <tr>\n",
       "      <th>2</th>\n",
       "      <td>20.26</td>\n",
       "      <td>15.001144</td>\n",
       "      <td>8.78</td>\n",
       "      <td>11.125</td>\n",
       "      <td>3.932350</td>\n",
       "      <td>11.381494</td>\n",
       "      <td>6.224155</td>\n",
       "      <td>12.446784</td>\n",
       "      <td>0.001526</td>\n",
       "      <td>0.001526</td>\n",
       "      <td>12.446784</td>\n",
       "      <td>0.02</td>\n",
       "    </tr>\n",
       "    <tr>\n",
       "      <th>3</th>\n",
       "      <td>20.27</td>\n",
       "      <td>15.001144</td>\n",
       "      <td>13.02</td>\n",
       "      <td>11.000</td>\n",
       "      <td>0.840590</td>\n",
       "      <td>3.632775</td>\n",
       "      <td>1.985199</td>\n",
       "      <td>3.968872</td>\n",
       "      <td>0.001526</td>\n",
       "      <td>0.001526</td>\n",
       "      <td>3.968872</td>\n",
       "      <td>0.03</td>\n",
       "    </tr>\n",
       "    <tr>\n",
       "      <th>4</th>\n",
       "      <td>20.28</td>\n",
       "      <td>15.001144</td>\n",
       "      <td>17.18</td>\n",
       "      <td>10.500</td>\n",
       "      <td>-1.459518</td>\n",
       "      <td>-3.973540</td>\n",
       "      <td>-2.174411</td>\n",
       "      <td>-4.350347</td>\n",
       "      <td>0.001526</td>\n",
       "      <td>0.001526</td>\n",
       "      <td>-4.350347</td>\n",
       "      <td>0.04</td>\n",
       "    </tr>\n",
       "  </tbody>\n",
       "</table>\n",
       "</div>"
      ],
      "text/plain": [
       "   TimeStamp  Reference  Position   Speed    Current    Voltage      Error  \\\n",
       "0      20.24  15.001144      0.94   8.000  24.739834  25.623320  14.064240   \n",
       "1      20.25  15.001144      4.62  10.250  14.451241  18.967998  10.383764   \n",
       "2      20.26  15.001144      8.78  11.125   3.932350  11.381494   6.224155   \n",
       "3      20.27  15.001144     13.02  11.000   0.840590   3.632775   1.985199   \n",
       "4      20.28  15.001144     17.18  10.500  -1.459518  -3.973540  -2.174411   \n",
       "\n",
       "   Kp x Error  Error Sum / Ti  Td x Delta Err.  PID Output  TimeShift  \n",
       "0   28.126955        0.001526         0.001526   28.126955       0.00  \n",
       "1   20.766003        0.001526         0.001526   20.766003       0.01  \n",
       "2   12.446784        0.001526         0.001526   12.446784       0.02  \n",
       "3    3.968872        0.001526         0.001526    3.968872       0.03  \n",
       "4   -4.350347        0.001526         0.001526   -4.350347       0.04  "
      ]
     },
     "execution_count": 58,
     "metadata": {},
     "output_type": "execute_result"
    }
   ],
   "source": [
    "step6_half_cycle.head()"
   ]
  },
  {
   "cell_type": "code",
   "execution_count": 59,
   "metadata": {},
   "outputs": [
    {
     "data": {
      "text/plain": [
       "[<matplotlib.lines.Line2D at 0xd623bb0>]"
      ]
     },
     "execution_count": 59,
     "metadata": {},
     "output_type": "execute_result"
    },
    {
     "data": {
      "image/png": "[encoded data removed]",
      "text/plain": [
       "<Figure size 432x288 with 1 Axes>"
      ]
     },
     "metadata": {
      "needs_background": "light"
     },
     "output_type": "display_data"
    }
   ],
   "source": [
    "plt.plot(step6_half_cycle.TimeShift,step6_half_cycle.Reference)"
   ]
  },
  {
   "cell_type": "code",
   "execution_count": 60,
   "metadata": {},
   "outputs": [
    {
     "data": {
      "text/plain": [
       "[<matplotlib.lines.Line2D at 0xd65ca18>]"
      ]
     },
     "execution_count": 60,
     "metadata": {},
     "output_type": "execute_result"
    },
    {
     "data": {
      "image/png": "[encoded data removed]",
      "text/plain": [
       "<Figure size 432x288 with 1 Axes>"
      ]
     },
     "metadata": {
      "needs_background": "light"
     },
     "output_type": "display_data"
    }
   ],
   "source": [
    "plt.plot(step6_half_cycle.TimeShift,step6_half_cycle.Position)"
   ]
  },
  {
   "cell_type": "markdown",
   "metadata": {},
   "source": [
    "#### Second order system specification"
   ]
  },
  {
   "cell_type": "code",
   "execution_count": 61,
   "metadata": {},
   "outputs": [
    {
     "data": {
      "text/plain": [
       "29.04"
      ]
     },
     "execution_count": 61,
     "metadata": {},
     "output_type": "execute_result"
    }
   ],
   "source": [
    "c_max=step6_half_cycle.Position.max()\n",
    "c_max"
   ]
  },
  {
   "cell_type": "code",
   "execution_count": 62,
   "metadata": {},
   "outputs": [
    {
     "data": {
      "text/plain": [
       "14.82"
      ]
     },
     "execution_count": 62,
     "metadata": {},
     "output_type": "execute_result"
    }
   ],
   "source": [
    "c_final=step6_half_cycle.Position[step6_half_cycle.Position.shape[0]-1]\n",
    "c_final"
   ]
  },
  {
   "cell_type": "code",
   "execution_count": 63,
   "metadata": {},
   "outputs": [
    {
     "name": "stdout",
     "output_type": "stream",
     "text": [
      "Percentage of overshoot, %0S= 95.95141700404858\n"
     ]
    }
   ],
   "source": [
    "#percentage of overshoot\n",
    "os=((c_max-c_final)/c_final)*100\n",
    "print(\"Percentage of overshoot, %0S=\", os)"
   ]
  },
  {
   "cell_type": "code",
   "execution_count": 75,
   "metadata": {},
   "outputs": [
    {
     "name": "stdout",
     "output_type": "stream",
     "text": [
      "Damping ratio zeta = 0.0132\n"
     ]
    }
   ],
   "source": [
    "zeta=-np.log(os/100)/np.sqrt(np.pi**2+(np.log(os/100))**2)\n",
    "zeta=np.around(zeta, 4)\n",
    "print(r\"Damping ratio zeta =\", zeta)"
   ]
  },
  {
   "cell_type": "code",
   "execution_count": 76,
   "metadata": {},
   "outputs": [
    {
     "data": {
      "text/html": [
       "<div>\n",
       "<style scoped>\n",
       "    .dataframe tbody tr th:only-of-type {\n",
       "        vertical-align: middle;\n",
       "    }\n",
       "\n",
       "    .dataframe tbody tr th {\n",
       "        vertical-align: top;\n",
       "    }\n",
       "\n",
       "    .dataframe thead th {\n",
       "        text-align: right;\n",
       "    }\n",
       "</style>\n",
       "<table border=\"1\" class=\"dataframe\">\n",
       "  <thead>\n",
       "    <tr style=\"text-align: right;\">\n",
       "      <th></th>\n",
       "      <th>TimeStamp</th>\n",
       "      <th>Reference</th>\n",
       "      <th>Position</th>\n",
       "      <th>Speed</th>\n",
       "      <th>Current</th>\n",
       "      <th>Voltage</th>\n",
       "      <th>Error</th>\n",
       "      <th>Kp x Error</th>\n",
       "      <th>Error Sum / Ti</th>\n",
       "      <th>Td x Delta Err.</th>\n",
       "      <th>PID Output</th>\n",
       "      <th>TimeShift</th>\n",
       "    </tr>\n",
       "  </thead>\n",
       "  <tbody>\n",
       "    <tr>\n",
       "      <th>9</th>\n",
       "      <td>20.33</td>\n",
       "      <td>15.001144</td>\n",
       "      <td>29.04</td>\n",
       "      <td>0.125</td>\n",
       "      <td>-25.260885</td>\n",
       "      <td>-25.66318</td>\n",
       "      <td>-14.036774</td>\n",
       "      <td>-28.075074</td>\n",
       "      <td>0.001526</td>\n",
       "      <td>0.001526</td>\n",
       "      <td>-28.075074</td>\n",
       "      <td>0.09</td>\n",
       "    </tr>\n",
       "  </tbody>\n",
       "</table>\n",
       "</div>"
      ],
      "text/plain": [
       "   TimeStamp  Reference  Position  Speed    Current   Voltage      Error  \\\n",
       "9      20.33  15.001144     29.04  0.125 -25.260885 -25.66318 -14.036774   \n",
       "\n",
       "   Kp x Error  Error Sum / Ti  Td x Delta Err.  PID Output  TimeShift  \n",
       "9  -28.075074        0.001526         0.001526  -28.075074       0.09  "
      ]
     },
     "execution_count": 76,
     "metadata": {},
     "output_type": "execute_result"
    }
   ],
   "source": [
    "step6_half_cycle[step6_half_cycle.Position== c_max]"
   ]
  },
  {
   "cell_type": "code",
   "execution_count": 78,
   "metadata": {},
   "outputs": [
    {
     "data": {
      "text/plain": [
       "34.90962649903892"
      ]
     },
     "execution_count": 78,
     "metadata": {},
     "output_type": "execute_result"
    }
   ],
   "source": [
    "t_p=0.09\n",
    "w_n=np.pi/(t_p*np.sqrt(1-zeta**2))\n",
    "w_n"
   ]
  },
  {
   "cell_type": "code",
   "execution_count": 80,
   "metadata": {},
   "outputs": [
    {
     "data": {
      "text/plain": [
       "8.680422376866323"
      ]
     },
     "execution_count": 80,
     "metadata": {},
     "output_type": "execute_result"
    }
   ],
   "source": [
    "t_s=4/(zeta*w_n)\n",
    "t_s"
   ]
  },
  {
   "cell_type": "code",
   "execution_count": 73,
   "metadata": {},
   "outputs": [
    {
     "data": {
      "image/png": "[encoded data removed]",
      "text/plain": [
       "<Figure size 1080x504 with 1 Axes>"
      ]
     },
     "metadata": {
      "needs_background": "light"
     },
     "output_type": "display_data"
    }
   ],
   "source": [
    "#plt.plot(step6_half_cycle.TimeShift,step6_half_cycle.Position)\n",
    "font = {'family': 'JetBrains Mono',\n",
    "        'color':  'black',\n",
    "        'weight': 'normal',\n",
    "        'size': 15,\n",
    "        }\n",
    "fig, ax=plt.subplots(figsize=(15,7))\n",
    "ax.set_facecolor(\"#F8E0C1\")\n",
    "ax.plot(step6_half_cycle.TimeShift, step6_half_cycle.Position, color=\"red\", \n",
    "               linewidth=1.5)\n",
    "\n",
    "step6_tex=r\"$f=0.2 Hz$, $A=15\\%$, $K_p=2$\"\n",
    "ax.text(1.0, 20, step6_tex, fontdict=font, color=\"DarkBlue\", fontsize=20)\n",
    "\n",
    "ax.scatter([0.09, 0.65], [c_max, c_final], color=\"DarkBlue\")\n",
    "# Move the left and bottom spines to x = 0 and y = 0, respectively.\n",
    "ax.spines[\"left\"].set_position((\"data\", 0))\n",
    "ax.spines[\"bottom\"].set_position((\"data\", 0))\n",
    "# Hide the top and right spines.\n",
    "ax.spines[\"top\"].set_visible(False)\n",
    "ax.spines[\"right\"].set_visible(False)\n",
    "\n",
    "ax.plot(1, 0, \">k\", ms=12, transform=ax.get_yaxis_transform(), clip_on=False)\n",
    "ax.plot(0, 1, \"^k\", ms=12, transform=ax.get_xaxis_transform(), clip_on=False)\n",
    "ax.set_xlabel(xlabel=\"t(s)\", fontsize=15)\n",
    "ax.set_ylabel(ylabel=\"Position(%)\", rotation=\"horizontal\", fontsize=15)\n",
    "ax.yaxis.set_label_coords(0.06,1.04)\n",
    "ax.xaxis.set_label_coords(1.04,0.0)\n",
    "ax.tick_params(axis=\"both\", which=\"major\", labelsize=15)"
   ]
  },
  {
   "cell_type": "code",
   "execution_count": null,
   "metadata": {},
   "outputs": [],
   "source": [
    "step6_raw=pd.read_csv(\"D:\\Extra Knowledge\\HP-NPC\\dataset/exp6-step7-group-4.csv\")\n",
    "step7_raw.head()"
   ]
  },
  {
   "cell_type": "code",
   "execution_count": 28,
   "metadata": {},
   "outputs": [
    {
     "data": {
      "text/html": [
       "<div>\n",
       "<style scoped>\n",
       "    .dataframe tbody tr th:only-of-type {\n",
       "        vertical-align: middle;\n",
       "    }\n",
       "\n",
       "    .dataframe tbody tr th {\n",
       "        vertical-align: top;\n",
       "    }\n",
       "\n",
       "    .dataframe thead th {\n",
       "        text-align: right;\n",
       "    }\n",
       "</style>\n",
       "<table border=\"1\" class=\"dataframe\">\n",
       "  <thead>\n",
       "    <tr style=\"text-align: right;\">\n",
       "      <th></th>\n",
       "      <th>TimeStamp</th>\n",
       "      <th>Reference</th>\n",
       "      <th>Position</th>\n",
       "      <th>Speed</th>\n",
       "      <th>Current</th>\n",
       "      <th>Voltage</th>\n",
       "      <th>Error</th>\n",
       "      <th>Kp x Error</th>\n",
       "      <th>Error Sum / Ti</th>\n",
       "      <th>Td x Delta Err.</th>\n",
       "      <th>PID Output</th>\n",
       "    </tr>\n",
       "  </thead>\n",
       "  <tbody>\n",
       "    <tr>\n",
       "      <th>0</th>\n",
       "      <td>19.34</td>\n",
       "      <td>-14.998093</td>\n",
       "      <td>-15.04</td>\n",
       "      <td>0.0</td>\n",
       "      <td>-0.149694</td>\n",
       "      <td>0.049669</td>\n",
       "      <td>0.041199</td>\n",
       "      <td>0.080873</td>\n",
       "      <td>0.001526</td>\n",
       "      <td>0.001526</td>\n",
       "      <td>0.080873</td>\n",
       "    </tr>\n",
       "    <tr>\n",
       "      <th>1</th>\n",
       "      <td>19.35</td>\n",
       "      <td>-14.998093</td>\n",
       "      <td>-15.04</td>\n",
       "      <td>0.0</td>\n",
       "      <td>-0.149694</td>\n",
       "      <td>0.049654</td>\n",
       "      <td>0.041199</td>\n",
       "      <td>0.080873</td>\n",
       "      <td>0.001526</td>\n",
       "      <td>0.001526</td>\n",
       "      <td>0.080873</td>\n",
       "    </tr>\n",
       "    <tr>\n",
       "      <th>2</th>\n",
       "      <td>19.36</td>\n",
       "      <td>-14.998093</td>\n",
       "      <td>-15.04</td>\n",
       "      <td>0.0</td>\n",
       "      <td>-0.129543</td>\n",
       "      <td>0.049701</td>\n",
       "      <td>0.041199</td>\n",
       "      <td>0.080873</td>\n",
       "      <td>0.001526</td>\n",
       "      <td>0.001526</td>\n",
       "      <td>0.080873</td>\n",
       "    </tr>\n",
       "    <tr>\n",
       "      <th>3</th>\n",
       "      <td>19.37</td>\n",
       "      <td>-14.998093</td>\n",
       "      <td>-15.04</td>\n",
       "      <td>0.0</td>\n",
       "      <td>-0.164088</td>\n",
       "      <td>0.049654</td>\n",
       "      <td>0.041199</td>\n",
       "      <td>0.080873</td>\n",
       "      <td>0.001526</td>\n",
       "      <td>0.001526</td>\n",
       "      <td>0.080873</td>\n",
       "    </tr>\n",
       "    <tr>\n",
       "      <th>4</th>\n",
       "      <td>19.38</td>\n",
       "      <td>-14.998093</td>\n",
       "      <td>-15.04</td>\n",
       "      <td>0.0</td>\n",
       "      <td>-0.149694</td>\n",
       "      <td>0.049685</td>\n",
       "      <td>0.041199</td>\n",
       "      <td>0.080873</td>\n",
       "      <td>0.001526</td>\n",
       "      <td>0.001526</td>\n",
       "      <td>0.080873</td>\n",
       "    </tr>\n",
       "  </tbody>\n",
       "</table>\n",
       "</div>"
      ],
      "text/plain": [
       "   TimeStamp  Reference  Position  Speed   Current   Voltage     Error  \\\n",
       "0      19.34 -14.998093    -15.04    0.0 -0.149694  0.049669  0.041199   \n",
       "1      19.35 -14.998093    -15.04    0.0 -0.149694  0.049654  0.041199   \n",
       "2      19.36 -14.998093    -15.04    0.0 -0.129543  0.049701  0.041199   \n",
       "3      19.37 -14.998093    -15.04    0.0 -0.164088  0.049654  0.041199   \n",
       "4      19.38 -14.998093    -15.04    0.0 -0.149694  0.049685  0.041199   \n",
       "\n",
       "   Kp x Error  Error Sum / Ti  Td x Delta Err.  PID Output  \n",
       "0    0.080873        0.001526         0.001526    0.080873  \n",
       "1    0.080873        0.001526         0.001526    0.080873  \n",
       "2    0.080873        0.001526         0.001526    0.080873  \n",
       "3    0.080873        0.001526         0.001526    0.080873  \n",
       "4    0.080873        0.001526         0.001526    0.080873  "
      ]
     },
     "execution_count": 28,
     "metadata": {},
     "output_type": "execute_result"
    }
   ],
   "source": [
    "g6_step6_raw=pd.read_csv(\"D:\\Extra Knowledge\\HP-NPC\\dataset/exp6-step6-group-6.csv\")\n",
    "g6_step6_raw.head()"
   ]
  },
  {
   "cell_type": "code",
   "execution_count": 30,
   "metadata": {
    "scrolled": true
   },
   "outputs": [
    {
     "data": {
      "text/plain": [
       "[<matplotlib.lines.Line2D at 0x66f93b8>]"
      ]
     },
     "execution_count": 30,
     "metadata": {},
     "output_type": "execute_result"
    },
    {
     "data": {
      "image/png": "[encoded data removed]",
      "text/plain": [
       "<Figure size 432x288 with 1 Axes>"
      ]
     },
     "metadata": {
      "needs_background": "light"
     },
     "output_type": "display_data"
    }
   ],
   "source": [
    "plt.plot(g6_step6_raw.TimeStamp, g6_step6_raw.Reference)"
   ]
  },
  {
   "cell_type": "code",
   "execution_count": 31,
   "metadata": {},
   "outputs": [
    {
     "data": {
      "text/plain": [
       "[<matplotlib.lines.Line2D at 0xd57e850>]"
      ]
     },
     "execution_count": 31,
     "metadata": {},
     "output_type": "execute_result"
    },
    {
     "data": {
      "image/png": "[encoded data removed]",
      "text/plain": [
       "<Figure size 432x288 with 1 Axes>"
      ]
     },
     "metadata": {
      "needs_background": "light"
     },
     "output_type": "display_data"
    }
   ],
   "source": [
    "plt.plot(g6_step6_raw.TimeStamp, g6_step6_raw.Position)"
   ]
  },
  {
   "cell_type": "code",
   "execution_count": 43,
   "metadata": {},
   "outputs": [
    {
     "data": {
      "text/html": [
       "<div>\n",
       "<style scoped>\n",
       "    .dataframe tbody tr th:only-of-type {\n",
       "        vertical-align: middle;\n",
       "    }\n",
       "\n",
       "    .dataframe tbody tr th {\n",
       "        vertical-align: top;\n",
       "    }\n",
       "\n",
       "    .dataframe thead th {\n",
       "        text-align: right;\n",
       "    }\n",
       "</style>\n",
       "<table border=\"1\" class=\"dataframe\">\n",
       "  <thead>\n",
       "    <tr style=\"text-align: right;\">\n",
       "      <th></th>\n",
       "      <th>TimeStamp</th>\n",
       "      <th>Reference</th>\n",
       "      <th>Position</th>\n",
       "      <th>Speed</th>\n",
       "      <th>Current</th>\n",
       "      <th>Voltage</th>\n",
       "      <th>Error</th>\n",
       "      <th>Kp x Error</th>\n",
       "      <th>Error Sum / Ti</th>\n",
       "      <th>Td x Delta Err.</th>\n",
       "      <th>PID Output</th>\n",
       "    </tr>\n",
       "  </thead>\n",
       "  <tbody>\n",
       "    <tr>\n",
       "      <th>90</th>\n",
       "      <td>20.24</td>\n",
       "      <td>15.001144</td>\n",
       "      <td>0.94</td>\n",
       "      <td>8.000</td>\n",
       "      <td>24.739834</td>\n",
       "      <td>25.623320</td>\n",
       "      <td>14.064240</td>\n",
       "      <td>28.126955</td>\n",
       "      <td>0.001526</td>\n",
       "      <td>0.001526</td>\n",
       "      <td>28.126955</td>\n",
       "    </tr>\n",
       "    <tr>\n",
       "      <th>91</th>\n",
       "      <td>20.25</td>\n",
       "      <td>15.001144</td>\n",
       "      <td>4.62</td>\n",
       "      <td>10.250</td>\n",
       "      <td>14.451241</td>\n",
       "      <td>18.967998</td>\n",
       "      <td>10.383764</td>\n",
       "      <td>20.766003</td>\n",
       "      <td>0.001526</td>\n",
       "      <td>0.001526</td>\n",
       "      <td>20.766003</td>\n",
       "    </tr>\n",
       "    <tr>\n",
       "      <th>92</th>\n",
       "      <td>20.26</td>\n",
       "      <td>15.001144</td>\n",
       "      <td>8.78</td>\n",
       "      <td>11.125</td>\n",
       "      <td>3.932350</td>\n",
       "      <td>11.381494</td>\n",
       "      <td>6.224155</td>\n",
       "      <td>12.446784</td>\n",
       "      <td>0.001526</td>\n",
       "      <td>0.001526</td>\n",
       "      <td>12.446784</td>\n",
       "    </tr>\n",
       "    <tr>\n",
       "      <th>93</th>\n",
       "      <td>20.27</td>\n",
       "      <td>15.001144</td>\n",
       "      <td>13.02</td>\n",
       "      <td>11.000</td>\n",
       "      <td>0.840590</td>\n",
       "      <td>3.632775</td>\n",
       "      <td>1.985199</td>\n",
       "      <td>3.968872</td>\n",
       "      <td>0.001526</td>\n",
       "      <td>0.001526</td>\n",
       "      <td>3.968872</td>\n",
       "    </tr>\n",
       "    <tr>\n",
       "      <th>94</th>\n",
       "      <td>20.28</td>\n",
       "      <td>15.001144</td>\n",
       "      <td>17.18</td>\n",
       "      <td>10.500</td>\n",
       "      <td>-1.459518</td>\n",
       "      <td>-3.973540</td>\n",
       "      <td>-2.174411</td>\n",
       "      <td>-4.350347</td>\n",
       "      <td>0.001526</td>\n",
       "      <td>0.001526</td>\n",
       "      <td>-4.350347</td>\n",
       "    </tr>\n",
       "    <tr>\n",
       "      <th>95</th>\n",
       "      <td>20.29</td>\n",
       "      <td>15.001144</td>\n",
       "      <td>21.10</td>\n",
       "      <td>9.500</td>\n",
       "      <td>-5.581864</td>\n",
       "      <td>-11.119057</td>\n",
       "      <td>-6.095979</td>\n",
       "      <td>-12.193484</td>\n",
       "      <td>0.001526</td>\n",
       "      <td>0.001526</td>\n",
       "      <td>-12.193484</td>\n",
       "    </tr>\n",
       "    <tr>\n",
       "      <th>96</th>\n",
       "      <td>20.30</td>\n",
       "      <td>15.001144</td>\n",
       "      <td>24.54</td>\n",
       "      <td>7.875</td>\n",
       "      <td>-13.956099</td>\n",
       "      <td>-17.456087</td>\n",
       "      <td>-9.535363</td>\n",
       "      <td>-19.072251</td>\n",
       "      <td>0.001526</td>\n",
       "      <td>0.001526</td>\n",
       "      <td>-19.072251</td>\n",
       "    </tr>\n",
       "    <tr>\n",
       "      <th>97</th>\n",
       "      <td>20.31</td>\n",
       "      <td>15.001144</td>\n",
       "      <td>27.18</td>\n",
       "      <td>5.750</td>\n",
       "      <td>-21.429291</td>\n",
       "      <td>-22.245191</td>\n",
       "      <td>-12.175174</td>\n",
       "      <td>-24.351873</td>\n",
       "      <td>0.001526</td>\n",
       "      <td>0.001526</td>\n",
       "      <td>-24.351873</td>\n",
       "    </tr>\n",
       "    <tr>\n",
       "      <th>98</th>\n",
       "      <td>20.32</td>\n",
       "      <td>15.001144</td>\n",
       "      <td>28.72</td>\n",
       "      <td>3.000</td>\n",
       "      <td>-24.722562</td>\n",
       "      <td>-25.051562</td>\n",
       "      <td>-13.716335</td>\n",
       "      <td>-27.434195</td>\n",
       "      <td>0.001526</td>\n",
       "      <td>0.001526</td>\n",
       "      <td>-27.434195</td>\n",
       "    </tr>\n",
       "    <tr>\n",
       "      <th>99</th>\n",
       "      <td>20.33</td>\n",
       "      <td>15.001144</td>\n",
       "      <td>29.04</td>\n",
       "      <td>0.125</td>\n",
       "      <td>-25.260885</td>\n",
       "      <td>-25.663180</td>\n",
       "      <td>-14.036774</td>\n",
       "      <td>-28.075074</td>\n",
       "      <td>0.001526</td>\n",
       "      <td>0.001526</td>\n",
       "      <td>-28.075074</td>\n",
       "    </tr>\n",
       "  </tbody>\n",
       "</table>\n",
       "</div>"
      ],
      "text/plain": [
       "    TimeStamp  Reference  Position   Speed    Current    Voltage      Error  \\\n",
       "90      20.24  15.001144      0.94   8.000  24.739834  25.623320  14.064240   \n",
       "91      20.25  15.001144      4.62  10.250  14.451241  18.967998  10.383764   \n",
       "92      20.26  15.001144      8.78  11.125   3.932350  11.381494   6.224155   \n",
       "93      20.27  15.001144     13.02  11.000   0.840590   3.632775   1.985199   \n",
       "94      20.28  15.001144     17.18  10.500  -1.459518  -3.973540  -2.174411   \n",
       "95      20.29  15.001144     21.10   9.500  -5.581864 -11.119057  -6.095979   \n",
       "96      20.30  15.001144     24.54   7.875 -13.956099 -17.456087  -9.535363   \n",
       "97      20.31  15.001144     27.18   5.750 -21.429291 -22.245191 -12.175174   \n",
       "98      20.32  15.001144     28.72   3.000 -24.722562 -25.051562 -13.716335   \n",
       "99      20.33  15.001144     29.04   0.125 -25.260885 -25.663180 -14.036774   \n",
       "\n",
       "    Kp x Error  Error Sum / Ti  Td x Delta Err.  PID Output  \n",
       "90   28.126955        0.001526         0.001526   28.126955  \n",
       "91   20.766003        0.001526         0.001526   20.766003  \n",
       "92   12.446784        0.001526         0.001526   12.446784  \n",
       "93    3.968872        0.001526         0.001526    3.968872  \n",
       "94   -4.350347        0.001526         0.001526   -4.350347  \n",
       "95  -12.193484        0.001526         0.001526  -12.193484  \n",
       "96  -19.072251        0.001526         0.001526  -19.072251  \n",
       "97  -24.351873        0.001526         0.001526  -24.351873  \n",
       "98  -27.434195        0.001526         0.001526  -27.434195  \n",
       "99  -28.075074        0.001526         0.001526  -28.075074  "
      ]
     },
     "execution_count": 43,
     "metadata": {},
     "output_type": "execute_result"
    }
   ],
   "source": [
    "step6g6_fil=g6_step6_raw[(g6_step6_raw.TimeStamp>=20.24) & (g6_step6_raw.TimeStamp<=22.29)]\n",
    "step6g6_fil.head(10)"
   ]
  },
  {
   "cell_type": "code",
   "execution_count": 44,
   "metadata": {},
   "outputs": [
    {
     "data": {
      "text/plain": [
       "[<matplotlib.lines.Line2D at 0xd5d2550>]"
      ]
     },
     "execution_count": 44,
     "metadata": {},
     "output_type": "execute_result"
    },
    {
     "data": {
      "image/png": "[encoded data removed]",
      "text/plain": [
       "<Figure size 432x288 with 1 Axes>"
      ]
     },
     "metadata": {
      "needs_background": "light"
     },
     "output_type": "display_data"
    }
   ],
   "source": [
    "plt.plot(step6g6_fil.TimeStamp, step6g6_fil.Position)"
   ]
  },
  {
   "cell_type": "code",
   "execution_count": 45,
   "metadata": {},
   "outputs": [
    {
     "data": {
      "text/plain": [
       "14.82"
      ]
     },
     "execution_count": 45,
     "metadata": {},
     "output_type": "execute_result"
    }
   ],
   "source": [
    "c_final=step6g6_fil.Position[step6g6_fil.Position.shape[0]-1]\n",
    "c_final"
   ]
  },
  {
   "cell_type": "code",
   "execution_count": 48,
   "metadata": {},
   "outputs": [
    {
     "data": {
      "text/plain": [
       "0.9595141700404858"
      ]
     },
     "execution_count": 48,
     "metadata": {},
     "output_type": "execute_result"
    }
   ],
   "source": [
    "(step6g6_fil.Position.max()-c_final)/c_final"
   ]
  },
  {
   "cell_type": "code",
   "execution_count": null,
   "metadata": {},
   "outputs": [],
   "source": []
  },
  {
   "cell_type": "markdown",
   "metadata": {},
   "source": [
    "### Step 7\n",
    "#### Read dataset "
   ]
  },
  {
   "cell_type": "code",
   "execution_count": 83,
   "metadata": {},
   "outputs": [
    {
     "data": {
      "text/html": [
       "<div>\n",
       "<style scoped>\n",
       "    .dataframe tbody tr th:only-of-type {\n",
       "        vertical-align: middle;\n",
       "    }\n",
       "\n",
       "    .dataframe tbody tr th {\n",
       "        vertical-align: top;\n",
       "    }\n",
       "\n",
       "    .dataframe thead th {\n",
       "        text-align: right;\n",
       "    }\n",
       "</style>\n",
       "<table border=\"1\" class=\"dataframe\">\n",
       "  <thead>\n",
       "    <tr style=\"text-align: right;\">\n",
       "      <th></th>\n",
       "      <th>TimeStamp</th>\n",
       "      <th>Reference</th>\n",
       "      <th>Position</th>\n",
       "      <th>Speed</th>\n",
       "      <th>Current</th>\n",
       "      <th>Voltage</th>\n",
       "      <th>Error</th>\n",
       "      <th>Kp x Error</th>\n",
       "      <th>Error Sum / Ti</th>\n",
       "      <th>Td x Delta Err.</th>\n",
       "      <th>PID Output</th>\n",
       "    </tr>\n",
       "  </thead>\n",
       "  <tbody>\n",
       "    <tr>\n",
       "      <th>0</th>\n",
       "      <td>15.19</td>\n",
       "      <td>15.001144</td>\n",
       "      <td>-8.98</td>\n",
       "      <td>-4.125</td>\n",
       "      <td>93.602015</td>\n",
       "      <td>63.495797</td>\n",
       "      <td>23.979553</td>\n",
       "      <td>71.935607</td>\n",
       "      <td>0.001526</td>\n",
       "      <td>0.001526</td>\n",
       "      <td>71.935607</td>\n",
       "    </tr>\n",
       "    <tr>\n",
       "      <th>1</th>\n",
       "      <td>15.20</td>\n",
       "      <td>15.001144</td>\n",
       "      <td>-7.78</td>\n",
       "      <td>5.000</td>\n",
       "      <td>89.787693</td>\n",
       "      <td>60.150738</td>\n",
       "      <td>22.780194</td>\n",
       "      <td>68.337530</td>\n",
       "      <td>0.001526</td>\n",
       "      <td>0.001526</td>\n",
       "      <td>68.337530</td>\n",
       "    </tr>\n",
       "    <tr>\n",
       "      <th>2</th>\n",
       "      <td>15.21</td>\n",
       "      <td>15.001144</td>\n",
       "      <td>-3.78</td>\n",
       "      <td>13.625</td>\n",
       "      <td>88.299388</td>\n",
       "      <td>49.575310</td>\n",
       "      <td>18.779278</td>\n",
       "      <td>56.334783</td>\n",
       "      <td>0.001526</td>\n",
       "      <td>0.001526</td>\n",
       "      <td>56.334783</td>\n",
       "    </tr>\n",
       "    <tr>\n",
       "      <th>3</th>\n",
       "      <td>15.22</td>\n",
       "      <td>15.001144</td>\n",
       "      <td>2.70</td>\n",
       "      <td>21.250</td>\n",
       "      <td>56.394386</td>\n",
       "      <td>32.507665</td>\n",
       "      <td>12.300298</td>\n",
       "      <td>36.897841</td>\n",
       "      <td>0.001526</td>\n",
       "      <td>0.001526</td>\n",
       "      <td>36.897841</td>\n",
       "    </tr>\n",
       "    <tr>\n",
       "      <th>4</th>\n",
       "      <td>15.23</td>\n",
       "      <td>15.001144</td>\n",
       "      <td>10.64</td>\n",
       "      <td>25.250</td>\n",
       "      <td>14.304426</td>\n",
       "      <td>11.548605</td>\n",
       "      <td>4.359503</td>\n",
       "      <td>13.075456</td>\n",
       "      <td>0.001526</td>\n",
       "      <td>0.001526</td>\n",
       "      <td>13.075456</td>\n",
       "    </tr>\n",
       "  </tbody>\n",
       "</table>\n",
       "</div>"
      ],
      "text/plain": [
       "   TimeStamp  Reference  Position   Speed    Current    Voltage      Error  \\\n",
       "0      15.19  15.001144     -8.98  -4.125  93.602015  63.495797  23.979553   \n",
       "1      15.20  15.001144     -7.78   5.000  89.787693  60.150738  22.780194   \n",
       "2      15.21  15.001144     -3.78  13.625  88.299388  49.575310  18.779278   \n",
       "3      15.22  15.001144      2.70  21.250  56.394386  32.507665  12.300298   \n",
       "4      15.23  15.001144     10.64  25.250  14.304426  11.548605   4.359503   \n",
       "\n",
       "   Kp x Error  Error Sum / Ti  Td x Delta Err.  PID Output  \n",
       "0   71.935607        0.001526         0.001526   71.935607  \n",
       "1   68.337530        0.001526         0.001526   68.337530  \n",
       "2   56.334783        0.001526         0.001526   56.334783  \n",
       "3   36.897841        0.001526         0.001526   36.897841  \n",
       "4   13.075456        0.001526         0.001526   13.075456  "
      ]
     },
     "execution_count": 83,
     "metadata": {},
     "output_type": "execute_result"
    }
   ],
   "source": [
    "step7_raw=pd.read_csv(\"D:\\Extra Knowledge\\HP-NPC\\dataset/exp6-step7-group-4.csv\")\n",
    "step7_raw.head()"
   ]
  },
  {
   "cell_type": "code",
   "execution_count": 84,
   "metadata": {},
   "outputs": [
    {
     "data": {
      "text/plain": [
       "[<matplotlib.lines.Line2D at 0x64384f0>]"
      ]
     },
     "execution_count": 84,
     "metadata": {},
     "output_type": "execute_result"
    },
    {
     "data": {
      "image/png": "[encoded data removed]",
      "text/plain": [
       "<Figure size 432x288 with 1 Axes>"
      ]
     },
     "metadata": {
      "needs_background": "light"
     },
     "output_type": "display_data"
    }
   ],
   "source": [
    "plt.plot(step7_raw.TimeStamp, step7_raw.Reference)"
   ]
  },
  {
   "cell_type": "code",
   "execution_count": 85,
   "metadata": {},
   "outputs": [
    {
     "data": {
      "text/plain": [
       "[<matplotlib.lines.Line2D at 0xe338220>]"
      ]
     },
     "execution_count": 85,
     "metadata": {},
     "output_type": "execute_result"
    },
    {
     "data": {
      "image/png": "[encoded data removed]",
      "text/plain": [
       "<Figure size 432x288 with 1 Axes>"
      ]
     },
     "metadata": {
      "needs_background": "light"
     },
     "output_type": "display_data"
    }
   ],
   "source": [
    "plt.plot(step7_raw.TimeStamp, step7_raw.Position)"
   ]
  },
  {
   "cell_type": "code",
   "execution_count": 86,
   "metadata": {
    "scrolled": true
   },
   "outputs": [
    {
     "data": {
      "text/html": [
       "<div>\n",
       "<style scoped>\n",
       "    .dataframe tbody tr th:only-of-type {\n",
       "        vertical-align: middle;\n",
       "    }\n",
       "\n",
       "    .dataframe tbody tr th {\n",
       "        vertical-align: top;\n",
       "    }\n",
       "\n",
       "    .dataframe thead th {\n",
       "        text-align: right;\n",
       "    }\n",
       "</style>\n",
       "<table border=\"1\" class=\"dataframe\">\n",
       "  <thead>\n",
       "    <tr style=\"text-align: right;\">\n",
       "      <th></th>\n",
       "      <th>TimeStamp</th>\n",
       "      <th>Reference</th>\n",
       "      <th>Position</th>\n",
       "      <th>Speed</th>\n",
       "      <th>Current</th>\n",
       "      <th>Voltage</th>\n",
       "      <th>Error</th>\n",
       "      <th>Kp x Error</th>\n",
       "      <th>Error Sum / Ti</th>\n",
       "      <th>Td x Delta Err.</th>\n",
       "      <th>PID Output</th>\n",
       "    </tr>\n",
       "  </thead>\n",
       "  <tbody>\n",
       "    <tr>\n",
       "      <th>504</th>\n",
       "      <td>20.01</td>\n",
       "      <td>15.001144</td>\n",
       "      <td>-15.38</td>\n",
       "      <td>0.000</td>\n",
       "      <td>0.466355</td>\n",
       "      <td>80.804956</td>\n",
       "      <td>30.379187</td>\n",
       "      <td>91.134508</td>\n",
       "      <td>0.001526</td>\n",
       "      <td>0.001526</td>\n",
       "      <td>91.134508</td>\n",
       "    </tr>\n",
       "    <tr>\n",
       "      <th>505</th>\n",
       "      <td>20.02</td>\n",
       "      <td>15.001144</td>\n",
       "      <td>-14.08</td>\n",
       "      <td>1.875</td>\n",
       "      <td>94.327456</td>\n",
       "      <td>76.778094</td>\n",
       "      <td>29.079118</td>\n",
       "      <td>87.234302</td>\n",
       "      <td>0.001526</td>\n",
       "      <td>0.001526</td>\n",
       "      <td>87.234302</td>\n",
       "    </tr>\n",
       "    <tr>\n",
       "      <th>506</th>\n",
       "      <td>20.03</td>\n",
       "      <td>15.001144</td>\n",
       "      <td>-9.96</td>\n",
       "      <td>9.500</td>\n",
       "      <td>94.327456</td>\n",
       "      <td>65.980060</td>\n",
       "      <td>24.959182</td>\n",
       "      <td>74.874495</td>\n",
       "      <td>0.001526</td>\n",
       "      <td>0.001526</td>\n",
       "      <td>74.874495</td>\n",
       "    </tr>\n",
       "    <tr>\n",
       "      <th>507</th>\n",
       "      <td>20.04</td>\n",
       "      <td>15.001144</td>\n",
       "      <td>-3.00</td>\n",
       "      <td>17.250</td>\n",
       "      <td>87.277438</td>\n",
       "      <td>47.440196</td>\n",
       "      <td>18.001068</td>\n",
       "      <td>54.000153</td>\n",
       "      <td>0.001526</td>\n",
       "      <td>0.001526</td>\n",
       "      <td>54.000153</td>\n",
       "    </tr>\n",
       "    <tr>\n",
       "      <th>508</th>\n",
       "      <td>20.05</td>\n",
       "      <td>15.001144</td>\n",
       "      <td>6.20</td>\n",
       "      <td>24.000</td>\n",
       "      <td>45.354444</td>\n",
       "      <td>23.314821</td>\n",
       "      <td>8.799878</td>\n",
       "      <td>26.396582</td>\n",
       "      <td>0.001526</td>\n",
       "      <td>0.001526</td>\n",
       "      <td>26.396582</td>\n",
       "    </tr>\n",
       "  </tbody>\n",
       "</table>\n",
       "</div>"
      ],
      "text/plain": [
       "     TimeStamp  Reference  Position   Speed    Current    Voltage      Error  \\\n",
       "504      20.01  15.001144    -15.38   0.000   0.466355  80.804956  30.379187   \n",
       "505      20.02  15.001144    -14.08   1.875  94.327456  76.778094  29.079118   \n",
       "506      20.03  15.001144     -9.96   9.500  94.327456  65.980060  24.959182   \n",
       "507      20.04  15.001144     -3.00  17.250  87.277438  47.440196  18.001068   \n",
       "508      20.05  15.001144      6.20  24.000  45.354444  23.314821   8.799878   \n",
       "\n",
       "     Kp x Error  Error Sum / Ti  Td x Delta Err.  PID Output  \n",
       "504   91.134508        0.001526         0.001526   91.134508  \n",
       "505   87.234302        0.001526         0.001526   87.234302  \n",
       "506   74.874495        0.001526         0.001526   74.874495  \n",
       "507   54.000153        0.001526         0.001526   54.000153  \n",
       "508   26.396582        0.001526         0.001526   26.396582  "
      ]
     },
     "execution_count": 86,
     "metadata": {},
     "output_type": "execute_result"
    }
   ],
   "source": [
    "step7_fil=step7_raw.loc[504:, :]\n",
    "step7_fil.head()"
   ]
  },
  {
   "cell_type": "code",
   "execution_count": 56,
   "metadata": {},
   "outputs": [],
   "source": [
    "step7_fil.reset_index(drop=True, inplace=True)"
   ]
  },
  {
   "cell_type": "code",
   "execution_count": 57,
   "metadata": {},
   "outputs": [
    {
     "data": {
      "text/html": [
       "<div>\n",
       "<style scoped>\n",
       "    .dataframe tbody tr th:only-of-type {\n",
       "        vertical-align: middle;\n",
       "    }\n",
       "\n",
       "    .dataframe tbody tr th {\n",
       "        vertical-align: top;\n",
       "    }\n",
       "\n",
       "    .dataframe thead th {\n",
       "        text-align: right;\n",
       "    }\n",
       "</style>\n",
       "<table border=\"1\" class=\"dataframe\">\n",
       "  <thead>\n",
       "    <tr style=\"text-align: right;\">\n",
       "      <th></th>\n",
       "      <th>TimeStamp</th>\n",
       "      <th>Reference</th>\n",
       "      <th>Position</th>\n",
       "      <th>Speed</th>\n",
       "      <th>Current</th>\n",
       "      <th>Voltage</th>\n",
       "      <th>Error</th>\n",
       "      <th>Kp x Error</th>\n",
       "      <th>Error Sum / Ti</th>\n",
       "      <th>Td x Delta Err.</th>\n",
       "      <th>PID Output</th>\n",
       "    </tr>\n",
       "  </thead>\n",
       "  <tbody>\n",
       "    <tr>\n",
       "      <th>0</th>\n",
       "      <td>20.01</td>\n",
       "      <td>15.001144</td>\n",
       "      <td>-15.38</td>\n",
       "      <td>0.000</td>\n",
       "      <td>0.466355</td>\n",
       "      <td>80.804956</td>\n",
       "      <td>30.379187</td>\n",
       "      <td>91.134508</td>\n",
       "      <td>0.001526</td>\n",
       "      <td>0.001526</td>\n",
       "      <td>91.134508</td>\n",
       "    </tr>\n",
       "    <tr>\n",
       "      <th>1</th>\n",
       "      <td>20.02</td>\n",
       "      <td>15.001144</td>\n",
       "      <td>-14.08</td>\n",
       "      <td>1.875</td>\n",
       "      <td>94.327456</td>\n",
       "      <td>76.778094</td>\n",
       "      <td>29.079118</td>\n",
       "      <td>87.234302</td>\n",
       "      <td>0.001526</td>\n",
       "      <td>0.001526</td>\n",
       "      <td>87.234302</td>\n",
       "    </tr>\n",
       "    <tr>\n",
       "      <th>2</th>\n",
       "      <td>20.03</td>\n",
       "      <td>15.001144</td>\n",
       "      <td>-9.96</td>\n",
       "      <td>9.500</td>\n",
       "      <td>94.327456</td>\n",
       "      <td>65.980060</td>\n",
       "      <td>24.959182</td>\n",
       "      <td>74.874495</td>\n",
       "      <td>0.001526</td>\n",
       "      <td>0.001526</td>\n",
       "      <td>74.874495</td>\n",
       "    </tr>\n",
       "    <tr>\n",
       "      <th>3</th>\n",
       "      <td>20.04</td>\n",
       "      <td>15.001144</td>\n",
       "      <td>-3.00</td>\n",
       "      <td>17.250</td>\n",
       "      <td>87.277438</td>\n",
       "      <td>47.440196</td>\n",
       "      <td>18.001068</td>\n",
       "      <td>54.000153</td>\n",
       "      <td>0.001526</td>\n",
       "      <td>0.001526</td>\n",
       "      <td>54.000153</td>\n",
       "    </tr>\n",
       "    <tr>\n",
       "      <th>4</th>\n",
       "      <td>20.05</td>\n",
       "      <td>15.001144</td>\n",
       "      <td>6.20</td>\n",
       "      <td>24.000</td>\n",
       "      <td>45.354444</td>\n",
       "      <td>23.314821</td>\n",
       "      <td>8.799878</td>\n",
       "      <td>26.396582</td>\n",
       "      <td>0.001526</td>\n",
       "      <td>0.001526</td>\n",
       "      <td>26.396582</td>\n",
       "    </tr>\n",
       "  </tbody>\n",
       "</table>\n",
       "</div>"
      ],
      "text/plain": [
       "   TimeStamp  Reference  Position   Speed    Current    Voltage      Error  \\\n",
       "0      20.01  15.001144    -15.38   0.000   0.466355  80.804956  30.379187   \n",
       "1      20.02  15.001144    -14.08   1.875  94.327456  76.778094  29.079118   \n",
       "2      20.03  15.001144     -9.96   9.500  94.327456  65.980060  24.959182   \n",
       "3      20.04  15.001144     -3.00  17.250  87.277438  47.440196  18.001068   \n",
       "4      20.05  15.001144      6.20  24.000  45.354444  23.314821   8.799878   \n",
       "\n",
       "   Kp x Error  Error Sum / Ti  Td x Delta Err.  PID Output  \n",
       "0   91.134508        0.001526         0.001526   91.134508  \n",
       "1   87.234302        0.001526         0.001526   87.234302  \n",
       "2   74.874495        0.001526         0.001526   74.874495  \n",
       "3   54.000153        0.001526         0.001526   54.000153  \n",
       "4   26.396582        0.001526         0.001526   26.396582  "
      ]
     },
     "execution_count": 57,
     "metadata": {},
     "output_type": "execute_result"
    }
   ],
   "source": [
    "step7_fil.head()"
   ]
  },
  {
   "cell_type": "code",
   "execution_count": 58,
   "metadata": {},
   "outputs": [
    {
     "name": "stderr",
     "output_type": "stream",
     "text": [
      "<ipython-input-58-42a1cdd1d119>:1: SettingWithCopyWarning: \n",
      "A value is trying to be set on a copy of a slice from a DataFrame.\n",
      "Try using .loc[row_indexer,col_indexer] = value instead\n",
      "\n",
      "See the caveats in the documentation: https://pandas.pydata.org/pandas-docs/stable/user_guide/indexing.html#returning-a-view-versus-a-copy\n",
      "  step7_fil[\"TimeShift\"]=step7_fil.TimeStamp-step7_fil.TimeStamp[0]\n"
     ]
    }
   ],
   "source": [
    "step7_fil[\"TimeShift\"]=step7_fil.TimeStamp-step7_fil.TimeStamp[0]"
   ]
  },
  {
   "cell_type": "code",
   "execution_count": 59,
   "metadata": {},
   "outputs": [
    {
     "data": {
      "text/html": [
       "<div>\n",
       "<style scoped>\n",
       "    .dataframe tbody tr th:only-of-type {\n",
       "        vertical-align: middle;\n",
       "    }\n",
       "\n",
       "    .dataframe tbody tr th {\n",
       "        vertical-align: top;\n",
       "    }\n",
       "\n",
       "    .dataframe thead th {\n",
       "        text-align: right;\n",
       "    }\n",
       "</style>\n",
       "<table border=\"1\" class=\"dataframe\">\n",
       "  <thead>\n",
       "    <tr style=\"text-align: right;\">\n",
       "      <th></th>\n",
       "      <th>TimeStamp</th>\n",
       "      <th>Reference</th>\n",
       "      <th>Position</th>\n",
       "      <th>Speed</th>\n",
       "      <th>Current</th>\n",
       "      <th>Voltage</th>\n",
       "      <th>Error</th>\n",
       "      <th>Kp x Error</th>\n",
       "      <th>Error Sum / Ti</th>\n",
       "      <th>Td x Delta Err.</th>\n",
       "      <th>PID Output</th>\n",
       "      <th>TimeShift</th>\n",
       "    </tr>\n",
       "  </thead>\n",
       "  <tbody>\n",
       "    <tr>\n",
       "      <th>0</th>\n",
       "      <td>20.01</td>\n",
       "      <td>15.001144</td>\n",
       "      <td>-15.38</td>\n",
       "      <td>0.000</td>\n",
       "      <td>0.466355</td>\n",
       "      <td>80.804956</td>\n",
       "      <td>30.379187</td>\n",
       "      <td>91.134508</td>\n",
       "      <td>0.001526</td>\n",
       "      <td>0.001526</td>\n",
       "      <td>91.134508</td>\n",
       "      <td>0.00</td>\n",
       "    </tr>\n",
       "    <tr>\n",
       "      <th>1</th>\n",
       "      <td>20.02</td>\n",
       "      <td>15.001144</td>\n",
       "      <td>-14.08</td>\n",
       "      <td>1.875</td>\n",
       "      <td>94.327456</td>\n",
       "      <td>76.778094</td>\n",
       "      <td>29.079118</td>\n",
       "      <td>87.234302</td>\n",
       "      <td>0.001526</td>\n",
       "      <td>0.001526</td>\n",
       "      <td>87.234302</td>\n",
       "      <td>0.01</td>\n",
       "    </tr>\n",
       "    <tr>\n",
       "      <th>2</th>\n",
       "      <td>20.03</td>\n",
       "      <td>15.001144</td>\n",
       "      <td>-9.96</td>\n",
       "      <td>9.500</td>\n",
       "      <td>94.327456</td>\n",
       "      <td>65.980060</td>\n",
       "      <td>24.959182</td>\n",
       "      <td>74.874495</td>\n",
       "      <td>0.001526</td>\n",
       "      <td>0.001526</td>\n",
       "      <td>74.874495</td>\n",
       "      <td>0.02</td>\n",
       "    </tr>\n",
       "    <tr>\n",
       "      <th>3</th>\n",
       "      <td>20.04</td>\n",
       "      <td>15.001144</td>\n",
       "      <td>-3.00</td>\n",
       "      <td>17.250</td>\n",
       "      <td>87.277438</td>\n",
       "      <td>47.440196</td>\n",
       "      <td>18.001068</td>\n",
       "      <td>54.000153</td>\n",
       "      <td>0.001526</td>\n",
       "      <td>0.001526</td>\n",
       "      <td>54.000153</td>\n",
       "      <td>0.03</td>\n",
       "    </tr>\n",
       "    <tr>\n",
       "      <th>4</th>\n",
       "      <td>20.05</td>\n",
       "      <td>15.001144</td>\n",
       "      <td>6.20</td>\n",
       "      <td>24.000</td>\n",
       "      <td>45.354444</td>\n",
       "      <td>23.314821</td>\n",
       "      <td>8.799878</td>\n",
       "      <td>26.396582</td>\n",
       "      <td>0.001526</td>\n",
       "      <td>0.001526</td>\n",
       "      <td>26.396582</td>\n",
       "      <td>0.04</td>\n",
       "    </tr>\n",
       "  </tbody>\n",
       "</table>\n",
       "</div>"
      ],
      "text/plain": [
       "   TimeStamp  Reference  Position   Speed    Current    Voltage      Error  \\\n",
       "0      20.01  15.001144    -15.38   0.000   0.466355  80.804956  30.379187   \n",
       "1      20.02  15.001144    -14.08   1.875  94.327456  76.778094  29.079118   \n",
       "2      20.03  15.001144     -9.96   9.500  94.327456  65.980060  24.959182   \n",
       "3      20.04  15.001144     -3.00  17.250  87.277438  47.440196  18.001068   \n",
       "4      20.05  15.001144      6.20  24.000  45.354444  23.314821   8.799878   \n",
       "\n",
       "   Kp x Error  Error Sum / Ti  Td x Delta Err.  PID Output  TimeShift  \n",
       "0   91.134508        0.001526         0.001526   91.134508       0.00  \n",
       "1   87.234302        0.001526         0.001526   87.234302       0.01  \n",
       "2   74.874495        0.001526         0.001526   74.874495       0.02  \n",
       "3   54.000153        0.001526         0.001526   54.000153       0.03  \n",
       "4   26.396582        0.001526         0.001526   26.396582       0.04  "
      ]
     },
     "execution_count": 59,
     "metadata": {},
     "output_type": "execute_result"
    }
   ],
   "source": [
    "step7_fil.head()"
   ]
  },
  {
   "cell_type": "code",
   "execution_count": 60,
   "metadata": {},
   "outputs": [
    {
     "data": {
      "text/html": [
       "<div>\n",
       "<style scoped>\n",
       "    .dataframe tbody tr th:only-of-type {\n",
       "        vertical-align: middle;\n",
       "    }\n",
       "\n",
       "    .dataframe tbody tr th {\n",
       "        vertical-align: top;\n",
       "    }\n",
       "\n",
       "    .dataframe thead th {\n",
       "        text-align: right;\n",
       "    }\n",
       "</style>\n",
       "<table border=\"1\" class=\"dataframe\">\n",
       "  <thead>\n",
       "    <tr style=\"text-align: right;\">\n",
       "      <th></th>\n",
       "      <th>TimeStamp</th>\n",
       "      <th>Reference</th>\n",
       "      <th>Position</th>\n",
       "      <th>Speed</th>\n",
       "      <th>Current</th>\n",
       "      <th>Voltage</th>\n",
       "      <th>Error</th>\n",
       "      <th>Kp x Error</th>\n",
       "      <th>Error Sum / Ti</th>\n",
       "      <th>Td x Delta Err.</th>\n",
       "      <th>PID Output</th>\n",
       "      <th>TimeShift</th>\n",
       "    </tr>\n",
       "  </thead>\n",
       "  <tbody>\n",
       "    <tr>\n",
       "      <th>257</th>\n",
       "      <td>22.47</td>\n",
       "      <td>15.001144</td>\n",
       "      <td>13.82</td>\n",
       "      <td>0.0</td>\n",
       "      <td>1.456639</td>\n",
       "      <td>3.130828</td>\n",
       "      <td>1.179522</td>\n",
       "      <td>3.535515</td>\n",
       "      <td>0.001526</td>\n",
       "      <td>0.001526</td>\n",
       "      <td>3.535515</td>\n",
       "      <td>2.46</td>\n",
       "    </tr>\n",
       "    <tr>\n",
       "      <th>258</th>\n",
       "      <td>22.48</td>\n",
       "      <td>15.001144</td>\n",
       "      <td>13.82</td>\n",
       "      <td>0.0</td>\n",
       "      <td>1.594818</td>\n",
       "      <td>3.135897</td>\n",
       "      <td>1.179522</td>\n",
       "      <td>3.535515</td>\n",
       "      <td>0.001526</td>\n",
       "      <td>0.001526</td>\n",
       "      <td>3.535515</td>\n",
       "      <td>2.47</td>\n",
       "    </tr>\n",
       "    <tr>\n",
       "      <th>259</th>\n",
       "      <td>22.49</td>\n",
       "      <td>15.001144</td>\n",
       "      <td>13.82</td>\n",
       "      <td>0.0</td>\n",
       "      <td>1.479669</td>\n",
       "      <td>3.134871</td>\n",
       "      <td>1.179522</td>\n",
       "      <td>3.535515</td>\n",
       "      <td>0.001526</td>\n",
       "      <td>0.001526</td>\n",
       "      <td>3.535515</td>\n",
       "      <td>2.48</td>\n",
       "    </tr>\n",
       "    <tr>\n",
       "      <th>260</th>\n",
       "      <td>22.50</td>\n",
       "      <td>15.001144</td>\n",
       "      <td>13.82</td>\n",
       "      <td>0.0</td>\n",
       "      <td>1.571788</td>\n",
       "      <td>3.133844</td>\n",
       "      <td>1.179522</td>\n",
       "      <td>3.535515</td>\n",
       "      <td>0.001526</td>\n",
       "      <td>0.001526</td>\n",
       "      <td>3.535515</td>\n",
       "      <td>2.49</td>\n",
       "    </tr>\n",
       "    <tr>\n",
       "      <th>261</th>\n",
       "      <td>22.51</td>\n",
       "      <td>-14.998093</td>\n",
       "      <td>13.82</td>\n",
       "      <td>0.0</td>\n",
       "      <td>1.479669</td>\n",
       "      <td>-76.731986</td>\n",
       "      <td>-28.819715</td>\n",
       "      <td>-86.462196</td>\n",
       "      <td>0.001526</td>\n",
       "      <td>0.001526</td>\n",
       "      <td>-86.462196</td>\n",
       "      <td>2.50</td>\n",
       "    </tr>\n",
       "  </tbody>\n",
       "</table>\n",
       "</div>"
      ],
      "text/plain": [
       "     TimeStamp  Reference  Position  Speed   Current    Voltage      Error  \\\n",
       "257      22.47  15.001144     13.82    0.0  1.456639   3.130828   1.179522   \n",
       "258      22.48  15.001144     13.82    0.0  1.594818   3.135897   1.179522   \n",
       "259      22.49  15.001144     13.82    0.0  1.479669   3.134871   1.179522   \n",
       "260      22.50  15.001144     13.82    0.0  1.571788   3.133844   1.179522   \n",
       "261      22.51 -14.998093     13.82    0.0  1.479669 -76.731986 -28.819715   \n",
       "\n",
       "     Kp x Error  Error Sum / Ti  Td x Delta Err.  PID Output  TimeShift  \n",
       "257    3.535515        0.001526         0.001526    3.535515       2.46  \n",
       "258    3.535515        0.001526         0.001526    3.535515       2.47  \n",
       "259    3.535515        0.001526         0.001526    3.535515       2.48  \n",
       "260    3.535515        0.001526         0.001526    3.535515       2.49  \n",
       "261  -86.462196        0.001526         0.001526  -86.462196       2.50  "
      ]
     },
     "execution_count": 60,
     "metadata": {},
     "output_type": "execute_result"
    }
   ],
   "source": [
    "step7_half_cycle=step7_fil[step7_fil.TimeShift<=period/2]\n",
    "step7_half_cycle.tail()"
   ]
  },
  {
   "cell_type": "code",
   "execution_count": 61,
   "metadata": {},
   "outputs": [
    {
     "data": {
      "text/plain": [
       "[<matplotlib.lines.Line2D at 0xd348928>]"
      ]
     },
     "execution_count": 61,
     "metadata": {},
     "output_type": "execute_result"
    },
    {
     "data": {
      "image/png": "[encoded data removed]",
      "text/plain": [
       "<Figure size 432x288 with 1 Axes>"
      ]
     },
     "metadata": {
      "needs_background": "light"
     },
     "output_type": "display_data"
    }
   ],
   "source": [
    "plt.plot(step7_half_cycle.TimeShift,step7_half_cycle.Reference)"
   ]
  },
  {
   "cell_type": "code",
   "execution_count": 62,
   "metadata": {},
   "outputs": [
    {
     "data": {
      "text/plain": [
       "[<matplotlib.lines.Line2D at 0xdad05b0>]"
      ]
     },
     "execution_count": 62,
     "metadata": {},
     "output_type": "execute_result"
    },
    {
     "data": {
      "image/png": "[encoded data removed]",
      "text/plain": [
       "<Figure size 432x288 with 1 Axes>"
      ]
     },
     "metadata": {
      "needs_background": "light"
     },
     "output_type": "display_data"
    }
   ],
   "source": [
    "plt.plot(step7_half_cycle.TimeShift,step7_half_cycle.Position)"
   ]
  },
  {
   "cell_type": "code",
   "execution_count": 63,
   "metadata": {},
   "outputs": [
    {
     "data": {
      "image/png": "[encoded data removed]",
      "text/plain": [
       "<Figure size 1080x504 with 1 Axes>"
      ]
     },
     "metadata": {
      "needs_background": "light"
     },
     "output_type": "display_data"
    }
   ],
   "source": [
    "font = {'family': 'JetBrains Mono',\n",
    "        'color':  'black',\n",
    "        'weight': 'normal',\n",
    "        'size': 15,\n",
    "        }\n",
    "fig, ax=plt.subplots(figsize=(15,7))\n",
    "ax.plot(step7_half_cycle.TimeShift, step7_half_cycle.Position, color=\"red\", \n",
    "       linewidth=1.5)\n",
    "\n",
    "step7_tex=r\"$f=0.2 Hz$, $A=15\\%$, $K_p=3$\"\n",
    "ax.text(1.5, 30, step7_tex, fontdict=font, color=\"DarkBlue\", fontsize=20)\n",
    "\n",
    "ax.set_facecolor(\"#F8E0C1\")\n",
    "# Move the left and bottom spines to x = 0 and y = 0, respectively.\n",
    "ax.spines[\"left\"].set_position((\"data\", 0))\n",
    "ax.spines[\"bottom\"].set_position((\"data\", 0))\n",
    "# Hide the top and right spines.\n",
    "ax.spines[\"top\"].set_visible(False)\n",
    "ax.spines[\"right\"].set_visible(False)\n",
    "\n",
    "ax.plot(1, 0, \">k\", ms=12, transform=ax.get_yaxis_transform(), clip_on=False)\n",
    "ax.plot(0, 1, \"^k\", ms=12, transform=ax.get_xaxis_transform(), clip_on=False)\n",
    "ax.set_xlabel(xlabel=\"Time\", fontsize=15)\n",
    "ax.set_ylabel(ylabel=\"Position(%)\", rotation=\"horizontal\", fontsize=15)\n",
    "ax.yaxis.set_label_coords(0.06,1.04)\n",
    "ax.xaxis.set_label_coords(1.08,0.3)\n",
    "ax.tick_params(axis=\"both\", which=\"major\", labelsize=15)"
   ]
  },
  {
   "cell_type": "markdown",
   "metadata": {},
   "source": [
    "### Step 11\n",
    "#### Read dataset"
   ]
  },
  {
   "cell_type": "code",
   "execution_count": 87,
   "metadata": {},
   "outputs": [
    {
     "data": {
      "text/html": [
       "<div>\n",
       "<style scoped>\n",
       "    .dataframe tbody tr th:only-of-type {\n",
       "        vertical-align: middle;\n",
       "    }\n",
       "\n",
       "    .dataframe tbody tr th {\n",
       "        vertical-align: top;\n",
       "    }\n",
       "\n",
       "    .dataframe thead th {\n",
       "        text-align: right;\n",
       "    }\n",
       "</style>\n",
       "<table border=\"1\" class=\"dataframe\">\n",
       "  <thead>\n",
       "    <tr style=\"text-align: right;\">\n",
       "      <th></th>\n",
       "      <th>TimeStamp</th>\n",
       "      <th>Reference</th>\n",
       "      <th>Position</th>\n",
       "      <th>Speed</th>\n",
       "      <th>Current</th>\n",
       "      <th>Voltage</th>\n",
       "      <th>Error</th>\n",
       "      <th>Kp x Error</th>\n",
       "      <th>Error Sum / Ti</th>\n",
       "      <th>Td x Delta Err.</th>\n",
       "      <th>PID Output</th>\n",
       "    </tr>\n",
       "  </thead>\n",
       "  <tbody>\n",
       "    <tr>\n",
       "      <th>0</th>\n",
       "      <td>1.21</td>\n",
       "      <td>9.999237</td>\n",
       "      <td>6.76</td>\n",
       "      <td>0.0</td>\n",
       "      <td>1.318460</td>\n",
       "      <td>2.844566</td>\n",
       "      <td>3.236439</td>\n",
       "      <td>3.236439</td>\n",
       "      <td>0.001526</td>\n",
       "      <td>0.001526</td>\n",
       "      <td>3.236439</td>\n",
       "    </tr>\n",
       "    <tr>\n",
       "      <th>1</th>\n",
       "      <td>1.22</td>\n",
       "      <td>9.999237</td>\n",
       "      <td>6.76</td>\n",
       "      <td>0.0</td>\n",
       "      <td>1.341490</td>\n",
       "      <td>2.846430</td>\n",
       "      <td>3.236439</td>\n",
       "      <td>3.236439</td>\n",
       "      <td>0.001526</td>\n",
       "      <td>0.001526</td>\n",
       "      <td>3.236439</td>\n",
       "    </tr>\n",
       "    <tr>\n",
       "      <th>2</th>\n",
       "      <td>1.23</td>\n",
       "      <td>9.999237</td>\n",
       "      <td>6.76</td>\n",
       "      <td>0.0</td>\n",
       "      <td>1.272400</td>\n",
       "      <td>2.846430</td>\n",
       "      <td>3.236439</td>\n",
       "      <td>3.236439</td>\n",
       "      <td>0.001526</td>\n",
       "      <td>0.001526</td>\n",
       "      <td>3.236439</td>\n",
       "    </tr>\n",
       "    <tr>\n",
       "      <th>3</th>\n",
       "      <td>1.24</td>\n",
       "      <td>9.999237</td>\n",
       "      <td>6.76</td>\n",
       "      <td>0.0</td>\n",
       "      <td>1.407701</td>\n",
       "      <td>2.846430</td>\n",
       "      <td>3.236439</td>\n",
       "      <td>3.236439</td>\n",
       "      <td>0.001526</td>\n",
       "      <td>0.001526</td>\n",
       "      <td>3.236439</td>\n",
       "    </tr>\n",
       "    <tr>\n",
       "      <th>4</th>\n",
       "      <td>1.25</td>\n",
       "      <td>9.999237</td>\n",
       "      <td>6.76</td>\n",
       "      <td>0.0</td>\n",
       "      <td>1.318460</td>\n",
       "      <td>2.845498</td>\n",
       "      <td>3.236439</td>\n",
       "      <td>3.236439</td>\n",
       "      <td>0.001526</td>\n",
       "      <td>0.001526</td>\n",
       "      <td>3.236439</td>\n",
       "    </tr>\n",
       "  </tbody>\n",
       "</table>\n",
       "</div>"
      ],
      "text/plain": [
       "   TimeStamp  Reference  Position  Speed   Current   Voltage     Error  \\\n",
       "0       1.21   9.999237      6.76    0.0  1.318460  2.844566  3.236439   \n",
       "1       1.22   9.999237      6.76    0.0  1.341490  2.846430  3.236439   \n",
       "2       1.23   9.999237      6.76    0.0  1.272400  2.846430  3.236439   \n",
       "3       1.24   9.999237      6.76    0.0  1.407701  2.846430  3.236439   \n",
       "4       1.25   9.999237      6.76    0.0  1.318460  2.845498  3.236439   \n",
       "\n",
       "   Kp x Error  Error Sum / Ti  Td x Delta Err.  PID Output  \n",
       "0    3.236439        0.001526         0.001526    3.236439  \n",
       "1    3.236439        0.001526         0.001526    3.236439  \n",
       "2    3.236439        0.001526         0.001526    3.236439  \n",
       "3    3.236439        0.001526         0.001526    3.236439  \n",
       "4    3.236439        0.001526         0.001526    3.236439  "
      ]
     },
     "execution_count": 87,
     "metadata": {},
     "output_type": "execute_result"
    }
   ],
   "source": [
    "step11_raw=pd.read_csv(\"D:\\Extra Knowledge\\HP-NPC\\dataset/exp6-step11-group-4.csv\")\n",
    "step11_raw.head()"
   ]
  },
  {
   "cell_type": "code",
   "execution_count": 88,
   "metadata": {},
   "outputs": [],
   "source": [
    "step11_raw[\"TimeShift\"]=step11_raw.TimeStamp-step11_raw.TimeStamp[0]"
   ]
  },
  {
   "cell_type": "code",
   "execution_count": 89,
   "metadata": {},
   "outputs": [
    {
     "data": {
      "text/plain": [
       "[<matplotlib.lines.Line2D at 0xd908b08>]"
      ]
     },
     "execution_count": 89,
     "metadata": {},
     "output_type": "execute_result"
    },
    {
     "data": {
      "image/png": "[encoded data removed]",
      "text/plain": [
       "<Figure size 432x288 with 1 Axes>"
      ]
     },
     "metadata": {
      "needs_background": "light"
     },
     "output_type": "display_data"
    }
   ],
   "source": [
    "plt.plot(step11_raw.TimeShift, step11_raw.Reference)"
   ]
  },
  {
   "cell_type": "code",
   "execution_count": 90,
   "metadata": {},
   "outputs": [
    {
     "data": {
      "text/plain": [
       "<matplotlib.legend.Legend at 0xdb29df0>"
      ]
     },
     "execution_count": 90,
     "metadata": {},
     "output_type": "execute_result"
    },
    {
     "data": {
      "image/png": "[encoded data removed]",
      "text/plain": [
       "<Figure size 1080x504 with 1 Axes>"
      ]
     },
     "metadata": {
      "needs_background": "light"
     },
     "output_type": "display_data"
    }
   ],
   "source": [
    "#plt.plot(step11_raw.TimeStamp, step11_raw.Position)\n",
    "font = {'family': 'JetBrains Mono',\n",
    "        'color':  'black',\n",
    "        'weight': 'normal',\n",
    "        'size': 15,\n",
    "        }\n",
    "fig, ax=plt.subplots(figsize=(15,7))\n",
    "ax.plot(step11_raw.TimeShift, step11_raw.Reference, color=\"DarkBlue\", \n",
    "       linewidth=1.5, \n",
    "       label=\"Reference\")\n",
    "ax.plot(step11_raw.TimeShift, step11_raw.Position, color=\"red\", \n",
    "       linewidth=1.5, \n",
    "       label=\"Position(%)\")\n",
    "\n",
    "step11_tex=r\"$f=0.10 Hz$, $A=10\\%$, $K_p=1.0$\"\n",
    "ax.text(4.5, 12, step11_tex, fontdict=font, fontsize=20)\n",
    "\n",
    "ax.set_facecolor(\"#F8E0C1\")\n",
    "# Move the left and bottom spines to x = 0 and y = 0, respectively.\n",
    "ax.spines[\"left\"].set_position((\"data\", 0))\n",
    "ax.spines[\"bottom\"].set_position((\"data\", 0))\n",
    "# Hide the top and right spines.\n",
    "ax.spines[\"top\"].set_visible(False)\n",
    "ax.spines[\"right\"].set_visible(False)\n",
    "\n",
    "ax.plot(1, 0, \">k\", ms=12, transform=ax.get_yaxis_transform(), clip_on=False)\n",
    "ax.plot(0, 1, \"^k\", ms=12, transform=ax.get_xaxis_transform(), clip_on=False)\n",
    "ax.set_xlabel(xlabel=\"Time\", fontsize=15)\n",
    "ax.set_ylabel(ylabel=\"Position(%)\", rotation=\"horizontal\", fontsize=15)\n",
    "ax.yaxis.set_label_coords(0.06,1.04)\n",
    "ax.xaxis.set_label_coords(1.04,0.45)\n",
    "ax.tick_params(axis=\"both\", which=\"major\", labelsize=15)\n",
    "plt.legend(frameon=False, fontsize=15)"
   ]
  },
  {
   "cell_type": "markdown",
   "metadata": {},
   "source": [
    "### Step 13\n",
    "#### Read dataset"
   ]
  },
  {
   "cell_type": "code",
   "execution_count": 68,
   "metadata": {},
   "outputs": [
    {
     "data": {
      "text/html": [
       "<div>\n",
       "<style scoped>\n",
       "    .dataframe tbody tr th:only-of-type {\n",
       "        vertical-align: middle;\n",
       "    }\n",
       "\n",
       "    .dataframe tbody tr th {\n",
       "        vertical-align: top;\n",
       "    }\n",
       "\n",
       "    .dataframe thead th {\n",
       "        text-align: right;\n",
       "    }\n",
       "</style>\n",
       "<table border=\"1\" class=\"dataframe\">\n",
       "  <thead>\n",
       "    <tr style=\"text-align: right;\">\n",
       "      <th></th>\n",
       "      <th>TimeStamp</th>\n",
       "      <th>Reference</th>\n",
       "      <th>Position</th>\n",
       "      <th>Speed</th>\n",
       "      <th>Current</th>\n",
       "      <th>Voltage</th>\n",
       "      <th>Error</th>\n",
       "      <th>Kp x Error</th>\n",
       "      <th>Error Sum / Ti</th>\n",
       "      <th>Td x Delta Err.</th>\n",
       "      <th>PID Output</th>\n",
       "    </tr>\n",
       "  </thead>\n",
       "  <tbody>\n",
       "    <tr>\n",
       "      <th>0</th>\n",
       "      <td>1.95</td>\n",
       "      <td>9.999237</td>\n",
       "      <td>8.52</td>\n",
       "      <td>0.0</td>\n",
       "      <td>0.955739</td>\n",
       "      <td>2.263829</td>\n",
       "      <td>1.478599</td>\n",
       "      <td>2.586404</td>\n",
       "      <td>0.001526</td>\n",
       "      <td>0.001526</td>\n",
       "      <td>2.586404</td>\n",
       "    </tr>\n",
       "    <tr>\n",
       "      <th>1</th>\n",
       "      <td>1.96</td>\n",
       "      <td>9.999237</td>\n",
       "      <td>8.52</td>\n",
       "      <td>0.0</td>\n",
       "      <td>0.998920</td>\n",
       "      <td>2.265268</td>\n",
       "      <td>1.478599</td>\n",
       "      <td>2.586404</td>\n",
       "      <td>0.001526</td>\n",
       "      <td>0.001526</td>\n",
       "      <td>2.586404</td>\n",
       "    </tr>\n",
       "    <tr>\n",
       "      <th>2</th>\n",
       "      <td>1.97</td>\n",
       "      <td>9.999237</td>\n",
       "      <td>8.52</td>\n",
       "      <td>0.0</td>\n",
       "      <td>1.001799</td>\n",
       "      <td>2.263829</td>\n",
       "      <td>1.478599</td>\n",
       "      <td>2.586404</td>\n",
       "      <td>0.001526</td>\n",
       "      <td>0.001526</td>\n",
       "      <td>2.586404</td>\n",
       "    </tr>\n",
       "    <tr>\n",
       "      <th>3</th>\n",
       "      <td>1.98</td>\n",
       "      <td>9.999237</td>\n",
       "      <td>8.52</td>\n",
       "      <td>0.0</td>\n",
       "      <td>0.955739</td>\n",
       "      <td>2.263829</td>\n",
       "      <td>1.478599</td>\n",
       "      <td>2.586404</td>\n",
       "      <td>0.001526</td>\n",
       "      <td>0.001526</td>\n",
       "      <td>2.586404</td>\n",
       "    </tr>\n",
       "    <tr>\n",
       "      <th>4</th>\n",
       "      <td>1.99</td>\n",
       "      <td>9.999237</td>\n",
       "      <td>8.52</td>\n",
       "      <td>0.0</td>\n",
       "      <td>0.998920</td>\n",
       "      <td>2.263829</td>\n",
       "      <td>1.478599</td>\n",
       "      <td>2.586404</td>\n",
       "      <td>0.001526</td>\n",
       "      <td>0.001526</td>\n",
       "      <td>2.586404</td>\n",
       "    </tr>\n",
       "  </tbody>\n",
       "</table>\n",
       "</div>"
      ],
      "text/plain": [
       "   TimeStamp  Reference  Position  Speed   Current   Voltage     Error  \\\n",
       "0       1.95   9.999237      8.52    0.0  0.955739  2.263829  1.478599   \n",
       "1       1.96   9.999237      8.52    0.0  0.998920  2.265268  1.478599   \n",
       "2       1.97   9.999237      8.52    0.0  1.001799  2.263829  1.478599   \n",
       "3       1.98   9.999237      8.52    0.0  0.955739  2.263829  1.478599   \n",
       "4       1.99   9.999237      8.52    0.0  0.998920  2.263829  1.478599   \n",
       "\n",
       "   Kp x Error  Error Sum / Ti  Td x Delta Err.  PID Output  \n",
       "0    2.586404        0.001526         0.001526    2.586404  \n",
       "1    2.586404        0.001526         0.001526    2.586404  \n",
       "2    2.586404        0.001526         0.001526    2.586404  \n",
       "3    2.586404        0.001526         0.001526    2.586404  \n",
       "4    2.586404        0.001526         0.001526    2.586404  "
      ]
     },
     "execution_count": 68,
     "metadata": {},
     "output_type": "execute_result"
    }
   ],
   "source": [
    "step13_raw=pd.read_csv(\"D:\\Extra Knowledge\\HP-NPC\\dataset/exp6-step13-group-3.csv\")\n",
    "step13_raw.head()"
   ]
  },
  {
   "cell_type": "code",
   "execution_count": 69,
   "metadata": {},
   "outputs": [],
   "source": [
    "step13_raw[\"TimeShift\"]=step13_raw.TimeStamp-step13_raw.TimeStamp[0]"
   ]
  },
  {
   "cell_type": "code",
   "execution_count": 70,
   "metadata": {},
   "outputs": [
    {
     "data": {
      "text/plain": [
       "[<matplotlib.lines.Line2D at 0xd4fead8>]"
      ]
     },
     "execution_count": 70,
     "metadata": {},
     "output_type": "execute_result"
    },
    {
     "data": {
      "image/png": "[encoded data removed]",
      "text/plain": [
       "<Figure size 432x288 with 1 Axes>"
      ]
     },
     "metadata": {
      "needs_background": "light"
     },
     "output_type": "display_data"
    }
   ],
   "source": [
    "plt.plot(step13_raw.TimeShift, step13_raw.Reference)"
   ]
  },
  {
   "cell_type": "code",
   "execution_count": 71,
   "metadata": {},
   "outputs": [
    {
     "data": {
      "text/plain": [
       "<matplotlib.legend.Legend at 0xd549af0>"
      ]
     },
     "execution_count": 71,
     "metadata": {},
     "output_type": "execute_result"
    },
    {
     "data": {
      "image/png": "[encoded data removed]",
      "text/plain": [
       "<Figure size 1080x504 with 1 Axes>"
      ]
     },
     "metadata": {
      "needs_background": "light"
     },
     "output_type": "display_data"
    }
   ],
   "source": [
    "font = {'family': 'JetBrains Mono',\n",
    "        'color':  'black',\n",
    "        'weight': 'normal',\n",
    "        'size': 15,\n",
    "        }\n",
    "fig, ax=plt.subplots(figsize=(15,7))\n",
    "ax.plot(step13_raw.TimeShift, step13_raw.Reference, color=\"DarkBlue\", \n",
    "       linewidth=1.5, \n",
    "       label=\"Reference\")\n",
    "ax.plot(step13_raw.TimeShift, step13_raw.Position, color=\"red\", \n",
    "       linewidth=1.5, \n",
    "       label=\"Position(%)\")\n",
    "\n",
    "step13_tex=r\"$f=0.10 Hz$, $A=10\\%$, $K_p=1.75$\"\n",
    "ax.text(0.5, -15, step13_tex, fontdict=font, fontsize=20)\n",
    "\n",
    "ax.set_facecolor(\"#F8E0C1\")\n",
    "# Move the left and bottom spines to x = 0 and y = 0, respectively.\n",
    "ax.spines[\"left\"].set_position((\"data\", 0))\n",
    "ax.spines[\"bottom\"].set_position((\"data\", 0))\n",
    "# Hide the top and right spines.\n",
    "ax.spines[\"top\"].set_visible(False)\n",
    "ax.spines[\"right\"].set_visible(False)\n",
    "\n",
    "ax.plot(1, 0, \">k\", ms=12, transform=ax.get_yaxis_transform(), clip_on=False)\n",
    "ax.plot(0, 1, \"^k\", ms=12, transform=ax.get_xaxis_transform(), clip_on=False)\n",
    "ax.set_xlabel(xlabel=\"Time\", fontsize=15)\n",
    "ax.set_ylabel(ylabel=\"Position(%)\", rotation=\"horizontal\", fontsize=15)\n",
    "ax.yaxis.set_label_coords(0.06,1.04)\n",
    "ax.xaxis.set_label_coords(1.08,0.3)\n",
    "ax.tick_params(axis=\"both\", which=\"major\", labelsize=15)\n",
    "plt.legend(frameon=False, fontsize=15)"
   ]
  },
  {
   "cell_type": "markdown",
   "metadata": {},
   "source": [
    "### Step 18\n",
    "#### Read dataset"
   ]
  },
  {
   "cell_type": "code",
   "execution_count": 72,
   "metadata": {},
   "outputs": [
    {
     "data": {
      "text/html": [
       "<div>\n",
       "<style scoped>\n",
       "    .dataframe tbody tr th:only-of-type {\n",
       "        vertical-align: middle;\n",
       "    }\n",
       "\n",
       "    .dataframe tbody tr th {\n",
       "        vertical-align: top;\n",
       "    }\n",
       "\n",
       "    .dataframe thead th {\n",
       "        text-align: right;\n",
       "    }\n",
       "</style>\n",
       "<table border=\"1\" class=\"dataframe\">\n",
       "  <thead>\n",
       "    <tr style=\"text-align: right;\">\n",
       "      <th></th>\n",
       "      <th>TimeStamp</th>\n",
       "      <th>Reference</th>\n",
       "      <th>Position</th>\n",
       "      <th>Speed</th>\n",
       "      <th>Current</th>\n",
       "      <th>Voltage</th>\n",
       "      <th>Error</th>\n",
       "      <th>Kp x Error</th>\n",
       "      <th>Error Sum / Ti</th>\n",
       "      <th>Td x Delta PV</th>\n",
       "      <th>PID Output</th>\n",
       "    </tr>\n",
       "  </thead>\n",
       "  <tbody>\n",
       "    <tr>\n",
       "      <th>0</th>\n",
       "      <td>2.67</td>\n",
       "      <td>-14.998093</td>\n",
       "      <td>-27.30</td>\n",
       "      <td>-6.500</td>\n",
       "      <td>5.458078</td>\n",
       "      <td>6.664147</td>\n",
       "      <td>12.303349</td>\n",
       "      <td>11.070420</td>\n",
       "      <td>-10.832380</td>\n",
       "      <td>7.020676</td>\n",
       "      <td>7.255665</td>\n",
       "    </tr>\n",
       "    <tr>\n",
       "      <th>1</th>\n",
       "      <td>2.68</td>\n",
       "      <td>-14.998093</td>\n",
       "      <td>-29.64</td>\n",
       "      <td>-5.750</td>\n",
       "      <td>7.907881</td>\n",
       "      <td>8.852374</td>\n",
       "      <td>14.641032</td>\n",
       "      <td>13.176165</td>\n",
       "      <td>-9.797818</td>\n",
       "      <td>6.312657</td>\n",
       "      <td>9.687953</td>\n",
       "    </tr>\n",
       "    <tr>\n",
       "      <th>2</th>\n",
       "      <td>2.69</td>\n",
       "      <td>-14.998093</td>\n",
       "      <td>-31.66</td>\n",
       "      <td>-4.875</td>\n",
       "      <td>12.505218</td>\n",
       "      <td>10.831341</td>\n",
       "      <td>16.661326</td>\n",
       "      <td>14.995041</td>\n",
       "      <td>-8.592355</td>\n",
       "      <td>5.455100</td>\n",
       "      <td>11.854734</td>\n",
       "    </tr>\n",
       "    <tr>\n",
       "      <th>3</th>\n",
       "      <td>2.70</td>\n",
       "      <td>-14.998093</td>\n",
       "      <td>-33.26</td>\n",
       "      <td>-3.625</td>\n",
       "      <td>14.655632</td>\n",
       "      <td>12.321892</td>\n",
       "      <td>18.260472</td>\n",
       "      <td>16.432441</td>\n",
       "      <td>-7.249561</td>\n",
       "      <td>4.316777</td>\n",
       "      <td>13.496605</td>\n",
       "    </tr>\n",
       "    <tr>\n",
       "      <th>4</th>\n",
       "      <td>2.71</td>\n",
       "      <td>-14.998093</td>\n",
       "      <td>-34.40</td>\n",
       "      <td>-2.375</td>\n",
       "      <td>16.031666</td>\n",
       "      <td>13.464649</td>\n",
       "      <td>19.401846</td>\n",
       "      <td>17.460899</td>\n",
       "      <td>-5.803006</td>\n",
       "      <td>3.080797</td>\n",
       "      <td>14.735637</td>\n",
       "    </tr>\n",
       "  </tbody>\n",
       "</table>\n",
       "</div>"
      ],
      "text/plain": [
       "   TimeStamp  Reference  Position  Speed    Current    Voltage      Error  \\\n",
       "0       2.67 -14.998093    -27.30 -6.500   5.458078   6.664147  12.303349   \n",
       "1       2.68 -14.998093    -29.64 -5.750   7.907881   8.852374  14.641032   \n",
       "2       2.69 -14.998093    -31.66 -4.875  12.505218  10.831341  16.661326   \n",
       "3       2.70 -14.998093    -33.26 -3.625  14.655632  12.321892  18.260472   \n",
       "4       2.71 -14.998093    -34.40 -2.375  16.031666  13.464649  19.401846   \n",
       "\n",
       "   Kp x Error  Error Sum / Ti  Td x Delta PV  PID Output  \n",
       "0   11.070420      -10.832380       7.020676    7.255665  \n",
       "1   13.176165       -9.797818       6.312657    9.687953  \n",
       "2   14.995041       -8.592355       5.455100   11.854734  \n",
       "3   16.432441       -7.249561       4.316777   13.496605  \n",
       "4   17.460899       -5.803006       3.080797   14.735637  "
      ]
     },
     "execution_count": 72,
     "metadata": {},
     "output_type": "execute_result"
    }
   ],
   "source": [
    "step18_raw=pd.read_csv(\"D:\\Extra Knowledge\\HP-NPC\\dataset/exp6-step18-group-2.csv\")\n",
    "step18_raw.head()"
   ]
  },
  {
   "cell_type": "code",
   "execution_count": 73,
   "metadata": {},
   "outputs": [
    {
     "data": {
      "text/plain": [
       "[<matplotlib.lines.Line2D at 0xd5d7b68>]"
      ]
     },
     "execution_count": 73,
     "metadata": {},
     "output_type": "execute_result"
    },
    {
     "data": {
      "image/png": "[encoded data removed]",
      "text/plain": [
       "<Figure size 432x288 with 1 Axes>"
      ]
     },
     "metadata": {
      "needs_background": "light"
     },
     "output_type": "display_data"
    }
   ],
   "source": [
    "plt.plot(step18_raw.TimeStamp, step18_raw.Reference)"
   ]
  },
  {
   "cell_type": "code",
   "execution_count": 74,
   "metadata": {},
   "outputs": [
    {
     "data": {
      "text/plain": [
       "[<matplotlib.lines.Line2D at 0xd8e5088>]"
      ]
     },
     "execution_count": 74,
     "metadata": {},
     "output_type": "execute_result"
    },
    {
     "data": {
      "image/png": "[encoded data removed]",
      "text/plain": [
       "<Figure size 432x288 with 1 Axes>"
      ]
     },
     "metadata": {
      "needs_background": "light"
     },
     "output_type": "display_data"
    }
   ],
   "source": [
    "plt.plot(step18_raw.TimeStamp, step18_raw.Position)"
   ]
  },
  {
   "cell_type": "code",
   "execution_count": 75,
   "metadata": {},
   "outputs": [
    {
     "data": {
      "text/html": [
       "<div>\n",
       "<style scoped>\n",
       "    .dataframe tbody tr th:only-of-type {\n",
       "        vertical-align: middle;\n",
       "    }\n",
       "\n",
       "    .dataframe tbody tr th {\n",
       "        vertical-align: top;\n",
       "    }\n",
       "\n",
       "    .dataframe thead th {\n",
       "        text-align: right;\n",
       "    }\n",
       "</style>\n",
       "<table border=\"1\" class=\"dataframe\">\n",
       "  <thead>\n",
       "    <tr style=\"text-align: right;\">\n",
       "      <th></th>\n",
       "      <th>TimeStamp</th>\n",
       "      <th>Reference</th>\n",
       "      <th>Position</th>\n",
       "      <th>Speed</th>\n",
       "      <th>Current</th>\n",
       "      <th>Voltage</th>\n",
       "      <th>Error</th>\n",
       "      <th>Kp x Error</th>\n",
       "      <th>Error Sum / Ti</th>\n",
       "      <th>Td x Delta PV</th>\n",
       "      <th>PID Output</th>\n",
       "    </tr>\n",
       "  </thead>\n",
       "  <tbody>\n",
       "    <tr>\n",
       "      <th>234</th>\n",
       "      <td>5.01</td>\n",
       "      <td>15.001144</td>\n",
       "      <td>-15.42</td>\n",
       "      <td>0.000</td>\n",
       "      <td>2.170565</td>\n",
       "      <td>28.925893</td>\n",
       "      <td>30.421912</td>\n",
       "      <td>27.379263</td>\n",
       "      <td>4.237430</td>\n",
       "      <td>0.001526</td>\n",
       "      <td>31.615167</td>\n",
       "    </tr>\n",
       "    <tr>\n",
       "      <th>235</th>\n",
       "      <td>5.02</td>\n",
       "      <td>15.001144</td>\n",
       "      <td>-14.92</td>\n",
       "      <td>1.250</td>\n",
       "      <td>53.060813</td>\n",
       "      <td>29.252417</td>\n",
       "      <td>29.921416</td>\n",
       "      <td>26.927596</td>\n",
       "      <td>6.556802</td>\n",
       "      <td>-1.347372</td>\n",
       "      <td>32.133974</td>\n",
       "    </tr>\n",
       "    <tr>\n",
       "      <th>236</th>\n",
       "      <td>5.03</td>\n",
       "      <td>15.001144</td>\n",
       "      <td>-13.30</td>\n",
       "      <td>4.375</td>\n",
       "      <td>45.596258</td>\n",
       "      <td>27.240438</td>\n",
       "      <td>28.300908</td>\n",
       "      <td>25.468833</td>\n",
       "      <td>8.796826</td>\n",
       "      <td>-4.371710</td>\n",
       "      <td>29.890898</td>\n",
       "    </tr>\n",
       "    <tr>\n",
       "      <th>237</th>\n",
       "      <td>5.04</td>\n",
       "      <td>15.001144</td>\n",
       "      <td>-10.58</td>\n",
       "      <td>7.375</td>\n",
       "      <td>33.986326</td>\n",
       "      <td>24.250124</td>\n",
       "      <td>25.581750</td>\n",
       "      <td>23.021286</td>\n",
       "      <td>10.869001</td>\n",
       "      <td>-7.338064</td>\n",
       "      <td>26.549172</td>\n",
       "    </tr>\n",
       "    <tr>\n",
       "      <th>238</th>\n",
       "      <td>5.05</td>\n",
       "      <td>15.001144</td>\n",
       "      <td>-7.12</td>\n",
       "      <td>9.500</td>\n",
       "      <td>21.466715</td>\n",
       "      <td>21.245341</td>\n",
       "      <td>22.121004</td>\n",
       "      <td>19.908446</td>\n",
       "      <td>12.703136</td>\n",
       "      <td>-9.340047</td>\n",
       "      <td>23.268482</td>\n",
       "    </tr>\n",
       "  </tbody>\n",
       "</table>\n",
       "</div>"
      ],
      "text/plain": [
       "     TimeStamp  Reference  Position  Speed    Current    Voltage      Error  \\\n",
       "234       5.01  15.001144    -15.42  0.000   2.170565  28.925893  30.421912   \n",
       "235       5.02  15.001144    -14.92  1.250  53.060813  29.252417  29.921416   \n",
       "236       5.03  15.001144    -13.30  4.375  45.596258  27.240438  28.300908   \n",
       "237       5.04  15.001144    -10.58  7.375  33.986326  24.250124  25.581750   \n",
       "238       5.05  15.001144     -7.12  9.500  21.466715  21.245341  22.121004   \n",
       "\n",
       "     Kp x Error  Error Sum / Ti  Td x Delta PV  PID Output  \n",
       "234   27.379263        4.237430       0.001526   31.615167  \n",
       "235   26.927596        6.556802      -1.347372   32.133974  \n",
       "236   25.468833        8.796826      -4.371710   29.890898  \n",
       "237   23.021286       10.869001      -7.338064   26.549172  \n",
       "238   19.908446       12.703136      -9.340047   23.268482  "
      ]
     },
     "execution_count": 75,
     "metadata": {},
     "output_type": "execute_result"
    }
   ],
   "source": [
    "step18_fil=step18_raw.loc[234:, :]\n",
    "step18_fil.head()"
   ]
  },
  {
   "cell_type": "code",
   "execution_count": 76,
   "metadata": {},
   "outputs": [],
   "source": [
    "step18_fil.reset_index(drop=True, inplace=True)"
   ]
  },
  {
   "cell_type": "code",
   "execution_count": 77,
   "metadata": {},
   "outputs": [
    {
     "data": {
      "text/html": [
       "<div>\n",
       "<style scoped>\n",
       "    .dataframe tbody tr th:only-of-type {\n",
       "        vertical-align: middle;\n",
       "    }\n",
       "\n",
       "    .dataframe tbody tr th {\n",
       "        vertical-align: top;\n",
       "    }\n",
       "\n",
       "    .dataframe thead th {\n",
       "        text-align: right;\n",
       "    }\n",
       "</style>\n",
       "<table border=\"1\" class=\"dataframe\">\n",
       "  <thead>\n",
       "    <tr style=\"text-align: right;\">\n",
       "      <th></th>\n",
       "      <th>TimeStamp</th>\n",
       "      <th>Reference</th>\n",
       "      <th>Position</th>\n",
       "      <th>Speed</th>\n",
       "      <th>Current</th>\n",
       "      <th>Voltage</th>\n",
       "      <th>Error</th>\n",
       "      <th>Kp x Error</th>\n",
       "      <th>Error Sum / Ti</th>\n",
       "      <th>Td x Delta PV</th>\n",
       "      <th>PID Output</th>\n",
       "    </tr>\n",
       "  </thead>\n",
       "  <tbody>\n",
       "    <tr>\n",
       "      <th>0</th>\n",
       "      <td>5.01</td>\n",
       "      <td>15.001144</td>\n",
       "      <td>-15.42</td>\n",
       "      <td>0.000</td>\n",
       "      <td>2.170565</td>\n",
       "      <td>28.925893</td>\n",
       "      <td>30.421912</td>\n",
       "      <td>27.379263</td>\n",
       "      <td>4.237430</td>\n",
       "      <td>0.001526</td>\n",
       "      <td>31.615167</td>\n",
       "    </tr>\n",
       "    <tr>\n",
       "      <th>1</th>\n",
       "      <td>5.02</td>\n",
       "      <td>15.001144</td>\n",
       "      <td>-14.92</td>\n",
       "      <td>1.250</td>\n",
       "      <td>53.060813</td>\n",
       "      <td>29.252417</td>\n",
       "      <td>29.921416</td>\n",
       "      <td>26.927596</td>\n",
       "      <td>6.556802</td>\n",
       "      <td>-1.347372</td>\n",
       "      <td>32.133974</td>\n",
       "    </tr>\n",
       "    <tr>\n",
       "      <th>2</th>\n",
       "      <td>5.03</td>\n",
       "      <td>15.001144</td>\n",
       "      <td>-13.30</td>\n",
       "      <td>4.375</td>\n",
       "      <td>45.596258</td>\n",
       "      <td>27.240438</td>\n",
       "      <td>28.300908</td>\n",
       "      <td>25.468833</td>\n",
       "      <td>8.796826</td>\n",
       "      <td>-4.371710</td>\n",
       "      <td>29.890898</td>\n",
       "    </tr>\n",
       "    <tr>\n",
       "      <th>3</th>\n",
       "      <td>5.04</td>\n",
       "      <td>15.001144</td>\n",
       "      <td>-10.58</td>\n",
       "      <td>7.375</td>\n",
       "      <td>33.986326</td>\n",
       "      <td>24.250124</td>\n",
       "      <td>25.581750</td>\n",
       "      <td>23.021286</td>\n",
       "      <td>10.869001</td>\n",
       "      <td>-7.338064</td>\n",
       "      <td>26.549172</td>\n",
       "    </tr>\n",
       "    <tr>\n",
       "      <th>4</th>\n",
       "      <td>5.05</td>\n",
       "      <td>15.001144</td>\n",
       "      <td>-7.12</td>\n",
       "      <td>9.500</td>\n",
       "      <td>21.466715</td>\n",
       "      <td>21.245341</td>\n",
       "      <td>22.121004</td>\n",
       "      <td>19.908446</td>\n",
       "      <td>12.703136</td>\n",
       "      <td>-9.340047</td>\n",
       "      <td>23.268482</td>\n",
       "    </tr>\n",
       "  </tbody>\n",
       "</table>\n",
       "</div>"
      ],
      "text/plain": [
       "   TimeStamp  Reference  Position  Speed    Current    Voltage      Error  \\\n",
       "0       5.01  15.001144    -15.42  0.000   2.170565  28.925893  30.421912   \n",
       "1       5.02  15.001144    -14.92  1.250  53.060813  29.252417  29.921416   \n",
       "2       5.03  15.001144    -13.30  4.375  45.596258  27.240438  28.300908   \n",
       "3       5.04  15.001144    -10.58  7.375  33.986326  24.250124  25.581750   \n",
       "4       5.05  15.001144     -7.12  9.500  21.466715  21.245341  22.121004   \n",
       "\n",
       "   Kp x Error  Error Sum / Ti  Td x Delta PV  PID Output  \n",
       "0   27.379263        4.237430       0.001526   31.615167  \n",
       "1   26.927596        6.556802      -1.347372   32.133974  \n",
       "2   25.468833        8.796826      -4.371710   29.890898  \n",
       "3   23.021286       10.869001      -7.338064   26.549172  \n",
       "4   19.908446       12.703136      -9.340047   23.268482  "
      ]
     },
     "execution_count": 77,
     "metadata": {},
     "output_type": "execute_result"
    }
   ],
   "source": [
    "step18_fil.head()"
   ]
  },
  {
   "cell_type": "code",
   "execution_count": 78,
   "metadata": {},
   "outputs": [
    {
     "name": "stderr",
     "output_type": "stream",
     "text": [
      "<ipython-input-78-9c7d65d61e31>:1: SettingWithCopyWarning: \n",
      "A value is trying to be set on a copy of a slice from a DataFrame.\n",
      "Try using .loc[row_indexer,col_indexer] = value instead\n",
      "\n",
      "See the caveats in the documentation: https://pandas.pydata.org/pandas-docs/stable/user_guide/indexing.html#returning-a-view-versus-a-copy\n",
      "  step18_fil[\"TimeShift\"]=step18_fil.TimeStamp-step18_fil.TimeStamp[0]\n"
     ]
    }
   ],
   "source": [
    "step18_fil[\"TimeShift\"]=step18_fil.TimeStamp-step18_fil.TimeStamp[0]"
   ]
  },
  {
   "cell_type": "code",
   "execution_count": 79,
   "metadata": {},
   "outputs": [
    {
     "data": {
      "text/html": [
       "<div>\n",
       "<style scoped>\n",
       "    .dataframe tbody tr th:only-of-type {\n",
       "        vertical-align: middle;\n",
       "    }\n",
       "\n",
       "    .dataframe tbody tr th {\n",
       "        vertical-align: top;\n",
       "    }\n",
       "\n",
       "    .dataframe thead th {\n",
       "        text-align: right;\n",
       "    }\n",
       "</style>\n",
       "<table border=\"1\" class=\"dataframe\">\n",
       "  <thead>\n",
       "    <tr style=\"text-align: right;\">\n",
       "      <th></th>\n",
       "      <th>TimeStamp</th>\n",
       "      <th>Reference</th>\n",
       "      <th>Position</th>\n",
       "      <th>Speed</th>\n",
       "      <th>Current</th>\n",
       "      <th>Voltage</th>\n",
       "      <th>Error</th>\n",
       "      <th>Kp x Error</th>\n",
       "      <th>Error Sum / Ti</th>\n",
       "      <th>Td x Delta PV</th>\n",
       "      <th>PID Output</th>\n",
       "      <th>TimeShift</th>\n",
       "    </tr>\n",
       "  </thead>\n",
       "  <tbody>\n",
       "    <tr>\n",
       "      <th>0</th>\n",
       "      <td>5.01</td>\n",
       "      <td>15.001144</td>\n",
       "      <td>-15.42</td>\n",
       "      <td>0.000</td>\n",
       "      <td>2.170565</td>\n",
       "      <td>28.925893</td>\n",
       "      <td>30.421912</td>\n",
       "      <td>27.379263</td>\n",
       "      <td>4.237430</td>\n",
       "      <td>0.001526</td>\n",
       "      <td>31.615167</td>\n",
       "      <td>0.00</td>\n",
       "    </tr>\n",
       "    <tr>\n",
       "      <th>1</th>\n",
       "      <td>5.02</td>\n",
       "      <td>15.001144</td>\n",
       "      <td>-14.92</td>\n",
       "      <td>1.250</td>\n",
       "      <td>53.060813</td>\n",
       "      <td>29.252417</td>\n",
       "      <td>29.921416</td>\n",
       "      <td>26.927596</td>\n",
       "      <td>6.556802</td>\n",
       "      <td>-1.347372</td>\n",
       "      <td>32.133974</td>\n",
       "      <td>0.01</td>\n",
       "    </tr>\n",
       "    <tr>\n",
       "      <th>2</th>\n",
       "      <td>5.03</td>\n",
       "      <td>15.001144</td>\n",
       "      <td>-13.30</td>\n",
       "      <td>4.375</td>\n",
       "      <td>45.596258</td>\n",
       "      <td>27.240438</td>\n",
       "      <td>28.300908</td>\n",
       "      <td>25.468833</td>\n",
       "      <td>8.796826</td>\n",
       "      <td>-4.371710</td>\n",
       "      <td>29.890898</td>\n",
       "      <td>0.02</td>\n",
       "    </tr>\n",
       "    <tr>\n",
       "      <th>3</th>\n",
       "      <td>5.04</td>\n",
       "      <td>15.001144</td>\n",
       "      <td>-10.58</td>\n",
       "      <td>7.375</td>\n",
       "      <td>33.986326</td>\n",
       "      <td>24.250124</td>\n",
       "      <td>25.581750</td>\n",
       "      <td>23.021286</td>\n",
       "      <td>10.869001</td>\n",
       "      <td>-7.338064</td>\n",
       "      <td>26.549172</td>\n",
       "      <td>0.03</td>\n",
       "    </tr>\n",
       "    <tr>\n",
       "      <th>4</th>\n",
       "      <td>5.05</td>\n",
       "      <td>15.001144</td>\n",
       "      <td>-7.12</td>\n",
       "      <td>9.500</td>\n",
       "      <td>21.466715</td>\n",
       "      <td>21.245341</td>\n",
       "      <td>22.121004</td>\n",
       "      <td>19.908446</td>\n",
       "      <td>12.703136</td>\n",
       "      <td>-9.340047</td>\n",
       "      <td>23.268482</td>\n",
       "      <td>0.04</td>\n",
       "    </tr>\n",
       "  </tbody>\n",
       "</table>\n",
       "</div>"
      ],
      "text/plain": [
       "   TimeStamp  Reference  Position  Speed    Current    Voltage      Error  \\\n",
       "0       5.01  15.001144    -15.42  0.000   2.170565  28.925893  30.421912   \n",
       "1       5.02  15.001144    -14.92  1.250  53.060813  29.252417  29.921416   \n",
       "2       5.03  15.001144    -13.30  4.375  45.596258  27.240438  28.300908   \n",
       "3       5.04  15.001144    -10.58  7.375  33.986326  24.250124  25.581750   \n",
       "4       5.05  15.001144     -7.12  9.500  21.466715  21.245341  22.121004   \n",
       "\n",
       "   Kp x Error  Error Sum / Ti  Td x Delta PV  PID Output  TimeShift  \n",
       "0   27.379263        4.237430       0.001526   31.615167       0.00  \n",
       "1   26.927596        6.556802      -1.347372   32.133974       0.01  \n",
       "2   25.468833        8.796826      -4.371710   29.890898       0.02  \n",
       "3   23.021286       10.869001      -7.338064   26.549172       0.03  \n",
       "4   19.908446       12.703136      -9.340047   23.268482       0.04  "
      ]
     },
     "execution_count": 79,
     "metadata": {},
     "output_type": "execute_result"
    }
   ],
   "source": [
    "step18_fil.head()"
   ]
  },
  {
   "cell_type": "code",
   "execution_count": 80,
   "metadata": {},
   "outputs": [
    {
     "data": {
      "text/html": [
       "<div>\n",
       "<style scoped>\n",
       "    .dataframe tbody tr th:only-of-type {\n",
       "        vertical-align: middle;\n",
       "    }\n",
       "\n",
       "    .dataframe tbody tr th {\n",
       "        vertical-align: top;\n",
       "    }\n",
       "\n",
       "    .dataframe thead th {\n",
       "        text-align: right;\n",
       "    }\n",
       "</style>\n",
       "<table border=\"1\" class=\"dataframe\">\n",
       "  <thead>\n",
       "    <tr style=\"text-align: right;\">\n",
       "      <th></th>\n",
       "      <th>TimeStamp</th>\n",
       "      <th>Reference</th>\n",
       "      <th>Position</th>\n",
       "      <th>Speed</th>\n",
       "      <th>Current</th>\n",
       "      <th>Voltage</th>\n",
       "      <th>Error</th>\n",
       "      <th>Kp x Error</th>\n",
       "      <th>Error Sum / Ti</th>\n",
       "      <th>Td x Delta PV</th>\n",
       "      <th>PID Output</th>\n",
       "      <th>TimeShift</th>\n",
       "    </tr>\n",
       "  </thead>\n",
       "  <tbody>\n",
       "    <tr>\n",
       "      <th>246</th>\n",
       "      <td>7.47</td>\n",
       "      <td>15.001144</td>\n",
       "      <td>14.36</td>\n",
       "      <td>0.0</td>\n",
       "      <td>-0.002879</td>\n",
       "      <td>-0.397480</td>\n",
       "      <td>0.645457</td>\n",
       "      <td>0.578317</td>\n",
       "      <td>-0.999466</td>\n",
       "      <td>0.001526</td>\n",
       "      <td>-0.422675</td>\n",
       "      <td>2.46</td>\n",
       "    </tr>\n",
       "    <tr>\n",
       "      <th>247</th>\n",
       "      <td>7.48</td>\n",
       "      <td>15.001144</td>\n",
       "      <td>14.36</td>\n",
       "      <td>0.0</td>\n",
       "      <td>0.017272</td>\n",
       "      <td>-0.347795</td>\n",
       "      <td>0.645457</td>\n",
       "      <td>0.578317</td>\n",
       "      <td>-0.950637</td>\n",
       "      <td>0.001526</td>\n",
       "      <td>-0.373846</td>\n",
       "      <td>2.47</td>\n",
       "    </tr>\n",
       "    <tr>\n",
       "      <th>248</th>\n",
       "      <td>7.49</td>\n",
       "      <td>15.001144</td>\n",
       "      <td>14.36</td>\n",
       "      <td>0.0</td>\n",
       "      <td>0.077726</td>\n",
       "      <td>-0.298110</td>\n",
       "      <td>0.645457</td>\n",
       "      <td>0.578317</td>\n",
       "      <td>-0.898756</td>\n",
       "      <td>0.001526</td>\n",
       "      <td>-0.321965</td>\n",
       "      <td>2.48</td>\n",
       "    </tr>\n",
       "    <tr>\n",
       "      <th>249</th>\n",
       "      <td>7.50</td>\n",
       "      <td>15.001144</td>\n",
       "      <td>14.36</td>\n",
       "      <td>0.0</td>\n",
       "      <td>0.118028</td>\n",
       "      <td>-0.248425</td>\n",
       "      <td>0.645457</td>\n",
       "      <td>0.578317</td>\n",
       "      <td>-0.849928</td>\n",
       "      <td>0.001526</td>\n",
       "      <td>-0.273136</td>\n",
       "      <td>2.49</td>\n",
       "    </tr>\n",
       "    <tr>\n",
       "      <th>250</th>\n",
       "      <td>7.51</td>\n",
       "      <td>-14.998093</td>\n",
       "      <td>14.36</td>\n",
       "      <td>0.0</td>\n",
       "      <td>0.077726</td>\n",
       "      <td>-25.935596</td>\n",
       "      <td>-29.353780</td>\n",
       "      <td>-26.417945</td>\n",
       "      <td>-1.954681</td>\n",
       "      <td>0.001526</td>\n",
       "      <td>-28.374151</td>\n",
       "      <td>2.50</td>\n",
       "    </tr>\n",
       "  </tbody>\n",
       "</table>\n",
       "</div>"
      ],
      "text/plain": [
       "     TimeStamp  Reference  Position  Speed   Current    Voltage      Error  \\\n",
       "246       7.47  15.001144     14.36    0.0 -0.002879  -0.397480   0.645457   \n",
       "247       7.48  15.001144     14.36    0.0  0.017272  -0.347795   0.645457   \n",
       "248       7.49  15.001144     14.36    0.0  0.077726  -0.298110   0.645457   \n",
       "249       7.50  15.001144     14.36    0.0  0.118028  -0.248425   0.645457   \n",
       "250       7.51 -14.998093     14.36    0.0  0.077726 -25.935596 -29.353780   \n",
       "\n",
       "     Kp x Error  Error Sum / Ti  Td x Delta PV  PID Output  TimeShift  \n",
       "246    0.578317       -0.999466       0.001526   -0.422675       2.46  \n",
       "247    0.578317       -0.950637       0.001526   -0.373846       2.47  \n",
       "248    0.578317       -0.898756       0.001526   -0.321965       2.48  \n",
       "249    0.578317       -0.849928       0.001526   -0.273136       2.49  \n",
       "250  -26.417945       -1.954681       0.001526  -28.374151       2.50  "
      ]
     },
     "execution_count": 80,
     "metadata": {},
     "output_type": "execute_result"
    }
   ],
   "source": [
    "step18_half_cycle=step18_fil[step18_fil.TimeShift<=period/2]\n",
    "step18_half_cycle.tail()"
   ]
  },
  {
   "cell_type": "code",
   "execution_count": 81,
   "metadata": {},
   "outputs": [
    {
     "data": {
      "text/plain": [
       "<matplotlib.legend.Legend at 0xd8ae298>"
      ]
     },
     "execution_count": 81,
     "metadata": {},
     "output_type": "execute_result"
    },
    {
     "data": {
      "image/png": "[encoded data removed]",
      "text/plain": [
       "<Figure size 1080x504 with 1 Axes>"
      ]
     },
     "metadata": {
      "needs_background": "light"
     },
     "output_type": "display_data"
    }
   ],
   "source": [
    "font = {'family': 'JetBrains Mono',\n",
    "        'color':  'black',\n",
    "        'weight': 'normal',\n",
    "        'size': 15,\n",
    "        }\n",
    "fig, ax=plt.subplots(figsize=(15,7))\n",
    "ax.plot(step18_half_cycle.TimeShift, step18_half_cycle.Reference, color=\"DarkBlue\", \n",
    "        linewidth=1.5, \n",
    "        label=\"Reference\")\n",
    "ax.plot(step18_half_cycle.TimeShift, step18_half_cycle.Position, color=\"red\", \n",
    "        linewidth=1.5, \n",
    "        label=\"Position(%)\")\n",
    "\n",
    "step18_tex=r\"$f=0.2 Hz$, $A=15\\%$, $K_p=0.9$\"\n",
    "ax.text(1.1, 30, step18_tex, fontdict=font, fontsize=20)\n",
    "\n",
    "ax.set_facecolor(\"#F8E0C1\")\n",
    "# Move the left and bottom spines to x = 0 and y = 0, respectively.\n",
    "ax.spines[\"left\"].set_position((\"data\", 0))\n",
    "ax.spines[\"bottom\"].set_position((\"data\", 0))\n",
    "# Hide the top and right spines.\n",
    "ax.spines[\"top\"].set_visible(False)\n",
    "ax.spines[\"right\"].set_visible(False)\n",
    "\n",
    "ax.plot(1, 0, \">k\", ms=12, transform=ax.get_yaxis_transform(), clip_on=False)\n",
    "ax.plot(0, 1, \"^k\", ms=12, transform=ax.get_xaxis_transform(), clip_on=False)\n",
    "ax.set_xlabel(xlabel=\"Time\", fontsize=15)\n",
    "ax.set_ylabel(ylabel=\"Position(%)\", rotation=\"horizontal\", fontsize=15)\n",
    "ax.yaxis.set_label_coords(0.06,1.04)\n",
    "ax.xaxis.set_label_coords(1.08,0.3)\n",
    "ax.tick_params(axis=\"both\", which=\"major\", labelsize=15)\n",
    "plt.legend(frameon=False, fontsize=15)"
   ]
  },
  {
   "cell_type": "markdown",
   "metadata": {},
   "source": [
    "### Step 27\n",
    "#### Read dataset"
   ]
  },
  {
   "cell_type": "code",
   "execution_count": 100,
   "metadata": {},
   "outputs": [
    {
     "data": {
      "text/html": [
       "<div>\n",
       "<style scoped>\n",
       "    .dataframe tbody tr th:only-of-type {\n",
       "        vertical-align: middle;\n",
       "    }\n",
       "\n",
       "    .dataframe tbody tr th {\n",
       "        vertical-align: top;\n",
       "    }\n",
       "\n",
       "    .dataframe thead th {\n",
       "        text-align: right;\n",
       "    }\n",
       "</style>\n",
       "<table border=\"1\" class=\"dataframe\">\n",
       "  <thead>\n",
       "    <tr style=\"text-align: right;\">\n",
       "      <th></th>\n",
       "      <th>TimeStamp</th>\n",
       "      <th>Reference</th>\n",
       "      <th>Position</th>\n",
       "      <th>Speed</th>\n",
       "      <th>Current</th>\n",
       "      <th>Voltage</th>\n",
       "      <th>Error</th>\n",
       "      <th>Kp x Error</th>\n",
       "      <th>Error Sum / Ti</th>\n",
       "      <th>Td x Delta PV</th>\n",
       "      <th>PID Output</th>\n",
       "    </tr>\n",
       "  </thead>\n",
       "  <tbody>\n",
       "    <tr>\n",
       "      <th>0</th>\n",
       "      <td>223.23</td>\n",
       "      <td>0.001526</td>\n",
       "      <td>0.0</td>\n",
       "      <td>0.0</td>\n",
       "      <td>0.028787</td>\n",
       "      <td>0.0</td>\n",
       "      <td>0.001526</td>\n",
       "      <td>0.001526</td>\n",
       "      <td>0.001526</td>\n",
       "      <td>0.001526</td>\n",
       "      <td>0.001526</td>\n",
       "    </tr>\n",
       "    <tr>\n",
       "      <th>1</th>\n",
       "      <td>223.24</td>\n",
       "      <td>0.001526</td>\n",
       "      <td>0.0</td>\n",
       "      <td>0.0</td>\n",
       "      <td>-0.017272</td>\n",
       "      <td>0.0</td>\n",
       "      <td>0.001526</td>\n",
       "      <td>0.001526</td>\n",
       "      <td>0.001526</td>\n",
       "      <td>0.001526</td>\n",
       "      <td>0.001526</td>\n",
       "    </tr>\n",
       "    <tr>\n",
       "      <th>2</th>\n",
       "      <td>223.25</td>\n",
       "      <td>0.001526</td>\n",
       "      <td>0.0</td>\n",
       "      <td>0.0</td>\n",
       "      <td>-0.040302</td>\n",
       "      <td>0.0</td>\n",
       "      <td>0.001526</td>\n",
       "      <td>0.001526</td>\n",
       "      <td>0.001526</td>\n",
       "      <td>0.001526</td>\n",
       "      <td>0.001526</td>\n",
       "    </tr>\n",
       "    <tr>\n",
       "      <th>3</th>\n",
       "      <td>223.26</td>\n",
       "      <td>0.001526</td>\n",
       "      <td>0.0</td>\n",
       "      <td>0.0</td>\n",
       "      <td>-0.040302</td>\n",
       "      <td>0.0</td>\n",
       "      <td>0.001526</td>\n",
       "      <td>0.001526</td>\n",
       "      <td>0.001526</td>\n",
       "      <td>0.001526</td>\n",
       "      <td>0.001526</td>\n",
       "    </tr>\n",
       "    <tr>\n",
       "      <th>4</th>\n",
       "      <td>223.27</td>\n",
       "      <td>0.001526</td>\n",
       "      <td>0.0</td>\n",
       "      <td>0.0</td>\n",
       "      <td>-0.017272</td>\n",
       "      <td>0.0</td>\n",
       "      <td>0.001526</td>\n",
       "      <td>0.001526</td>\n",
       "      <td>0.001526</td>\n",
       "      <td>0.001526</td>\n",
       "      <td>0.001526</td>\n",
       "    </tr>\n",
       "  </tbody>\n",
       "</table>\n",
       "</div>"
      ],
      "text/plain": [
       "   TimeStamp  Reference  Position  Speed   Current  Voltage     Error  \\\n",
       "0     223.23   0.001526       0.0    0.0  0.028787      0.0  0.001526   \n",
       "1     223.24   0.001526       0.0    0.0 -0.017272      0.0  0.001526   \n",
       "2     223.25   0.001526       0.0    0.0 -0.040302      0.0  0.001526   \n",
       "3     223.26   0.001526       0.0    0.0 -0.040302      0.0  0.001526   \n",
       "4     223.27   0.001526       0.0    0.0 -0.017272      0.0  0.001526   \n",
       "\n",
       "   Kp x Error  Error Sum / Ti  Td x Delta PV  PID Output  \n",
       "0    0.001526        0.001526       0.001526    0.001526  \n",
       "1    0.001526        0.001526       0.001526    0.001526  \n",
       "2    0.001526        0.001526       0.001526    0.001526  \n",
       "3    0.001526        0.001526       0.001526    0.001526  \n",
       "4    0.001526        0.001526       0.001526    0.001526  "
      ]
     },
     "execution_count": 100,
     "metadata": {},
     "output_type": "execute_result"
    }
   ],
   "source": [
    "step27_raw=pd.read_csv(\"D:\\Extra Knowledge\\HP-NPC\\dataset/exp6-step27-group-4.csv\")\n",
    "step27_raw.head()"
   ]
  },
  {
   "cell_type": "code",
   "execution_count": 101,
   "metadata": {},
   "outputs": [
    {
     "data": {
      "text/plain": [
       "[<matplotlib.lines.Line2D at 0xe359748>]"
      ]
     },
     "execution_count": 101,
     "metadata": {},
     "output_type": "execute_result"
    },
    {
     "data": {
      "image/png": "[encoded data removed]",
      "text/plain": [
       "<Figure size 432x288 with 1 Axes>"
      ]
     },
     "metadata": {
      "needs_background": "light"
     },
     "output_type": "display_data"
    }
   ],
   "source": [
    "plt.plot(step27_raw.TimeStamp, step27_raw.Reference)"
   ]
  },
  {
   "cell_type": "code",
   "execution_count": 102,
   "metadata": {},
   "outputs": [
    {
     "data": {
      "text/plain": [
       "[<matplotlib.lines.Line2D at 0xe358250>]"
      ]
     },
     "execution_count": 102,
     "metadata": {},
     "output_type": "execute_result"
    },
    {
     "data": {
      "image/png": "[encoded data removed]",
      "text/plain": [
       "<Figure size 432x288 with 1 Axes>"
      ]
     },
     "metadata": {
      "needs_background": "light"
     },
     "output_type": "display_data"
    }
   ],
   "source": [
    "plt.plot(step27_raw.TimeStamp, step27_raw.Position)"
   ]
  },
  {
   "cell_type": "code",
   "execution_count": null,
   "metadata": {},
   "outputs": [],
   "source": []
  }
 ],
 "metadata": {
  "kernelspec": {
   "display_name": "Python 3",
   "language": "python",
   "name": "python3"
  },
  "language_info": {
   "codemirror_mode": {
    "name": "ipython",
    "version": 3
   },
   "file_extension": ".py",
   "mimetype": "text/x-python",
   "name": "python",
   "nbconvert_exporter": "python",
   "pygments_lexer": "ipython3",
   "version": "3.8.2"
  }
 },
 "nbformat": 4,
 "nbformat_minor": 4
}
