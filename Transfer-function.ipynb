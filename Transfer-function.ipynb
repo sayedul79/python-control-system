{
 "cells": [
  {
   "cell_type": "markdown",
   "id": "3d616765",
   "metadata": {
    "slideshow": {
     "slide_type": "slide"
    }
   },
   "source": [
    "### Transfer Function"
   ]
  },
  {
   "cell_type": "markdown",
   "id": "aa30cfee",
   "metadata": {
    "slideshow": {
     "slide_type": "skip"
    }
   },
   "source": [
    "If $c(t)$ is the output response of an LTI system to an input signal\n",
    "$r(t)$, and if $R(s)$ and $C(s)$ are the Laplace transforms of $r(t)$ and\n",
    "$c(t)$, respectively, then the system is said to be characterized by\n",
    "an s-domain transfer function $G(s)$ defined as the ratio of $C(s)$\n",
    "to $R(s)$, provided that all initial conditions of $c(t)$ are zero at\n",
    "$t = 0^-$. That is, $$G(s)=\\dfrac{C(s)}{R(s)}$$\n",
    "<img src=\"https://github.com/sayedul79/python-control-system/blob/main/image/transfer-function-block-1.png?raw=true\">\n",
    "Let us begin by writing a general nth-order, linear, time-invariant differential equation,\n",
    "\n",
    "\n",
    "$$\n",
    "a_n\\dfrac{d^nc(t)}{dt^n}+a_{n-1}\\dfrac{d^{n-1}c(t)}{dt^{n-1}}+....+a_0c(t)=b_m\\dfrac{d^mr(t)}{dt^m}+b_{m-1}\\dfrac{d^{m-1}r(t)}{dt^{m-1}}+....+b_0r(t)\n",
    "$$\n",
    "where $c(t)$ is the output, $r(t)$ is the input\n",
    "\n",
    "Taking the Laplace transform of both sides,\n",
    "$$\n",
    "a_ns^nC(s) + a_{n−1}s^{n−1}C(s) + ⋯ + a_0C(s) + \\text{initial condition terms involving } c (t)= b_ms^mR(s) + b_{m−1}s^{m−1}R(s) + ⋯ + b_0R(s) + \\text{initial condition terms involving } r(t)$$\n",
    "\n",
    "This is a purely algebraic expression. If we assume that all initial conditions are zero, the above equation reduces to\n",
    "$$\n",
    "(a_ns^n + a_{n−1}s^{n−1} + ⋯ + a_0)C(s) = (b_ms^m + b_{m−1}s^{m−1} + ⋯ + b_0) R(s)$$\n",
    "\n",
    "Now form the ratio of the output transform, C(s), divided by the input transform, R(s):\n",
    "$$\n",
    "\\dfrac{C(s)}{R(s)}=G(s)=\\dfrac{b_ms^m + b_{m−1}s^{m−1} + ⋯ + b_0}{a_ns^n + a_{n−1}s^{n−1} + ⋯ + a_0}\n",
    "$$\n",
    "\n",
    "We call this ratio, G(s), the transfer function and evaluate it with zero\n",
    "initial conditions.\n",
    "The transfer function can be represented as a block diagram\n",
    "\n",
    "\n",
    "<img src=\"https://github.com/sayedul79/python-control-system/blob/main/image/transfer-function-block-2.png?raw=true\">\n",
    "\n",
    "\n",
    "Notice that the denominator of the transfer function is identical to the characteristic polynomial of the differential equation. Also, we can find the output, C(s) by using$$C(s) = R(s)G(s)$$\n"
   ]
  },
  {
   "cell_type": "markdown",
   "id": "50a0add9",
   "metadata": {
    "slideshow": {
     "slide_type": "skip"
    }
   },
   "source": [
    "### Example\n",
    "Find the transfer function, G(s) = C(s)/R(s), corresponding to the differential equation \n",
    "$$\n",
    "\\dfrac{d^3c}{dt^3}+3\\dfrac{d^2c}{dt^2}+7\\dfrac{dc}{dt}+5c=\\dfrac{d^2r}{dt^2}+4\\dfrac{dr}{dt}+3r\n",
    "$$\n",
    "By doing Laplace transform\n",
    "\\begin{align*}\n",
    "(s^3+3s^2+7s+5)C(s)=(s^2+4s+3)R(s)\n",
    "\\end{align*}\n",
    "So\n",
    "$$\n",
    "\\dfrac{C(s)}{R(s)}=\\dfrac{s^2+4s+3}{s^3+3s^2+7s+5}\n",
    "$$"
   ]
  },
  {
   "cell_type": "markdown",
   "id": "48459bb6",
   "metadata": {},
   "source": [
    "### Import library"
   ]
  },
  {
   "cell_type": "code",
   "execution_count": 1,
   "id": "68527cb2",
   "metadata": {},
   "outputs": [],
   "source": [
    "import control as co"
   ]
  },
  {
   "cell_type": "markdown",
   "id": "1884cf7c",
   "metadata": {},
   "source": [
    "### Define transfer function"
   ]
  },
  {
   "cell_type": "markdown",
   "id": "def862f7",
   "metadata": {},
   "source": [
    "$$G(s)=\\dfrac{10}{s^2+2s-15}$$"
   ]
  },
  {
   "cell_type": "code",
   "execution_count": 2,
   "id": "954e4b82",
   "metadata": {},
   "outputs": [
    {
     "data": {
      "text/latex": [
       "$$\\frac{10}{s^2 + 2 s - 15}$$"
      ],
      "text/plain": [
       "\n",
       "      10\n",
       "--------------\n",
       "s^2 + 2 s - 15"
      ]
     },
     "execution_count": 2,
     "metadata": {},
     "output_type": "execute_result"
    }
   ],
   "source": [
    "num=[10]\n",
    "den=[1,2,-15]\n",
    "G=co.TransferFunction(num, den)\n",
    "G"
   ]
  },
  {
   "cell_type": "markdown",
   "id": "85f33321",
   "metadata": {},
   "source": [
    "$$G(s)=\\dfrac{s+2}{s^2+9}$$"
   ]
  },
  {
   "cell_type": "code",
   "execution_count": 3,
   "id": "9a3b9740",
   "metadata": {},
   "outputs": [
    {
     "data": {
      "text/latex": [
       "$$\\frac{s + 2}{s^2 + 9}$$"
      ],
      "text/plain": [
       "\n",
       " s + 2\n",
       "-------\n",
       "s^2 + 9"
      ]
     },
     "execution_count": 3,
     "metadata": {},
     "output_type": "execute_result"
    }
   ],
   "source": [
    "num=[1, 2]\n",
    "den=[1, 0, 9]\n",
    "G=co.TransferFunction(num, den)\n",
    "G"
   ]
  },
  {
   "cell_type": "markdown",
   "id": "ab4fcff7",
   "metadata": {
    "slideshow": {
     "slide_type": "skip"
    }
   },
   "source": [
    "$$G(s)=\\dfrac{s+3}{(s+2)(s+3)}$$"
   ]
  },
  {
   "cell_type": "code",
   "execution_count": 4,
   "id": "75adc8a9",
   "metadata": {},
   "outputs": [
    {
     "data": {
      "text/latex": [
       "$$\\frac{s + 3}{s^2 + 5 s + 6}$$"
      ],
      "text/plain": [
       "\n",
       "    s + 3\n",
       "-------------\n",
       "s^2 + 5 s + 6"
      ]
     },
     "execution_count": 4,
     "metadata": {},
     "output_type": "execute_result"
    }
   ],
   "source": [
    "s=co.TransferFunction.s\n",
    "G=(s+3)/((s+2)*(s+3))\n",
    "G"
   ]
  },
  {
   "cell_type": "code",
   "execution_count": 5,
   "metadata": {},
   "outputs": [],
   "source": [
    "s=co.tf(\"s\")"
   ]
  },
  {
   "cell_type": "code",
   "execution_count": null,
   "metadata": {},
   "outputs": [],
   "source": []
  },
  {
   "cell_type": "code",
   "execution_count": null,
   "metadata": {},
   "outputs": [],
   "source": []
  },
  {
   "cell_type": "code",
   "execution_count": null,
   "metadata": {},
   "outputs": [],
   "source": []
  },
  {
   "cell_type": "code",
   "execution_count": null,
   "metadata": {},
   "outputs": [],
   "source": []
  },
  {
   "cell_type": "code",
   "execution_count": null,
   "metadata": {},
   "outputs": [],
   "source": []
  },
  {
   "cell_type": "code",
   "execution_count": null,
   "metadata": {},
   "outputs": [],
   "source": []
  },
  {
   "cell_type": "code",
   "execution_count": null,
   "metadata": {},
   "outputs": [],
   "source": []
  },
  {
   "cell_type": "code",
   "execution_count": null,
   "metadata": {},
   "outputs": [],
   "source": []
  },
  {
   "cell_type": "code",
   "execution_count": null,
   "metadata": {},
   "outputs": [],
   "source": []
  },
  {
   "cell_type": "code",
   "execution_count": null,
   "metadata": {},
   "outputs": [],
   "source": []
  },
  {
   "cell_type": "code",
   "execution_count": null,
   "metadata": {},
   "outputs": [],
   "source": []
  },
  {
   "cell_type": "code",
   "execution_count": null,
   "metadata": {},
   "outputs": [],
   "source": []
  },
  {
   "cell_type": "code",
   "execution_count": 1,
   "id": "8e3bea31",
   "metadata": {},
   "outputs": [],
   "source": [
    "import control as co"
   ]
  },
  {
   "cell_type": "code",
   "execution_count": 12,
   "id": "d8896f56",
   "metadata": {},
   "outputs": [
    {
     "data": {
      "text/latex": [
       "$$\\frac{s + 2}{s^3 + 2 s^2 + 3 s + 4}$$"
      ],
      "text/plain": [
       "TransferFunction(array([1, 2]), array([1, 2, 3, 4]))"
      ]
     },
     "execution_count": 12,
     "metadata": {},
     "output_type": "execute_result"
    }
   ],
   "source": [
    "G=co.TransferFunction([1, 2], [1,2,3,4])\n",
    "G"
   ]
  },
  {
   "cell_type": "code",
   "execution_count": 10,
   "id": "4effd334",
   "metadata": {},
   "outputs": [],
   "source": [
    "G=co.TransferFunction([9], [1,2,9])"
   ]
  },
  {
   "cell_type": "code",
   "execution_count": 13,
   "id": "fde6f1f6",
   "metadata": {},
   "outputs": [
    {
     "data": {
      "text/plain": [
       "(array([1.65062919, 1.55670111, 1.55670111]),\n",
       " array([1.        , 0.11221512, 0.11221512]),\n",
       " array([-1.65062919+0.j        , -0.1746854 +1.54686889j,\n",
       "        -0.1746854 -1.54686889j]))"
      ]
     },
     "execution_count": 13,
     "metadata": {},
     "output_type": "execute_result"
    }
   ],
   "source": [
    "G.damp()"
   ]
  },
  {
   "cell_type": "code",
   "execution_count": 4,
   "id": "27e80358",
   "metadata": {},
   "outputs": [
    {
     "data": {
      "text/plain": [
       "0.5"
      ]
     },
     "execution_count": 4,
     "metadata": {},
     "output_type": "execute_result"
    }
   ],
   "source": [
    "G.dcgain()"
   ]
  },
  {
   "cell_type": "code",
   "execution_count": 5,
   "id": "5ac88dad",
   "metadata": {},
   "outputs": [
    {
     "data": {
      "text/plain": [
       "True"
      ]
     },
     "execution_count": 5,
     "metadata": {},
     "output_type": "execute_result"
    }
   ],
   "source": [
    "G.isctime()"
   ]
  },
  {
   "cell_type": "code",
   "execution_count": 6,
   "id": "db7423ba",
   "metadata": {},
   "outputs": [
    {
     "data": {
      "text/plain": [
       "False"
      ]
     },
     "execution_count": 6,
     "metadata": {},
     "output_type": "execute_result"
    }
   ],
   "source": [
    "G.isdtime()"
   ]
  },
  {
   "cell_type": "code",
   "execution_count": 7,
   "id": "075be358",
   "metadata": {},
   "outputs": [
    {
     "data": {
      "text/plain": [
       "True"
      ]
     },
     "execution_count": 7,
     "metadata": {},
     "output_type": "execute_result"
    }
   ],
   "source": [
    "G.issiso()"
   ]
  },
  {
   "cell_type": "code",
   "execution_count": 8,
   "id": "15e56c26",
   "metadata": {},
   "outputs": [
    {
     "data": {
      "text/plain": [
       "array([-1.65062919+0.j        , -0.1746854 +1.54686889j,\n",
       "       -0.1746854 -1.54686889j])"
      ]
     },
     "execution_count": 8,
     "metadata": {},
     "output_type": "execute_result"
    }
   ],
   "source": [
    "G.pole()"
   ]
  },
  {
   "cell_type": "code",
   "execution_count": 9,
   "id": "bfc4a9a2",
   "metadata": {},
   "outputs": [
    {
     "data": {
      "text/plain": [
       "array([-2.])"
      ]
     },
     "execution_count": 9,
     "metadata": {},
     "output_type": "execute_result"
    }
   ],
   "source": [
    "G.zero()"
   ]
  },
  {
   "cell_type": "code",
   "execution_count": 16,
   "id": "c2e3a61e",
   "metadata": {},
   "outputs": [],
   "source": [
    "sys1 = co.ss([[1., -2], [3., -4]], [[5.], [7]], [[6, 8]], [[9.]])\n",
    "sys2 = co.ss([[-1.]], [[1.]], [[1.]], [[0.]])\n",
    "sys = co.append(sys1, sys2)"
   ]
  },
  {
   "cell_type": "code",
   "execution_count": 17,
   "id": "f91e2b78",
   "metadata": {},
   "outputs": [
    {
     "data": {
      "text/latex": [
       "\\[\n",
       "\\left(\n",
       "\\begin{array}{rllrll|rll}\n",
       "1\\phantom{.}&\\hspace{-1em}&\\hspace{-1em}\\phantom{\\cdot}&-2\\phantom{.}&\\hspace{-1em}&\\hspace{-1em}\\phantom{\\cdot}&5\\phantom{.}&\\hspace{-1em}&\\hspace{-1em}\\phantom{\\cdot}\\\\\n",
       "3\\phantom{.}&\\hspace{-1em}&\\hspace{-1em}\\phantom{\\cdot}&-4\\phantom{.}&\\hspace{-1em}&\\hspace{-1em}\\phantom{\\cdot}&7\\phantom{.}&\\hspace{-1em}&\\hspace{-1em}\\phantom{\\cdot}\\\\\n",
       "\\hline\n",
       "6\\phantom{.}&\\hspace{-1em}&\\hspace{-1em}\\phantom{\\cdot}&8\\phantom{.}&\\hspace{-1em}&\\hspace{-1em}\\phantom{\\cdot}&9\\phantom{.}&\\hspace{-1em}&\\hspace{-1em}\\phantom{\\cdot}\\\\\n",
       "\\end{array}\\right)\n",
       "\\]"
      ],
      "text/plain": [
       "StateSpace(array([[ 1., -2.],\n",
       "       [ 3., -4.]]), array([[5.],\n",
       "       [7.]]), array([[6., 8.]]), array([[9.]]))"
      ]
     },
     "execution_count": 17,
     "metadata": {},
     "output_type": "execute_result"
    }
   ],
   "source": [
    "sys1"
   ]
  },
  {
   "cell_type": "code",
   "execution_count": 18,
   "id": "c4c4bc5f",
   "metadata": {},
   "outputs": [
    {
     "data": {
      "text/latex": [
       "\\[\n",
       "\\left(\n",
       "\\begin{array}{rllrllrll|rllrll}\n",
       "1\\phantom{.}&\\hspace{-1em}&\\hspace{-1em}\\phantom{\\cdot}&-2\\phantom{.}&\\hspace{-1em}&\\hspace{-1em}\\phantom{\\cdot}&0\\phantom{.}&\\hspace{-1em}&\\hspace{-1em}\\phantom{\\cdot}&5\\phantom{.}&\\hspace{-1em}&\\hspace{-1em}\\phantom{\\cdot}&0\\phantom{.}&\\hspace{-1em}&\\hspace{-1em}\\phantom{\\cdot}\\\\\n",
       "3\\phantom{.}&\\hspace{-1em}&\\hspace{-1em}\\phantom{\\cdot}&-4\\phantom{.}&\\hspace{-1em}&\\hspace{-1em}\\phantom{\\cdot}&0\\phantom{.}&\\hspace{-1em}&\\hspace{-1em}\\phantom{\\cdot}&7\\phantom{.}&\\hspace{-1em}&\\hspace{-1em}\\phantom{\\cdot}&0\\phantom{.}&\\hspace{-1em}&\\hspace{-1em}\\phantom{\\cdot}\\\\\n",
       "0\\phantom{.}&\\hspace{-1em}&\\hspace{-1em}\\phantom{\\cdot}&0\\phantom{.}&\\hspace{-1em}&\\hspace{-1em}\\phantom{\\cdot}&-1\\phantom{.}&\\hspace{-1em}&\\hspace{-1em}\\phantom{\\cdot}&0\\phantom{.}&\\hspace{-1em}&\\hspace{-1em}\\phantom{\\cdot}&1\\phantom{.}&\\hspace{-1em}&\\hspace{-1em}\\phantom{\\cdot}\\\\\n",
       "\\hline\n",
       "6\\phantom{.}&\\hspace{-1em}&\\hspace{-1em}\\phantom{\\cdot}&8\\phantom{.}&\\hspace{-1em}&\\hspace{-1em}\\phantom{\\cdot}&0\\phantom{.}&\\hspace{-1em}&\\hspace{-1em}\\phantom{\\cdot}&9\\phantom{.}&\\hspace{-1em}&\\hspace{-1em}\\phantom{\\cdot}&0\\phantom{.}&\\hspace{-1em}&\\hspace{-1em}\\phantom{\\cdot}\\\\\n",
       "0\\phantom{.}&\\hspace{-1em}&\\hspace{-1em}\\phantom{\\cdot}&0\\phantom{.}&\\hspace{-1em}&\\hspace{-1em}\\phantom{\\cdot}&1\\phantom{.}&\\hspace{-1em}&\\hspace{-1em}\\phantom{\\cdot}&0\\phantom{.}&\\hspace{-1em}&\\hspace{-1em}\\phantom{\\cdot}&0\\phantom{.}&\\hspace{-1em}&\\hspace{-1em}\\phantom{\\cdot}\\\\\n",
       "\\end{array}\\right)\n",
       "\\]"
      ],
      "text/plain": [
       "StateSpace(array([[ 1., -2.,  0.],\n",
       "       [ 3., -4.,  0.],\n",
       "       [ 0.,  0., -1.]]), array([[5., 0.],\n",
       "       [7., 0.],\n",
       "       [0., 1.]]), array([[6., 8., 0.],\n",
       "       [0., 0., 1.]]), array([[9., 0.],\n",
       "       [0., 0.]]))"
      ]
     },
     "execution_count": 18,
     "metadata": {},
     "output_type": "execute_result"
    }
   ],
   "source": [
    "sys"
   ]
  },
  {
   "cell_type": "code",
   "execution_count": 2,
   "id": "1764c3a1",
   "metadata": {},
   "outputs": [
    {
     "data": {
      "text/latex": [
       "$$\\frac{100}{s^2 + 5 s + 100}$$"
      ],
      "text/plain": [
       "TransferFunction(array([100]), array([  1,   5, 100]))"
      ]
     },
     "execution_count": 2,
     "metadata": {},
     "output_type": "execute_result"
    }
   ],
   "source": [
    "s=co.TransferFunction.s\n",
    "G=100/(s**2+5*s+100)\n",
    "G"
   ]
  },
  {
   "cell_type": "code",
   "execution_count": 3,
   "id": "50c95e29",
   "metadata": {},
   "outputs": [
    {
     "ename": "AttributeError",
     "evalue": "'TransferFunction' object has no attribute 'step_info'",
     "output_type": "error",
     "traceback": [
      "\u001b[1;31m---------------------------------------------------------------------------\u001b[0m",
      "\u001b[1;31mAttributeError\u001b[0m                            Traceback (most recent call last)",
      "\u001b[1;32m<ipython-input-3-2f71d5876ac4>\u001b[0m in \u001b[0;36m<module>\u001b[1;34m\u001b[0m\n\u001b[1;32m----> 1\u001b[1;33m \u001b[0mG\u001b[0m\u001b[1;33m.\u001b[0m\u001b[0mstep_info\u001b[0m\u001b[1;33m(\u001b[0m\u001b[1;33m)\u001b[0m\u001b[1;33m\u001b[0m\u001b[1;33m\u001b[0m\u001b[0m\n\u001b[0m",
      "\u001b[1;31mAttributeError\u001b[0m: 'TransferFunction' object has no attribute 'step_info'"
     ]
    }
   ],
   "source": [
    "G.step_info()"
   ]
  },
  {
   "cell_type": "code",
   "execution_count": null,
   "id": "354e5e17",
   "metadata": {},
   "outputs": [],
   "source": []
  }
 ],
 "metadata": {
  "kernelspec": {
   "display_name": "Python 3",
   "language": "python",
   "name": "python3"
  },
  "language_info": {
   "codemirror_mode": {
    "name": "ipython",
    "version": 3
   },
   "file_extension": ".py",
   "mimetype": "text/x-python",
   "name": "python",
   "nbconvert_exporter": "python",
   "pygments_lexer": "ipython3",
   "version": "3.8.2"
  }
 },
 "nbformat": 4,
 "nbformat_minor": 5
}
